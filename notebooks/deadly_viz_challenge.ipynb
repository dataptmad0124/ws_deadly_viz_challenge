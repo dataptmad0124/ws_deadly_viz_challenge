{
 "cells": [
  {
   "cell_type": "markdown",
   "metadata": {},
   "source": [
    "# Deadly Visualizations!!!\n",
    "\n",
    "![Image](../images/viz_types_portada.png)"
   ]
  },
  {
   "cell_type": "markdown",
   "metadata": {},
   "source": [
    "## Setup\n",
    "\n",
    "First we need to create a basic setup which includes:\n",
    "\n",
    "- Importing the libraries.\n",
    "\n",
    "- Reading the dataset file (source [Instituto Nacional de Estadística](https://www.ine.es/ss/Satellite?L=es_ES&c=Page&cid=1259942408928&p=1259942408928&pagename=ProductosYServicios%2FPYSLayout)).\n",
    "\n",
    "- Create a couple of columns and tables for the analysis.\n",
    "\n",
    "__NOTE:__ some functions were already created in order to help you go through the challenge. However, feel free to perform any code you might need."
   ]
  },
  {
   "cell_type": "code",
   "execution_count": 1,
   "metadata": {},
   "outputs": [
    {
     "data": {
      "text/html": [
       "        <script type=\"text/javascript\">\n",
       "        window.PlotlyConfig = {MathJaxConfig: 'local'};\n",
       "        if (window.MathJax && window.MathJax.Hub && window.MathJax.Hub.Config) {window.MathJax.Hub.Config({SVG: {font: \"STIX-Web\"}});}\n",
       "        if (typeof require !== 'undefined') {\n",
       "        require.undef(\"plotly\");\n",
       "        requirejs.config({\n",
       "            paths: {\n",
       "                'plotly': ['https://cdn.plot.ly/plotly-2.12.1.min']\n",
       "            }\n",
       "        });\n",
       "        require(['plotly'], function(Plotly) {\n",
       "            window._Plotly = Plotly;\n",
       "        });\n",
       "        }\n",
       "        </script>\n",
       "        "
      ]
     },
     "metadata": {},
     "output_type": "display_data"
    }
   ],
   "source": [
    "# imports\n",
    "\n",
    "import sys\n",
    "import re\n",
    "sys.path.insert(0, \"../modules\")\n",
    "\n",
    "import numpy as np\n",
    "import pandas as pd\n",
    "\n",
    "import plotly.express as px\n",
    "import cufflinks as cf  #Hacer gráficos cufflinks\n",
    "cf.go_offline()\n",
    "\n",
    "import module as mod     # functions are include in module.py"
   ]
  },
  {
   "cell_type": "code",
   "execution_count": 2,
   "metadata": {},
   "outputs": [],
   "source": [
    "#pip install cufflinks"
   ]
  },
  {
   "cell_type": "code",
   "execution_count": 3,
   "metadata": {},
   "outputs": [
    {
     "name": "stdout",
     "output_type": "stream",
     "text": [
      "<class 'pandas.core.frame.DataFrame'>\n",
      "RangeIndex: 301158 entries, 0 to 301157\n",
      "Data columns (total 5 columns):\n",
      " #   Column           Non-Null Count   Dtype \n",
      "---  ------           --------------   ----- \n",
      " 0   Causa de muerte  301158 non-null  object\n",
      " 1   Sexo             301158 non-null  object\n",
      " 2   Edad             301158 non-null  object\n",
      " 3   Periodo          301158 non-null  int64 \n",
      " 4   Total            301158 non-null  int64 \n",
      "dtypes: int64(2), object(3)\n",
      "memory usage: 11.5+ MB\n"
     ]
    }
   ],
   "source": [
    "# read dataset\n",
    "\n",
    "deaths = pd.read_csv('../data/7947.csv', sep=';', thousands='.')\n",
    "\n",
    "deaths.info()"
   ]
  },
  {
   "cell_type": "code",
   "execution_count": 4,
   "metadata": {},
   "outputs": [
    {
     "name": "stdout",
     "output_type": "stream",
     "text": [
      "<class 'pandas.core.frame.DataFrame'>\n",
      "RangeIndex: 301158 entries, 0 to 301157\n",
      "Data columns (total 8 columns):\n",
      " #   Column           Non-Null Count   Dtype \n",
      "---  ------           --------------   ----- \n",
      " 0   Causa de muerte  301158 non-null  object\n",
      " 1   Sexo             301158 non-null  object\n",
      " 2   Edad             301158 non-null  object\n",
      " 3   Periodo          301158 non-null  int64 \n",
      " 4   Total            301158 non-null  int64 \n",
      " 5   cause_code       301158 non-null  object\n",
      " 6   cause_group      301158 non-null  object\n",
      " 7   cause_name       301158 non-null  object\n",
      "dtypes: int64(2), object(6)\n",
      "memory usage: 18.4+ MB\n"
     ]
    }
   ],
   "source": [
    "# add some columns...you'll need them later\n",
    "\n",
    "deaths['cause_code'] = deaths['Causa de muerte'].apply(mod.cause_code)\n",
    "deaths['cause_group'] = deaths['Causa de muerte'].apply(mod.cause_types)\n",
    "deaths['cause_name'] = deaths['Causa de muerte'].apply(mod.cause_name)\n",
    "\n",
    "deaths.info()"
   ]
  },
  {
   "cell_type": "code",
   "execution_count": 5,
   "metadata": {},
   "outputs": [
    {
     "data": {
      "text/html": [
       "<div>\n",
       "<style scoped>\n",
       "    .dataframe tbody tr th:only-of-type {\n",
       "        vertical-align: middle;\n",
       "    }\n",
       "\n",
       "    .dataframe tbody tr th {\n",
       "        vertical-align: top;\n",
       "    }\n",
       "\n",
       "    .dataframe thead th {\n",
       "        text-align: right;\n",
       "    }\n",
       "</style>\n",
       "<table border=\"1\" class=\"dataframe\">\n",
       "  <thead>\n",
       "    <tr style=\"text-align: right;\">\n",
       "      <th></th>\n",
       "      <th>categorical_variable</th>\n",
       "      <th>number_of_possible_values</th>\n",
       "      <th>values</th>\n",
       "    </tr>\n",
       "  </thead>\n",
       "  <tbody>\n",
       "    <tr>\n",
       "      <th>0</th>\n",
       "      <td>cause_code</td>\n",
       "      <td>117</td>\n",
       "      <td>[001-102, 001-008, 001, 002, 003, 004, 005, 00...</td>\n",
       "    </tr>\n",
       "    <tr>\n",
       "      <th>1</th>\n",
       "      <td>cause_name</td>\n",
       "      <td>117</td>\n",
       "      <td>[I-XXII.Todas las causas, I.Enfermedades infec...</td>\n",
       "    </tr>\n",
       "    <tr>\n",
       "      <th>2</th>\n",
       "      <td>Periodo</td>\n",
       "      <td>39</td>\n",
       "      <td>[2018, 2017, 2016, 2015, 2014, 2013, 2012, 201...</td>\n",
       "    </tr>\n",
       "    <tr>\n",
       "      <th>3</th>\n",
       "      <td>Edad</td>\n",
       "      <td>22</td>\n",
       "      <td>[Todas las edades, Menos de 1 año, De 1 a 4 añ...</td>\n",
       "    </tr>\n",
       "    <tr>\n",
       "      <th>4</th>\n",
       "      <td>Sexo</td>\n",
       "      <td>3</td>\n",
       "      <td>[Total, Hombres, Mujeres]</td>\n",
       "    </tr>\n",
       "    <tr>\n",
       "      <th>5</th>\n",
       "      <td>cause_group</td>\n",
       "      <td>2</td>\n",
       "      <td>[Multiple causes, Single cause]</td>\n",
       "    </tr>\n",
       "  </tbody>\n",
       "</table>\n",
       "</div>"
      ],
      "text/plain": [
       "  categorical_variable  number_of_possible_values  \\\n",
       "0           cause_code                        117   \n",
       "1           cause_name                        117   \n",
       "2              Periodo                         39   \n",
       "3                 Edad                         22   \n",
       "4                 Sexo                          3   \n",
       "5          cause_group                          2   \n",
       "\n",
       "                                              values  \n",
       "0  [001-102, 001-008, 001, 002, 003, 004, 005, 00...  \n",
       "1  [I-XXII.Todas las causas, I.Enfermedades infec...  \n",
       "2  [2018, 2017, 2016, 2015, 2014, 2013, 2012, 201...  \n",
       "3  [Todas las edades, Menos de 1 año, De 1 a 4 añ...  \n",
       "4                          [Total, Hombres, Mujeres]  \n",
       "5                    [Multiple causes, Single cause]  "
      ]
     },
     "execution_count": 5,
     "metadata": {},
     "output_type": "execute_result"
    }
   ],
   "source": [
    "# lets check the categorical variables\n",
    "\n",
    "var_list = ['Sexo', 'Edad', 'Periodo', 'cause_code', 'cause_name', 'cause_group']\n",
    "\n",
    "categories = mod.cat_var(deaths, var_list)\n",
    "categories"
   ]
  },
  {
   "cell_type": "code",
   "execution_count": 6,
   "metadata": {},
   "outputs": [
    {
     "data": {
      "text/html": [
       "<div>\n",
       "<style scoped>\n",
       "    .dataframe tbody tr th:only-of-type {\n",
       "        vertical-align: middle;\n",
       "    }\n",
       "\n",
       "    .dataframe tbody tr th {\n",
       "        vertical-align: top;\n",
       "    }\n",
       "\n",
       "    .dataframe thead th {\n",
       "        text-align: right;\n",
       "    }\n",
       "</style>\n",
       "<table border=\"1\" class=\"dataframe\">\n",
       "  <thead>\n",
       "    <tr style=\"text-align: right;\">\n",
       "      <th></th>\n",
       "      <th>cause_code</th>\n",
       "      <th>cause_name</th>\n",
       "    </tr>\n",
       "  </thead>\n",
       "  <tbody>\n",
       "    <tr>\n",
       "      <th>0</th>\n",
       "      <td>001</td>\n",
       "      <td>Enfermedades infecciosas intestinales</td>\n",
       "    </tr>\n",
       "    <tr>\n",
       "      <th>1</th>\n",
       "      <td>001-008</td>\n",
       "      <td>I.Enfermedades infecciosas y parasitarias</td>\n",
       "    </tr>\n",
       "    <tr>\n",
       "      <th>2</th>\n",
       "      <td>001-102</td>\n",
       "      <td>I-XXII.Todas las causas</td>\n",
       "    </tr>\n",
       "    <tr>\n",
       "      <th>3</th>\n",
       "      <td>002</td>\n",
       "      <td>Tuberculosis y sus efectos tardíos</td>\n",
       "    </tr>\n",
       "    <tr>\n",
       "      <th>4</th>\n",
       "      <td>003</td>\n",
       "      <td>Enfermedad meningocócica</td>\n",
       "    </tr>\n",
       "    <tr>\n",
       "      <th>...</th>\n",
       "      <td>...</td>\n",
       "      <td>...</td>\n",
       "    </tr>\n",
       "    <tr>\n",
       "      <th>112</th>\n",
       "      <td>098</td>\n",
       "      <td>Suicidio y lesiones autoinfligidas</td>\n",
       "    </tr>\n",
       "    <tr>\n",
       "      <th>113</th>\n",
       "      <td>099</td>\n",
       "      <td>Agresiones (homicidio)</td>\n",
       "    </tr>\n",
       "    <tr>\n",
       "      <th>114</th>\n",
       "      <td>100</td>\n",
       "      <td>Eventos de intención no determinada</td>\n",
       "    </tr>\n",
       "    <tr>\n",
       "      <th>115</th>\n",
       "      <td>101</td>\n",
       "      <td>Complicaciones de la atención médica y quirúrgica</td>\n",
       "    </tr>\n",
       "    <tr>\n",
       "      <th>116</th>\n",
       "      <td>102</td>\n",
       "      <td>Otras causas externas y sus efectos tardíos</td>\n",
       "    </tr>\n",
       "  </tbody>\n",
       "</table>\n",
       "<p>117 rows × 2 columns</p>\n",
       "</div>"
      ],
      "text/plain": [
       "    cause_code                                         cause_name\n",
       "0          001              Enfermedades infecciosas intestinales\n",
       "1      001-008          I.Enfermedades infecciosas y parasitarias\n",
       "2      001-102                            I-XXII.Todas las causas\n",
       "3          002                 Tuberculosis y sus efectos tardíos\n",
       "4          003                           Enfermedad meningocócica\n",
       "..         ...                                                ...\n",
       "112        098                 Suicidio y lesiones autoinfligidas\n",
       "113        099                             Agresiones (homicidio)\n",
       "114        100                Eventos de intención no determinada\n",
       "115        101  Complicaciones de la atención médica y quirúrgica\n",
       "116        102        Otras causas externas y sus efectos tardíos\n",
       "\n",
       "[117 rows x 2 columns]"
      ]
     },
     "execution_count": 6,
     "metadata": {},
     "output_type": "execute_result"
    }
   ],
   "source": [
    "# we need also to create a causes table for the analysis\n",
    "\n",
    "causes_table = deaths[['cause_code', 'cause_name']].drop_duplicates().sort_values(by='cause_code').reset_index(drop=True)\n",
    "\n",
    "causes_table"
   ]
  },
  {
   "cell_type": "code",
   "execution_count": 7,
   "metadata": {},
   "outputs": [
    {
     "data": {
      "text/html": [
       "<div>\n",
       "<style scoped>\n",
       "    .dataframe tbody tr th:only-of-type {\n",
       "        vertical-align: middle;\n",
       "    }\n",
       "\n",
       "    .dataframe tbody tr th {\n",
       "        vertical-align: top;\n",
       "    }\n",
       "\n",
       "    .dataframe thead th {\n",
       "        text-align: right;\n",
       "    }\n",
       "</style>\n",
       "<table border=\"1\" class=\"dataframe\">\n",
       "  <thead>\n",
       "    <tr style=\"text-align: right;\">\n",
       "      <th></th>\n",
       "      <th>Causa de muerte</th>\n",
       "      <th>Sexo</th>\n",
       "      <th>Edad</th>\n",
       "      <th>Periodo</th>\n",
       "      <th>Total</th>\n",
       "      <th>cause_code</th>\n",
       "      <th>cause_group</th>\n",
       "      <th>cause_name</th>\n",
       "    </tr>\n",
       "  </thead>\n",
       "  <tbody>\n",
       "    <tr>\n",
       "      <th>0</th>\n",
       "      <td>006  SIDA</td>\n",
       "      <td>Total</td>\n",
       "      <td>Todas las edades</td>\n",
       "      <td>1995</td>\n",
       "      <td>5551</td>\n",
       "      <td>006</td>\n",
       "      <td>Single cause</td>\n",
       "      <td>SIDA</td>\n",
       "    </tr>\n",
       "    <tr>\n",
       "      <th>1</th>\n",
       "      <td>006  SIDA</td>\n",
       "      <td>Total</td>\n",
       "      <td>Todas las edades</td>\n",
       "      <td>1996</td>\n",
       "      <td>5432</td>\n",
       "      <td>006</td>\n",
       "      <td>Single cause</td>\n",
       "      <td>SIDA</td>\n",
       "    </tr>\n",
       "    <tr>\n",
       "      <th>2</th>\n",
       "      <td>006  SIDA</td>\n",
       "      <td>Total</td>\n",
       "      <td>Todas las edades</td>\n",
       "      <td>1994</td>\n",
       "      <td>4770</td>\n",
       "      <td>006</td>\n",
       "      <td>Single cause</td>\n",
       "      <td>SIDA</td>\n",
       "    </tr>\n",
       "    <tr>\n",
       "      <th>3</th>\n",
       "      <td>006  SIDA</td>\n",
       "      <td>Total</td>\n",
       "      <td>Todas las edades</td>\n",
       "      <td>1993</td>\n",
       "      <td>3980</td>\n",
       "      <td>006</td>\n",
       "      <td>Single cause</td>\n",
       "      <td>SIDA</td>\n",
       "    </tr>\n",
       "    <tr>\n",
       "      <th>4</th>\n",
       "      <td>006  SIDA</td>\n",
       "      <td>Total</td>\n",
       "      <td>Todas las edades</td>\n",
       "      <td>1992</td>\n",
       "      <td>3256</td>\n",
       "      <td>006</td>\n",
       "      <td>Single cause</td>\n",
       "      <td>SIDA</td>\n",
       "    </tr>\n",
       "    <tr>\n",
       "      <th>5</th>\n",
       "      <td>006  SIDA</td>\n",
       "      <td>Total</td>\n",
       "      <td>Todas las edades</td>\n",
       "      <td>1997</td>\n",
       "      <td>2844</td>\n",
       "      <td>006</td>\n",
       "      <td>Single cause</td>\n",
       "      <td>SIDA</td>\n",
       "    </tr>\n",
       "    <tr>\n",
       "      <th>6</th>\n",
       "      <td>006  SIDA</td>\n",
       "      <td>Total</td>\n",
       "      <td>Todas las edades</td>\n",
       "      <td>1991</td>\n",
       "      <td>2503</td>\n",
       "      <td>006</td>\n",
       "      <td>Single cause</td>\n",
       "      <td>SIDA</td>\n",
       "    </tr>\n",
       "    <tr>\n",
       "      <th>7</th>\n",
       "      <td>006  SIDA</td>\n",
       "      <td>Total</td>\n",
       "      <td>Todas las edades</td>\n",
       "      <td>1990</td>\n",
       "      <td>1898</td>\n",
       "      <td>006</td>\n",
       "      <td>Single cause</td>\n",
       "      <td>SIDA</td>\n",
       "    </tr>\n",
       "    <tr>\n",
       "      <th>8</th>\n",
       "      <td>006  SIDA</td>\n",
       "      <td>Total</td>\n",
       "      <td>Todas las edades</td>\n",
       "      <td>1999</td>\n",
       "      <td>1802</td>\n",
       "      <td>006</td>\n",
       "      <td>Single cause</td>\n",
       "      <td>SIDA</td>\n",
       "    </tr>\n",
       "    <tr>\n",
       "      <th>9</th>\n",
       "      <td>006  SIDA</td>\n",
       "      <td>Total</td>\n",
       "      <td>Todas las edades</td>\n",
       "      <td>1998</td>\n",
       "      <td>1779</td>\n",
       "      <td>006</td>\n",
       "      <td>Single cause</td>\n",
       "      <td>SIDA</td>\n",
       "    </tr>\n",
       "    <tr>\n",
       "      <th>10</th>\n",
       "      <td>006  SIDA</td>\n",
       "      <td>Total</td>\n",
       "      <td>Todas las edades</td>\n",
       "      <td>2000</td>\n",
       "      <td>1711</td>\n",
       "      <td>006</td>\n",
       "      <td>Single cause</td>\n",
       "      <td>SIDA</td>\n",
       "    </tr>\n",
       "    <tr>\n",
       "      <th>11</th>\n",
       "      <td>006  SIDA</td>\n",
       "      <td>Total</td>\n",
       "      <td>Todas las edades</td>\n",
       "      <td>2003</td>\n",
       "      <td>1632</td>\n",
       "      <td>006</td>\n",
       "      <td>Single cause</td>\n",
       "      <td>SIDA</td>\n",
       "    </tr>\n",
       "    <tr>\n",
       "      <th>12</th>\n",
       "      <td>006  SIDA</td>\n",
       "      <td>Total</td>\n",
       "      <td>Todas las edades</td>\n",
       "      <td>2001</td>\n",
       "      <td>1632</td>\n",
       "      <td>006</td>\n",
       "      <td>Single cause</td>\n",
       "      <td>SIDA</td>\n",
       "    </tr>\n",
       "    <tr>\n",
       "      <th>13</th>\n",
       "      <td>006  SIDA</td>\n",
       "      <td>Total</td>\n",
       "      <td>Todas las edades</td>\n",
       "      <td>2002</td>\n",
       "      <td>1611</td>\n",
       "      <td>006</td>\n",
       "      <td>Single cause</td>\n",
       "      <td>SIDA</td>\n",
       "    </tr>\n",
       "    <tr>\n",
       "      <th>14</th>\n",
       "      <td>006  SIDA</td>\n",
       "      <td>Total</td>\n",
       "      <td>Todas las edades</td>\n",
       "      <td>2004</td>\n",
       "      <td>1551</td>\n",
       "      <td>006</td>\n",
       "      <td>Single cause</td>\n",
       "      <td>SIDA</td>\n",
       "    </tr>\n",
       "    <tr>\n",
       "      <th>15</th>\n",
       "      <td>006  SIDA</td>\n",
       "      <td>Total</td>\n",
       "      <td>Todas las edades</td>\n",
       "      <td>2005</td>\n",
       "      <td>1450</td>\n",
       "      <td>006</td>\n",
       "      <td>Single cause</td>\n",
       "      <td>SIDA</td>\n",
       "    </tr>\n",
       "    <tr>\n",
       "      <th>16</th>\n",
       "      <td>006  SIDA</td>\n",
       "      <td>Total</td>\n",
       "      <td>Todas las edades</td>\n",
       "      <td>2006</td>\n",
       "      <td>1313</td>\n",
       "      <td>006</td>\n",
       "      <td>Single cause</td>\n",
       "      <td>SIDA</td>\n",
       "    </tr>\n",
       "    <tr>\n",
       "      <th>17</th>\n",
       "      <td>006  SIDA</td>\n",
       "      <td>Total</td>\n",
       "      <td>Todas las edades</td>\n",
       "      <td>2007</td>\n",
       "      <td>1307</td>\n",
       "      <td>006</td>\n",
       "      <td>Single cause</td>\n",
       "      <td>SIDA</td>\n",
       "    </tr>\n",
       "    <tr>\n",
       "      <th>18</th>\n",
       "      <td>006  SIDA</td>\n",
       "      <td>Total</td>\n",
       "      <td>Todas las edades</td>\n",
       "      <td>1989</td>\n",
       "      <td>1288</td>\n",
       "      <td>006</td>\n",
       "      <td>Single cause</td>\n",
       "      <td>SIDA</td>\n",
       "    </tr>\n",
       "    <tr>\n",
       "      <th>19</th>\n",
       "      <td>006  SIDA</td>\n",
       "      <td>Total</td>\n",
       "      <td>Todas las edades</td>\n",
       "      <td>2008</td>\n",
       "      <td>1211</td>\n",
       "      <td>006</td>\n",
       "      <td>Single cause</td>\n",
       "      <td>SIDA</td>\n",
       "    </tr>\n",
       "    <tr>\n",
       "      <th>20</th>\n",
       "      <td>006  SIDA</td>\n",
       "      <td>Total</td>\n",
       "      <td>Todas las edades</td>\n",
       "      <td>2009</td>\n",
       "      <td>1079</td>\n",
       "      <td>006</td>\n",
       "      <td>Single cause</td>\n",
       "      <td>SIDA</td>\n",
       "    </tr>\n",
       "    <tr>\n",
       "      <th>21</th>\n",
       "      <td>006  SIDA</td>\n",
       "      <td>Total</td>\n",
       "      <td>Todas las edades</td>\n",
       "      <td>2010</td>\n",
       "      <td>1020</td>\n",
       "      <td>006</td>\n",
       "      <td>Single cause</td>\n",
       "      <td>SIDA</td>\n",
       "    </tr>\n",
       "    <tr>\n",
       "      <th>22</th>\n",
       "      <td>006  SIDA</td>\n",
       "      <td>Total</td>\n",
       "      <td>Todas las edades</td>\n",
       "      <td>2011</td>\n",
       "      <td>953</td>\n",
       "      <td>006</td>\n",
       "      <td>Single cause</td>\n",
       "      <td>SIDA</td>\n",
       "    </tr>\n",
       "    <tr>\n",
       "      <th>23</th>\n",
       "      <td>006  SIDA</td>\n",
       "      <td>Total</td>\n",
       "      <td>Todas las edades</td>\n",
       "      <td>2012</td>\n",
       "      <td>880</td>\n",
       "      <td>006</td>\n",
       "      <td>Single cause</td>\n",
       "      <td>SIDA</td>\n",
       "    </tr>\n",
       "    <tr>\n",
       "      <th>24</th>\n",
       "      <td>006  SIDA</td>\n",
       "      <td>Total</td>\n",
       "      <td>Todas las edades</td>\n",
       "      <td>1988</td>\n",
       "      <td>768</td>\n",
       "      <td>006</td>\n",
       "      <td>Single cause</td>\n",
       "      <td>SIDA</td>\n",
       "    </tr>\n",
       "    <tr>\n",
       "      <th>25</th>\n",
       "      <td>006  SIDA</td>\n",
       "      <td>Total</td>\n",
       "      <td>Todas las edades</td>\n",
       "      <td>2013</td>\n",
       "      <td>749</td>\n",
       "      <td>006</td>\n",
       "      <td>Single cause</td>\n",
       "      <td>SIDA</td>\n",
       "    </tr>\n",
       "    <tr>\n",
       "      <th>26</th>\n",
       "      <td>006  SIDA</td>\n",
       "      <td>Total</td>\n",
       "      <td>Todas las edades</td>\n",
       "      <td>2014</td>\n",
       "      <td>700</td>\n",
       "      <td>006</td>\n",
       "      <td>Single cause</td>\n",
       "      <td>SIDA</td>\n",
       "    </tr>\n",
       "    <tr>\n",
       "      <th>27</th>\n",
       "      <td>006  SIDA</td>\n",
       "      <td>Total</td>\n",
       "      <td>Todas las edades</td>\n",
       "      <td>2015</td>\n",
       "      <td>633</td>\n",
       "      <td>006</td>\n",
       "      <td>Single cause</td>\n",
       "      <td>SIDA</td>\n",
       "    </tr>\n",
       "    <tr>\n",
       "      <th>28</th>\n",
       "      <td>006  SIDA</td>\n",
       "      <td>Total</td>\n",
       "      <td>Todas las edades</td>\n",
       "      <td>2016</td>\n",
       "      <td>498</td>\n",
       "      <td>006</td>\n",
       "      <td>Single cause</td>\n",
       "      <td>SIDA</td>\n",
       "    </tr>\n",
       "    <tr>\n",
       "      <th>29</th>\n",
       "      <td>006  SIDA</td>\n",
       "      <td>Total</td>\n",
       "      <td>Todas las edades</td>\n",
       "      <td>2017</td>\n",
       "      <td>442</td>\n",
       "      <td>006</td>\n",
       "      <td>Single cause</td>\n",
       "      <td>SIDA</td>\n",
       "    </tr>\n",
       "    <tr>\n",
       "      <th>30</th>\n",
       "      <td>006  SIDA</td>\n",
       "      <td>Total</td>\n",
       "      <td>Todas las edades</td>\n",
       "      <td>2018</td>\n",
       "      <td>423</td>\n",
       "      <td>006</td>\n",
       "      <td>Single cause</td>\n",
       "      <td>SIDA</td>\n",
       "    </tr>\n",
       "    <tr>\n",
       "      <th>31</th>\n",
       "      <td>006  SIDA</td>\n",
       "      <td>Total</td>\n",
       "      <td>Todas las edades</td>\n",
       "      <td>1987</td>\n",
       "      <td>409</td>\n",
       "      <td>006</td>\n",
       "      <td>Single cause</td>\n",
       "      <td>SIDA</td>\n",
       "    </tr>\n",
       "    <tr>\n",
       "      <th>32</th>\n",
       "      <td>006  SIDA</td>\n",
       "      <td>Total</td>\n",
       "      <td>Todas las edades</td>\n",
       "      <td>1986</td>\n",
       "      <td>164</td>\n",
       "      <td>006</td>\n",
       "      <td>Single cause</td>\n",
       "      <td>SIDA</td>\n",
       "    </tr>\n",
       "    <tr>\n",
       "      <th>33</th>\n",
       "      <td>006  SIDA</td>\n",
       "      <td>Total</td>\n",
       "      <td>Todas las edades</td>\n",
       "      <td>1985</td>\n",
       "      <td>47</td>\n",
       "      <td>006</td>\n",
       "      <td>Single cause</td>\n",
       "      <td>SIDA</td>\n",
       "    </tr>\n",
       "    <tr>\n",
       "      <th>34</th>\n",
       "      <td>006  SIDA</td>\n",
       "      <td>Total</td>\n",
       "      <td>Todas las edades</td>\n",
       "      <td>1982</td>\n",
       "      <td>0</td>\n",
       "      <td>006</td>\n",
       "      <td>Single cause</td>\n",
       "      <td>SIDA</td>\n",
       "    </tr>\n",
       "    <tr>\n",
       "      <th>35</th>\n",
       "      <td>006  SIDA</td>\n",
       "      <td>Total</td>\n",
       "      <td>Todas las edades</td>\n",
       "      <td>1980</td>\n",
       "      <td>0</td>\n",
       "      <td>006</td>\n",
       "      <td>Single cause</td>\n",
       "      <td>SIDA</td>\n",
       "    </tr>\n",
       "    <tr>\n",
       "      <th>36</th>\n",
       "      <td>006  SIDA</td>\n",
       "      <td>Total</td>\n",
       "      <td>Todas las edades</td>\n",
       "      <td>1984</td>\n",
       "      <td>0</td>\n",
       "      <td>006</td>\n",
       "      <td>Single cause</td>\n",
       "      <td>SIDA</td>\n",
       "    </tr>\n",
       "    <tr>\n",
       "      <th>37</th>\n",
       "      <td>006  SIDA</td>\n",
       "      <td>Total</td>\n",
       "      <td>Todas las edades</td>\n",
       "      <td>1981</td>\n",
       "      <td>0</td>\n",
       "      <td>006</td>\n",
       "      <td>Single cause</td>\n",
       "      <td>SIDA</td>\n",
       "    </tr>\n",
       "    <tr>\n",
       "      <th>38</th>\n",
       "      <td>006  SIDA</td>\n",
       "      <td>Total</td>\n",
       "      <td>Todas las edades</td>\n",
       "      <td>1983</td>\n",
       "      <td>0</td>\n",
       "      <td>006</td>\n",
       "      <td>Single cause</td>\n",
       "      <td>SIDA</td>\n",
       "    </tr>\n",
       "  </tbody>\n",
       "</table>\n",
       "</div>"
      ],
      "text/plain": [
       "   Causa de muerte   Sexo              Edad  Periodo  Total cause_code  \\\n",
       "0        006  SIDA  Total  Todas las edades     1995   5551        006   \n",
       "1        006  SIDA  Total  Todas las edades     1996   5432        006   \n",
       "2        006  SIDA  Total  Todas las edades     1994   4770        006   \n",
       "3        006  SIDA  Total  Todas las edades     1993   3980        006   \n",
       "4        006  SIDA  Total  Todas las edades     1992   3256        006   \n",
       "5        006  SIDA  Total  Todas las edades     1997   2844        006   \n",
       "6        006  SIDA  Total  Todas las edades     1991   2503        006   \n",
       "7        006  SIDA  Total  Todas las edades     1990   1898        006   \n",
       "8        006  SIDA  Total  Todas las edades     1999   1802        006   \n",
       "9        006  SIDA  Total  Todas las edades     1998   1779        006   \n",
       "10       006  SIDA  Total  Todas las edades     2000   1711        006   \n",
       "11       006  SIDA  Total  Todas las edades     2003   1632        006   \n",
       "12       006  SIDA  Total  Todas las edades     2001   1632        006   \n",
       "13       006  SIDA  Total  Todas las edades     2002   1611        006   \n",
       "14       006  SIDA  Total  Todas las edades     2004   1551        006   \n",
       "15       006  SIDA  Total  Todas las edades     2005   1450        006   \n",
       "16       006  SIDA  Total  Todas las edades     2006   1313        006   \n",
       "17       006  SIDA  Total  Todas las edades     2007   1307        006   \n",
       "18       006  SIDA  Total  Todas las edades     1989   1288        006   \n",
       "19       006  SIDA  Total  Todas las edades     2008   1211        006   \n",
       "20       006  SIDA  Total  Todas las edades     2009   1079        006   \n",
       "21       006  SIDA  Total  Todas las edades     2010   1020        006   \n",
       "22       006  SIDA  Total  Todas las edades     2011    953        006   \n",
       "23       006  SIDA  Total  Todas las edades     2012    880        006   \n",
       "24       006  SIDA  Total  Todas las edades     1988    768        006   \n",
       "25       006  SIDA  Total  Todas las edades     2013    749        006   \n",
       "26       006  SIDA  Total  Todas las edades     2014    700        006   \n",
       "27       006  SIDA  Total  Todas las edades     2015    633        006   \n",
       "28       006  SIDA  Total  Todas las edades     2016    498        006   \n",
       "29       006  SIDA  Total  Todas las edades     2017    442        006   \n",
       "30       006  SIDA  Total  Todas las edades     2018    423        006   \n",
       "31       006  SIDA  Total  Todas las edades     1987    409        006   \n",
       "32       006  SIDA  Total  Todas las edades     1986    164        006   \n",
       "33       006  SIDA  Total  Todas las edades     1985     47        006   \n",
       "34       006  SIDA  Total  Todas las edades     1982      0        006   \n",
       "35       006  SIDA  Total  Todas las edades     1980      0        006   \n",
       "36       006  SIDA  Total  Todas las edades     1984      0        006   \n",
       "37       006  SIDA  Total  Todas las edades     1981      0        006   \n",
       "38       006  SIDA  Total  Todas las edades     1983      0        006   \n",
       "\n",
       "     cause_group cause_name  \n",
       "0   Single cause       SIDA  \n",
       "1   Single cause       SIDA  \n",
       "2   Single cause       SIDA  \n",
       "3   Single cause       SIDA  \n",
       "4   Single cause       SIDA  \n",
       "5   Single cause       SIDA  \n",
       "6   Single cause       SIDA  \n",
       "7   Single cause       SIDA  \n",
       "8   Single cause       SIDA  \n",
       "9   Single cause       SIDA  \n",
       "10  Single cause       SIDA  \n",
       "11  Single cause       SIDA  \n",
       "12  Single cause       SIDA  \n",
       "13  Single cause       SIDA  \n",
       "14  Single cause       SIDA  \n",
       "15  Single cause       SIDA  \n",
       "16  Single cause       SIDA  \n",
       "17  Single cause       SIDA  \n",
       "18  Single cause       SIDA  \n",
       "19  Single cause       SIDA  \n",
       "20  Single cause       SIDA  \n",
       "21  Single cause       SIDA  \n",
       "22  Single cause       SIDA  \n",
       "23  Single cause       SIDA  \n",
       "24  Single cause       SIDA  \n",
       "25  Single cause       SIDA  \n",
       "26  Single cause       SIDA  \n",
       "27  Single cause       SIDA  \n",
       "28  Single cause       SIDA  \n",
       "29  Single cause       SIDA  \n",
       "30  Single cause       SIDA  \n",
       "31  Single cause       SIDA  \n",
       "32  Single cause       SIDA  \n",
       "33  Single cause       SIDA  \n",
       "34  Single cause       SIDA  \n",
       "35  Single cause       SIDA  \n",
       "36  Single cause       SIDA  \n",
       "37  Single cause       SIDA  \n",
       "38  Single cause       SIDA  "
      ]
     },
     "execution_count": 7,
     "metadata": {},
     "output_type": "execute_result"
    }
   ],
   "source": [
    "# And some space for free-style Pandas!!! (e.g.: df['column_name'].unique())\n",
    "\n",
    "dataset = mod.row_filter(deaths, 'Causa de muerte', [\"006  SIDA\"])\n",
    "\n",
    "\n",
    "dataset= mod.row_filter(dataset, 'Sexo', [\"Total\"])\n",
    "\n",
    "\n",
    "dataset= mod.row_filter(dataset, 'Edad', [\"Todas las edades\"])\n",
    "\n",
    "dataset"
   ]
  },
  {
   "cell_type": "code",
   "execution_count": 8,
   "metadata": {},
   "outputs": [
    {
     "data": {
      "text/html": [
       "<div>\n",
       "<style scoped>\n",
       "    .dataframe tbody tr th:only-of-type {\n",
       "        vertical-align: middle;\n",
       "    }\n",
       "\n",
       "    .dataframe tbody tr th {\n",
       "        vertical-align: top;\n",
       "    }\n",
       "\n",
       "    .dataframe thead th {\n",
       "        text-align: right;\n",
       "    }\n",
       "</style>\n",
       "<table border=\"1\" class=\"dataframe\">\n",
       "  <thead>\n",
       "    <tr style=\"text-align: right;\">\n",
       "      <th></th>\n",
       "      <th>Causa de muerte</th>\n",
       "      <th>Sexo</th>\n",
       "      <th>Edad</th>\n",
       "      <th>Periodo</th>\n",
       "      <th>Total</th>\n",
       "      <th>cause_code</th>\n",
       "      <th>cause_group</th>\n",
       "      <th>cause_name</th>\n",
       "      <th>media</th>\n",
       "    </tr>\n",
       "  </thead>\n",
       "  <tbody>\n",
       "    <tr>\n",
       "      <th>0</th>\n",
       "      <td>006  SIDA</td>\n",
       "      <td>Total</td>\n",
       "      <td>Todas las edades</td>\n",
       "      <td>1995</td>\n",
       "      <td>5551</td>\n",
       "      <td>006</td>\n",
       "      <td>Single cause</td>\n",
       "      <td>SIDA</td>\n",
       "      <td>1468.871795</td>\n",
       "    </tr>\n",
       "    <tr>\n",
       "      <th>1</th>\n",
       "      <td>006  SIDA</td>\n",
       "      <td>Total</td>\n",
       "      <td>Todas las edades</td>\n",
       "      <td>1996</td>\n",
       "      <td>5432</td>\n",
       "      <td>006</td>\n",
       "      <td>Single cause</td>\n",
       "      <td>SIDA</td>\n",
       "      <td>1468.871795</td>\n",
       "    </tr>\n",
       "    <tr>\n",
       "      <th>2</th>\n",
       "      <td>006  SIDA</td>\n",
       "      <td>Total</td>\n",
       "      <td>Todas las edades</td>\n",
       "      <td>1994</td>\n",
       "      <td>4770</td>\n",
       "      <td>006</td>\n",
       "      <td>Single cause</td>\n",
       "      <td>SIDA</td>\n",
       "      <td>1468.871795</td>\n",
       "    </tr>\n",
       "    <tr>\n",
       "      <th>3</th>\n",
       "      <td>006  SIDA</td>\n",
       "      <td>Total</td>\n",
       "      <td>Todas las edades</td>\n",
       "      <td>1993</td>\n",
       "      <td>3980</td>\n",
       "      <td>006</td>\n",
       "      <td>Single cause</td>\n",
       "      <td>SIDA</td>\n",
       "      <td>1468.871795</td>\n",
       "    </tr>\n",
       "    <tr>\n",
       "      <th>4</th>\n",
       "      <td>006  SIDA</td>\n",
       "      <td>Total</td>\n",
       "      <td>Todas las edades</td>\n",
       "      <td>1992</td>\n",
       "      <td>3256</td>\n",
       "      <td>006</td>\n",
       "      <td>Single cause</td>\n",
       "      <td>SIDA</td>\n",
       "      <td>1468.871795</td>\n",
       "    </tr>\n",
       "    <tr>\n",
       "      <th>5</th>\n",
       "      <td>006  SIDA</td>\n",
       "      <td>Total</td>\n",
       "      <td>Todas las edades</td>\n",
       "      <td>1997</td>\n",
       "      <td>2844</td>\n",
       "      <td>006</td>\n",
       "      <td>Single cause</td>\n",
       "      <td>SIDA</td>\n",
       "      <td>1468.871795</td>\n",
       "    </tr>\n",
       "    <tr>\n",
       "      <th>6</th>\n",
       "      <td>006  SIDA</td>\n",
       "      <td>Total</td>\n",
       "      <td>Todas las edades</td>\n",
       "      <td>1991</td>\n",
       "      <td>2503</td>\n",
       "      <td>006</td>\n",
       "      <td>Single cause</td>\n",
       "      <td>SIDA</td>\n",
       "      <td>1468.871795</td>\n",
       "    </tr>\n",
       "    <tr>\n",
       "      <th>7</th>\n",
       "      <td>006  SIDA</td>\n",
       "      <td>Total</td>\n",
       "      <td>Todas las edades</td>\n",
       "      <td>1990</td>\n",
       "      <td>1898</td>\n",
       "      <td>006</td>\n",
       "      <td>Single cause</td>\n",
       "      <td>SIDA</td>\n",
       "      <td>1468.871795</td>\n",
       "    </tr>\n",
       "    <tr>\n",
       "      <th>8</th>\n",
       "      <td>006  SIDA</td>\n",
       "      <td>Total</td>\n",
       "      <td>Todas las edades</td>\n",
       "      <td>1999</td>\n",
       "      <td>1802</td>\n",
       "      <td>006</td>\n",
       "      <td>Single cause</td>\n",
       "      <td>SIDA</td>\n",
       "      <td>1468.871795</td>\n",
       "    </tr>\n",
       "    <tr>\n",
       "      <th>9</th>\n",
       "      <td>006  SIDA</td>\n",
       "      <td>Total</td>\n",
       "      <td>Todas las edades</td>\n",
       "      <td>1998</td>\n",
       "      <td>1779</td>\n",
       "      <td>006</td>\n",
       "      <td>Single cause</td>\n",
       "      <td>SIDA</td>\n",
       "      <td>1468.871795</td>\n",
       "    </tr>\n",
       "    <tr>\n",
       "      <th>10</th>\n",
       "      <td>006  SIDA</td>\n",
       "      <td>Total</td>\n",
       "      <td>Todas las edades</td>\n",
       "      <td>2000</td>\n",
       "      <td>1711</td>\n",
       "      <td>006</td>\n",
       "      <td>Single cause</td>\n",
       "      <td>SIDA</td>\n",
       "      <td>1468.871795</td>\n",
       "    </tr>\n",
       "    <tr>\n",
       "      <th>11</th>\n",
       "      <td>006  SIDA</td>\n",
       "      <td>Total</td>\n",
       "      <td>Todas las edades</td>\n",
       "      <td>2003</td>\n",
       "      <td>1632</td>\n",
       "      <td>006</td>\n",
       "      <td>Single cause</td>\n",
       "      <td>SIDA</td>\n",
       "      <td>1468.871795</td>\n",
       "    </tr>\n",
       "    <tr>\n",
       "      <th>12</th>\n",
       "      <td>006  SIDA</td>\n",
       "      <td>Total</td>\n",
       "      <td>Todas las edades</td>\n",
       "      <td>2001</td>\n",
       "      <td>1632</td>\n",
       "      <td>006</td>\n",
       "      <td>Single cause</td>\n",
       "      <td>SIDA</td>\n",
       "      <td>1468.871795</td>\n",
       "    </tr>\n",
       "    <tr>\n",
       "      <th>13</th>\n",
       "      <td>006  SIDA</td>\n",
       "      <td>Total</td>\n",
       "      <td>Todas las edades</td>\n",
       "      <td>2002</td>\n",
       "      <td>1611</td>\n",
       "      <td>006</td>\n",
       "      <td>Single cause</td>\n",
       "      <td>SIDA</td>\n",
       "      <td>1468.871795</td>\n",
       "    </tr>\n",
       "    <tr>\n",
       "      <th>14</th>\n",
       "      <td>006  SIDA</td>\n",
       "      <td>Total</td>\n",
       "      <td>Todas las edades</td>\n",
       "      <td>2004</td>\n",
       "      <td>1551</td>\n",
       "      <td>006</td>\n",
       "      <td>Single cause</td>\n",
       "      <td>SIDA</td>\n",
       "      <td>1468.871795</td>\n",
       "    </tr>\n",
       "    <tr>\n",
       "      <th>15</th>\n",
       "      <td>006  SIDA</td>\n",
       "      <td>Total</td>\n",
       "      <td>Todas las edades</td>\n",
       "      <td>2005</td>\n",
       "      <td>1450</td>\n",
       "      <td>006</td>\n",
       "      <td>Single cause</td>\n",
       "      <td>SIDA</td>\n",
       "      <td>1468.871795</td>\n",
       "    </tr>\n",
       "    <tr>\n",
       "      <th>16</th>\n",
       "      <td>006  SIDA</td>\n",
       "      <td>Total</td>\n",
       "      <td>Todas las edades</td>\n",
       "      <td>2006</td>\n",
       "      <td>1313</td>\n",
       "      <td>006</td>\n",
       "      <td>Single cause</td>\n",
       "      <td>SIDA</td>\n",
       "      <td>1468.871795</td>\n",
       "    </tr>\n",
       "    <tr>\n",
       "      <th>17</th>\n",
       "      <td>006  SIDA</td>\n",
       "      <td>Total</td>\n",
       "      <td>Todas las edades</td>\n",
       "      <td>2007</td>\n",
       "      <td>1307</td>\n",
       "      <td>006</td>\n",
       "      <td>Single cause</td>\n",
       "      <td>SIDA</td>\n",
       "      <td>1468.871795</td>\n",
       "    </tr>\n",
       "    <tr>\n",
       "      <th>18</th>\n",
       "      <td>006  SIDA</td>\n",
       "      <td>Total</td>\n",
       "      <td>Todas las edades</td>\n",
       "      <td>1989</td>\n",
       "      <td>1288</td>\n",
       "      <td>006</td>\n",
       "      <td>Single cause</td>\n",
       "      <td>SIDA</td>\n",
       "      <td>1468.871795</td>\n",
       "    </tr>\n",
       "    <tr>\n",
       "      <th>19</th>\n",
       "      <td>006  SIDA</td>\n",
       "      <td>Total</td>\n",
       "      <td>Todas las edades</td>\n",
       "      <td>2008</td>\n",
       "      <td>1211</td>\n",
       "      <td>006</td>\n",
       "      <td>Single cause</td>\n",
       "      <td>SIDA</td>\n",
       "      <td>1468.871795</td>\n",
       "    </tr>\n",
       "    <tr>\n",
       "      <th>20</th>\n",
       "      <td>006  SIDA</td>\n",
       "      <td>Total</td>\n",
       "      <td>Todas las edades</td>\n",
       "      <td>2009</td>\n",
       "      <td>1079</td>\n",
       "      <td>006</td>\n",
       "      <td>Single cause</td>\n",
       "      <td>SIDA</td>\n",
       "      <td>1468.871795</td>\n",
       "    </tr>\n",
       "    <tr>\n",
       "      <th>21</th>\n",
       "      <td>006  SIDA</td>\n",
       "      <td>Total</td>\n",
       "      <td>Todas las edades</td>\n",
       "      <td>2010</td>\n",
       "      <td>1020</td>\n",
       "      <td>006</td>\n",
       "      <td>Single cause</td>\n",
       "      <td>SIDA</td>\n",
       "      <td>1468.871795</td>\n",
       "    </tr>\n",
       "    <tr>\n",
       "      <th>22</th>\n",
       "      <td>006  SIDA</td>\n",
       "      <td>Total</td>\n",
       "      <td>Todas las edades</td>\n",
       "      <td>2011</td>\n",
       "      <td>953</td>\n",
       "      <td>006</td>\n",
       "      <td>Single cause</td>\n",
       "      <td>SIDA</td>\n",
       "      <td>1468.871795</td>\n",
       "    </tr>\n",
       "    <tr>\n",
       "      <th>23</th>\n",
       "      <td>006  SIDA</td>\n",
       "      <td>Total</td>\n",
       "      <td>Todas las edades</td>\n",
       "      <td>2012</td>\n",
       "      <td>880</td>\n",
       "      <td>006</td>\n",
       "      <td>Single cause</td>\n",
       "      <td>SIDA</td>\n",
       "      <td>1468.871795</td>\n",
       "    </tr>\n",
       "    <tr>\n",
       "      <th>24</th>\n",
       "      <td>006  SIDA</td>\n",
       "      <td>Total</td>\n",
       "      <td>Todas las edades</td>\n",
       "      <td>1988</td>\n",
       "      <td>768</td>\n",
       "      <td>006</td>\n",
       "      <td>Single cause</td>\n",
       "      <td>SIDA</td>\n",
       "      <td>1468.871795</td>\n",
       "    </tr>\n",
       "    <tr>\n",
       "      <th>25</th>\n",
       "      <td>006  SIDA</td>\n",
       "      <td>Total</td>\n",
       "      <td>Todas las edades</td>\n",
       "      <td>2013</td>\n",
       "      <td>749</td>\n",
       "      <td>006</td>\n",
       "      <td>Single cause</td>\n",
       "      <td>SIDA</td>\n",
       "      <td>1468.871795</td>\n",
       "    </tr>\n",
       "    <tr>\n",
       "      <th>26</th>\n",
       "      <td>006  SIDA</td>\n",
       "      <td>Total</td>\n",
       "      <td>Todas las edades</td>\n",
       "      <td>2014</td>\n",
       "      <td>700</td>\n",
       "      <td>006</td>\n",
       "      <td>Single cause</td>\n",
       "      <td>SIDA</td>\n",
       "      <td>1468.871795</td>\n",
       "    </tr>\n",
       "    <tr>\n",
       "      <th>27</th>\n",
       "      <td>006  SIDA</td>\n",
       "      <td>Total</td>\n",
       "      <td>Todas las edades</td>\n",
       "      <td>2015</td>\n",
       "      <td>633</td>\n",
       "      <td>006</td>\n",
       "      <td>Single cause</td>\n",
       "      <td>SIDA</td>\n",
       "      <td>1468.871795</td>\n",
       "    </tr>\n",
       "    <tr>\n",
       "      <th>28</th>\n",
       "      <td>006  SIDA</td>\n",
       "      <td>Total</td>\n",
       "      <td>Todas las edades</td>\n",
       "      <td>2016</td>\n",
       "      <td>498</td>\n",
       "      <td>006</td>\n",
       "      <td>Single cause</td>\n",
       "      <td>SIDA</td>\n",
       "      <td>1468.871795</td>\n",
       "    </tr>\n",
       "    <tr>\n",
       "      <th>29</th>\n",
       "      <td>006  SIDA</td>\n",
       "      <td>Total</td>\n",
       "      <td>Todas las edades</td>\n",
       "      <td>2017</td>\n",
       "      <td>442</td>\n",
       "      <td>006</td>\n",
       "      <td>Single cause</td>\n",
       "      <td>SIDA</td>\n",
       "      <td>1468.871795</td>\n",
       "    </tr>\n",
       "    <tr>\n",
       "      <th>30</th>\n",
       "      <td>006  SIDA</td>\n",
       "      <td>Total</td>\n",
       "      <td>Todas las edades</td>\n",
       "      <td>2018</td>\n",
       "      <td>423</td>\n",
       "      <td>006</td>\n",
       "      <td>Single cause</td>\n",
       "      <td>SIDA</td>\n",
       "      <td>1468.871795</td>\n",
       "    </tr>\n",
       "    <tr>\n",
       "      <th>31</th>\n",
       "      <td>006  SIDA</td>\n",
       "      <td>Total</td>\n",
       "      <td>Todas las edades</td>\n",
       "      <td>1987</td>\n",
       "      <td>409</td>\n",
       "      <td>006</td>\n",
       "      <td>Single cause</td>\n",
       "      <td>SIDA</td>\n",
       "      <td>1468.871795</td>\n",
       "    </tr>\n",
       "    <tr>\n",
       "      <th>32</th>\n",
       "      <td>006  SIDA</td>\n",
       "      <td>Total</td>\n",
       "      <td>Todas las edades</td>\n",
       "      <td>1986</td>\n",
       "      <td>164</td>\n",
       "      <td>006</td>\n",
       "      <td>Single cause</td>\n",
       "      <td>SIDA</td>\n",
       "      <td>1468.871795</td>\n",
       "    </tr>\n",
       "    <tr>\n",
       "      <th>33</th>\n",
       "      <td>006  SIDA</td>\n",
       "      <td>Total</td>\n",
       "      <td>Todas las edades</td>\n",
       "      <td>1985</td>\n",
       "      <td>47</td>\n",
       "      <td>006</td>\n",
       "      <td>Single cause</td>\n",
       "      <td>SIDA</td>\n",
       "      <td>1468.871795</td>\n",
       "    </tr>\n",
       "    <tr>\n",
       "      <th>34</th>\n",
       "      <td>006  SIDA</td>\n",
       "      <td>Total</td>\n",
       "      <td>Todas las edades</td>\n",
       "      <td>1982</td>\n",
       "      <td>0</td>\n",
       "      <td>006</td>\n",
       "      <td>Single cause</td>\n",
       "      <td>SIDA</td>\n",
       "      <td>1468.871795</td>\n",
       "    </tr>\n",
       "    <tr>\n",
       "      <th>35</th>\n",
       "      <td>006  SIDA</td>\n",
       "      <td>Total</td>\n",
       "      <td>Todas las edades</td>\n",
       "      <td>1980</td>\n",
       "      <td>0</td>\n",
       "      <td>006</td>\n",
       "      <td>Single cause</td>\n",
       "      <td>SIDA</td>\n",
       "      <td>1468.871795</td>\n",
       "    </tr>\n",
       "    <tr>\n",
       "      <th>36</th>\n",
       "      <td>006  SIDA</td>\n",
       "      <td>Total</td>\n",
       "      <td>Todas las edades</td>\n",
       "      <td>1984</td>\n",
       "      <td>0</td>\n",
       "      <td>006</td>\n",
       "      <td>Single cause</td>\n",
       "      <td>SIDA</td>\n",
       "      <td>1468.871795</td>\n",
       "    </tr>\n",
       "    <tr>\n",
       "      <th>37</th>\n",
       "      <td>006  SIDA</td>\n",
       "      <td>Total</td>\n",
       "      <td>Todas las edades</td>\n",
       "      <td>1981</td>\n",
       "      <td>0</td>\n",
       "      <td>006</td>\n",
       "      <td>Single cause</td>\n",
       "      <td>SIDA</td>\n",
       "      <td>1468.871795</td>\n",
       "    </tr>\n",
       "    <tr>\n",
       "      <th>38</th>\n",
       "      <td>006  SIDA</td>\n",
       "      <td>Total</td>\n",
       "      <td>Todas las edades</td>\n",
       "      <td>1983</td>\n",
       "      <td>0</td>\n",
       "      <td>006</td>\n",
       "      <td>Single cause</td>\n",
       "      <td>SIDA</td>\n",
       "      <td>1468.871795</td>\n",
       "    </tr>\n",
       "  </tbody>\n",
       "</table>\n",
       "</div>"
      ],
      "text/plain": [
       "   Causa de muerte   Sexo              Edad  Periodo  Total cause_code  \\\n",
       "0        006  SIDA  Total  Todas las edades     1995   5551        006   \n",
       "1        006  SIDA  Total  Todas las edades     1996   5432        006   \n",
       "2        006  SIDA  Total  Todas las edades     1994   4770        006   \n",
       "3        006  SIDA  Total  Todas las edades     1993   3980        006   \n",
       "4        006  SIDA  Total  Todas las edades     1992   3256        006   \n",
       "5        006  SIDA  Total  Todas las edades     1997   2844        006   \n",
       "6        006  SIDA  Total  Todas las edades     1991   2503        006   \n",
       "7        006  SIDA  Total  Todas las edades     1990   1898        006   \n",
       "8        006  SIDA  Total  Todas las edades     1999   1802        006   \n",
       "9        006  SIDA  Total  Todas las edades     1998   1779        006   \n",
       "10       006  SIDA  Total  Todas las edades     2000   1711        006   \n",
       "11       006  SIDA  Total  Todas las edades     2003   1632        006   \n",
       "12       006  SIDA  Total  Todas las edades     2001   1632        006   \n",
       "13       006  SIDA  Total  Todas las edades     2002   1611        006   \n",
       "14       006  SIDA  Total  Todas las edades     2004   1551        006   \n",
       "15       006  SIDA  Total  Todas las edades     2005   1450        006   \n",
       "16       006  SIDA  Total  Todas las edades     2006   1313        006   \n",
       "17       006  SIDA  Total  Todas las edades     2007   1307        006   \n",
       "18       006  SIDA  Total  Todas las edades     1989   1288        006   \n",
       "19       006  SIDA  Total  Todas las edades     2008   1211        006   \n",
       "20       006  SIDA  Total  Todas las edades     2009   1079        006   \n",
       "21       006  SIDA  Total  Todas las edades     2010   1020        006   \n",
       "22       006  SIDA  Total  Todas las edades     2011    953        006   \n",
       "23       006  SIDA  Total  Todas las edades     2012    880        006   \n",
       "24       006  SIDA  Total  Todas las edades     1988    768        006   \n",
       "25       006  SIDA  Total  Todas las edades     2013    749        006   \n",
       "26       006  SIDA  Total  Todas las edades     2014    700        006   \n",
       "27       006  SIDA  Total  Todas las edades     2015    633        006   \n",
       "28       006  SIDA  Total  Todas las edades     2016    498        006   \n",
       "29       006  SIDA  Total  Todas las edades     2017    442        006   \n",
       "30       006  SIDA  Total  Todas las edades     2018    423        006   \n",
       "31       006  SIDA  Total  Todas las edades     1987    409        006   \n",
       "32       006  SIDA  Total  Todas las edades     1986    164        006   \n",
       "33       006  SIDA  Total  Todas las edades     1985     47        006   \n",
       "34       006  SIDA  Total  Todas las edades     1982      0        006   \n",
       "35       006  SIDA  Total  Todas las edades     1980      0        006   \n",
       "36       006  SIDA  Total  Todas las edades     1984      0        006   \n",
       "37       006  SIDA  Total  Todas las edades     1981      0        006   \n",
       "38       006  SIDA  Total  Todas las edades     1983      0        006   \n",
       "\n",
       "     cause_group cause_name        media  \n",
       "0   Single cause       SIDA  1468.871795  \n",
       "1   Single cause       SIDA  1468.871795  \n",
       "2   Single cause       SIDA  1468.871795  \n",
       "3   Single cause       SIDA  1468.871795  \n",
       "4   Single cause       SIDA  1468.871795  \n",
       "5   Single cause       SIDA  1468.871795  \n",
       "6   Single cause       SIDA  1468.871795  \n",
       "7   Single cause       SIDA  1468.871795  \n",
       "8   Single cause       SIDA  1468.871795  \n",
       "9   Single cause       SIDA  1468.871795  \n",
       "10  Single cause       SIDA  1468.871795  \n",
       "11  Single cause       SIDA  1468.871795  \n",
       "12  Single cause       SIDA  1468.871795  \n",
       "13  Single cause       SIDA  1468.871795  \n",
       "14  Single cause       SIDA  1468.871795  \n",
       "15  Single cause       SIDA  1468.871795  \n",
       "16  Single cause       SIDA  1468.871795  \n",
       "17  Single cause       SIDA  1468.871795  \n",
       "18  Single cause       SIDA  1468.871795  \n",
       "19  Single cause       SIDA  1468.871795  \n",
       "20  Single cause       SIDA  1468.871795  \n",
       "21  Single cause       SIDA  1468.871795  \n",
       "22  Single cause       SIDA  1468.871795  \n",
       "23  Single cause       SIDA  1468.871795  \n",
       "24  Single cause       SIDA  1468.871795  \n",
       "25  Single cause       SIDA  1468.871795  \n",
       "26  Single cause       SIDA  1468.871795  \n",
       "27  Single cause       SIDA  1468.871795  \n",
       "28  Single cause       SIDA  1468.871795  \n",
       "29  Single cause       SIDA  1468.871795  \n",
       "30  Single cause       SIDA  1468.871795  \n",
       "31  Single cause       SIDA  1468.871795  \n",
       "32  Single cause       SIDA  1468.871795  \n",
       "33  Single cause       SIDA  1468.871795  \n",
       "34  Single cause       SIDA  1468.871795  \n",
       "35  Single cause       SIDA  1468.871795  \n",
       "36  Single cause       SIDA  1468.871795  \n",
       "37  Single cause       SIDA  1468.871795  \n",
       "38  Single cause       SIDA  1468.871795  "
      ]
     },
     "execution_count": 8,
     "metadata": {},
     "output_type": "execute_result"
    }
   ],
   "source": [
    "dataset[\"media\"] = dataset[\"Total\"].mean()\n",
    "dataset"
   ]
  },
  {
   "cell_type": "code",
   "execution_count": 9,
   "metadata": {},
   "outputs": [
    {
     "data": {
      "text/html": [
       "<div>\n",
       "<style scoped>\n",
       "    .dataframe tbody tr th:only-of-type {\n",
       "        vertical-align: middle;\n",
       "    }\n",
       "\n",
       "    .dataframe tbody tr th {\n",
       "        vertical-align: top;\n",
       "    }\n",
       "\n",
       "    .dataframe thead th {\n",
       "        text-align: right;\n",
       "    }\n",
       "</style>\n",
       "<table border=\"1\" class=\"dataframe\">\n",
       "  <thead>\n",
       "    <tr style=\"text-align: right;\">\n",
       "      <th></th>\n",
       "      <th>Causa de muerte</th>\n",
       "      <th>Sexo</th>\n",
       "      <th>Edad</th>\n",
       "      <th>Periodo</th>\n",
       "      <th>Total</th>\n",
       "      <th>cause_code</th>\n",
       "      <th>cause_group</th>\n",
       "      <th>cause_name</th>\n",
       "      <th>media</th>\n",
       "      <th>percentil_05</th>\n",
       "      <th>percentil_025</th>\n",
       "      <th>percentil_075</th>\n",
       "    </tr>\n",
       "  </thead>\n",
       "  <tbody>\n",
       "    <tr>\n",
       "      <th>0</th>\n",
       "      <td>006  SIDA</td>\n",
       "      <td>Total</td>\n",
       "      <td>Todas las edades</td>\n",
       "      <td>1995</td>\n",
       "      <td>5551</td>\n",
       "      <td>006</td>\n",
       "      <td>Single cause</td>\n",
       "      <td>SIDA</td>\n",
       "      <td>1468.871795</td>\n",
       "      <td>12.11</td>\n",
       "      <td>4.7</td>\n",
       "      <td>17.45</td>\n",
       "    </tr>\n",
       "    <tr>\n",
       "      <th>1</th>\n",
       "      <td>006  SIDA</td>\n",
       "      <td>Total</td>\n",
       "      <td>Todas las edades</td>\n",
       "      <td>1996</td>\n",
       "      <td>5432</td>\n",
       "      <td>006</td>\n",
       "      <td>Single cause</td>\n",
       "      <td>SIDA</td>\n",
       "      <td>1468.871795</td>\n",
       "      <td>12.11</td>\n",
       "      <td>4.7</td>\n",
       "      <td>17.45</td>\n",
       "    </tr>\n",
       "    <tr>\n",
       "      <th>2</th>\n",
       "      <td>006  SIDA</td>\n",
       "      <td>Total</td>\n",
       "      <td>Todas las edades</td>\n",
       "      <td>1994</td>\n",
       "      <td>4770</td>\n",
       "      <td>006</td>\n",
       "      <td>Single cause</td>\n",
       "      <td>SIDA</td>\n",
       "      <td>1468.871795</td>\n",
       "      <td>12.11</td>\n",
       "      <td>4.7</td>\n",
       "      <td>17.45</td>\n",
       "    </tr>\n",
       "    <tr>\n",
       "      <th>3</th>\n",
       "      <td>006  SIDA</td>\n",
       "      <td>Total</td>\n",
       "      <td>Todas las edades</td>\n",
       "      <td>1993</td>\n",
       "      <td>3980</td>\n",
       "      <td>006</td>\n",
       "      <td>Single cause</td>\n",
       "      <td>SIDA</td>\n",
       "      <td>1468.871795</td>\n",
       "      <td>12.11</td>\n",
       "      <td>4.7</td>\n",
       "      <td>17.45</td>\n",
       "    </tr>\n",
       "    <tr>\n",
       "      <th>4</th>\n",
       "      <td>006  SIDA</td>\n",
       "      <td>Total</td>\n",
       "      <td>Todas las edades</td>\n",
       "      <td>1992</td>\n",
       "      <td>3256</td>\n",
       "      <td>006</td>\n",
       "      <td>Single cause</td>\n",
       "      <td>SIDA</td>\n",
       "      <td>1468.871795</td>\n",
       "      <td>12.11</td>\n",
       "      <td>4.7</td>\n",
       "      <td>17.45</td>\n",
       "    </tr>\n",
       "    <tr>\n",
       "      <th>5</th>\n",
       "      <td>006  SIDA</td>\n",
       "      <td>Total</td>\n",
       "      <td>Todas las edades</td>\n",
       "      <td>1997</td>\n",
       "      <td>2844</td>\n",
       "      <td>006</td>\n",
       "      <td>Single cause</td>\n",
       "      <td>SIDA</td>\n",
       "      <td>1468.871795</td>\n",
       "      <td>12.11</td>\n",
       "      <td>4.7</td>\n",
       "      <td>17.45</td>\n",
       "    </tr>\n",
       "    <tr>\n",
       "      <th>6</th>\n",
       "      <td>006  SIDA</td>\n",
       "      <td>Total</td>\n",
       "      <td>Todas las edades</td>\n",
       "      <td>1991</td>\n",
       "      <td>2503</td>\n",
       "      <td>006</td>\n",
       "      <td>Single cause</td>\n",
       "      <td>SIDA</td>\n",
       "      <td>1468.871795</td>\n",
       "      <td>12.11</td>\n",
       "      <td>4.7</td>\n",
       "      <td>17.45</td>\n",
       "    </tr>\n",
       "    <tr>\n",
       "      <th>7</th>\n",
       "      <td>006  SIDA</td>\n",
       "      <td>Total</td>\n",
       "      <td>Todas las edades</td>\n",
       "      <td>1990</td>\n",
       "      <td>1898</td>\n",
       "      <td>006</td>\n",
       "      <td>Single cause</td>\n",
       "      <td>SIDA</td>\n",
       "      <td>1468.871795</td>\n",
       "      <td>12.11</td>\n",
       "      <td>4.7</td>\n",
       "      <td>17.45</td>\n",
       "    </tr>\n",
       "    <tr>\n",
       "      <th>8</th>\n",
       "      <td>006  SIDA</td>\n",
       "      <td>Total</td>\n",
       "      <td>Todas las edades</td>\n",
       "      <td>1999</td>\n",
       "      <td>1802</td>\n",
       "      <td>006</td>\n",
       "      <td>Single cause</td>\n",
       "      <td>SIDA</td>\n",
       "      <td>1468.871795</td>\n",
       "      <td>12.11</td>\n",
       "      <td>4.7</td>\n",
       "      <td>17.45</td>\n",
       "    </tr>\n",
       "    <tr>\n",
       "      <th>9</th>\n",
       "      <td>006  SIDA</td>\n",
       "      <td>Total</td>\n",
       "      <td>Todas las edades</td>\n",
       "      <td>1998</td>\n",
       "      <td>1779</td>\n",
       "      <td>006</td>\n",
       "      <td>Single cause</td>\n",
       "      <td>SIDA</td>\n",
       "      <td>1468.871795</td>\n",
       "      <td>12.11</td>\n",
       "      <td>4.7</td>\n",
       "      <td>17.45</td>\n",
       "    </tr>\n",
       "    <tr>\n",
       "      <th>10</th>\n",
       "      <td>006  SIDA</td>\n",
       "      <td>Total</td>\n",
       "      <td>Todas las edades</td>\n",
       "      <td>2000</td>\n",
       "      <td>1711</td>\n",
       "      <td>006</td>\n",
       "      <td>Single cause</td>\n",
       "      <td>SIDA</td>\n",
       "      <td>1468.871795</td>\n",
       "      <td>12.11</td>\n",
       "      <td>4.7</td>\n",
       "      <td>17.45</td>\n",
       "    </tr>\n",
       "    <tr>\n",
       "      <th>11</th>\n",
       "      <td>006  SIDA</td>\n",
       "      <td>Total</td>\n",
       "      <td>Todas las edades</td>\n",
       "      <td>2003</td>\n",
       "      <td>1632</td>\n",
       "      <td>006</td>\n",
       "      <td>Single cause</td>\n",
       "      <td>SIDA</td>\n",
       "      <td>1468.871795</td>\n",
       "      <td>12.11</td>\n",
       "      <td>4.7</td>\n",
       "      <td>17.45</td>\n",
       "    </tr>\n",
       "    <tr>\n",
       "      <th>12</th>\n",
       "      <td>006  SIDA</td>\n",
       "      <td>Total</td>\n",
       "      <td>Todas las edades</td>\n",
       "      <td>2001</td>\n",
       "      <td>1632</td>\n",
       "      <td>006</td>\n",
       "      <td>Single cause</td>\n",
       "      <td>SIDA</td>\n",
       "      <td>1468.871795</td>\n",
       "      <td>12.11</td>\n",
       "      <td>4.7</td>\n",
       "      <td>17.45</td>\n",
       "    </tr>\n",
       "    <tr>\n",
       "      <th>13</th>\n",
       "      <td>006  SIDA</td>\n",
       "      <td>Total</td>\n",
       "      <td>Todas las edades</td>\n",
       "      <td>2002</td>\n",
       "      <td>1611</td>\n",
       "      <td>006</td>\n",
       "      <td>Single cause</td>\n",
       "      <td>SIDA</td>\n",
       "      <td>1468.871795</td>\n",
       "      <td>12.11</td>\n",
       "      <td>4.7</td>\n",
       "      <td>17.45</td>\n",
       "    </tr>\n",
       "    <tr>\n",
       "      <th>14</th>\n",
       "      <td>006  SIDA</td>\n",
       "      <td>Total</td>\n",
       "      <td>Todas las edades</td>\n",
       "      <td>2004</td>\n",
       "      <td>1551</td>\n",
       "      <td>006</td>\n",
       "      <td>Single cause</td>\n",
       "      <td>SIDA</td>\n",
       "      <td>1468.871795</td>\n",
       "      <td>12.11</td>\n",
       "      <td>4.7</td>\n",
       "      <td>17.45</td>\n",
       "    </tr>\n",
       "    <tr>\n",
       "      <th>15</th>\n",
       "      <td>006  SIDA</td>\n",
       "      <td>Total</td>\n",
       "      <td>Todas las edades</td>\n",
       "      <td>2005</td>\n",
       "      <td>1450</td>\n",
       "      <td>006</td>\n",
       "      <td>Single cause</td>\n",
       "      <td>SIDA</td>\n",
       "      <td>1468.871795</td>\n",
       "      <td>12.11</td>\n",
       "      <td>4.7</td>\n",
       "      <td>17.45</td>\n",
       "    </tr>\n",
       "    <tr>\n",
       "      <th>16</th>\n",
       "      <td>006  SIDA</td>\n",
       "      <td>Total</td>\n",
       "      <td>Todas las edades</td>\n",
       "      <td>2006</td>\n",
       "      <td>1313</td>\n",
       "      <td>006</td>\n",
       "      <td>Single cause</td>\n",
       "      <td>SIDA</td>\n",
       "      <td>1468.871795</td>\n",
       "      <td>12.11</td>\n",
       "      <td>4.7</td>\n",
       "      <td>17.45</td>\n",
       "    </tr>\n",
       "    <tr>\n",
       "      <th>17</th>\n",
       "      <td>006  SIDA</td>\n",
       "      <td>Total</td>\n",
       "      <td>Todas las edades</td>\n",
       "      <td>2007</td>\n",
       "      <td>1307</td>\n",
       "      <td>006</td>\n",
       "      <td>Single cause</td>\n",
       "      <td>SIDA</td>\n",
       "      <td>1468.871795</td>\n",
       "      <td>12.11</td>\n",
       "      <td>4.7</td>\n",
       "      <td>17.45</td>\n",
       "    </tr>\n",
       "    <tr>\n",
       "      <th>18</th>\n",
       "      <td>006  SIDA</td>\n",
       "      <td>Total</td>\n",
       "      <td>Todas las edades</td>\n",
       "      <td>1989</td>\n",
       "      <td>1288</td>\n",
       "      <td>006</td>\n",
       "      <td>Single cause</td>\n",
       "      <td>SIDA</td>\n",
       "      <td>1468.871795</td>\n",
       "      <td>12.11</td>\n",
       "      <td>4.7</td>\n",
       "      <td>17.45</td>\n",
       "    </tr>\n",
       "    <tr>\n",
       "      <th>19</th>\n",
       "      <td>006  SIDA</td>\n",
       "      <td>Total</td>\n",
       "      <td>Todas las edades</td>\n",
       "      <td>2008</td>\n",
       "      <td>1211</td>\n",
       "      <td>006</td>\n",
       "      <td>Single cause</td>\n",
       "      <td>SIDA</td>\n",
       "      <td>1468.871795</td>\n",
       "      <td>12.11</td>\n",
       "      <td>4.7</td>\n",
       "      <td>17.45</td>\n",
       "    </tr>\n",
       "    <tr>\n",
       "      <th>20</th>\n",
       "      <td>006  SIDA</td>\n",
       "      <td>Total</td>\n",
       "      <td>Todas las edades</td>\n",
       "      <td>2009</td>\n",
       "      <td>1079</td>\n",
       "      <td>006</td>\n",
       "      <td>Single cause</td>\n",
       "      <td>SIDA</td>\n",
       "      <td>1468.871795</td>\n",
       "      <td>12.11</td>\n",
       "      <td>4.7</td>\n",
       "      <td>17.45</td>\n",
       "    </tr>\n",
       "    <tr>\n",
       "      <th>21</th>\n",
       "      <td>006  SIDA</td>\n",
       "      <td>Total</td>\n",
       "      <td>Todas las edades</td>\n",
       "      <td>2010</td>\n",
       "      <td>1020</td>\n",
       "      <td>006</td>\n",
       "      <td>Single cause</td>\n",
       "      <td>SIDA</td>\n",
       "      <td>1468.871795</td>\n",
       "      <td>12.11</td>\n",
       "      <td>4.7</td>\n",
       "      <td>17.45</td>\n",
       "    </tr>\n",
       "    <tr>\n",
       "      <th>22</th>\n",
       "      <td>006  SIDA</td>\n",
       "      <td>Total</td>\n",
       "      <td>Todas las edades</td>\n",
       "      <td>2011</td>\n",
       "      <td>953</td>\n",
       "      <td>006</td>\n",
       "      <td>Single cause</td>\n",
       "      <td>SIDA</td>\n",
       "      <td>1468.871795</td>\n",
       "      <td>12.11</td>\n",
       "      <td>4.7</td>\n",
       "      <td>17.45</td>\n",
       "    </tr>\n",
       "    <tr>\n",
       "      <th>23</th>\n",
       "      <td>006  SIDA</td>\n",
       "      <td>Total</td>\n",
       "      <td>Todas las edades</td>\n",
       "      <td>2012</td>\n",
       "      <td>880</td>\n",
       "      <td>006</td>\n",
       "      <td>Single cause</td>\n",
       "      <td>SIDA</td>\n",
       "      <td>1468.871795</td>\n",
       "      <td>12.11</td>\n",
       "      <td>4.7</td>\n",
       "      <td>17.45</td>\n",
       "    </tr>\n",
       "    <tr>\n",
       "      <th>24</th>\n",
       "      <td>006  SIDA</td>\n",
       "      <td>Total</td>\n",
       "      <td>Todas las edades</td>\n",
       "      <td>1988</td>\n",
       "      <td>768</td>\n",
       "      <td>006</td>\n",
       "      <td>Single cause</td>\n",
       "      <td>SIDA</td>\n",
       "      <td>1468.871795</td>\n",
       "      <td>12.11</td>\n",
       "      <td>4.7</td>\n",
       "      <td>17.45</td>\n",
       "    </tr>\n",
       "    <tr>\n",
       "      <th>25</th>\n",
       "      <td>006  SIDA</td>\n",
       "      <td>Total</td>\n",
       "      <td>Todas las edades</td>\n",
       "      <td>2013</td>\n",
       "      <td>749</td>\n",
       "      <td>006</td>\n",
       "      <td>Single cause</td>\n",
       "      <td>SIDA</td>\n",
       "      <td>1468.871795</td>\n",
       "      <td>12.11</td>\n",
       "      <td>4.7</td>\n",
       "      <td>17.45</td>\n",
       "    </tr>\n",
       "    <tr>\n",
       "      <th>26</th>\n",
       "      <td>006  SIDA</td>\n",
       "      <td>Total</td>\n",
       "      <td>Todas las edades</td>\n",
       "      <td>2014</td>\n",
       "      <td>700</td>\n",
       "      <td>006</td>\n",
       "      <td>Single cause</td>\n",
       "      <td>SIDA</td>\n",
       "      <td>1468.871795</td>\n",
       "      <td>12.11</td>\n",
       "      <td>4.7</td>\n",
       "      <td>17.45</td>\n",
       "    </tr>\n",
       "    <tr>\n",
       "      <th>27</th>\n",
       "      <td>006  SIDA</td>\n",
       "      <td>Total</td>\n",
       "      <td>Todas las edades</td>\n",
       "      <td>2015</td>\n",
       "      <td>633</td>\n",
       "      <td>006</td>\n",
       "      <td>Single cause</td>\n",
       "      <td>SIDA</td>\n",
       "      <td>1468.871795</td>\n",
       "      <td>12.11</td>\n",
       "      <td>4.7</td>\n",
       "      <td>17.45</td>\n",
       "    </tr>\n",
       "    <tr>\n",
       "      <th>28</th>\n",
       "      <td>006  SIDA</td>\n",
       "      <td>Total</td>\n",
       "      <td>Todas las edades</td>\n",
       "      <td>2016</td>\n",
       "      <td>498</td>\n",
       "      <td>006</td>\n",
       "      <td>Single cause</td>\n",
       "      <td>SIDA</td>\n",
       "      <td>1468.871795</td>\n",
       "      <td>12.11</td>\n",
       "      <td>4.7</td>\n",
       "      <td>17.45</td>\n",
       "    </tr>\n",
       "    <tr>\n",
       "      <th>29</th>\n",
       "      <td>006  SIDA</td>\n",
       "      <td>Total</td>\n",
       "      <td>Todas las edades</td>\n",
       "      <td>2017</td>\n",
       "      <td>442</td>\n",
       "      <td>006</td>\n",
       "      <td>Single cause</td>\n",
       "      <td>SIDA</td>\n",
       "      <td>1468.871795</td>\n",
       "      <td>12.11</td>\n",
       "      <td>4.7</td>\n",
       "      <td>17.45</td>\n",
       "    </tr>\n",
       "    <tr>\n",
       "      <th>30</th>\n",
       "      <td>006  SIDA</td>\n",
       "      <td>Total</td>\n",
       "      <td>Todas las edades</td>\n",
       "      <td>2018</td>\n",
       "      <td>423</td>\n",
       "      <td>006</td>\n",
       "      <td>Single cause</td>\n",
       "      <td>SIDA</td>\n",
       "      <td>1468.871795</td>\n",
       "      <td>12.11</td>\n",
       "      <td>4.7</td>\n",
       "      <td>17.45</td>\n",
       "    </tr>\n",
       "    <tr>\n",
       "      <th>31</th>\n",
       "      <td>006  SIDA</td>\n",
       "      <td>Total</td>\n",
       "      <td>Todas las edades</td>\n",
       "      <td>1987</td>\n",
       "      <td>409</td>\n",
       "      <td>006</td>\n",
       "      <td>Single cause</td>\n",
       "      <td>SIDA</td>\n",
       "      <td>1468.871795</td>\n",
       "      <td>12.11</td>\n",
       "      <td>4.7</td>\n",
       "      <td>17.45</td>\n",
       "    </tr>\n",
       "    <tr>\n",
       "      <th>32</th>\n",
       "      <td>006  SIDA</td>\n",
       "      <td>Total</td>\n",
       "      <td>Todas las edades</td>\n",
       "      <td>1986</td>\n",
       "      <td>164</td>\n",
       "      <td>006</td>\n",
       "      <td>Single cause</td>\n",
       "      <td>SIDA</td>\n",
       "      <td>1468.871795</td>\n",
       "      <td>12.11</td>\n",
       "      <td>4.7</td>\n",
       "      <td>17.45</td>\n",
       "    </tr>\n",
       "    <tr>\n",
       "      <th>33</th>\n",
       "      <td>006  SIDA</td>\n",
       "      <td>Total</td>\n",
       "      <td>Todas las edades</td>\n",
       "      <td>1985</td>\n",
       "      <td>47</td>\n",
       "      <td>006</td>\n",
       "      <td>Single cause</td>\n",
       "      <td>SIDA</td>\n",
       "      <td>1468.871795</td>\n",
       "      <td>12.11</td>\n",
       "      <td>4.7</td>\n",
       "      <td>17.45</td>\n",
       "    </tr>\n",
       "    <tr>\n",
       "      <th>34</th>\n",
       "      <td>006  SIDA</td>\n",
       "      <td>Total</td>\n",
       "      <td>Todas las edades</td>\n",
       "      <td>1982</td>\n",
       "      <td>0</td>\n",
       "      <td>006</td>\n",
       "      <td>Single cause</td>\n",
       "      <td>SIDA</td>\n",
       "      <td>1468.871795</td>\n",
       "      <td>12.11</td>\n",
       "      <td>4.7</td>\n",
       "      <td>17.45</td>\n",
       "    </tr>\n",
       "    <tr>\n",
       "      <th>35</th>\n",
       "      <td>006  SIDA</td>\n",
       "      <td>Total</td>\n",
       "      <td>Todas las edades</td>\n",
       "      <td>1980</td>\n",
       "      <td>0</td>\n",
       "      <td>006</td>\n",
       "      <td>Single cause</td>\n",
       "      <td>SIDA</td>\n",
       "      <td>1468.871795</td>\n",
       "      <td>12.11</td>\n",
       "      <td>4.7</td>\n",
       "      <td>17.45</td>\n",
       "    </tr>\n",
       "    <tr>\n",
       "      <th>36</th>\n",
       "      <td>006  SIDA</td>\n",
       "      <td>Total</td>\n",
       "      <td>Todas las edades</td>\n",
       "      <td>1984</td>\n",
       "      <td>0</td>\n",
       "      <td>006</td>\n",
       "      <td>Single cause</td>\n",
       "      <td>SIDA</td>\n",
       "      <td>1468.871795</td>\n",
       "      <td>12.11</td>\n",
       "      <td>4.7</td>\n",
       "      <td>17.45</td>\n",
       "    </tr>\n",
       "    <tr>\n",
       "      <th>37</th>\n",
       "      <td>006  SIDA</td>\n",
       "      <td>Total</td>\n",
       "      <td>Todas las edades</td>\n",
       "      <td>1981</td>\n",
       "      <td>0</td>\n",
       "      <td>006</td>\n",
       "      <td>Single cause</td>\n",
       "      <td>SIDA</td>\n",
       "      <td>1468.871795</td>\n",
       "      <td>12.11</td>\n",
       "      <td>4.7</td>\n",
       "      <td>17.45</td>\n",
       "    </tr>\n",
       "    <tr>\n",
       "      <th>38</th>\n",
       "      <td>006  SIDA</td>\n",
       "      <td>Total</td>\n",
       "      <td>Todas las edades</td>\n",
       "      <td>1983</td>\n",
       "      <td>0</td>\n",
       "      <td>006</td>\n",
       "      <td>Single cause</td>\n",
       "      <td>SIDA</td>\n",
       "      <td>1468.871795</td>\n",
       "      <td>12.11</td>\n",
       "      <td>4.7</td>\n",
       "      <td>17.45</td>\n",
       "    </tr>\n",
       "  </tbody>\n",
       "</table>\n",
       "</div>"
      ],
      "text/plain": [
       "   Causa de muerte   Sexo              Edad  Periodo  Total cause_code  \\\n",
       "0        006  SIDA  Total  Todas las edades     1995   5551        006   \n",
       "1        006  SIDA  Total  Todas las edades     1996   5432        006   \n",
       "2        006  SIDA  Total  Todas las edades     1994   4770        006   \n",
       "3        006  SIDA  Total  Todas las edades     1993   3980        006   \n",
       "4        006  SIDA  Total  Todas las edades     1992   3256        006   \n",
       "5        006  SIDA  Total  Todas las edades     1997   2844        006   \n",
       "6        006  SIDA  Total  Todas las edades     1991   2503        006   \n",
       "7        006  SIDA  Total  Todas las edades     1990   1898        006   \n",
       "8        006  SIDA  Total  Todas las edades     1999   1802        006   \n",
       "9        006  SIDA  Total  Todas las edades     1998   1779        006   \n",
       "10       006  SIDA  Total  Todas las edades     2000   1711        006   \n",
       "11       006  SIDA  Total  Todas las edades     2003   1632        006   \n",
       "12       006  SIDA  Total  Todas las edades     2001   1632        006   \n",
       "13       006  SIDA  Total  Todas las edades     2002   1611        006   \n",
       "14       006  SIDA  Total  Todas las edades     2004   1551        006   \n",
       "15       006  SIDA  Total  Todas las edades     2005   1450        006   \n",
       "16       006  SIDA  Total  Todas las edades     2006   1313        006   \n",
       "17       006  SIDA  Total  Todas las edades     2007   1307        006   \n",
       "18       006  SIDA  Total  Todas las edades     1989   1288        006   \n",
       "19       006  SIDA  Total  Todas las edades     2008   1211        006   \n",
       "20       006  SIDA  Total  Todas las edades     2009   1079        006   \n",
       "21       006  SIDA  Total  Todas las edades     2010   1020        006   \n",
       "22       006  SIDA  Total  Todas las edades     2011    953        006   \n",
       "23       006  SIDA  Total  Todas las edades     2012    880        006   \n",
       "24       006  SIDA  Total  Todas las edades     1988    768        006   \n",
       "25       006  SIDA  Total  Todas las edades     2013    749        006   \n",
       "26       006  SIDA  Total  Todas las edades     2014    700        006   \n",
       "27       006  SIDA  Total  Todas las edades     2015    633        006   \n",
       "28       006  SIDA  Total  Todas las edades     2016    498        006   \n",
       "29       006  SIDA  Total  Todas las edades     2017    442        006   \n",
       "30       006  SIDA  Total  Todas las edades     2018    423        006   \n",
       "31       006  SIDA  Total  Todas las edades     1987    409        006   \n",
       "32       006  SIDA  Total  Todas las edades     1986    164        006   \n",
       "33       006  SIDA  Total  Todas las edades     1985     47        006   \n",
       "34       006  SIDA  Total  Todas las edades     1982      0        006   \n",
       "35       006  SIDA  Total  Todas las edades     1980      0        006   \n",
       "36       006  SIDA  Total  Todas las edades     1984      0        006   \n",
       "37       006  SIDA  Total  Todas las edades     1981      0        006   \n",
       "38       006  SIDA  Total  Todas las edades     1983      0        006   \n",
       "\n",
       "     cause_group cause_name        media  percentil_05  percentil_025  \\\n",
       "0   Single cause       SIDA  1468.871795         12.11            4.7   \n",
       "1   Single cause       SIDA  1468.871795         12.11            4.7   \n",
       "2   Single cause       SIDA  1468.871795         12.11            4.7   \n",
       "3   Single cause       SIDA  1468.871795         12.11            4.7   \n",
       "4   Single cause       SIDA  1468.871795         12.11            4.7   \n",
       "5   Single cause       SIDA  1468.871795         12.11            4.7   \n",
       "6   Single cause       SIDA  1468.871795         12.11            4.7   \n",
       "7   Single cause       SIDA  1468.871795         12.11            4.7   \n",
       "8   Single cause       SIDA  1468.871795         12.11            4.7   \n",
       "9   Single cause       SIDA  1468.871795         12.11            4.7   \n",
       "10  Single cause       SIDA  1468.871795         12.11            4.7   \n",
       "11  Single cause       SIDA  1468.871795         12.11            4.7   \n",
       "12  Single cause       SIDA  1468.871795         12.11            4.7   \n",
       "13  Single cause       SIDA  1468.871795         12.11            4.7   \n",
       "14  Single cause       SIDA  1468.871795         12.11            4.7   \n",
       "15  Single cause       SIDA  1468.871795         12.11            4.7   \n",
       "16  Single cause       SIDA  1468.871795         12.11            4.7   \n",
       "17  Single cause       SIDA  1468.871795         12.11            4.7   \n",
       "18  Single cause       SIDA  1468.871795         12.11            4.7   \n",
       "19  Single cause       SIDA  1468.871795         12.11            4.7   \n",
       "20  Single cause       SIDA  1468.871795         12.11            4.7   \n",
       "21  Single cause       SIDA  1468.871795         12.11            4.7   \n",
       "22  Single cause       SIDA  1468.871795         12.11            4.7   \n",
       "23  Single cause       SIDA  1468.871795         12.11            4.7   \n",
       "24  Single cause       SIDA  1468.871795         12.11            4.7   \n",
       "25  Single cause       SIDA  1468.871795         12.11            4.7   \n",
       "26  Single cause       SIDA  1468.871795         12.11            4.7   \n",
       "27  Single cause       SIDA  1468.871795         12.11            4.7   \n",
       "28  Single cause       SIDA  1468.871795         12.11            4.7   \n",
       "29  Single cause       SIDA  1468.871795         12.11            4.7   \n",
       "30  Single cause       SIDA  1468.871795         12.11            4.7   \n",
       "31  Single cause       SIDA  1468.871795         12.11            4.7   \n",
       "32  Single cause       SIDA  1468.871795         12.11            4.7   \n",
       "33  Single cause       SIDA  1468.871795         12.11            4.7   \n",
       "34  Single cause       SIDA  1468.871795         12.11            4.7   \n",
       "35  Single cause       SIDA  1468.871795         12.11            4.7   \n",
       "36  Single cause       SIDA  1468.871795         12.11            4.7   \n",
       "37  Single cause       SIDA  1468.871795         12.11            4.7   \n",
       "38  Single cause       SIDA  1468.871795         12.11            4.7   \n",
       "\n",
       "    percentil_075  \n",
       "0           17.45  \n",
       "1           17.45  \n",
       "2           17.45  \n",
       "3           17.45  \n",
       "4           17.45  \n",
       "5           17.45  \n",
       "6           17.45  \n",
       "7           17.45  \n",
       "8           17.45  \n",
       "9           17.45  \n",
       "10          17.45  \n",
       "11          17.45  \n",
       "12          17.45  \n",
       "13          17.45  \n",
       "14          17.45  \n",
       "15          17.45  \n",
       "16          17.45  \n",
       "17          17.45  \n",
       "18          17.45  \n",
       "19          17.45  \n",
       "20          17.45  \n",
       "21          17.45  \n",
       "22          17.45  \n",
       "23          17.45  \n",
       "24          17.45  \n",
       "25          17.45  \n",
       "26          17.45  \n",
       "27          17.45  \n",
       "28          17.45  \n",
       "29          17.45  \n",
       "30          17.45  \n",
       "31          17.45  \n",
       "32          17.45  \n",
       "33          17.45  \n",
       "34          17.45  \n",
       "35          17.45  \n",
       "36          17.45  \n",
       "37          17.45  \n",
       "38          17.45  "
      ]
     },
     "execution_count": 9,
     "metadata": {},
     "output_type": "execute_result"
    }
   ],
   "source": [
    "dataset[\"percentil_05\"] = dataset[\"Total\"].quantile(0.5)/100\n",
    "dataset[\"percentil_025\"] = dataset[\"Total\"].quantile(0.25)/100\n",
    "dataset[\"percentil_075\"] = dataset[\"Total\"].quantile(0.75)/100\n",
    "\n",
    "dataset"
   ]
  },
  {
   "cell_type": "markdown",
   "metadata": {},
   "source": [
    "#### dataset_ordered_bien = dataset.groupby('Periodo').sum().sort_values(by=\"Periodo\", ascending=False)\n",
    "print(dataset_ordered_bien)\n"
   ]
  },
  {
   "cell_type": "code",
   "execution_count": 10,
   "metadata": {
    "scrolled": true
   },
   "outputs": [
    {
     "data": {
      "text/html": [
       "<div>\n",
       "<style scoped>\n",
       "    .dataframe tbody tr th:only-of-type {\n",
       "        vertical-align: middle;\n",
       "    }\n",
       "\n",
       "    .dataframe tbody tr th {\n",
       "        vertical-align: top;\n",
       "    }\n",
       "\n",
       "    .dataframe thead th {\n",
       "        text-align: right;\n",
       "    }\n",
       "</style>\n",
       "<table border=\"1\" class=\"dataframe\">\n",
       "  <thead>\n",
       "    <tr style=\"text-align: right;\">\n",
       "      <th></th>\n",
       "      <th>Causa de muerte</th>\n",
       "      <th>Sexo</th>\n",
       "      <th>Edad</th>\n",
       "      <th>Periodo</th>\n",
       "      <th>Total</th>\n",
       "      <th>cause_code</th>\n",
       "      <th>cause_group</th>\n",
       "      <th>cause_name</th>\n",
       "      <th>media</th>\n",
       "      <th>percentil_05</th>\n",
       "      <th>percentil_025</th>\n",
       "      <th>percentil_075</th>\n",
       "    </tr>\n",
       "  </thead>\n",
       "  <tbody>\n",
       "    <tr>\n",
       "      <th>30</th>\n",
       "      <td>006  SIDA</td>\n",
       "      <td>Total</td>\n",
       "      <td>Todas las edades</td>\n",
       "      <td>2018</td>\n",
       "      <td>423</td>\n",
       "      <td>006</td>\n",
       "      <td>Single cause</td>\n",
       "      <td>SIDA</td>\n",
       "      <td>1468.871795</td>\n",
       "      <td>12.11</td>\n",
       "      <td>4.7</td>\n",
       "      <td>17.45</td>\n",
       "    </tr>\n",
       "    <tr>\n",
       "      <th>29</th>\n",
       "      <td>006  SIDA</td>\n",
       "      <td>Total</td>\n",
       "      <td>Todas las edades</td>\n",
       "      <td>2017</td>\n",
       "      <td>442</td>\n",
       "      <td>006</td>\n",
       "      <td>Single cause</td>\n",
       "      <td>SIDA</td>\n",
       "      <td>1468.871795</td>\n",
       "      <td>12.11</td>\n",
       "      <td>4.7</td>\n",
       "      <td>17.45</td>\n",
       "    </tr>\n",
       "    <tr>\n",
       "      <th>28</th>\n",
       "      <td>006  SIDA</td>\n",
       "      <td>Total</td>\n",
       "      <td>Todas las edades</td>\n",
       "      <td>2016</td>\n",
       "      <td>498</td>\n",
       "      <td>006</td>\n",
       "      <td>Single cause</td>\n",
       "      <td>SIDA</td>\n",
       "      <td>1468.871795</td>\n",
       "      <td>12.11</td>\n",
       "      <td>4.7</td>\n",
       "      <td>17.45</td>\n",
       "    </tr>\n",
       "    <tr>\n",
       "      <th>27</th>\n",
       "      <td>006  SIDA</td>\n",
       "      <td>Total</td>\n",
       "      <td>Todas las edades</td>\n",
       "      <td>2015</td>\n",
       "      <td>633</td>\n",
       "      <td>006</td>\n",
       "      <td>Single cause</td>\n",
       "      <td>SIDA</td>\n",
       "      <td>1468.871795</td>\n",
       "      <td>12.11</td>\n",
       "      <td>4.7</td>\n",
       "      <td>17.45</td>\n",
       "    </tr>\n",
       "    <tr>\n",
       "      <th>26</th>\n",
       "      <td>006  SIDA</td>\n",
       "      <td>Total</td>\n",
       "      <td>Todas las edades</td>\n",
       "      <td>2014</td>\n",
       "      <td>700</td>\n",
       "      <td>006</td>\n",
       "      <td>Single cause</td>\n",
       "      <td>SIDA</td>\n",
       "      <td>1468.871795</td>\n",
       "      <td>12.11</td>\n",
       "      <td>4.7</td>\n",
       "      <td>17.45</td>\n",
       "    </tr>\n",
       "    <tr>\n",
       "      <th>25</th>\n",
       "      <td>006  SIDA</td>\n",
       "      <td>Total</td>\n",
       "      <td>Todas las edades</td>\n",
       "      <td>2013</td>\n",
       "      <td>749</td>\n",
       "      <td>006</td>\n",
       "      <td>Single cause</td>\n",
       "      <td>SIDA</td>\n",
       "      <td>1468.871795</td>\n",
       "      <td>12.11</td>\n",
       "      <td>4.7</td>\n",
       "      <td>17.45</td>\n",
       "    </tr>\n",
       "    <tr>\n",
       "      <th>23</th>\n",
       "      <td>006  SIDA</td>\n",
       "      <td>Total</td>\n",
       "      <td>Todas las edades</td>\n",
       "      <td>2012</td>\n",
       "      <td>880</td>\n",
       "      <td>006</td>\n",
       "      <td>Single cause</td>\n",
       "      <td>SIDA</td>\n",
       "      <td>1468.871795</td>\n",
       "      <td>12.11</td>\n",
       "      <td>4.7</td>\n",
       "      <td>17.45</td>\n",
       "    </tr>\n",
       "    <tr>\n",
       "      <th>22</th>\n",
       "      <td>006  SIDA</td>\n",
       "      <td>Total</td>\n",
       "      <td>Todas las edades</td>\n",
       "      <td>2011</td>\n",
       "      <td>953</td>\n",
       "      <td>006</td>\n",
       "      <td>Single cause</td>\n",
       "      <td>SIDA</td>\n",
       "      <td>1468.871795</td>\n",
       "      <td>12.11</td>\n",
       "      <td>4.7</td>\n",
       "      <td>17.45</td>\n",
       "    </tr>\n",
       "    <tr>\n",
       "      <th>21</th>\n",
       "      <td>006  SIDA</td>\n",
       "      <td>Total</td>\n",
       "      <td>Todas las edades</td>\n",
       "      <td>2010</td>\n",
       "      <td>1020</td>\n",
       "      <td>006</td>\n",
       "      <td>Single cause</td>\n",
       "      <td>SIDA</td>\n",
       "      <td>1468.871795</td>\n",
       "      <td>12.11</td>\n",
       "      <td>4.7</td>\n",
       "      <td>17.45</td>\n",
       "    </tr>\n",
       "    <tr>\n",
       "      <th>20</th>\n",
       "      <td>006  SIDA</td>\n",
       "      <td>Total</td>\n",
       "      <td>Todas las edades</td>\n",
       "      <td>2009</td>\n",
       "      <td>1079</td>\n",
       "      <td>006</td>\n",
       "      <td>Single cause</td>\n",
       "      <td>SIDA</td>\n",
       "      <td>1468.871795</td>\n",
       "      <td>12.11</td>\n",
       "      <td>4.7</td>\n",
       "      <td>17.45</td>\n",
       "    </tr>\n",
       "    <tr>\n",
       "      <th>19</th>\n",
       "      <td>006  SIDA</td>\n",
       "      <td>Total</td>\n",
       "      <td>Todas las edades</td>\n",
       "      <td>2008</td>\n",
       "      <td>1211</td>\n",
       "      <td>006</td>\n",
       "      <td>Single cause</td>\n",
       "      <td>SIDA</td>\n",
       "      <td>1468.871795</td>\n",
       "      <td>12.11</td>\n",
       "      <td>4.7</td>\n",
       "      <td>17.45</td>\n",
       "    </tr>\n",
       "    <tr>\n",
       "      <th>17</th>\n",
       "      <td>006  SIDA</td>\n",
       "      <td>Total</td>\n",
       "      <td>Todas las edades</td>\n",
       "      <td>2007</td>\n",
       "      <td>1307</td>\n",
       "      <td>006</td>\n",
       "      <td>Single cause</td>\n",
       "      <td>SIDA</td>\n",
       "      <td>1468.871795</td>\n",
       "      <td>12.11</td>\n",
       "      <td>4.7</td>\n",
       "      <td>17.45</td>\n",
       "    </tr>\n",
       "    <tr>\n",
       "      <th>16</th>\n",
       "      <td>006  SIDA</td>\n",
       "      <td>Total</td>\n",
       "      <td>Todas las edades</td>\n",
       "      <td>2006</td>\n",
       "      <td>1313</td>\n",
       "      <td>006</td>\n",
       "      <td>Single cause</td>\n",
       "      <td>SIDA</td>\n",
       "      <td>1468.871795</td>\n",
       "      <td>12.11</td>\n",
       "      <td>4.7</td>\n",
       "      <td>17.45</td>\n",
       "    </tr>\n",
       "    <tr>\n",
       "      <th>15</th>\n",
       "      <td>006  SIDA</td>\n",
       "      <td>Total</td>\n",
       "      <td>Todas las edades</td>\n",
       "      <td>2005</td>\n",
       "      <td>1450</td>\n",
       "      <td>006</td>\n",
       "      <td>Single cause</td>\n",
       "      <td>SIDA</td>\n",
       "      <td>1468.871795</td>\n",
       "      <td>12.11</td>\n",
       "      <td>4.7</td>\n",
       "      <td>17.45</td>\n",
       "    </tr>\n",
       "    <tr>\n",
       "      <th>14</th>\n",
       "      <td>006  SIDA</td>\n",
       "      <td>Total</td>\n",
       "      <td>Todas las edades</td>\n",
       "      <td>2004</td>\n",
       "      <td>1551</td>\n",
       "      <td>006</td>\n",
       "      <td>Single cause</td>\n",
       "      <td>SIDA</td>\n",
       "      <td>1468.871795</td>\n",
       "      <td>12.11</td>\n",
       "      <td>4.7</td>\n",
       "      <td>17.45</td>\n",
       "    </tr>\n",
       "    <tr>\n",
       "      <th>11</th>\n",
       "      <td>006  SIDA</td>\n",
       "      <td>Total</td>\n",
       "      <td>Todas las edades</td>\n",
       "      <td>2003</td>\n",
       "      <td>1632</td>\n",
       "      <td>006</td>\n",
       "      <td>Single cause</td>\n",
       "      <td>SIDA</td>\n",
       "      <td>1468.871795</td>\n",
       "      <td>12.11</td>\n",
       "      <td>4.7</td>\n",
       "      <td>17.45</td>\n",
       "    </tr>\n",
       "    <tr>\n",
       "      <th>13</th>\n",
       "      <td>006  SIDA</td>\n",
       "      <td>Total</td>\n",
       "      <td>Todas las edades</td>\n",
       "      <td>2002</td>\n",
       "      <td>1611</td>\n",
       "      <td>006</td>\n",
       "      <td>Single cause</td>\n",
       "      <td>SIDA</td>\n",
       "      <td>1468.871795</td>\n",
       "      <td>12.11</td>\n",
       "      <td>4.7</td>\n",
       "      <td>17.45</td>\n",
       "    </tr>\n",
       "    <tr>\n",
       "      <th>12</th>\n",
       "      <td>006  SIDA</td>\n",
       "      <td>Total</td>\n",
       "      <td>Todas las edades</td>\n",
       "      <td>2001</td>\n",
       "      <td>1632</td>\n",
       "      <td>006</td>\n",
       "      <td>Single cause</td>\n",
       "      <td>SIDA</td>\n",
       "      <td>1468.871795</td>\n",
       "      <td>12.11</td>\n",
       "      <td>4.7</td>\n",
       "      <td>17.45</td>\n",
       "    </tr>\n",
       "    <tr>\n",
       "      <th>10</th>\n",
       "      <td>006  SIDA</td>\n",
       "      <td>Total</td>\n",
       "      <td>Todas las edades</td>\n",
       "      <td>2000</td>\n",
       "      <td>1711</td>\n",
       "      <td>006</td>\n",
       "      <td>Single cause</td>\n",
       "      <td>SIDA</td>\n",
       "      <td>1468.871795</td>\n",
       "      <td>12.11</td>\n",
       "      <td>4.7</td>\n",
       "      <td>17.45</td>\n",
       "    </tr>\n",
       "    <tr>\n",
       "      <th>8</th>\n",
       "      <td>006  SIDA</td>\n",
       "      <td>Total</td>\n",
       "      <td>Todas las edades</td>\n",
       "      <td>1999</td>\n",
       "      <td>1802</td>\n",
       "      <td>006</td>\n",
       "      <td>Single cause</td>\n",
       "      <td>SIDA</td>\n",
       "      <td>1468.871795</td>\n",
       "      <td>12.11</td>\n",
       "      <td>4.7</td>\n",
       "      <td>17.45</td>\n",
       "    </tr>\n",
       "    <tr>\n",
       "      <th>9</th>\n",
       "      <td>006  SIDA</td>\n",
       "      <td>Total</td>\n",
       "      <td>Todas las edades</td>\n",
       "      <td>1998</td>\n",
       "      <td>1779</td>\n",
       "      <td>006</td>\n",
       "      <td>Single cause</td>\n",
       "      <td>SIDA</td>\n",
       "      <td>1468.871795</td>\n",
       "      <td>12.11</td>\n",
       "      <td>4.7</td>\n",
       "      <td>17.45</td>\n",
       "    </tr>\n",
       "    <tr>\n",
       "      <th>5</th>\n",
       "      <td>006  SIDA</td>\n",
       "      <td>Total</td>\n",
       "      <td>Todas las edades</td>\n",
       "      <td>1997</td>\n",
       "      <td>2844</td>\n",
       "      <td>006</td>\n",
       "      <td>Single cause</td>\n",
       "      <td>SIDA</td>\n",
       "      <td>1468.871795</td>\n",
       "      <td>12.11</td>\n",
       "      <td>4.7</td>\n",
       "      <td>17.45</td>\n",
       "    </tr>\n",
       "    <tr>\n",
       "      <th>1</th>\n",
       "      <td>006  SIDA</td>\n",
       "      <td>Total</td>\n",
       "      <td>Todas las edades</td>\n",
       "      <td>1996</td>\n",
       "      <td>5432</td>\n",
       "      <td>006</td>\n",
       "      <td>Single cause</td>\n",
       "      <td>SIDA</td>\n",
       "      <td>1468.871795</td>\n",
       "      <td>12.11</td>\n",
       "      <td>4.7</td>\n",
       "      <td>17.45</td>\n",
       "    </tr>\n",
       "    <tr>\n",
       "      <th>0</th>\n",
       "      <td>006  SIDA</td>\n",
       "      <td>Total</td>\n",
       "      <td>Todas las edades</td>\n",
       "      <td>1995</td>\n",
       "      <td>5551</td>\n",
       "      <td>006</td>\n",
       "      <td>Single cause</td>\n",
       "      <td>SIDA</td>\n",
       "      <td>1468.871795</td>\n",
       "      <td>12.11</td>\n",
       "      <td>4.7</td>\n",
       "      <td>17.45</td>\n",
       "    </tr>\n",
       "    <tr>\n",
       "      <th>2</th>\n",
       "      <td>006  SIDA</td>\n",
       "      <td>Total</td>\n",
       "      <td>Todas las edades</td>\n",
       "      <td>1994</td>\n",
       "      <td>4770</td>\n",
       "      <td>006</td>\n",
       "      <td>Single cause</td>\n",
       "      <td>SIDA</td>\n",
       "      <td>1468.871795</td>\n",
       "      <td>12.11</td>\n",
       "      <td>4.7</td>\n",
       "      <td>17.45</td>\n",
       "    </tr>\n",
       "    <tr>\n",
       "      <th>3</th>\n",
       "      <td>006  SIDA</td>\n",
       "      <td>Total</td>\n",
       "      <td>Todas las edades</td>\n",
       "      <td>1993</td>\n",
       "      <td>3980</td>\n",
       "      <td>006</td>\n",
       "      <td>Single cause</td>\n",
       "      <td>SIDA</td>\n",
       "      <td>1468.871795</td>\n",
       "      <td>12.11</td>\n",
       "      <td>4.7</td>\n",
       "      <td>17.45</td>\n",
       "    </tr>\n",
       "    <tr>\n",
       "      <th>4</th>\n",
       "      <td>006  SIDA</td>\n",
       "      <td>Total</td>\n",
       "      <td>Todas las edades</td>\n",
       "      <td>1992</td>\n",
       "      <td>3256</td>\n",
       "      <td>006</td>\n",
       "      <td>Single cause</td>\n",
       "      <td>SIDA</td>\n",
       "      <td>1468.871795</td>\n",
       "      <td>12.11</td>\n",
       "      <td>4.7</td>\n",
       "      <td>17.45</td>\n",
       "    </tr>\n",
       "    <tr>\n",
       "      <th>6</th>\n",
       "      <td>006  SIDA</td>\n",
       "      <td>Total</td>\n",
       "      <td>Todas las edades</td>\n",
       "      <td>1991</td>\n",
       "      <td>2503</td>\n",
       "      <td>006</td>\n",
       "      <td>Single cause</td>\n",
       "      <td>SIDA</td>\n",
       "      <td>1468.871795</td>\n",
       "      <td>12.11</td>\n",
       "      <td>4.7</td>\n",
       "      <td>17.45</td>\n",
       "    </tr>\n",
       "    <tr>\n",
       "      <th>7</th>\n",
       "      <td>006  SIDA</td>\n",
       "      <td>Total</td>\n",
       "      <td>Todas las edades</td>\n",
       "      <td>1990</td>\n",
       "      <td>1898</td>\n",
       "      <td>006</td>\n",
       "      <td>Single cause</td>\n",
       "      <td>SIDA</td>\n",
       "      <td>1468.871795</td>\n",
       "      <td>12.11</td>\n",
       "      <td>4.7</td>\n",
       "      <td>17.45</td>\n",
       "    </tr>\n",
       "    <tr>\n",
       "      <th>18</th>\n",
       "      <td>006  SIDA</td>\n",
       "      <td>Total</td>\n",
       "      <td>Todas las edades</td>\n",
       "      <td>1989</td>\n",
       "      <td>1288</td>\n",
       "      <td>006</td>\n",
       "      <td>Single cause</td>\n",
       "      <td>SIDA</td>\n",
       "      <td>1468.871795</td>\n",
       "      <td>12.11</td>\n",
       "      <td>4.7</td>\n",
       "      <td>17.45</td>\n",
       "    </tr>\n",
       "    <tr>\n",
       "      <th>24</th>\n",
       "      <td>006  SIDA</td>\n",
       "      <td>Total</td>\n",
       "      <td>Todas las edades</td>\n",
       "      <td>1988</td>\n",
       "      <td>768</td>\n",
       "      <td>006</td>\n",
       "      <td>Single cause</td>\n",
       "      <td>SIDA</td>\n",
       "      <td>1468.871795</td>\n",
       "      <td>12.11</td>\n",
       "      <td>4.7</td>\n",
       "      <td>17.45</td>\n",
       "    </tr>\n",
       "    <tr>\n",
       "      <th>31</th>\n",
       "      <td>006  SIDA</td>\n",
       "      <td>Total</td>\n",
       "      <td>Todas las edades</td>\n",
       "      <td>1987</td>\n",
       "      <td>409</td>\n",
       "      <td>006</td>\n",
       "      <td>Single cause</td>\n",
       "      <td>SIDA</td>\n",
       "      <td>1468.871795</td>\n",
       "      <td>12.11</td>\n",
       "      <td>4.7</td>\n",
       "      <td>17.45</td>\n",
       "    </tr>\n",
       "    <tr>\n",
       "      <th>32</th>\n",
       "      <td>006  SIDA</td>\n",
       "      <td>Total</td>\n",
       "      <td>Todas las edades</td>\n",
       "      <td>1986</td>\n",
       "      <td>164</td>\n",
       "      <td>006</td>\n",
       "      <td>Single cause</td>\n",
       "      <td>SIDA</td>\n",
       "      <td>1468.871795</td>\n",
       "      <td>12.11</td>\n",
       "      <td>4.7</td>\n",
       "      <td>17.45</td>\n",
       "    </tr>\n",
       "    <tr>\n",
       "      <th>33</th>\n",
       "      <td>006  SIDA</td>\n",
       "      <td>Total</td>\n",
       "      <td>Todas las edades</td>\n",
       "      <td>1985</td>\n",
       "      <td>47</td>\n",
       "      <td>006</td>\n",
       "      <td>Single cause</td>\n",
       "      <td>SIDA</td>\n",
       "      <td>1468.871795</td>\n",
       "      <td>12.11</td>\n",
       "      <td>4.7</td>\n",
       "      <td>17.45</td>\n",
       "    </tr>\n",
       "    <tr>\n",
       "      <th>36</th>\n",
       "      <td>006  SIDA</td>\n",
       "      <td>Total</td>\n",
       "      <td>Todas las edades</td>\n",
       "      <td>1984</td>\n",
       "      <td>0</td>\n",
       "      <td>006</td>\n",
       "      <td>Single cause</td>\n",
       "      <td>SIDA</td>\n",
       "      <td>1468.871795</td>\n",
       "      <td>12.11</td>\n",
       "      <td>4.7</td>\n",
       "      <td>17.45</td>\n",
       "    </tr>\n",
       "    <tr>\n",
       "      <th>38</th>\n",
       "      <td>006  SIDA</td>\n",
       "      <td>Total</td>\n",
       "      <td>Todas las edades</td>\n",
       "      <td>1983</td>\n",
       "      <td>0</td>\n",
       "      <td>006</td>\n",
       "      <td>Single cause</td>\n",
       "      <td>SIDA</td>\n",
       "      <td>1468.871795</td>\n",
       "      <td>12.11</td>\n",
       "      <td>4.7</td>\n",
       "      <td>17.45</td>\n",
       "    </tr>\n",
       "    <tr>\n",
       "      <th>34</th>\n",
       "      <td>006  SIDA</td>\n",
       "      <td>Total</td>\n",
       "      <td>Todas las edades</td>\n",
       "      <td>1982</td>\n",
       "      <td>0</td>\n",
       "      <td>006</td>\n",
       "      <td>Single cause</td>\n",
       "      <td>SIDA</td>\n",
       "      <td>1468.871795</td>\n",
       "      <td>12.11</td>\n",
       "      <td>4.7</td>\n",
       "      <td>17.45</td>\n",
       "    </tr>\n",
       "    <tr>\n",
       "      <th>37</th>\n",
       "      <td>006  SIDA</td>\n",
       "      <td>Total</td>\n",
       "      <td>Todas las edades</td>\n",
       "      <td>1981</td>\n",
       "      <td>0</td>\n",
       "      <td>006</td>\n",
       "      <td>Single cause</td>\n",
       "      <td>SIDA</td>\n",
       "      <td>1468.871795</td>\n",
       "      <td>12.11</td>\n",
       "      <td>4.7</td>\n",
       "      <td>17.45</td>\n",
       "    </tr>\n",
       "    <tr>\n",
       "      <th>35</th>\n",
       "      <td>006  SIDA</td>\n",
       "      <td>Total</td>\n",
       "      <td>Todas las edades</td>\n",
       "      <td>1980</td>\n",
       "      <td>0</td>\n",
       "      <td>006</td>\n",
       "      <td>Single cause</td>\n",
       "      <td>SIDA</td>\n",
       "      <td>1468.871795</td>\n",
       "      <td>12.11</td>\n",
       "      <td>4.7</td>\n",
       "      <td>17.45</td>\n",
       "    </tr>\n",
       "  </tbody>\n",
       "</table>\n",
       "</div>"
      ],
      "text/plain": [
       "   Causa de muerte   Sexo              Edad  Periodo  Total cause_code  \\\n",
       "30       006  SIDA  Total  Todas las edades     2018    423        006   \n",
       "29       006  SIDA  Total  Todas las edades     2017    442        006   \n",
       "28       006  SIDA  Total  Todas las edades     2016    498        006   \n",
       "27       006  SIDA  Total  Todas las edades     2015    633        006   \n",
       "26       006  SIDA  Total  Todas las edades     2014    700        006   \n",
       "25       006  SIDA  Total  Todas las edades     2013    749        006   \n",
       "23       006  SIDA  Total  Todas las edades     2012    880        006   \n",
       "22       006  SIDA  Total  Todas las edades     2011    953        006   \n",
       "21       006  SIDA  Total  Todas las edades     2010   1020        006   \n",
       "20       006  SIDA  Total  Todas las edades     2009   1079        006   \n",
       "19       006  SIDA  Total  Todas las edades     2008   1211        006   \n",
       "17       006  SIDA  Total  Todas las edades     2007   1307        006   \n",
       "16       006  SIDA  Total  Todas las edades     2006   1313        006   \n",
       "15       006  SIDA  Total  Todas las edades     2005   1450        006   \n",
       "14       006  SIDA  Total  Todas las edades     2004   1551        006   \n",
       "11       006  SIDA  Total  Todas las edades     2003   1632        006   \n",
       "13       006  SIDA  Total  Todas las edades     2002   1611        006   \n",
       "12       006  SIDA  Total  Todas las edades     2001   1632        006   \n",
       "10       006  SIDA  Total  Todas las edades     2000   1711        006   \n",
       "8        006  SIDA  Total  Todas las edades     1999   1802        006   \n",
       "9        006  SIDA  Total  Todas las edades     1998   1779        006   \n",
       "5        006  SIDA  Total  Todas las edades     1997   2844        006   \n",
       "1        006  SIDA  Total  Todas las edades     1996   5432        006   \n",
       "0        006  SIDA  Total  Todas las edades     1995   5551        006   \n",
       "2        006  SIDA  Total  Todas las edades     1994   4770        006   \n",
       "3        006  SIDA  Total  Todas las edades     1993   3980        006   \n",
       "4        006  SIDA  Total  Todas las edades     1992   3256        006   \n",
       "6        006  SIDA  Total  Todas las edades     1991   2503        006   \n",
       "7        006  SIDA  Total  Todas las edades     1990   1898        006   \n",
       "18       006  SIDA  Total  Todas las edades     1989   1288        006   \n",
       "24       006  SIDA  Total  Todas las edades     1988    768        006   \n",
       "31       006  SIDA  Total  Todas las edades     1987    409        006   \n",
       "32       006  SIDA  Total  Todas las edades     1986    164        006   \n",
       "33       006  SIDA  Total  Todas las edades     1985     47        006   \n",
       "36       006  SIDA  Total  Todas las edades     1984      0        006   \n",
       "38       006  SIDA  Total  Todas las edades     1983      0        006   \n",
       "34       006  SIDA  Total  Todas las edades     1982      0        006   \n",
       "37       006  SIDA  Total  Todas las edades     1981      0        006   \n",
       "35       006  SIDA  Total  Todas las edades     1980      0        006   \n",
       "\n",
       "     cause_group cause_name        media  percentil_05  percentil_025  \\\n",
       "30  Single cause       SIDA  1468.871795         12.11            4.7   \n",
       "29  Single cause       SIDA  1468.871795         12.11            4.7   \n",
       "28  Single cause       SIDA  1468.871795         12.11            4.7   \n",
       "27  Single cause       SIDA  1468.871795         12.11            4.7   \n",
       "26  Single cause       SIDA  1468.871795         12.11            4.7   \n",
       "25  Single cause       SIDA  1468.871795         12.11            4.7   \n",
       "23  Single cause       SIDA  1468.871795         12.11            4.7   \n",
       "22  Single cause       SIDA  1468.871795         12.11            4.7   \n",
       "21  Single cause       SIDA  1468.871795         12.11            4.7   \n",
       "20  Single cause       SIDA  1468.871795         12.11            4.7   \n",
       "19  Single cause       SIDA  1468.871795         12.11            4.7   \n",
       "17  Single cause       SIDA  1468.871795         12.11            4.7   \n",
       "16  Single cause       SIDA  1468.871795         12.11            4.7   \n",
       "15  Single cause       SIDA  1468.871795         12.11            4.7   \n",
       "14  Single cause       SIDA  1468.871795         12.11            4.7   \n",
       "11  Single cause       SIDA  1468.871795         12.11            4.7   \n",
       "13  Single cause       SIDA  1468.871795         12.11            4.7   \n",
       "12  Single cause       SIDA  1468.871795         12.11            4.7   \n",
       "10  Single cause       SIDA  1468.871795         12.11            4.7   \n",
       "8   Single cause       SIDA  1468.871795         12.11            4.7   \n",
       "9   Single cause       SIDA  1468.871795         12.11            4.7   \n",
       "5   Single cause       SIDA  1468.871795         12.11            4.7   \n",
       "1   Single cause       SIDA  1468.871795         12.11            4.7   \n",
       "0   Single cause       SIDA  1468.871795         12.11            4.7   \n",
       "2   Single cause       SIDA  1468.871795         12.11            4.7   \n",
       "3   Single cause       SIDA  1468.871795         12.11            4.7   \n",
       "4   Single cause       SIDA  1468.871795         12.11            4.7   \n",
       "6   Single cause       SIDA  1468.871795         12.11            4.7   \n",
       "7   Single cause       SIDA  1468.871795         12.11            4.7   \n",
       "18  Single cause       SIDA  1468.871795         12.11            4.7   \n",
       "24  Single cause       SIDA  1468.871795         12.11            4.7   \n",
       "31  Single cause       SIDA  1468.871795         12.11            4.7   \n",
       "32  Single cause       SIDA  1468.871795         12.11            4.7   \n",
       "33  Single cause       SIDA  1468.871795         12.11            4.7   \n",
       "36  Single cause       SIDA  1468.871795         12.11            4.7   \n",
       "38  Single cause       SIDA  1468.871795         12.11            4.7   \n",
       "34  Single cause       SIDA  1468.871795         12.11            4.7   \n",
       "37  Single cause       SIDA  1468.871795         12.11            4.7   \n",
       "35  Single cause       SIDA  1468.871795         12.11            4.7   \n",
       "\n",
       "    percentil_075  \n",
       "30          17.45  \n",
       "29          17.45  \n",
       "28          17.45  \n",
       "27          17.45  \n",
       "26          17.45  \n",
       "25          17.45  \n",
       "23          17.45  \n",
       "22          17.45  \n",
       "21          17.45  \n",
       "20          17.45  \n",
       "19          17.45  \n",
       "17          17.45  \n",
       "16          17.45  \n",
       "15          17.45  \n",
       "14          17.45  \n",
       "11          17.45  \n",
       "13          17.45  \n",
       "12          17.45  \n",
       "10          17.45  \n",
       "8           17.45  \n",
       "9           17.45  \n",
       "5           17.45  \n",
       "1           17.45  \n",
       "0           17.45  \n",
       "2           17.45  \n",
       "3           17.45  \n",
       "4           17.45  \n",
       "6           17.45  \n",
       "7           17.45  \n",
       "18          17.45  \n",
       "24          17.45  \n",
       "31          17.45  \n",
       "32          17.45  \n",
       "33          17.45  \n",
       "36          17.45  \n",
       "38          17.45  \n",
       "34          17.45  \n",
       "37          17.45  \n",
       "35          17.45  "
      ]
     },
     "execution_count": 10,
     "metadata": {},
     "output_type": "execute_result"
    }
   ],
   "source": [
    "dataset_ordered = dataset.sort_values(by=\"Periodo\", ascending=False) #sort_values = ordena \n",
    "dataset_ordered"
   ]
  },
  {
   "cell_type": "code",
   "execution_count": 11,
   "metadata": {},
   "outputs": [
    {
     "name": "stdout",
     "output_type": "stream",
     "text": [
      "<class 'pandas.core.frame.DataFrame'>\n",
      "RangeIndex: 39 entries, 0 to 38\n",
      "Data columns (total 12 columns):\n",
      " #   Column           Non-Null Count  Dtype  \n",
      "---  ------           --------------  -----  \n",
      " 0   Causa de muerte  39 non-null     object \n",
      " 1   Sexo             39 non-null     object \n",
      " 2   Edad             39 non-null     object \n",
      " 3   Periodo          39 non-null     int64  \n",
      " 4   Total            39 non-null     int64  \n",
      " 5   cause_code       39 non-null     object \n",
      " 6   cause_group      39 non-null     object \n",
      " 7   cause_name       39 non-null     object \n",
      " 8   media            39 non-null     float64\n",
      " 9   percentil_05     39 non-null     float64\n",
      " 10  percentil_025    39 non-null     float64\n",
      " 11  percentil_075    39 non-null     float64\n",
      "dtypes: float64(4), int64(2), object(6)\n",
      "memory usage: 3.8+ KB\n"
     ]
    }
   ],
   "source": [
    "dataset.info()"
   ]
  },
  {
   "cell_type": "code",
   "execution_count": 12,
   "metadata": {},
   "outputs": [
    {
     "data": {
      "text/plain": [
       "30    2018\n",
       "29    2017\n",
       "28    2016\n",
       "27    2015\n",
       "26    2014\n",
       "25    2013\n",
       "23    2012\n",
       "22    2011\n",
       "21    2010\n",
       "20    2009\n",
       "19    2008\n",
       "17    2007\n",
       "16    2006\n",
       "15    2005\n",
       "14    2004\n",
       "11    2003\n",
       "13    2002\n",
       "12    2001\n",
       "10    2000\n",
       "8     1999\n",
       "9     1998\n",
       "5     1997\n",
       "1     1996\n",
       "0     1995\n",
       "2     1994\n",
       "3     1993\n",
       "4     1992\n",
       "6     1991\n",
       "7     1990\n",
       "18    1989\n",
       "24    1988\n",
       "31    1987\n",
       "32    1986\n",
       "33    1985\n",
       "36    1984\n",
       "38    1983\n",
       "Name: Periodo, dtype: int64"
      ]
     },
     "execution_count": 12,
     "metadata": {},
     "output_type": "execute_result"
    }
   ],
   "source": [
    "dataset_1= dataset_ordered.loc[:38,\"Periodo\"]\n",
    "\n",
    "dataset_1"
   ]
  },
  {
   "cell_type": "code",
   "execution_count": 13,
   "metadata": {},
   "outputs": [
    {
     "data": {
      "text/html": [
       "<div>\n",
       "<style scoped>\n",
       "    .dataframe tbody tr th:only-of-type {\n",
       "        vertical-align: middle;\n",
       "    }\n",
       "\n",
       "    .dataframe tbody tr th {\n",
       "        vertical-align: top;\n",
       "    }\n",
       "\n",
       "    .dataframe thead th {\n",
       "        text-align: right;\n",
       "    }\n",
       "</style>\n",
       "<table border=\"1\" class=\"dataframe\">\n",
       "  <thead>\n",
       "    <tr style=\"text-align: right;\">\n",
       "      <th></th>\n",
       "      <th>Causa de muerte</th>\n",
       "      <th>Sexo</th>\n",
       "      <th>Edad</th>\n",
       "      <th>Periodo</th>\n",
       "      <th>Total</th>\n",
       "      <th>cause_code</th>\n",
       "      <th>cause_group</th>\n",
       "      <th>cause_name</th>\n",
       "      <th>media</th>\n",
       "      <th>percentil_05</th>\n",
       "      <th>percentil_025</th>\n",
       "      <th>percentil_075</th>\n",
       "    </tr>\n",
       "  </thead>\n",
       "  <tbody>\n",
       "    <tr>\n",
       "      <th>0</th>\n",
       "      <td>006  SIDA</td>\n",
       "      <td>Total</td>\n",
       "      <td>Todas las edades</td>\n",
       "      <td>1995</td>\n",
       "      <td>5551</td>\n",
       "      <td>006</td>\n",
       "      <td>Single cause</td>\n",
       "      <td>SIDA</td>\n",
       "      <td>1468.871795</td>\n",
       "      <td>12.11</td>\n",
       "      <td>4.7</td>\n",
       "      <td>17.45</td>\n",
       "    </tr>\n",
       "    <tr>\n",
       "      <th>1</th>\n",
       "      <td>006  SIDA</td>\n",
       "      <td>Total</td>\n",
       "      <td>Todas las edades</td>\n",
       "      <td>1996</td>\n",
       "      <td>5432</td>\n",
       "      <td>006</td>\n",
       "      <td>Single cause</td>\n",
       "      <td>SIDA</td>\n",
       "      <td>1468.871795</td>\n",
       "      <td>12.11</td>\n",
       "      <td>4.7</td>\n",
       "      <td>17.45</td>\n",
       "    </tr>\n",
       "    <tr>\n",
       "      <th>2</th>\n",
       "      <td>006  SIDA</td>\n",
       "      <td>Total</td>\n",
       "      <td>Todas las edades</td>\n",
       "      <td>1994</td>\n",
       "      <td>4770</td>\n",
       "      <td>006</td>\n",
       "      <td>Single cause</td>\n",
       "      <td>SIDA</td>\n",
       "      <td>1468.871795</td>\n",
       "      <td>12.11</td>\n",
       "      <td>4.7</td>\n",
       "      <td>17.45</td>\n",
       "    </tr>\n",
       "    <tr>\n",
       "      <th>3</th>\n",
       "      <td>006  SIDA</td>\n",
       "      <td>Total</td>\n",
       "      <td>Todas las edades</td>\n",
       "      <td>1993</td>\n",
       "      <td>3980</td>\n",
       "      <td>006</td>\n",
       "      <td>Single cause</td>\n",
       "      <td>SIDA</td>\n",
       "      <td>1468.871795</td>\n",
       "      <td>12.11</td>\n",
       "      <td>4.7</td>\n",
       "      <td>17.45</td>\n",
       "    </tr>\n",
       "    <tr>\n",
       "      <th>4</th>\n",
       "      <td>006  SIDA</td>\n",
       "      <td>Total</td>\n",
       "      <td>Todas las edades</td>\n",
       "      <td>1992</td>\n",
       "      <td>3256</td>\n",
       "      <td>006</td>\n",
       "      <td>Single cause</td>\n",
       "      <td>SIDA</td>\n",
       "      <td>1468.871795</td>\n",
       "      <td>12.11</td>\n",
       "      <td>4.7</td>\n",
       "      <td>17.45</td>\n",
       "    </tr>\n",
       "  </tbody>\n",
       "</table>\n",
       "</div>"
      ],
      "text/plain": [
       "  Causa de muerte   Sexo              Edad  Periodo  Total cause_code  \\\n",
       "0       006  SIDA  Total  Todas las edades     1995   5551        006   \n",
       "1       006  SIDA  Total  Todas las edades     1996   5432        006   \n",
       "2       006  SIDA  Total  Todas las edades     1994   4770        006   \n",
       "3       006  SIDA  Total  Todas las edades     1993   3980        006   \n",
       "4       006  SIDA  Total  Todas las edades     1992   3256        006   \n",
       "\n",
       "    cause_group cause_name        media  percentil_05  percentil_025  \\\n",
       "0  Single cause       SIDA  1468.871795         12.11            4.7   \n",
       "1  Single cause       SIDA  1468.871795         12.11            4.7   \n",
       "2  Single cause       SIDA  1468.871795         12.11            4.7   \n",
       "3  Single cause       SIDA  1468.871795         12.11            4.7   \n",
       "4  Single cause       SIDA  1468.871795         12.11            4.7   \n",
       "\n",
       "   percentil_075  \n",
       "0          17.45  \n",
       "1          17.45  \n",
       "2          17.45  \n",
       "3          17.45  \n",
       "4          17.45  "
      ]
     },
     "execution_count": 13,
     "metadata": {},
     "output_type": "execute_result"
    }
   ],
   "source": [
    "dataset.head()"
   ]
  },
  {
   "cell_type": "code",
   "execution_count": 14,
   "metadata": {},
   "outputs": [
    {
     "data": {
      "text/plain": [
       "Index(['Causa de muerte', 'Sexo', 'Edad', 'Periodo', 'Total', 'cause_code',\n",
       "       'cause_group', 'cause_name', 'media', 'percentil_05', 'percentil_025',\n",
       "       'percentil_075'],\n",
       "      dtype='object')"
      ]
     },
     "execution_count": 14,
     "metadata": {},
     "output_type": "execute_result"
    }
   ],
   "source": [
    "dataset.columns"
   ]
  },
  {
   "cell_type": "code",
   "execution_count": 15,
   "metadata": {},
   "outputs": [
    {
     "data": {
      "text/html": [
       "<div>\n",
       "<style scoped>\n",
       "    .dataframe tbody tr th:only-of-type {\n",
       "        vertical-align: middle;\n",
       "    }\n",
       "\n",
       "    .dataframe tbody tr th {\n",
       "        vertical-align: top;\n",
       "    }\n",
       "\n",
       "    .dataframe thead th {\n",
       "        text-align: right;\n",
       "    }\n",
       "</style>\n",
       "<table border=\"1\" class=\"dataframe\">\n",
       "  <thead>\n",
       "    <tr style=\"text-align: right;\">\n",
       "      <th></th>\n",
       "      <th>Causa de muerte</th>\n",
       "      <th>Sexo</th>\n",
       "      <th>Edad</th>\n",
       "      <th>Periodo</th>\n",
       "      <th>Total</th>\n",
       "      <th>cause_code</th>\n",
       "      <th>cause_group</th>\n",
       "      <th>cause_name</th>\n",
       "      <th>media</th>\n",
       "      <th>percentil_05</th>\n",
       "      <th>percentil_025</th>\n",
       "      <th>percentil_075</th>\n",
       "    </tr>\n",
       "  </thead>\n",
       "  <tbody>\n",
       "    <tr>\n",
       "      <th>30</th>\n",
       "      <td>006  SIDA</td>\n",
       "      <td>Total</td>\n",
       "      <td>Todas las edades</td>\n",
       "      <td>2018</td>\n",
       "      <td>423</td>\n",
       "      <td>006</td>\n",
       "      <td>Single cause</td>\n",
       "      <td>SIDA</td>\n",
       "      <td>1468.871795</td>\n",
       "      <td>12.11</td>\n",
       "      <td>4.7</td>\n",
       "      <td>17.45</td>\n",
       "    </tr>\n",
       "    <tr>\n",
       "      <th>29</th>\n",
       "      <td>006  SIDA</td>\n",
       "      <td>Total</td>\n",
       "      <td>Todas las edades</td>\n",
       "      <td>2017</td>\n",
       "      <td>442</td>\n",
       "      <td>006</td>\n",
       "      <td>Single cause</td>\n",
       "      <td>SIDA</td>\n",
       "      <td>1468.871795</td>\n",
       "      <td>12.11</td>\n",
       "      <td>4.7</td>\n",
       "      <td>17.45</td>\n",
       "    </tr>\n",
       "    <tr>\n",
       "      <th>28</th>\n",
       "      <td>006  SIDA</td>\n",
       "      <td>Total</td>\n",
       "      <td>Todas las edades</td>\n",
       "      <td>2016</td>\n",
       "      <td>498</td>\n",
       "      <td>006</td>\n",
       "      <td>Single cause</td>\n",
       "      <td>SIDA</td>\n",
       "      <td>1468.871795</td>\n",
       "      <td>12.11</td>\n",
       "      <td>4.7</td>\n",
       "      <td>17.45</td>\n",
       "    </tr>\n",
       "    <tr>\n",
       "      <th>27</th>\n",
       "      <td>006  SIDA</td>\n",
       "      <td>Total</td>\n",
       "      <td>Todas las edades</td>\n",
       "      <td>2015</td>\n",
       "      <td>633</td>\n",
       "      <td>006</td>\n",
       "      <td>Single cause</td>\n",
       "      <td>SIDA</td>\n",
       "      <td>1468.871795</td>\n",
       "      <td>12.11</td>\n",
       "      <td>4.7</td>\n",
       "      <td>17.45</td>\n",
       "    </tr>\n",
       "    <tr>\n",
       "      <th>26</th>\n",
       "      <td>006  SIDA</td>\n",
       "      <td>Total</td>\n",
       "      <td>Todas las edades</td>\n",
       "      <td>2014</td>\n",
       "      <td>700</td>\n",
       "      <td>006</td>\n",
       "      <td>Single cause</td>\n",
       "      <td>SIDA</td>\n",
       "      <td>1468.871795</td>\n",
       "      <td>12.11</td>\n",
       "      <td>4.7</td>\n",
       "      <td>17.45</td>\n",
       "    </tr>\n",
       "    <tr>\n",
       "      <th>25</th>\n",
       "      <td>006  SIDA</td>\n",
       "      <td>Total</td>\n",
       "      <td>Todas las edades</td>\n",
       "      <td>2013</td>\n",
       "      <td>749</td>\n",
       "      <td>006</td>\n",
       "      <td>Single cause</td>\n",
       "      <td>SIDA</td>\n",
       "      <td>1468.871795</td>\n",
       "      <td>12.11</td>\n",
       "      <td>4.7</td>\n",
       "      <td>17.45</td>\n",
       "    </tr>\n",
       "    <tr>\n",
       "      <th>23</th>\n",
       "      <td>006  SIDA</td>\n",
       "      <td>Total</td>\n",
       "      <td>Todas las edades</td>\n",
       "      <td>2012</td>\n",
       "      <td>880</td>\n",
       "      <td>006</td>\n",
       "      <td>Single cause</td>\n",
       "      <td>SIDA</td>\n",
       "      <td>1468.871795</td>\n",
       "      <td>12.11</td>\n",
       "      <td>4.7</td>\n",
       "      <td>17.45</td>\n",
       "    </tr>\n",
       "    <tr>\n",
       "      <th>22</th>\n",
       "      <td>006  SIDA</td>\n",
       "      <td>Total</td>\n",
       "      <td>Todas las edades</td>\n",
       "      <td>2011</td>\n",
       "      <td>953</td>\n",
       "      <td>006</td>\n",
       "      <td>Single cause</td>\n",
       "      <td>SIDA</td>\n",
       "      <td>1468.871795</td>\n",
       "      <td>12.11</td>\n",
       "      <td>4.7</td>\n",
       "      <td>17.45</td>\n",
       "    </tr>\n",
       "    <tr>\n",
       "      <th>21</th>\n",
       "      <td>006  SIDA</td>\n",
       "      <td>Total</td>\n",
       "      <td>Todas las edades</td>\n",
       "      <td>2010</td>\n",
       "      <td>1020</td>\n",
       "      <td>006</td>\n",
       "      <td>Single cause</td>\n",
       "      <td>SIDA</td>\n",
       "      <td>1468.871795</td>\n",
       "      <td>12.11</td>\n",
       "      <td>4.7</td>\n",
       "      <td>17.45</td>\n",
       "    </tr>\n",
       "    <tr>\n",
       "      <th>20</th>\n",
       "      <td>006  SIDA</td>\n",
       "      <td>Total</td>\n",
       "      <td>Todas las edades</td>\n",
       "      <td>2009</td>\n",
       "      <td>1079</td>\n",
       "      <td>006</td>\n",
       "      <td>Single cause</td>\n",
       "      <td>SIDA</td>\n",
       "      <td>1468.871795</td>\n",
       "      <td>12.11</td>\n",
       "      <td>4.7</td>\n",
       "      <td>17.45</td>\n",
       "    </tr>\n",
       "    <tr>\n",
       "      <th>19</th>\n",
       "      <td>006  SIDA</td>\n",
       "      <td>Total</td>\n",
       "      <td>Todas las edades</td>\n",
       "      <td>2008</td>\n",
       "      <td>1211</td>\n",
       "      <td>006</td>\n",
       "      <td>Single cause</td>\n",
       "      <td>SIDA</td>\n",
       "      <td>1468.871795</td>\n",
       "      <td>12.11</td>\n",
       "      <td>4.7</td>\n",
       "      <td>17.45</td>\n",
       "    </tr>\n",
       "    <tr>\n",
       "      <th>17</th>\n",
       "      <td>006  SIDA</td>\n",
       "      <td>Total</td>\n",
       "      <td>Todas las edades</td>\n",
       "      <td>2007</td>\n",
       "      <td>1307</td>\n",
       "      <td>006</td>\n",
       "      <td>Single cause</td>\n",
       "      <td>SIDA</td>\n",
       "      <td>1468.871795</td>\n",
       "      <td>12.11</td>\n",
       "      <td>4.7</td>\n",
       "      <td>17.45</td>\n",
       "    </tr>\n",
       "    <tr>\n",
       "      <th>16</th>\n",
       "      <td>006  SIDA</td>\n",
       "      <td>Total</td>\n",
       "      <td>Todas las edades</td>\n",
       "      <td>2006</td>\n",
       "      <td>1313</td>\n",
       "      <td>006</td>\n",
       "      <td>Single cause</td>\n",
       "      <td>SIDA</td>\n",
       "      <td>1468.871795</td>\n",
       "      <td>12.11</td>\n",
       "      <td>4.7</td>\n",
       "      <td>17.45</td>\n",
       "    </tr>\n",
       "    <tr>\n",
       "      <th>15</th>\n",
       "      <td>006  SIDA</td>\n",
       "      <td>Total</td>\n",
       "      <td>Todas las edades</td>\n",
       "      <td>2005</td>\n",
       "      <td>1450</td>\n",
       "      <td>006</td>\n",
       "      <td>Single cause</td>\n",
       "      <td>SIDA</td>\n",
       "      <td>1468.871795</td>\n",
       "      <td>12.11</td>\n",
       "      <td>4.7</td>\n",
       "      <td>17.45</td>\n",
       "    </tr>\n",
       "    <tr>\n",
       "      <th>14</th>\n",
       "      <td>006  SIDA</td>\n",
       "      <td>Total</td>\n",
       "      <td>Todas las edades</td>\n",
       "      <td>2004</td>\n",
       "      <td>1551</td>\n",
       "      <td>006</td>\n",
       "      <td>Single cause</td>\n",
       "      <td>SIDA</td>\n",
       "      <td>1468.871795</td>\n",
       "      <td>12.11</td>\n",
       "      <td>4.7</td>\n",
       "      <td>17.45</td>\n",
       "    </tr>\n",
       "    <tr>\n",
       "      <th>11</th>\n",
       "      <td>006  SIDA</td>\n",
       "      <td>Total</td>\n",
       "      <td>Todas las edades</td>\n",
       "      <td>2003</td>\n",
       "      <td>1632</td>\n",
       "      <td>006</td>\n",
       "      <td>Single cause</td>\n",
       "      <td>SIDA</td>\n",
       "      <td>1468.871795</td>\n",
       "      <td>12.11</td>\n",
       "      <td>4.7</td>\n",
       "      <td>17.45</td>\n",
       "    </tr>\n",
       "    <tr>\n",
       "      <th>13</th>\n",
       "      <td>006  SIDA</td>\n",
       "      <td>Total</td>\n",
       "      <td>Todas las edades</td>\n",
       "      <td>2002</td>\n",
       "      <td>1611</td>\n",
       "      <td>006</td>\n",
       "      <td>Single cause</td>\n",
       "      <td>SIDA</td>\n",
       "      <td>1468.871795</td>\n",
       "      <td>12.11</td>\n",
       "      <td>4.7</td>\n",
       "      <td>17.45</td>\n",
       "    </tr>\n",
       "    <tr>\n",
       "      <th>12</th>\n",
       "      <td>006  SIDA</td>\n",
       "      <td>Total</td>\n",
       "      <td>Todas las edades</td>\n",
       "      <td>2001</td>\n",
       "      <td>1632</td>\n",
       "      <td>006</td>\n",
       "      <td>Single cause</td>\n",
       "      <td>SIDA</td>\n",
       "      <td>1468.871795</td>\n",
       "      <td>12.11</td>\n",
       "      <td>4.7</td>\n",
       "      <td>17.45</td>\n",
       "    </tr>\n",
       "    <tr>\n",
       "      <th>10</th>\n",
       "      <td>006  SIDA</td>\n",
       "      <td>Total</td>\n",
       "      <td>Todas las edades</td>\n",
       "      <td>2000</td>\n",
       "      <td>1711</td>\n",
       "      <td>006</td>\n",
       "      <td>Single cause</td>\n",
       "      <td>SIDA</td>\n",
       "      <td>1468.871795</td>\n",
       "      <td>12.11</td>\n",
       "      <td>4.7</td>\n",
       "      <td>17.45</td>\n",
       "    </tr>\n",
       "    <tr>\n",
       "      <th>8</th>\n",
       "      <td>006  SIDA</td>\n",
       "      <td>Total</td>\n",
       "      <td>Todas las edades</td>\n",
       "      <td>1999</td>\n",
       "      <td>1802</td>\n",
       "      <td>006</td>\n",
       "      <td>Single cause</td>\n",
       "      <td>SIDA</td>\n",
       "      <td>1468.871795</td>\n",
       "      <td>12.11</td>\n",
       "      <td>4.7</td>\n",
       "      <td>17.45</td>\n",
       "    </tr>\n",
       "    <tr>\n",
       "      <th>9</th>\n",
       "      <td>006  SIDA</td>\n",
       "      <td>Total</td>\n",
       "      <td>Todas las edades</td>\n",
       "      <td>1998</td>\n",
       "      <td>1779</td>\n",
       "      <td>006</td>\n",
       "      <td>Single cause</td>\n",
       "      <td>SIDA</td>\n",
       "      <td>1468.871795</td>\n",
       "      <td>12.11</td>\n",
       "      <td>4.7</td>\n",
       "      <td>17.45</td>\n",
       "    </tr>\n",
       "    <tr>\n",
       "      <th>5</th>\n",
       "      <td>006  SIDA</td>\n",
       "      <td>Total</td>\n",
       "      <td>Todas las edades</td>\n",
       "      <td>1997</td>\n",
       "      <td>2844</td>\n",
       "      <td>006</td>\n",
       "      <td>Single cause</td>\n",
       "      <td>SIDA</td>\n",
       "      <td>1468.871795</td>\n",
       "      <td>12.11</td>\n",
       "      <td>4.7</td>\n",
       "      <td>17.45</td>\n",
       "    </tr>\n",
       "  </tbody>\n",
       "</table>\n",
       "</div>"
      ],
      "text/plain": [
       "   Causa de muerte   Sexo              Edad  Periodo  Total cause_code  \\\n",
       "30       006  SIDA  Total  Todas las edades     2018    423        006   \n",
       "29       006  SIDA  Total  Todas las edades     2017    442        006   \n",
       "28       006  SIDA  Total  Todas las edades     2016    498        006   \n",
       "27       006  SIDA  Total  Todas las edades     2015    633        006   \n",
       "26       006  SIDA  Total  Todas las edades     2014    700        006   \n",
       "25       006  SIDA  Total  Todas las edades     2013    749        006   \n",
       "23       006  SIDA  Total  Todas las edades     2012    880        006   \n",
       "22       006  SIDA  Total  Todas las edades     2011    953        006   \n",
       "21       006  SIDA  Total  Todas las edades     2010   1020        006   \n",
       "20       006  SIDA  Total  Todas las edades     2009   1079        006   \n",
       "19       006  SIDA  Total  Todas las edades     2008   1211        006   \n",
       "17       006  SIDA  Total  Todas las edades     2007   1307        006   \n",
       "16       006  SIDA  Total  Todas las edades     2006   1313        006   \n",
       "15       006  SIDA  Total  Todas las edades     2005   1450        006   \n",
       "14       006  SIDA  Total  Todas las edades     2004   1551        006   \n",
       "11       006  SIDA  Total  Todas las edades     2003   1632        006   \n",
       "13       006  SIDA  Total  Todas las edades     2002   1611        006   \n",
       "12       006  SIDA  Total  Todas las edades     2001   1632        006   \n",
       "10       006  SIDA  Total  Todas las edades     2000   1711        006   \n",
       "8        006  SIDA  Total  Todas las edades     1999   1802        006   \n",
       "9        006  SIDA  Total  Todas las edades     1998   1779        006   \n",
       "5        006  SIDA  Total  Todas las edades     1997   2844        006   \n",
       "\n",
       "     cause_group cause_name        media  percentil_05  percentil_025  \\\n",
       "30  Single cause       SIDA  1468.871795         12.11            4.7   \n",
       "29  Single cause       SIDA  1468.871795         12.11            4.7   \n",
       "28  Single cause       SIDA  1468.871795         12.11            4.7   \n",
       "27  Single cause       SIDA  1468.871795         12.11            4.7   \n",
       "26  Single cause       SIDA  1468.871795         12.11            4.7   \n",
       "25  Single cause       SIDA  1468.871795         12.11            4.7   \n",
       "23  Single cause       SIDA  1468.871795         12.11            4.7   \n",
       "22  Single cause       SIDA  1468.871795         12.11            4.7   \n",
       "21  Single cause       SIDA  1468.871795         12.11            4.7   \n",
       "20  Single cause       SIDA  1468.871795         12.11            4.7   \n",
       "19  Single cause       SIDA  1468.871795         12.11            4.7   \n",
       "17  Single cause       SIDA  1468.871795         12.11            4.7   \n",
       "16  Single cause       SIDA  1468.871795         12.11            4.7   \n",
       "15  Single cause       SIDA  1468.871795         12.11            4.7   \n",
       "14  Single cause       SIDA  1468.871795         12.11            4.7   \n",
       "11  Single cause       SIDA  1468.871795         12.11            4.7   \n",
       "13  Single cause       SIDA  1468.871795         12.11            4.7   \n",
       "12  Single cause       SIDA  1468.871795         12.11            4.7   \n",
       "10  Single cause       SIDA  1468.871795         12.11            4.7   \n",
       "8   Single cause       SIDA  1468.871795         12.11            4.7   \n",
       "9   Single cause       SIDA  1468.871795         12.11            4.7   \n",
       "5   Single cause       SIDA  1468.871795         12.11            4.7   \n",
       "\n",
       "    percentil_075  \n",
       "30          17.45  \n",
       "29          17.45  \n",
       "28          17.45  \n",
       "27          17.45  \n",
       "26          17.45  \n",
       "25          17.45  \n",
       "23          17.45  \n",
       "22          17.45  \n",
       "21          17.45  \n",
       "20          17.45  \n",
       "19          17.45  \n",
       "17          17.45  \n",
       "16          17.45  \n",
       "15          17.45  \n",
       "14          17.45  \n",
       "11          17.45  \n",
       "13          17.45  \n",
       "12          17.45  \n",
       "10          17.45  \n",
       "8           17.45  \n",
       "9           17.45  \n",
       "5           17.45  "
      ]
     },
     "execution_count": 15,
     "metadata": {},
     "output_type": "execute_result"
    }
   ],
   "source": [
    "dataset_1997= dataset_ordered[dataset_ordered['Periodo']>=1997]\n",
    "dataset_1997\n"
   ]
  },
  {
   "cell_type": "code",
   "execution_count": 16,
   "metadata": {},
   "outputs": [
    {
     "data": {
      "text/html": [
       "<div>\n",
       "<style scoped>\n",
       "    .dataframe tbody tr th:only-of-type {\n",
       "        vertical-align: middle;\n",
       "    }\n",
       "\n",
       "    .dataframe tbody tr th {\n",
       "        vertical-align: top;\n",
       "    }\n",
       "\n",
       "    .dataframe thead th {\n",
       "        text-align: right;\n",
       "    }\n",
       "</style>\n",
       "<table border=\"1\" class=\"dataframe\">\n",
       "  <thead>\n",
       "    <tr style=\"text-align: right;\">\n",
       "      <th></th>\n",
       "      <th>Causa de muerte</th>\n",
       "      <th>Sexo</th>\n",
       "      <th>Edad</th>\n",
       "      <th>Periodo</th>\n",
       "      <th>Total</th>\n",
       "      <th>cause_code</th>\n",
       "      <th>cause_group</th>\n",
       "      <th>cause_name</th>\n",
       "      <th>media</th>\n",
       "      <th>percentil_05</th>\n",
       "      <th>percentil_025</th>\n",
       "      <th>percentil_075</th>\n",
       "    </tr>\n",
       "  </thead>\n",
       "  <tbody>\n",
       "    <tr>\n",
       "      <th>1</th>\n",
       "      <td>006  SIDA</td>\n",
       "      <td>Total</td>\n",
       "      <td>Todas las edades</td>\n",
       "      <td>1996</td>\n",
       "      <td>5432</td>\n",
       "      <td>006</td>\n",
       "      <td>Single cause</td>\n",
       "      <td>SIDA</td>\n",
       "      <td>1468.871795</td>\n",
       "      <td>12.11</td>\n",
       "      <td>4.7</td>\n",
       "      <td>17.45</td>\n",
       "    </tr>\n",
       "    <tr>\n",
       "      <th>0</th>\n",
       "      <td>006  SIDA</td>\n",
       "      <td>Total</td>\n",
       "      <td>Todas las edades</td>\n",
       "      <td>1995</td>\n",
       "      <td>5551</td>\n",
       "      <td>006</td>\n",
       "      <td>Single cause</td>\n",
       "      <td>SIDA</td>\n",
       "      <td>1468.871795</td>\n",
       "      <td>12.11</td>\n",
       "      <td>4.7</td>\n",
       "      <td>17.45</td>\n",
       "    </tr>\n",
       "    <tr>\n",
       "      <th>2</th>\n",
       "      <td>006  SIDA</td>\n",
       "      <td>Total</td>\n",
       "      <td>Todas las edades</td>\n",
       "      <td>1994</td>\n",
       "      <td>4770</td>\n",
       "      <td>006</td>\n",
       "      <td>Single cause</td>\n",
       "      <td>SIDA</td>\n",
       "      <td>1468.871795</td>\n",
       "      <td>12.11</td>\n",
       "      <td>4.7</td>\n",
       "      <td>17.45</td>\n",
       "    </tr>\n",
       "    <tr>\n",
       "      <th>3</th>\n",
       "      <td>006  SIDA</td>\n",
       "      <td>Total</td>\n",
       "      <td>Todas las edades</td>\n",
       "      <td>1993</td>\n",
       "      <td>3980</td>\n",
       "      <td>006</td>\n",
       "      <td>Single cause</td>\n",
       "      <td>SIDA</td>\n",
       "      <td>1468.871795</td>\n",
       "      <td>12.11</td>\n",
       "      <td>4.7</td>\n",
       "      <td>17.45</td>\n",
       "    </tr>\n",
       "    <tr>\n",
       "      <th>4</th>\n",
       "      <td>006  SIDA</td>\n",
       "      <td>Total</td>\n",
       "      <td>Todas las edades</td>\n",
       "      <td>1992</td>\n",
       "      <td>3256</td>\n",
       "      <td>006</td>\n",
       "      <td>Single cause</td>\n",
       "      <td>SIDA</td>\n",
       "      <td>1468.871795</td>\n",
       "      <td>12.11</td>\n",
       "      <td>4.7</td>\n",
       "      <td>17.45</td>\n",
       "    </tr>\n",
       "    <tr>\n",
       "      <th>6</th>\n",
       "      <td>006  SIDA</td>\n",
       "      <td>Total</td>\n",
       "      <td>Todas las edades</td>\n",
       "      <td>1991</td>\n",
       "      <td>2503</td>\n",
       "      <td>006</td>\n",
       "      <td>Single cause</td>\n",
       "      <td>SIDA</td>\n",
       "      <td>1468.871795</td>\n",
       "      <td>12.11</td>\n",
       "      <td>4.7</td>\n",
       "      <td>17.45</td>\n",
       "    </tr>\n",
       "    <tr>\n",
       "      <th>7</th>\n",
       "      <td>006  SIDA</td>\n",
       "      <td>Total</td>\n",
       "      <td>Todas las edades</td>\n",
       "      <td>1990</td>\n",
       "      <td>1898</td>\n",
       "      <td>006</td>\n",
       "      <td>Single cause</td>\n",
       "      <td>SIDA</td>\n",
       "      <td>1468.871795</td>\n",
       "      <td>12.11</td>\n",
       "      <td>4.7</td>\n",
       "      <td>17.45</td>\n",
       "    </tr>\n",
       "    <tr>\n",
       "      <th>18</th>\n",
       "      <td>006  SIDA</td>\n",
       "      <td>Total</td>\n",
       "      <td>Todas las edades</td>\n",
       "      <td>1989</td>\n",
       "      <td>1288</td>\n",
       "      <td>006</td>\n",
       "      <td>Single cause</td>\n",
       "      <td>SIDA</td>\n",
       "      <td>1468.871795</td>\n",
       "      <td>12.11</td>\n",
       "      <td>4.7</td>\n",
       "      <td>17.45</td>\n",
       "    </tr>\n",
       "    <tr>\n",
       "      <th>24</th>\n",
       "      <td>006  SIDA</td>\n",
       "      <td>Total</td>\n",
       "      <td>Todas las edades</td>\n",
       "      <td>1988</td>\n",
       "      <td>768</td>\n",
       "      <td>006</td>\n",
       "      <td>Single cause</td>\n",
       "      <td>SIDA</td>\n",
       "      <td>1468.871795</td>\n",
       "      <td>12.11</td>\n",
       "      <td>4.7</td>\n",
       "      <td>17.45</td>\n",
       "    </tr>\n",
       "    <tr>\n",
       "      <th>31</th>\n",
       "      <td>006  SIDA</td>\n",
       "      <td>Total</td>\n",
       "      <td>Todas las edades</td>\n",
       "      <td>1987</td>\n",
       "      <td>409</td>\n",
       "      <td>006</td>\n",
       "      <td>Single cause</td>\n",
       "      <td>SIDA</td>\n",
       "      <td>1468.871795</td>\n",
       "      <td>12.11</td>\n",
       "      <td>4.7</td>\n",
       "      <td>17.45</td>\n",
       "    </tr>\n",
       "    <tr>\n",
       "      <th>32</th>\n",
       "      <td>006  SIDA</td>\n",
       "      <td>Total</td>\n",
       "      <td>Todas las edades</td>\n",
       "      <td>1986</td>\n",
       "      <td>164</td>\n",
       "      <td>006</td>\n",
       "      <td>Single cause</td>\n",
       "      <td>SIDA</td>\n",
       "      <td>1468.871795</td>\n",
       "      <td>12.11</td>\n",
       "      <td>4.7</td>\n",
       "      <td>17.45</td>\n",
       "    </tr>\n",
       "    <tr>\n",
       "      <th>33</th>\n",
       "      <td>006  SIDA</td>\n",
       "      <td>Total</td>\n",
       "      <td>Todas las edades</td>\n",
       "      <td>1985</td>\n",
       "      <td>47</td>\n",
       "      <td>006</td>\n",
       "      <td>Single cause</td>\n",
       "      <td>SIDA</td>\n",
       "      <td>1468.871795</td>\n",
       "      <td>12.11</td>\n",
       "      <td>4.7</td>\n",
       "      <td>17.45</td>\n",
       "    </tr>\n",
       "    <tr>\n",
       "      <th>36</th>\n",
       "      <td>006  SIDA</td>\n",
       "      <td>Total</td>\n",
       "      <td>Todas las edades</td>\n",
       "      <td>1984</td>\n",
       "      <td>0</td>\n",
       "      <td>006</td>\n",
       "      <td>Single cause</td>\n",
       "      <td>SIDA</td>\n",
       "      <td>1468.871795</td>\n",
       "      <td>12.11</td>\n",
       "      <td>4.7</td>\n",
       "      <td>17.45</td>\n",
       "    </tr>\n",
       "    <tr>\n",
       "      <th>38</th>\n",
       "      <td>006  SIDA</td>\n",
       "      <td>Total</td>\n",
       "      <td>Todas las edades</td>\n",
       "      <td>1983</td>\n",
       "      <td>0</td>\n",
       "      <td>006</td>\n",
       "      <td>Single cause</td>\n",
       "      <td>SIDA</td>\n",
       "      <td>1468.871795</td>\n",
       "      <td>12.11</td>\n",
       "      <td>4.7</td>\n",
       "      <td>17.45</td>\n",
       "    </tr>\n",
       "    <tr>\n",
       "      <th>34</th>\n",
       "      <td>006  SIDA</td>\n",
       "      <td>Total</td>\n",
       "      <td>Todas las edades</td>\n",
       "      <td>1982</td>\n",
       "      <td>0</td>\n",
       "      <td>006</td>\n",
       "      <td>Single cause</td>\n",
       "      <td>SIDA</td>\n",
       "      <td>1468.871795</td>\n",
       "      <td>12.11</td>\n",
       "      <td>4.7</td>\n",
       "      <td>17.45</td>\n",
       "    </tr>\n",
       "    <tr>\n",
       "      <th>37</th>\n",
       "      <td>006  SIDA</td>\n",
       "      <td>Total</td>\n",
       "      <td>Todas las edades</td>\n",
       "      <td>1981</td>\n",
       "      <td>0</td>\n",
       "      <td>006</td>\n",
       "      <td>Single cause</td>\n",
       "      <td>SIDA</td>\n",
       "      <td>1468.871795</td>\n",
       "      <td>12.11</td>\n",
       "      <td>4.7</td>\n",
       "      <td>17.45</td>\n",
       "    </tr>\n",
       "    <tr>\n",
       "      <th>35</th>\n",
       "      <td>006  SIDA</td>\n",
       "      <td>Total</td>\n",
       "      <td>Todas las edades</td>\n",
       "      <td>1980</td>\n",
       "      <td>0</td>\n",
       "      <td>006</td>\n",
       "      <td>Single cause</td>\n",
       "      <td>SIDA</td>\n",
       "      <td>1468.871795</td>\n",
       "      <td>12.11</td>\n",
       "      <td>4.7</td>\n",
       "      <td>17.45</td>\n",
       "    </tr>\n",
       "  </tbody>\n",
       "</table>\n",
       "</div>"
      ],
      "text/plain": [
       "   Causa de muerte   Sexo              Edad  Periodo  Total cause_code  \\\n",
       "1        006  SIDA  Total  Todas las edades     1996   5432        006   \n",
       "0        006  SIDA  Total  Todas las edades     1995   5551        006   \n",
       "2        006  SIDA  Total  Todas las edades     1994   4770        006   \n",
       "3        006  SIDA  Total  Todas las edades     1993   3980        006   \n",
       "4        006  SIDA  Total  Todas las edades     1992   3256        006   \n",
       "6        006  SIDA  Total  Todas las edades     1991   2503        006   \n",
       "7        006  SIDA  Total  Todas las edades     1990   1898        006   \n",
       "18       006  SIDA  Total  Todas las edades     1989   1288        006   \n",
       "24       006  SIDA  Total  Todas las edades     1988    768        006   \n",
       "31       006  SIDA  Total  Todas las edades     1987    409        006   \n",
       "32       006  SIDA  Total  Todas las edades     1986    164        006   \n",
       "33       006  SIDA  Total  Todas las edades     1985     47        006   \n",
       "36       006  SIDA  Total  Todas las edades     1984      0        006   \n",
       "38       006  SIDA  Total  Todas las edades     1983      0        006   \n",
       "34       006  SIDA  Total  Todas las edades     1982      0        006   \n",
       "37       006  SIDA  Total  Todas las edades     1981      0        006   \n",
       "35       006  SIDA  Total  Todas las edades     1980      0        006   \n",
       "\n",
       "     cause_group cause_name        media  percentil_05  percentil_025  \\\n",
       "1   Single cause       SIDA  1468.871795         12.11            4.7   \n",
       "0   Single cause       SIDA  1468.871795         12.11            4.7   \n",
       "2   Single cause       SIDA  1468.871795         12.11            4.7   \n",
       "3   Single cause       SIDA  1468.871795         12.11            4.7   \n",
       "4   Single cause       SIDA  1468.871795         12.11            4.7   \n",
       "6   Single cause       SIDA  1468.871795         12.11            4.7   \n",
       "7   Single cause       SIDA  1468.871795         12.11            4.7   \n",
       "18  Single cause       SIDA  1468.871795         12.11            4.7   \n",
       "24  Single cause       SIDA  1468.871795         12.11            4.7   \n",
       "31  Single cause       SIDA  1468.871795         12.11            4.7   \n",
       "32  Single cause       SIDA  1468.871795         12.11            4.7   \n",
       "33  Single cause       SIDA  1468.871795         12.11            4.7   \n",
       "36  Single cause       SIDA  1468.871795         12.11            4.7   \n",
       "38  Single cause       SIDA  1468.871795         12.11            4.7   \n",
       "34  Single cause       SIDA  1468.871795         12.11            4.7   \n",
       "37  Single cause       SIDA  1468.871795         12.11            4.7   \n",
       "35  Single cause       SIDA  1468.871795         12.11            4.7   \n",
       "\n",
       "    percentil_075  \n",
       "1           17.45  \n",
       "0           17.45  \n",
       "2           17.45  \n",
       "3           17.45  \n",
       "4           17.45  \n",
       "6           17.45  \n",
       "7           17.45  \n",
       "18          17.45  \n",
       "24          17.45  \n",
       "31          17.45  \n",
       "32          17.45  \n",
       "33          17.45  \n",
       "36          17.45  \n",
       "38          17.45  \n",
       "34          17.45  \n",
       "37          17.45  \n",
       "35          17.45  "
      ]
     },
     "execution_count": 16,
     "metadata": {},
     "output_type": "execute_result"
    }
   ],
   "source": [
    "dataset_1996= dataset_ordered[dataset_ordered['Periodo']<=1996]\n",
    "dataset_1996\n"
   ]
  },
  {
   "cell_type": "code",
   "execution_count": 17,
   "metadata": {},
   "outputs": [
    {
     "data": {
      "application/vnd.plotly.v1+json": {
       "config": {
        "plotlyServerURL": "https://plot.ly"
       },
       "data": [
        {
         "alignmentgroup": "True",
         "hovertemplate": "Periodo=%{x}<br>Total=%{y}<extra></extra>",
         "legendgroup": "",
         "marker": {
          "color": "#636efa",
          "pattern": {
           "shape": ""
          }
         },
         "name": "",
         "offsetgroup": "",
         "orientation": "v",
         "showlegend": false,
         "textposition": "auto",
         "type": "bar",
         "x": [
          1995,
          1996,
          1994,
          1993,
          1992,
          1997,
          1991,
          1990,
          1999,
          1998,
          2000,
          2003,
          2001,
          2002,
          2004,
          2005,
          2006,
          2007,
          1989,
          2008,
          2009,
          2010,
          2011,
          2012,
          1988,
          2013,
          2014,
          2015,
          2016,
          2017,
          2018,
          1987,
          1986,
          1985,
          1982,
          1980,
          1984,
          1981,
          1983
         ],
         "xaxis": "x",
         "y": [
          5551,
          5432,
          4770,
          3980,
          3256,
          2844,
          2503,
          1898,
          1802,
          1779,
          1711,
          1632,
          1632,
          1611,
          1551,
          1450,
          1313,
          1307,
          1288,
          1211,
          1079,
          1020,
          953,
          880,
          768,
          749,
          700,
          633,
          498,
          442,
          423,
          409,
          164,
          47,
          0,
          0,
          0,
          0,
          0
         ],
         "yaxis": "y"
        }
       ],
       "layout": {
        "barmode": "relative",
        "legend": {
         "tracegroupgap": 0
        },
        "margin": {
         "t": 60
        },
        "template": {
         "data": {
          "bar": [
           {
            "error_x": {
             "color": "#2a3f5f"
            },
            "error_y": {
             "color": "#2a3f5f"
            },
            "marker": {
             "line": {
              "color": "#E5ECF6",
              "width": 0.5
             },
             "pattern": {
              "fillmode": "overlay",
              "size": 10,
              "solidity": 0.2
             }
            },
            "type": "bar"
           }
          ],
          "barpolar": [
           {
            "marker": {
             "line": {
              "color": "#E5ECF6",
              "width": 0.5
             },
             "pattern": {
              "fillmode": "overlay",
              "size": 10,
              "solidity": 0.2
             }
            },
            "type": "barpolar"
           }
          ],
          "carpet": [
           {
            "aaxis": {
             "endlinecolor": "#2a3f5f",
             "gridcolor": "white",
             "linecolor": "white",
             "minorgridcolor": "white",
             "startlinecolor": "#2a3f5f"
            },
            "baxis": {
             "endlinecolor": "#2a3f5f",
             "gridcolor": "white",
             "linecolor": "white",
             "minorgridcolor": "white",
             "startlinecolor": "#2a3f5f"
            },
            "type": "carpet"
           }
          ],
          "choropleth": [
           {
            "colorbar": {
             "outlinewidth": 0,
             "ticks": ""
            },
            "type": "choropleth"
           }
          ],
          "contour": [
           {
            "colorbar": {
             "outlinewidth": 0,
             "ticks": ""
            },
            "colorscale": [
             [
              0,
              "#0d0887"
             ],
             [
              0.1111111111111111,
              "#46039f"
             ],
             [
              0.2222222222222222,
              "#7201a8"
             ],
             [
              0.3333333333333333,
              "#9c179e"
             ],
             [
              0.4444444444444444,
              "#bd3786"
             ],
             [
              0.5555555555555556,
              "#d8576b"
             ],
             [
              0.6666666666666666,
              "#ed7953"
             ],
             [
              0.7777777777777778,
              "#fb9f3a"
             ],
             [
              0.8888888888888888,
              "#fdca26"
             ],
             [
              1,
              "#f0f921"
             ]
            ],
            "type": "contour"
           }
          ],
          "contourcarpet": [
           {
            "colorbar": {
             "outlinewidth": 0,
             "ticks": ""
            },
            "type": "contourcarpet"
           }
          ],
          "heatmap": [
           {
            "colorbar": {
             "outlinewidth": 0,
             "ticks": ""
            },
            "colorscale": [
             [
              0,
              "#0d0887"
             ],
             [
              0.1111111111111111,
              "#46039f"
             ],
             [
              0.2222222222222222,
              "#7201a8"
             ],
             [
              0.3333333333333333,
              "#9c179e"
             ],
             [
              0.4444444444444444,
              "#bd3786"
             ],
             [
              0.5555555555555556,
              "#d8576b"
             ],
             [
              0.6666666666666666,
              "#ed7953"
             ],
             [
              0.7777777777777778,
              "#fb9f3a"
             ],
             [
              0.8888888888888888,
              "#fdca26"
             ],
             [
              1,
              "#f0f921"
             ]
            ],
            "type": "heatmap"
           }
          ],
          "heatmapgl": [
           {
            "colorbar": {
             "outlinewidth": 0,
             "ticks": ""
            },
            "colorscale": [
             [
              0,
              "#0d0887"
             ],
             [
              0.1111111111111111,
              "#46039f"
             ],
             [
              0.2222222222222222,
              "#7201a8"
             ],
             [
              0.3333333333333333,
              "#9c179e"
             ],
             [
              0.4444444444444444,
              "#bd3786"
             ],
             [
              0.5555555555555556,
              "#d8576b"
             ],
             [
              0.6666666666666666,
              "#ed7953"
             ],
             [
              0.7777777777777778,
              "#fb9f3a"
             ],
             [
              0.8888888888888888,
              "#fdca26"
             ],
             [
              1,
              "#f0f921"
             ]
            ],
            "type": "heatmapgl"
           }
          ],
          "histogram": [
           {
            "marker": {
             "pattern": {
              "fillmode": "overlay",
              "size": 10,
              "solidity": 0.2
             }
            },
            "type": "histogram"
           }
          ],
          "histogram2d": [
           {
            "colorbar": {
             "outlinewidth": 0,
             "ticks": ""
            },
            "colorscale": [
             [
              0,
              "#0d0887"
             ],
             [
              0.1111111111111111,
              "#46039f"
             ],
             [
              0.2222222222222222,
              "#7201a8"
             ],
             [
              0.3333333333333333,
              "#9c179e"
             ],
             [
              0.4444444444444444,
              "#bd3786"
             ],
             [
              0.5555555555555556,
              "#d8576b"
             ],
             [
              0.6666666666666666,
              "#ed7953"
             ],
             [
              0.7777777777777778,
              "#fb9f3a"
             ],
             [
              0.8888888888888888,
              "#fdca26"
             ],
             [
              1,
              "#f0f921"
             ]
            ],
            "type": "histogram2d"
           }
          ],
          "histogram2dcontour": [
           {
            "colorbar": {
             "outlinewidth": 0,
             "ticks": ""
            },
            "colorscale": [
             [
              0,
              "#0d0887"
             ],
             [
              0.1111111111111111,
              "#46039f"
             ],
             [
              0.2222222222222222,
              "#7201a8"
             ],
             [
              0.3333333333333333,
              "#9c179e"
             ],
             [
              0.4444444444444444,
              "#bd3786"
             ],
             [
              0.5555555555555556,
              "#d8576b"
             ],
             [
              0.6666666666666666,
              "#ed7953"
             ],
             [
              0.7777777777777778,
              "#fb9f3a"
             ],
             [
              0.8888888888888888,
              "#fdca26"
             ],
             [
              1,
              "#f0f921"
             ]
            ],
            "type": "histogram2dcontour"
           }
          ],
          "mesh3d": [
           {
            "colorbar": {
             "outlinewidth": 0,
             "ticks": ""
            },
            "type": "mesh3d"
           }
          ],
          "parcoords": [
           {
            "line": {
             "colorbar": {
              "outlinewidth": 0,
              "ticks": ""
             }
            },
            "type": "parcoords"
           }
          ],
          "pie": [
           {
            "automargin": true,
            "type": "pie"
           }
          ],
          "scatter": [
           {
            "fillpattern": {
             "fillmode": "overlay",
             "size": 10,
             "solidity": 0.2
            },
            "type": "scatter"
           }
          ],
          "scatter3d": [
           {
            "line": {
             "colorbar": {
              "outlinewidth": 0,
              "ticks": ""
             }
            },
            "marker": {
             "colorbar": {
              "outlinewidth": 0,
              "ticks": ""
             }
            },
            "type": "scatter3d"
           }
          ],
          "scattercarpet": [
           {
            "marker": {
             "colorbar": {
              "outlinewidth": 0,
              "ticks": ""
             }
            },
            "type": "scattercarpet"
           }
          ],
          "scattergeo": [
           {
            "marker": {
             "colorbar": {
              "outlinewidth": 0,
              "ticks": ""
             }
            },
            "type": "scattergeo"
           }
          ],
          "scattergl": [
           {
            "marker": {
             "colorbar": {
              "outlinewidth": 0,
              "ticks": ""
             }
            },
            "type": "scattergl"
           }
          ],
          "scattermapbox": [
           {
            "marker": {
             "colorbar": {
              "outlinewidth": 0,
              "ticks": ""
             }
            },
            "type": "scattermapbox"
           }
          ],
          "scatterpolar": [
           {
            "marker": {
             "colorbar": {
              "outlinewidth": 0,
              "ticks": ""
             }
            },
            "type": "scatterpolar"
           }
          ],
          "scatterpolargl": [
           {
            "marker": {
             "colorbar": {
              "outlinewidth": 0,
              "ticks": ""
             }
            },
            "type": "scatterpolargl"
           }
          ],
          "scatterternary": [
           {
            "marker": {
             "colorbar": {
              "outlinewidth": 0,
              "ticks": ""
             }
            },
            "type": "scatterternary"
           }
          ],
          "surface": [
           {
            "colorbar": {
             "outlinewidth": 0,
             "ticks": ""
            },
            "colorscale": [
             [
              0,
              "#0d0887"
             ],
             [
              0.1111111111111111,
              "#46039f"
             ],
             [
              0.2222222222222222,
              "#7201a8"
             ],
             [
              0.3333333333333333,
              "#9c179e"
             ],
             [
              0.4444444444444444,
              "#bd3786"
             ],
             [
              0.5555555555555556,
              "#d8576b"
             ],
             [
              0.6666666666666666,
              "#ed7953"
             ],
             [
              0.7777777777777778,
              "#fb9f3a"
             ],
             [
              0.8888888888888888,
              "#fdca26"
             ],
             [
              1,
              "#f0f921"
             ]
            ],
            "type": "surface"
           }
          ],
          "table": [
           {
            "cells": {
             "fill": {
              "color": "#EBF0F8"
             },
             "line": {
              "color": "white"
             }
            },
            "header": {
             "fill": {
              "color": "#C8D4E3"
             },
             "line": {
              "color": "white"
             }
            },
            "type": "table"
           }
          ]
         },
         "layout": {
          "annotationdefaults": {
           "arrowcolor": "#2a3f5f",
           "arrowhead": 0,
           "arrowwidth": 1
          },
          "autotypenumbers": "strict",
          "coloraxis": {
           "colorbar": {
            "outlinewidth": 0,
            "ticks": ""
           }
          },
          "colorscale": {
           "diverging": [
            [
             0,
             "#8e0152"
            ],
            [
             0.1,
             "#c51b7d"
            ],
            [
             0.2,
             "#de77ae"
            ],
            [
             0.3,
             "#f1b6da"
            ],
            [
             0.4,
             "#fde0ef"
            ],
            [
             0.5,
             "#f7f7f7"
            ],
            [
             0.6,
             "#e6f5d0"
            ],
            [
             0.7,
             "#b8e186"
            ],
            [
             0.8,
             "#7fbc41"
            ],
            [
             0.9,
             "#4d9221"
            ],
            [
             1,
             "#276419"
            ]
           ],
           "sequential": [
            [
             0,
             "#0d0887"
            ],
            [
             0.1111111111111111,
             "#46039f"
            ],
            [
             0.2222222222222222,
             "#7201a8"
            ],
            [
             0.3333333333333333,
             "#9c179e"
            ],
            [
             0.4444444444444444,
             "#bd3786"
            ],
            [
             0.5555555555555556,
             "#d8576b"
            ],
            [
             0.6666666666666666,
             "#ed7953"
            ],
            [
             0.7777777777777778,
             "#fb9f3a"
            ],
            [
             0.8888888888888888,
             "#fdca26"
            ],
            [
             1,
             "#f0f921"
            ]
           ],
           "sequentialminus": [
            [
             0,
             "#0d0887"
            ],
            [
             0.1111111111111111,
             "#46039f"
            ],
            [
             0.2222222222222222,
             "#7201a8"
            ],
            [
             0.3333333333333333,
             "#9c179e"
            ],
            [
             0.4444444444444444,
             "#bd3786"
            ],
            [
             0.5555555555555556,
             "#d8576b"
            ],
            [
             0.6666666666666666,
             "#ed7953"
            ],
            [
             0.7777777777777778,
             "#fb9f3a"
            ],
            [
             0.8888888888888888,
             "#fdca26"
            ],
            [
             1,
             "#f0f921"
            ]
           ]
          },
          "colorway": [
           "#636efa",
           "#EF553B",
           "#00cc96",
           "#ab63fa",
           "#FFA15A",
           "#19d3f3",
           "#FF6692",
           "#B6E880",
           "#FF97FF",
           "#FECB52"
          ],
          "font": {
           "color": "#2a3f5f"
          },
          "geo": {
           "bgcolor": "white",
           "lakecolor": "white",
           "landcolor": "#E5ECF6",
           "showlakes": true,
           "showland": true,
           "subunitcolor": "white"
          },
          "hoverlabel": {
           "align": "left"
          },
          "hovermode": "closest",
          "mapbox": {
           "style": "light"
          },
          "paper_bgcolor": "white",
          "plot_bgcolor": "#E5ECF6",
          "polar": {
           "angularaxis": {
            "gridcolor": "white",
            "linecolor": "white",
            "ticks": ""
           },
           "bgcolor": "#E5ECF6",
           "radialaxis": {
            "gridcolor": "white",
            "linecolor": "white",
            "ticks": ""
           }
          },
          "scene": {
           "xaxis": {
            "backgroundcolor": "#E5ECF6",
            "gridcolor": "white",
            "gridwidth": 2,
            "linecolor": "white",
            "showbackground": true,
            "ticks": "",
            "zerolinecolor": "white"
           },
           "yaxis": {
            "backgroundcolor": "#E5ECF6",
            "gridcolor": "white",
            "gridwidth": 2,
            "linecolor": "white",
            "showbackground": true,
            "ticks": "",
            "zerolinecolor": "white"
           },
           "zaxis": {
            "backgroundcolor": "#E5ECF6",
            "gridcolor": "white",
            "gridwidth": 2,
            "linecolor": "white",
            "showbackground": true,
            "ticks": "",
            "zerolinecolor": "white"
           }
          },
          "shapedefaults": {
           "line": {
            "color": "#2a3f5f"
           }
          },
          "ternary": {
           "aaxis": {
            "gridcolor": "white",
            "linecolor": "white",
            "ticks": ""
           },
           "baxis": {
            "gridcolor": "white",
            "linecolor": "white",
            "ticks": ""
           },
           "bgcolor": "#E5ECF6",
           "caxis": {
            "gridcolor": "white",
            "linecolor": "white",
            "ticks": ""
           }
          },
          "title": {
           "x": 0.05
          },
          "xaxis": {
           "automargin": true,
           "gridcolor": "white",
           "linecolor": "white",
           "ticks": "",
           "title": {
            "standoff": 15
           },
           "zerolinecolor": "white",
           "zerolinewidth": 2
          },
          "yaxis": {
           "automargin": true,
           "gridcolor": "white",
           "linecolor": "white",
           "ticks": "",
           "title": {
            "standoff": 15
           },
           "zerolinecolor": "white",
           "zerolinewidth": 2
          }
         }
        },
        "xaxis": {
         "anchor": "y",
         "domain": [
          0,
          1
         ],
         "title": {
          "text": "Periodo"
         }
        },
        "yaxis": {
         "anchor": "x",
         "domain": [
          0,
          1
         ],
         "title": {
          "text": "Total"
         }
        }
       }
      },
      "text/html": [
       "<div>                            <div id=\"6c1f3dff-126b-4f52-97d1-6020a69db163\" class=\"plotly-graph-div\" style=\"height:525px; width:100%;\"></div>            <script type=\"text/javascript\">                require([\"plotly\"], function(Plotly) {                    window.PLOTLYENV=window.PLOTLYENV || {};                                    if (document.getElementById(\"6c1f3dff-126b-4f52-97d1-6020a69db163\")) {                    Plotly.newPlot(                        \"6c1f3dff-126b-4f52-97d1-6020a69db163\",                        [{\"alignmentgroup\":\"True\",\"hovertemplate\":\"Periodo=%{x}<br>Total=%{y}<extra></extra>\",\"legendgroup\":\"\",\"marker\":{\"color\":\"#636efa\",\"pattern\":{\"shape\":\"\"}},\"name\":\"\",\"offsetgroup\":\"\",\"orientation\":\"v\",\"showlegend\":false,\"textposition\":\"auto\",\"x\":[1995,1996,1994,1993,1992,1997,1991,1990,1999,1998,2000,2003,2001,2002,2004,2005,2006,2007,1989,2008,2009,2010,2011,2012,1988,2013,2014,2015,2016,2017,2018,1987,1986,1985,1982,1980,1984,1981,1983],\"xaxis\":\"x\",\"y\":[5551,5432,4770,3980,3256,2844,2503,1898,1802,1779,1711,1632,1632,1611,1551,1450,1313,1307,1288,1211,1079,1020,953,880,768,749,700,633,498,442,423,409,164,47,0,0,0,0,0],\"yaxis\":\"y\",\"type\":\"bar\"}],                        {\"template\":{\"data\":{\"histogram2dcontour\":[{\"type\":\"histogram2dcontour\",\"colorbar\":{\"outlinewidth\":0,\"ticks\":\"\"},\"colorscale\":[[0.0,\"#0d0887\"],[0.1111111111111111,\"#46039f\"],[0.2222222222222222,\"#7201a8\"],[0.3333333333333333,\"#9c179e\"],[0.4444444444444444,\"#bd3786\"],[0.5555555555555556,\"#d8576b\"],[0.6666666666666666,\"#ed7953\"],[0.7777777777777778,\"#fb9f3a\"],[0.8888888888888888,\"#fdca26\"],[1.0,\"#f0f921\"]]}],\"choropleth\":[{\"type\":\"choropleth\",\"colorbar\":{\"outlinewidth\":0,\"ticks\":\"\"}}],\"histogram2d\":[{\"type\":\"histogram2d\",\"colorbar\":{\"outlinewidth\":0,\"ticks\":\"\"},\"colorscale\":[[0.0,\"#0d0887\"],[0.1111111111111111,\"#46039f\"],[0.2222222222222222,\"#7201a8\"],[0.3333333333333333,\"#9c179e\"],[0.4444444444444444,\"#bd3786\"],[0.5555555555555556,\"#d8576b\"],[0.6666666666666666,\"#ed7953\"],[0.7777777777777778,\"#fb9f3a\"],[0.8888888888888888,\"#fdca26\"],[1.0,\"#f0f921\"]]}],\"heatmap\":[{\"type\":\"heatmap\",\"colorbar\":{\"outlinewidth\":0,\"ticks\":\"\"},\"colorscale\":[[0.0,\"#0d0887\"],[0.1111111111111111,\"#46039f\"],[0.2222222222222222,\"#7201a8\"],[0.3333333333333333,\"#9c179e\"],[0.4444444444444444,\"#bd3786\"],[0.5555555555555556,\"#d8576b\"],[0.6666666666666666,\"#ed7953\"],[0.7777777777777778,\"#fb9f3a\"],[0.8888888888888888,\"#fdca26\"],[1.0,\"#f0f921\"]]}],\"heatmapgl\":[{\"type\":\"heatmapgl\",\"colorbar\":{\"outlinewidth\":0,\"ticks\":\"\"},\"colorscale\":[[0.0,\"#0d0887\"],[0.1111111111111111,\"#46039f\"],[0.2222222222222222,\"#7201a8\"],[0.3333333333333333,\"#9c179e\"],[0.4444444444444444,\"#bd3786\"],[0.5555555555555556,\"#d8576b\"],[0.6666666666666666,\"#ed7953\"],[0.7777777777777778,\"#fb9f3a\"],[0.8888888888888888,\"#fdca26\"],[1.0,\"#f0f921\"]]}],\"contourcarpet\":[{\"type\":\"contourcarpet\",\"colorbar\":{\"outlinewidth\":0,\"ticks\":\"\"}}],\"contour\":[{\"type\":\"contour\",\"colorbar\":{\"outlinewidth\":0,\"ticks\":\"\"},\"colorscale\":[[0.0,\"#0d0887\"],[0.1111111111111111,\"#46039f\"],[0.2222222222222222,\"#7201a8\"],[0.3333333333333333,\"#9c179e\"],[0.4444444444444444,\"#bd3786\"],[0.5555555555555556,\"#d8576b\"],[0.6666666666666666,\"#ed7953\"],[0.7777777777777778,\"#fb9f3a\"],[0.8888888888888888,\"#fdca26\"],[1.0,\"#f0f921\"]]}],\"surface\":[{\"type\":\"surface\",\"colorbar\":{\"outlinewidth\":0,\"ticks\":\"\"},\"colorscale\":[[0.0,\"#0d0887\"],[0.1111111111111111,\"#46039f\"],[0.2222222222222222,\"#7201a8\"],[0.3333333333333333,\"#9c179e\"],[0.4444444444444444,\"#bd3786\"],[0.5555555555555556,\"#d8576b\"],[0.6666666666666666,\"#ed7953\"],[0.7777777777777778,\"#fb9f3a\"],[0.8888888888888888,\"#fdca26\"],[1.0,\"#f0f921\"]]}],\"mesh3d\":[{\"type\":\"mesh3d\",\"colorbar\":{\"outlinewidth\":0,\"ticks\":\"\"}}],\"scatter\":[{\"fillpattern\":{\"fillmode\":\"overlay\",\"size\":10,\"solidity\":0.2},\"type\":\"scatter\"}],\"parcoords\":[{\"type\":\"parcoords\",\"line\":{\"colorbar\":{\"outlinewidth\":0,\"ticks\":\"\"}}}],\"scatterpolargl\":[{\"type\":\"scatterpolargl\",\"marker\":{\"colorbar\":{\"outlinewidth\":0,\"ticks\":\"\"}}}],\"bar\":[{\"error_x\":{\"color\":\"#2a3f5f\"},\"error_y\":{\"color\":\"#2a3f5f\"},\"marker\":{\"line\":{\"color\":\"#E5ECF6\",\"width\":0.5},\"pattern\":{\"fillmode\":\"overlay\",\"size\":10,\"solidity\":0.2}},\"type\":\"bar\"}],\"scattergeo\":[{\"type\":\"scattergeo\",\"marker\":{\"colorbar\":{\"outlinewidth\":0,\"ticks\":\"\"}}}],\"scatterpolar\":[{\"type\":\"scatterpolar\",\"marker\":{\"colorbar\":{\"outlinewidth\":0,\"ticks\":\"\"}}}],\"histogram\":[{\"marker\":{\"pattern\":{\"fillmode\":\"overlay\",\"size\":10,\"solidity\":0.2}},\"type\":\"histogram\"}],\"scattergl\":[{\"type\":\"scattergl\",\"marker\":{\"colorbar\":{\"outlinewidth\":0,\"ticks\":\"\"}}}],\"scatter3d\":[{\"type\":\"scatter3d\",\"line\":{\"colorbar\":{\"outlinewidth\":0,\"ticks\":\"\"}},\"marker\":{\"colorbar\":{\"outlinewidth\":0,\"ticks\":\"\"}}}],\"scattermapbox\":[{\"type\":\"scattermapbox\",\"marker\":{\"colorbar\":{\"outlinewidth\":0,\"ticks\":\"\"}}}],\"scatterternary\":[{\"type\":\"scatterternary\",\"marker\":{\"colorbar\":{\"outlinewidth\":0,\"ticks\":\"\"}}}],\"scattercarpet\":[{\"type\":\"scattercarpet\",\"marker\":{\"colorbar\":{\"outlinewidth\":0,\"ticks\":\"\"}}}],\"carpet\":[{\"aaxis\":{\"endlinecolor\":\"#2a3f5f\",\"gridcolor\":\"white\",\"linecolor\":\"white\",\"minorgridcolor\":\"white\",\"startlinecolor\":\"#2a3f5f\"},\"baxis\":{\"endlinecolor\":\"#2a3f5f\",\"gridcolor\":\"white\",\"linecolor\":\"white\",\"minorgridcolor\":\"white\",\"startlinecolor\":\"#2a3f5f\"},\"type\":\"carpet\"}],\"table\":[{\"cells\":{\"fill\":{\"color\":\"#EBF0F8\"},\"line\":{\"color\":\"white\"}},\"header\":{\"fill\":{\"color\":\"#C8D4E3\"},\"line\":{\"color\":\"white\"}},\"type\":\"table\"}],\"barpolar\":[{\"marker\":{\"line\":{\"color\":\"#E5ECF6\",\"width\":0.5},\"pattern\":{\"fillmode\":\"overlay\",\"size\":10,\"solidity\":0.2}},\"type\":\"barpolar\"}],\"pie\":[{\"automargin\":true,\"type\":\"pie\"}]},\"layout\":{\"autotypenumbers\":\"strict\",\"colorway\":[\"#636efa\",\"#EF553B\",\"#00cc96\",\"#ab63fa\",\"#FFA15A\",\"#19d3f3\",\"#FF6692\",\"#B6E880\",\"#FF97FF\",\"#FECB52\"],\"font\":{\"color\":\"#2a3f5f\"},\"hovermode\":\"closest\",\"hoverlabel\":{\"align\":\"left\"},\"paper_bgcolor\":\"white\",\"plot_bgcolor\":\"#E5ECF6\",\"polar\":{\"bgcolor\":\"#E5ECF6\",\"angularaxis\":{\"gridcolor\":\"white\",\"linecolor\":\"white\",\"ticks\":\"\"},\"radialaxis\":{\"gridcolor\":\"white\",\"linecolor\":\"white\",\"ticks\":\"\"}},\"ternary\":{\"bgcolor\":\"#E5ECF6\",\"aaxis\":{\"gridcolor\":\"white\",\"linecolor\":\"white\",\"ticks\":\"\"},\"baxis\":{\"gridcolor\":\"white\",\"linecolor\":\"white\",\"ticks\":\"\"},\"caxis\":{\"gridcolor\":\"white\",\"linecolor\":\"white\",\"ticks\":\"\"}},\"coloraxis\":{\"colorbar\":{\"outlinewidth\":0,\"ticks\":\"\"}},\"colorscale\":{\"sequential\":[[0.0,\"#0d0887\"],[0.1111111111111111,\"#46039f\"],[0.2222222222222222,\"#7201a8\"],[0.3333333333333333,\"#9c179e\"],[0.4444444444444444,\"#bd3786\"],[0.5555555555555556,\"#d8576b\"],[0.6666666666666666,\"#ed7953\"],[0.7777777777777778,\"#fb9f3a\"],[0.8888888888888888,\"#fdca26\"],[1.0,\"#f0f921\"]],\"sequentialminus\":[[0.0,\"#0d0887\"],[0.1111111111111111,\"#46039f\"],[0.2222222222222222,\"#7201a8\"],[0.3333333333333333,\"#9c179e\"],[0.4444444444444444,\"#bd3786\"],[0.5555555555555556,\"#d8576b\"],[0.6666666666666666,\"#ed7953\"],[0.7777777777777778,\"#fb9f3a\"],[0.8888888888888888,\"#fdca26\"],[1.0,\"#f0f921\"]],\"diverging\":[[0,\"#8e0152\"],[0.1,\"#c51b7d\"],[0.2,\"#de77ae\"],[0.3,\"#f1b6da\"],[0.4,\"#fde0ef\"],[0.5,\"#f7f7f7\"],[0.6,\"#e6f5d0\"],[0.7,\"#b8e186\"],[0.8,\"#7fbc41\"],[0.9,\"#4d9221\"],[1,\"#276419\"]]},\"xaxis\":{\"gridcolor\":\"white\",\"linecolor\":\"white\",\"ticks\":\"\",\"title\":{\"standoff\":15},\"zerolinecolor\":\"white\",\"automargin\":true,\"zerolinewidth\":2},\"yaxis\":{\"gridcolor\":\"white\",\"linecolor\":\"white\",\"ticks\":\"\",\"title\":{\"standoff\":15},\"zerolinecolor\":\"white\",\"automargin\":true,\"zerolinewidth\":2},\"scene\":{\"xaxis\":{\"backgroundcolor\":\"#E5ECF6\",\"gridcolor\":\"white\",\"linecolor\":\"white\",\"showbackground\":true,\"ticks\":\"\",\"zerolinecolor\":\"white\",\"gridwidth\":2},\"yaxis\":{\"backgroundcolor\":\"#E5ECF6\",\"gridcolor\":\"white\",\"linecolor\":\"white\",\"showbackground\":true,\"ticks\":\"\",\"zerolinecolor\":\"white\",\"gridwidth\":2},\"zaxis\":{\"backgroundcolor\":\"#E5ECF6\",\"gridcolor\":\"white\",\"linecolor\":\"white\",\"showbackground\":true,\"ticks\":\"\",\"zerolinecolor\":\"white\",\"gridwidth\":2}},\"shapedefaults\":{\"line\":{\"color\":\"#2a3f5f\"}},\"annotationdefaults\":{\"arrowcolor\":\"#2a3f5f\",\"arrowhead\":0,\"arrowwidth\":1},\"geo\":{\"bgcolor\":\"white\",\"landcolor\":\"#E5ECF6\",\"subunitcolor\":\"white\",\"showland\":true,\"showlakes\":true,\"lakecolor\":\"white\"},\"title\":{\"x\":0.05},\"mapbox\":{\"style\":\"light\"}}},\"xaxis\":{\"anchor\":\"y\",\"domain\":[0.0,1.0],\"title\":{\"text\":\"Periodo\"}},\"yaxis\":{\"anchor\":\"x\",\"domain\":[0.0,1.0],\"title\":{\"text\":\"Total\"}},\"legend\":{\"tracegroupgap\":0},\"margin\":{\"t\":60},\"barmode\":\"relative\"},                        {\"responsive\": true}                    ).then(function(){\n",
       "                            \n",
       "var gd = document.getElementById('6c1f3dff-126b-4f52-97d1-6020a69db163');\n",
       "var x = new MutationObserver(function (mutations, observer) {{\n",
       "        var display = window.getComputedStyle(gd).display;\n",
       "        if (!display || display === 'none') {{\n",
       "            console.log([gd, 'removed!']);\n",
       "            Plotly.purge(gd);\n",
       "            observer.disconnect();\n",
       "        }}\n",
       "}});\n",
       "\n",
       "// Listen for the removal of the full notebook cells\n",
       "var notebookContainer = gd.closest('#notebook-container');\n",
       "if (notebookContainer) {{\n",
       "    x.observe(notebookContainer, {childList: true});\n",
       "}}\n",
       "\n",
       "// Listen for the clearing of the current output cell\n",
       "var outputEl = gd.closest('.output');\n",
       "if (outputEl) {{\n",
       "    x.observe(outputEl, {childList: true});\n",
       "}}\n",
       "\n",
       "                        })                };                });            </script>        </div>"
      ]
     },
     "metadata": {},
     "output_type": "display_data"
    }
   ],
   "source": [
    "fig = px.bar(dataset, x='Periodo', y='Total')\n",
    "fig.show()"
   ]
  },
  {
   "cell_type": "code",
   "execution_count": 18,
   "metadata": {},
   "outputs": [
    {
     "data": {
      "application/vnd.plotly.v1+json": {
       "config": {
        "plotlyServerURL": "https://plot.ly"
       },
       "data": [
        {
         "alignmentgroup": "True",
         "hovertemplate": "Periodo=%{x}<br>Total=%{y}<extra></extra>",
         "legendgroup": "",
         "marker": {
          "color": "#636efa",
          "pattern": {
           "shape": ""
          }
         },
         "name": "",
         "offsetgroup": "",
         "orientation": "v",
         "showlegend": false,
         "textposition": "auto",
         "type": "bar",
         "x": [
          2018,
          2017,
          2016,
          2015,
          2014,
          2013,
          2012,
          2011,
          2010,
          2009,
          2008,
          2007,
          2006,
          2005,
          2004,
          2003,
          2002,
          2001,
          2000,
          1999,
          1998,
          1997
         ],
         "xaxis": "x",
         "y": [
          423,
          442,
          498,
          633,
          700,
          749,
          880,
          953,
          1020,
          1079,
          1211,
          1307,
          1313,
          1450,
          1551,
          1632,
          1611,
          1632,
          1711,
          1802,
          1779,
          2844
         ],
         "yaxis": "y"
        }
       ],
       "layout": {
        "barmode": "relative",
        "legend": {
         "tracegroupgap": 0
        },
        "margin": {
         "t": 60
        },
        "template": {
         "data": {
          "bar": [
           {
            "error_x": {
             "color": "#2a3f5f"
            },
            "error_y": {
             "color": "#2a3f5f"
            },
            "marker": {
             "line": {
              "color": "#E5ECF6",
              "width": 0.5
             },
             "pattern": {
              "fillmode": "overlay",
              "size": 10,
              "solidity": 0.2
             }
            },
            "type": "bar"
           }
          ],
          "barpolar": [
           {
            "marker": {
             "line": {
              "color": "#E5ECF6",
              "width": 0.5
             },
             "pattern": {
              "fillmode": "overlay",
              "size": 10,
              "solidity": 0.2
             }
            },
            "type": "barpolar"
           }
          ],
          "carpet": [
           {
            "aaxis": {
             "endlinecolor": "#2a3f5f",
             "gridcolor": "white",
             "linecolor": "white",
             "minorgridcolor": "white",
             "startlinecolor": "#2a3f5f"
            },
            "baxis": {
             "endlinecolor": "#2a3f5f",
             "gridcolor": "white",
             "linecolor": "white",
             "minorgridcolor": "white",
             "startlinecolor": "#2a3f5f"
            },
            "type": "carpet"
           }
          ],
          "choropleth": [
           {
            "colorbar": {
             "outlinewidth": 0,
             "ticks": ""
            },
            "type": "choropleth"
           }
          ],
          "contour": [
           {
            "colorbar": {
             "outlinewidth": 0,
             "ticks": ""
            },
            "colorscale": [
             [
              0,
              "#0d0887"
             ],
             [
              0.1111111111111111,
              "#46039f"
             ],
             [
              0.2222222222222222,
              "#7201a8"
             ],
             [
              0.3333333333333333,
              "#9c179e"
             ],
             [
              0.4444444444444444,
              "#bd3786"
             ],
             [
              0.5555555555555556,
              "#d8576b"
             ],
             [
              0.6666666666666666,
              "#ed7953"
             ],
             [
              0.7777777777777778,
              "#fb9f3a"
             ],
             [
              0.8888888888888888,
              "#fdca26"
             ],
             [
              1,
              "#f0f921"
             ]
            ],
            "type": "contour"
           }
          ],
          "contourcarpet": [
           {
            "colorbar": {
             "outlinewidth": 0,
             "ticks": ""
            },
            "type": "contourcarpet"
           }
          ],
          "heatmap": [
           {
            "colorbar": {
             "outlinewidth": 0,
             "ticks": ""
            },
            "colorscale": [
             [
              0,
              "#0d0887"
             ],
             [
              0.1111111111111111,
              "#46039f"
             ],
             [
              0.2222222222222222,
              "#7201a8"
             ],
             [
              0.3333333333333333,
              "#9c179e"
             ],
             [
              0.4444444444444444,
              "#bd3786"
             ],
             [
              0.5555555555555556,
              "#d8576b"
             ],
             [
              0.6666666666666666,
              "#ed7953"
             ],
             [
              0.7777777777777778,
              "#fb9f3a"
             ],
             [
              0.8888888888888888,
              "#fdca26"
             ],
             [
              1,
              "#f0f921"
             ]
            ],
            "type": "heatmap"
           }
          ],
          "heatmapgl": [
           {
            "colorbar": {
             "outlinewidth": 0,
             "ticks": ""
            },
            "colorscale": [
             [
              0,
              "#0d0887"
             ],
             [
              0.1111111111111111,
              "#46039f"
             ],
             [
              0.2222222222222222,
              "#7201a8"
             ],
             [
              0.3333333333333333,
              "#9c179e"
             ],
             [
              0.4444444444444444,
              "#bd3786"
             ],
             [
              0.5555555555555556,
              "#d8576b"
             ],
             [
              0.6666666666666666,
              "#ed7953"
             ],
             [
              0.7777777777777778,
              "#fb9f3a"
             ],
             [
              0.8888888888888888,
              "#fdca26"
             ],
             [
              1,
              "#f0f921"
             ]
            ],
            "type": "heatmapgl"
           }
          ],
          "histogram": [
           {
            "marker": {
             "pattern": {
              "fillmode": "overlay",
              "size": 10,
              "solidity": 0.2
             }
            },
            "type": "histogram"
           }
          ],
          "histogram2d": [
           {
            "colorbar": {
             "outlinewidth": 0,
             "ticks": ""
            },
            "colorscale": [
             [
              0,
              "#0d0887"
             ],
             [
              0.1111111111111111,
              "#46039f"
             ],
             [
              0.2222222222222222,
              "#7201a8"
             ],
             [
              0.3333333333333333,
              "#9c179e"
             ],
             [
              0.4444444444444444,
              "#bd3786"
             ],
             [
              0.5555555555555556,
              "#d8576b"
             ],
             [
              0.6666666666666666,
              "#ed7953"
             ],
             [
              0.7777777777777778,
              "#fb9f3a"
             ],
             [
              0.8888888888888888,
              "#fdca26"
             ],
             [
              1,
              "#f0f921"
             ]
            ],
            "type": "histogram2d"
           }
          ],
          "histogram2dcontour": [
           {
            "colorbar": {
             "outlinewidth": 0,
             "ticks": ""
            },
            "colorscale": [
             [
              0,
              "#0d0887"
             ],
             [
              0.1111111111111111,
              "#46039f"
             ],
             [
              0.2222222222222222,
              "#7201a8"
             ],
             [
              0.3333333333333333,
              "#9c179e"
             ],
             [
              0.4444444444444444,
              "#bd3786"
             ],
             [
              0.5555555555555556,
              "#d8576b"
             ],
             [
              0.6666666666666666,
              "#ed7953"
             ],
             [
              0.7777777777777778,
              "#fb9f3a"
             ],
             [
              0.8888888888888888,
              "#fdca26"
             ],
             [
              1,
              "#f0f921"
             ]
            ],
            "type": "histogram2dcontour"
           }
          ],
          "mesh3d": [
           {
            "colorbar": {
             "outlinewidth": 0,
             "ticks": ""
            },
            "type": "mesh3d"
           }
          ],
          "parcoords": [
           {
            "line": {
             "colorbar": {
              "outlinewidth": 0,
              "ticks": ""
             }
            },
            "type": "parcoords"
           }
          ],
          "pie": [
           {
            "automargin": true,
            "type": "pie"
           }
          ],
          "scatter": [
           {
            "fillpattern": {
             "fillmode": "overlay",
             "size": 10,
             "solidity": 0.2
            },
            "type": "scatter"
           }
          ],
          "scatter3d": [
           {
            "line": {
             "colorbar": {
              "outlinewidth": 0,
              "ticks": ""
             }
            },
            "marker": {
             "colorbar": {
              "outlinewidth": 0,
              "ticks": ""
             }
            },
            "type": "scatter3d"
           }
          ],
          "scattercarpet": [
           {
            "marker": {
             "colorbar": {
              "outlinewidth": 0,
              "ticks": ""
             }
            },
            "type": "scattercarpet"
           }
          ],
          "scattergeo": [
           {
            "marker": {
             "colorbar": {
              "outlinewidth": 0,
              "ticks": ""
             }
            },
            "type": "scattergeo"
           }
          ],
          "scattergl": [
           {
            "marker": {
             "colorbar": {
              "outlinewidth": 0,
              "ticks": ""
             }
            },
            "type": "scattergl"
           }
          ],
          "scattermapbox": [
           {
            "marker": {
             "colorbar": {
              "outlinewidth": 0,
              "ticks": ""
             }
            },
            "type": "scattermapbox"
           }
          ],
          "scatterpolar": [
           {
            "marker": {
             "colorbar": {
              "outlinewidth": 0,
              "ticks": ""
             }
            },
            "type": "scatterpolar"
           }
          ],
          "scatterpolargl": [
           {
            "marker": {
             "colorbar": {
              "outlinewidth": 0,
              "ticks": ""
             }
            },
            "type": "scatterpolargl"
           }
          ],
          "scatterternary": [
           {
            "marker": {
             "colorbar": {
              "outlinewidth": 0,
              "ticks": ""
             }
            },
            "type": "scatterternary"
           }
          ],
          "surface": [
           {
            "colorbar": {
             "outlinewidth": 0,
             "ticks": ""
            },
            "colorscale": [
             [
              0,
              "#0d0887"
             ],
             [
              0.1111111111111111,
              "#46039f"
             ],
             [
              0.2222222222222222,
              "#7201a8"
             ],
             [
              0.3333333333333333,
              "#9c179e"
             ],
             [
              0.4444444444444444,
              "#bd3786"
             ],
             [
              0.5555555555555556,
              "#d8576b"
             ],
             [
              0.6666666666666666,
              "#ed7953"
             ],
             [
              0.7777777777777778,
              "#fb9f3a"
             ],
             [
              0.8888888888888888,
              "#fdca26"
             ],
             [
              1,
              "#f0f921"
             ]
            ],
            "type": "surface"
           }
          ],
          "table": [
           {
            "cells": {
             "fill": {
              "color": "#EBF0F8"
             },
             "line": {
              "color": "white"
             }
            },
            "header": {
             "fill": {
              "color": "#C8D4E3"
             },
             "line": {
              "color": "white"
             }
            },
            "type": "table"
           }
          ]
         },
         "layout": {
          "annotationdefaults": {
           "arrowcolor": "#2a3f5f",
           "arrowhead": 0,
           "arrowwidth": 1
          },
          "autotypenumbers": "strict",
          "coloraxis": {
           "colorbar": {
            "outlinewidth": 0,
            "ticks": ""
           }
          },
          "colorscale": {
           "diverging": [
            [
             0,
             "#8e0152"
            ],
            [
             0.1,
             "#c51b7d"
            ],
            [
             0.2,
             "#de77ae"
            ],
            [
             0.3,
             "#f1b6da"
            ],
            [
             0.4,
             "#fde0ef"
            ],
            [
             0.5,
             "#f7f7f7"
            ],
            [
             0.6,
             "#e6f5d0"
            ],
            [
             0.7,
             "#b8e186"
            ],
            [
             0.8,
             "#7fbc41"
            ],
            [
             0.9,
             "#4d9221"
            ],
            [
             1,
             "#276419"
            ]
           ],
           "sequential": [
            [
             0,
             "#0d0887"
            ],
            [
             0.1111111111111111,
             "#46039f"
            ],
            [
             0.2222222222222222,
             "#7201a8"
            ],
            [
             0.3333333333333333,
             "#9c179e"
            ],
            [
             0.4444444444444444,
             "#bd3786"
            ],
            [
             0.5555555555555556,
             "#d8576b"
            ],
            [
             0.6666666666666666,
             "#ed7953"
            ],
            [
             0.7777777777777778,
             "#fb9f3a"
            ],
            [
             0.8888888888888888,
             "#fdca26"
            ],
            [
             1,
             "#f0f921"
            ]
           ],
           "sequentialminus": [
            [
             0,
             "#0d0887"
            ],
            [
             0.1111111111111111,
             "#46039f"
            ],
            [
             0.2222222222222222,
             "#7201a8"
            ],
            [
             0.3333333333333333,
             "#9c179e"
            ],
            [
             0.4444444444444444,
             "#bd3786"
            ],
            [
             0.5555555555555556,
             "#d8576b"
            ],
            [
             0.6666666666666666,
             "#ed7953"
            ],
            [
             0.7777777777777778,
             "#fb9f3a"
            ],
            [
             0.8888888888888888,
             "#fdca26"
            ],
            [
             1,
             "#f0f921"
            ]
           ]
          },
          "colorway": [
           "#636efa",
           "#EF553B",
           "#00cc96",
           "#ab63fa",
           "#FFA15A",
           "#19d3f3",
           "#FF6692",
           "#B6E880",
           "#FF97FF",
           "#FECB52"
          ],
          "font": {
           "color": "#2a3f5f"
          },
          "geo": {
           "bgcolor": "white",
           "lakecolor": "white",
           "landcolor": "#E5ECF6",
           "showlakes": true,
           "showland": true,
           "subunitcolor": "white"
          },
          "hoverlabel": {
           "align": "left"
          },
          "hovermode": "closest",
          "mapbox": {
           "style": "light"
          },
          "paper_bgcolor": "white",
          "plot_bgcolor": "#E5ECF6",
          "polar": {
           "angularaxis": {
            "gridcolor": "white",
            "linecolor": "white",
            "ticks": ""
           },
           "bgcolor": "#E5ECF6",
           "radialaxis": {
            "gridcolor": "white",
            "linecolor": "white",
            "ticks": ""
           }
          },
          "scene": {
           "xaxis": {
            "backgroundcolor": "#E5ECF6",
            "gridcolor": "white",
            "gridwidth": 2,
            "linecolor": "white",
            "showbackground": true,
            "ticks": "",
            "zerolinecolor": "white"
           },
           "yaxis": {
            "backgroundcolor": "#E5ECF6",
            "gridcolor": "white",
            "gridwidth": 2,
            "linecolor": "white",
            "showbackground": true,
            "ticks": "",
            "zerolinecolor": "white"
           },
           "zaxis": {
            "backgroundcolor": "#E5ECF6",
            "gridcolor": "white",
            "gridwidth": 2,
            "linecolor": "white",
            "showbackground": true,
            "ticks": "",
            "zerolinecolor": "white"
           }
          },
          "shapedefaults": {
           "line": {
            "color": "#2a3f5f"
           }
          },
          "ternary": {
           "aaxis": {
            "gridcolor": "white",
            "linecolor": "white",
            "ticks": ""
           },
           "baxis": {
            "gridcolor": "white",
            "linecolor": "white",
            "ticks": ""
           },
           "bgcolor": "#E5ECF6",
           "caxis": {
            "gridcolor": "white",
            "linecolor": "white",
            "ticks": ""
           }
          },
          "title": {
           "x": 0.05
          },
          "xaxis": {
           "automargin": true,
           "gridcolor": "white",
           "linecolor": "white",
           "ticks": "",
           "title": {
            "standoff": 15
           },
           "zerolinecolor": "white",
           "zerolinewidth": 2
          },
          "yaxis": {
           "automargin": true,
           "gridcolor": "white",
           "linecolor": "white",
           "ticks": "",
           "title": {
            "standoff": 15
           },
           "zerolinecolor": "white",
           "zerolinewidth": 2
          }
         }
        },
        "xaxis": {
         "anchor": "y",
         "domain": [
          0,
          1
         ],
         "title": {
          "text": "Periodo"
         }
        },
        "yaxis": {
         "anchor": "x",
         "domain": [
          0,
          1
         ],
         "title": {
          "text": "Total"
         }
        }
       }
      },
      "text/html": [
       "<div>                            <div id=\"d087c65b-4393-427f-bab9-8de1c3612d09\" class=\"plotly-graph-div\" style=\"height:525px; width:100%;\"></div>            <script type=\"text/javascript\">                require([\"plotly\"], function(Plotly) {                    window.PLOTLYENV=window.PLOTLYENV || {};                                    if (document.getElementById(\"d087c65b-4393-427f-bab9-8de1c3612d09\")) {                    Plotly.newPlot(                        \"d087c65b-4393-427f-bab9-8de1c3612d09\",                        [{\"alignmentgroup\":\"True\",\"hovertemplate\":\"Periodo=%{x}<br>Total=%{y}<extra></extra>\",\"legendgroup\":\"\",\"marker\":{\"color\":\"#636efa\",\"pattern\":{\"shape\":\"\"}},\"name\":\"\",\"offsetgroup\":\"\",\"orientation\":\"v\",\"showlegend\":false,\"textposition\":\"auto\",\"x\":[2018,2017,2016,2015,2014,2013,2012,2011,2010,2009,2008,2007,2006,2005,2004,2003,2002,2001,2000,1999,1998,1997],\"xaxis\":\"x\",\"y\":[423,442,498,633,700,749,880,953,1020,1079,1211,1307,1313,1450,1551,1632,1611,1632,1711,1802,1779,2844],\"yaxis\":\"y\",\"type\":\"bar\"}],                        {\"template\":{\"data\":{\"histogram2dcontour\":[{\"type\":\"histogram2dcontour\",\"colorbar\":{\"outlinewidth\":0,\"ticks\":\"\"},\"colorscale\":[[0.0,\"#0d0887\"],[0.1111111111111111,\"#46039f\"],[0.2222222222222222,\"#7201a8\"],[0.3333333333333333,\"#9c179e\"],[0.4444444444444444,\"#bd3786\"],[0.5555555555555556,\"#d8576b\"],[0.6666666666666666,\"#ed7953\"],[0.7777777777777778,\"#fb9f3a\"],[0.8888888888888888,\"#fdca26\"],[1.0,\"#f0f921\"]]}],\"choropleth\":[{\"type\":\"choropleth\",\"colorbar\":{\"outlinewidth\":0,\"ticks\":\"\"}}],\"histogram2d\":[{\"type\":\"histogram2d\",\"colorbar\":{\"outlinewidth\":0,\"ticks\":\"\"},\"colorscale\":[[0.0,\"#0d0887\"],[0.1111111111111111,\"#46039f\"],[0.2222222222222222,\"#7201a8\"],[0.3333333333333333,\"#9c179e\"],[0.4444444444444444,\"#bd3786\"],[0.5555555555555556,\"#d8576b\"],[0.6666666666666666,\"#ed7953\"],[0.7777777777777778,\"#fb9f3a\"],[0.8888888888888888,\"#fdca26\"],[1.0,\"#f0f921\"]]}],\"heatmap\":[{\"type\":\"heatmap\",\"colorbar\":{\"outlinewidth\":0,\"ticks\":\"\"},\"colorscale\":[[0.0,\"#0d0887\"],[0.1111111111111111,\"#46039f\"],[0.2222222222222222,\"#7201a8\"],[0.3333333333333333,\"#9c179e\"],[0.4444444444444444,\"#bd3786\"],[0.5555555555555556,\"#d8576b\"],[0.6666666666666666,\"#ed7953\"],[0.7777777777777778,\"#fb9f3a\"],[0.8888888888888888,\"#fdca26\"],[1.0,\"#f0f921\"]]}],\"heatmapgl\":[{\"type\":\"heatmapgl\",\"colorbar\":{\"outlinewidth\":0,\"ticks\":\"\"},\"colorscale\":[[0.0,\"#0d0887\"],[0.1111111111111111,\"#46039f\"],[0.2222222222222222,\"#7201a8\"],[0.3333333333333333,\"#9c179e\"],[0.4444444444444444,\"#bd3786\"],[0.5555555555555556,\"#d8576b\"],[0.6666666666666666,\"#ed7953\"],[0.7777777777777778,\"#fb9f3a\"],[0.8888888888888888,\"#fdca26\"],[1.0,\"#f0f921\"]]}],\"contourcarpet\":[{\"type\":\"contourcarpet\",\"colorbar\":{\"outlinewidth\":0,\"ticks\":\"\"}}],\"contour\":[{\"type\":\"contour\",\"colorbar\":{\"outlinewidth\":0,\"ticks\":\"\"},\"colorscale\":[[0.0,\"#0d0887\"],[0.1111111111111111,\"#46039f\"],[0.2222222222222222,\"#7201a8\"],[0.3333333333333333,\"#9c179e\"],[0.4444444444444444,\"#bd3786\"],[0.5555555555555556,\"#d8576b\"],[0.6666666666666666,\"#ed7953\"],[0.7777777777777778,\"#fb9f3a\"],[0.8888888888888888,\"#fdca26\"],[1.0,\"#f0f921\"]]}],\"surface\":[{\"type\":\"surface\",\"colorbar\":{\"outlinewidth\":0,\"ticks\":\"\"},\"colorscale\":[[0.0,\"#0d0887\"],[0.1111111111111111,\"#46039f\"],[0.2222222222222222,\"#7201a8\"],[0.3333333333333333,\"#9c179e\"],[0.4444444444444444,\"#bd3786\"],[0.5555555555555556,\"#d8576b\"],[0.6666666666666666,\"#ed7953\"],[0.7777777777777778,\"#fb9f3a\"],[0.8888888888888888,\"#fdca26\"],[1.0,\"#f0f921\"]]}],\"mesh3d\":[{\"type\":\"mesh3d\",\"colorbar\":{\"outlinewidth\":0,\"ticks\":\"\"}}],\"scatter\":[{\"fillpattern\":{\"fillmode\":\"overlay\",\"size\":10,\"solidity\":0.2},\"type\":\"scatter\"}],\"parcoords\":[{\"type\":\"parcoords\",\"line\":{\"colorbar\":{\"outlinewidth\":0,\"ticks\":\"\"}}}],\"scatterpolargl\":[{\"type\":\"scatterpolargl\",\"marker\":{\"colorbar\":{\"outlinewidth\":0,\"ticks\":\"\"}}}],\"bar\":[{\"error_x\":{\"color\":\"#2a3f5f\"},\"error_y\":{\"color\":\"#2a3f5f\"},\"marker\":{\"line\":{\"color\":\"#E5ECF6\",\"width\":0.5},\"pattern\":{\"fillmode\":\"overlay\",\"size\":10,\"solidity\":0.2}},\"type\":\"bar\"}],\"scattergeo\":[{\"type\":\"scattergeo\",\"marker\":{\"colorbar\":{\"outlinewidth\":0,\"ticks\":\"\"}}}],\"scatterpolar\":[{\"type\":\"scatterpolar\",\"marker\":{\"colorbar\":{\"outlinewidth\":0,\"ticks\":\"\"}}}],\"histogram\":[{\"marker\":{\"pattern\":{\"fillmode\":\"overlay\",\"size\":10,\"solidity\":0.2}},\"type\":\"histogram\"}],\"scattergl\":[{\"type\":\"scattergl\",\"marker\":{\"colorbar\":{\"outlinewidth\":0,\"ticks\":\"\"}}}],\"scatter3d\":[{\"type\":\"scatter3d\",\"line\":{\"colorbar\":{\"outlinewidth\":0,\"ticks\":\"\"}},\"marker\":{\"colorbar\":{\"outlinewidth\":0,\"ticks\":\"\"}}}],\"scattermapbox\":[{\"type\":\"scattermapbox\",\"marker\":{\"colorbar\":{\"outlinewidth\":0,\"ticks\":\"\"}}}],\"scatterternary\":[{\"type\":\"scatterternary\",\"marker\":{\"colorbar\":{\"outlinewidth\":0,\"ticks\":\"\"}}}],\"scattercarpet\":[{\"type\":\"scattercarpet\",\"marker\":{\"colorbar\":{\"outlinewidth\":0,\"ticks\":\"\"}}}],\"carpet\":[{\"aaxis\":{\"endlinecolor\":\"#2a3f5f\",\"gridcolor\":\"white\",\"linecolor\":\"white\",\"minorgridcolor\":\"white\",\"startlinecolor\":\"#2a3f5f\"},\"baxis\":{\"endlinecolor\":\"#2a3f5f\",\"gridcolor\":\"white\",\"linecolor\":\"white\",\"minorgridcolor\":\"white\",\"startlinecolor\":\"#2a3f5f\"},\"type\":\"carpet\"}],\"table\":[{\"cells\":{\"fill\":{\"color\":\"#EBF0F8\"},\"line\":{\"color\":\"white\"}},\"header\":{\"fill\":{\"color\":\"#C8D4E3\"},\"line\":{\"color\":\"white\"}},\"type\":\"table\"}],\"barpolar\":[{\"marker\":{\"line\":{\"color\":\"#E5ECF6\",\"width\":0.5},\"pattern\":{\"fillmode\":\"overlay\",\"size\":10,\"solidity\":0.2}},\"type\":\"barpolar\"}],\"pie\":[{\"automargin\":true,\"type\":\"pie\"}]},\"layout\":{\"autotypenumbers\":\"strict\",\"colorway\":[\"#636efa\",\"#EF553B\",\"#00cc96\",\"#ab63fa\",\"#FFA15A\",\"#19d3f3\",\"#FF6692\",\"#B6E880\",\"#FF97FF\",\"#FECB52\"],\"font\":{\"color\":\"#2a3f5f\"},\"hovermode\":\"closest\",\"hoverlabel\":{\"align\":\"left\"},\"paper_bgcolor\":\"white\",\"plot_bgcolor\":\"#E5ECF6\",\"polar\":{\"bgcolor\":\"#E5ECF6\",\"angularaxis\":{\"gridcolor\":\"white\",\"linecolor\":\"white\",\"ticks\":\"\"},\"radialaxis\":{\"gridcolor\":\"white\",\"linecolor\":\"white\",\"ticks\":\"\"}},\"ternary\":{\"bgcolor\":\"#E5ECF6\",\"aaxis\":{\"gridcolor\":\"white\",\"linecolor\":\"white\",\"ticks\":\"\"},\"baxis\":{\"gridcolor\":\"white\",\"linecolor\":\"white\",\"ticks\":\"\"},\"caxis\":{\"gridcolor\":\"white\",\"linecolor\":\"white\",\"ticks\":\"\"}},\"coloraxis\":{\"colorbar\":{\"outlinewidth\":0,\"ticks\":\"\"}},\"colorscale\":{\"sequential\":[[0.0,\"#0d0887\"],[0.1111111111111111,\"#46039f\"],[0.2222222222222222,\"#7201a8\"],[0.3333333333333333,\"#9c179e\"],[0.4444444444444444,\"#bd3786\"],[0.5555555555555556,\"#d8576b\"],[0.6666666666666666,\"#ed7953\"],[0.7777777777777778,\"#fb9f3a\"],[0.8888888888888888,\"#fdca26\"],[1.0,\"#f0f921\"]],\"sequentialminus\":[[0.0,\"#0d0887\"],[0.1111111111111111,\"#46039f\"],[0.2222222222222222,\"#7201a8\"],[0.3333333333333333,\"#9c179e\"],[0.4444444444444444,\"#bd3786\"],[0.5555555555555556,\"#d8576b\"],[0.6666666666666666,\"#ed7953\"],[0.7777777777777778,\"#fb9f3a\"],[0.8888888888888888,\"#fdca26\"],[1.0,\"#f0f921\"]],\"diverging\":[[0,\"#8e0152\"],[0.1,\"#c51b7d\"],[0.2,\"#de77ae\"],[0.3,\"#f1b6da\"],[0.4,\"#fde0ef\"],[0.5,\"#f7f7f7\"],[0.6,\"#e6f5d0\"],[0.7,\"#b8e186\"],[0.8,\"#7fbc41\"],[0.9,\"#4d9221\"],[1,\"#276419\"]]},\"xaxis\":{\"gridcolor\":\"white\",\"linecolor\":\"white\",\"ticks\":\"\",\"title\":{\"standoff\":15},\"zerolinecolor\":\"white\",\"automargin\":true,\"zerolinewidth\":2},\"yaxis\":{\"gridcolor\":\"white\",\"linecolor\":\"white\",\"ticks\":\"\",\"title\":{\"standoff\":15},\"zerolinecolor\":\"white\",\"automargin\":true,\"zerolinewidth\":2},\"scene\":{\"xaxis\":{\"backgroundcolor\":\"#E5ECF6\",\"gridcolor\":\"white\",\"linecolor\":\"white\",\"showbackground\":true,\"ticks\":\"\",\"zerolinecolor\":\"white\",\"gridwidth\":2},\"yaxis\":{\"backgroundcolor\":\"#E5ECF6\",\"gridcolor\":\"white\",\"linecolor\":\"white\",\"showbackground\":true,\"ticks\":\"\",\"zerolinecolor\":\"white\",\"gridwidth\":2},\"zaxis\":{\"backgroundcolor\":\"#E5ECF6\",\"gridcolor\":\"white\",\"linecolor\":\"white\",\"showbackground\":true,\"ticks\":\"\",\"zerolinecolor\":\"white\",\"gridwidth\":2}},\"shapedefaults\":{\"line\":{\"color\":\"#2a3f5f\"}},\"annotationdefaults\":{\"arrowcolor\":\"#2a3f5f\",\"arrowhead\":0,\"arrowwidth\":1},\"geo\":{\"bgcolor\":\"white\",\"landcolor\":\"#E5ECF6\",\"subunitcolor\":\"white\",\"showland\":true,\"showlakes\":true,\"lakecolor\":\"white\"},\"title\":{\"x\":0.05},\"mapbox\":{\"style\":\"light\"}}},\"xaxis\":{\"anchor\":\"y\",\"domain\":[0.0,1.0],\"title\":{\"text\":\"Periodo\"}},\"yaxis\":{\"anchor\":\"x\",\"domain\":[0.0,1.0],\"title\":{\"text\":\"Total\"}},\"legend\":{\"tracegroupgap\":0},\"margin\":{\"t\":60},\"barmode\":\"relative\"},                        {\"responsive\": true}                    ).then(function(){\n",
       "                            \n",
       "var gd = document.getElementById('d087c65b-4393-427f-bab9-8de1c3612d09');\n",
       "var x = new MutationObserver(function (mutations, observer) {{\n",
       "        var display = window.getComputedStyle(gd).display;\n",
       "        if (!display || display === 'none') {{\n",
       "            console.log([gd, 'removed!']);\n",
       "            Plotly.purge(gd);\n",
       "            observer.disconnect();\n",
       "        }}\n",
       "}});\n",
       "\n",
       "// Listen for the removal of the full notebook cells\n",
       "var notebookContainer = gd.closest('#notebook-container');\n",
       "if (notebookContainer) {{\n",
       "    x.observe(notebookContainer, {childList: true});\n",
       "}}\n",
       "\n",
       "// Listen for the clearing of the current output cell\n",
       "var outputEl = gd.closest('.output');\n",
       "if (outputEl) {{\n",
       "    x.observe(outputEl, {childList: true});\n",
       "}}\n",
       "\n",
       "                        })                };                });            </script>        </div>"
      ]
     },
     "metadata": {},
     "output_type": "display_data"
    }
   ],
   "source": [
    "fig = px.bar(dataset_1997, x='Periodo', y='Total')\n",
    "fig.show()"
   ]
  },
  {
   "cell_type": "code",
   "execution_count": 19,
   "metadata": {},
   "outputs": [
    {
     "data": {
      "application/vnd.plotly.v1+json": {
       "config": {
        "plotlyServerURL": "https://plot.ly"
       },
       "data": [
        {
         "alignmentgroup": "True",
         "hovertemplate": "Periodo=%{x}<br>Total=%{y}<extra></extra>",
         "legendgroup": "",
         "marker": {
          "color": "#636efa",
          "pattern": {
           "shape": ""
          }
         },
         "name": "",
         "offsetgroup": "",
         "orientation": "v",
         "showlegend": false,
         "textposition": "auto",
         "type": "bar",
         "x": [
          1996,
          1995,
          1994,
          1993,
          1992,
          1991,
          1990,
          1989,
          1988,
          1987,
          1986,
          1985,
          1984,
          1983,
          1982,
          1981,
          1980
         ],
         "xaxis": "x",
         "y": [
          5432,
          5551,
          4770,
          3980,
          3256,
          2503,
          1898,
          1288,
          768,
          409,
          164,
          47,
          0,
          0,
          0,
          0,
          0
         ],
         "yaxis": "y"
        }
       ],
       "layout": {
        "barmode": "relative",
        "legend": {
         "tracegroupgap": 0
        },
        "margin": {
         "t": 60
        },
        "template": {
         "data": {
          "bar": [
           {
            "error_x": {
             "color": "#2a3f5f"
            },
            "error_y": {
             "color": "#2a3f5f"
            },
            "marker": {
             "line": {
              "color": "#E5ECF6",
              "width": 0.5
             },
             "pattern": {
              "fillmode": "overlay",
              "size": 10,
              "solidity": 0.2
             }
            },
            "type": "bar"
           }
          ],
          "barpolar": [
           {
            "marker": {
             "line": {
              "color": "#E5ECF6",
              "width": 0.5
             },
             "pattern": {
              "fillmode": "overlay",
              "size": 10,
              "solidity": 0.2
             }
            },
            "type": "barpolar"
           }
          ],
          "carpet": [
           {
            "aaxis": {
             "endlinecolor": "#2a3f5f",
             "gridcolor": "white",
             "linecolor": "white",
             "minorgridcolor": "white",
             "startlinecolor": "#2a3f5f"
            },
            "baxis": {
             "endlinecolor": "#2a3f5f",
             "gridcolor": "white",
             "linecolor": "white",
             "minorgridcolor": "white",
             "startlinecolor": "#2a3f5f"
            },
            "type": "carpet"
           }
          ],
          "choropleth": [
           {
            "colorbar": {
             "outlinewidth": 0,
             "ticks": ""
            },
            "type": "choropleth"
           }
          ],
          "contour": [
           {
            "colorbar": {
             "outlinewidth": 0,
             "ticks": ""
            },
            "colorscale": [
             [
              0,
              "#0d0887"
             ],
             [
              0.1111111111111111,
              "#46039f"
             ],
             [
              0.2222222222222222,
              "#7201a8"
             ],
             [
              0.3333333333333333,
              "#9c179e"
             ],
             [
              0.4444444444444444,
              "#bd3786"
             ],
             [
              0.5555555555555556,
              "#d8576b"
             ],
             [
              0.6666666666666666,
              "#ed7953"
             ],
             [
              0.7777777777777778,
              "#fb9f3a"
             ],
             [
              0.8888888888888888,
              "#fdca26"
             ],
             [
              1,
              "#f0f921"
             ]
            ],
            "type": "contour"
           }
          ],
          "contourcarpet": [
           {
            "colorbar": {
             "outlinewidth": 0,
             "ticks": ""
            },
            "type": "contourcarpet"
           }
          ],
          "heatmap": [
           {
            "colorbar": {
             "outlinewidth": 0,
             "ticks": ""
            },
            "colorscale": [
             [
              0,
              "#0d0887"
             ],
             [
              0.1111111111111111,
              "#46039f"
             ],
             [
              0.2222222222222222,
              "#7201a8"
             ],
             [
              0.3333333333333333,
              "#9c179e"
             ],
             [
              0.4444444444444444,
              "#bd3786"
             ],
             [
              0.5555555555555556,
              "#d8576b"
             ],
             [
              0.6666666666666666,
              "#ed7953"
             ],
             [
              0.7777777777777778,
              "#fb9f3a"
             ],
             [
              0.8888888888888888,
              "#fdca26"
             ],
             [
              1,
              "#f0f921"
             ]
            ],
            "type": "heatmap"
           }
          ],
          "heatmapgl": [
           {
            "colorbar": {
             "outlinewidth": 0,
             "ticks": ""
            },
            "colorscale": [
             [
              0,
              "#0d0887"
             ],
             [
              0.1111111111111111,
              "#46039f"
             ],
             [
              0.2222222222222222,
              "#7201a8"
             ],
             [
              0.3333333333333333,
              "#9c179e"
             ],
             [
              0.4444444444444444,
              "#bd3786"
             ],
             [
              0.5555555555555556,
              "#d8576b"
             ],
             [
              0.6666666666666666,
              "#ed7953"
             ],
             [
              0.7777777777777778,
              "#fb9f3a"
             ],
             [
              0.8888888888888888,
              "#fdca26"
             ],
             [
              1,
              "#f0f921"
             ]
            ],
            "type": "heatmapgl"
           }
          ],
          "histogram": [
           {
            "marker": {
             "pattern": {
              "fillmode": "overlay",
              "size": 10,
              "solidity": 0.2
             }
            },
            "type": "histogram"
           }
          ],
          "histogram2d": [
           {
            "colorbar": {
             "outlinewidth": 0,
             "ticks": ""
            },
            "colorscale": [
             [
              0,
              "#0d0887"
             ],
             [
              0.1111111111111111,
              "#46039f"
             ],
             [
              0.2222222222222222,
              "#7201a8"
             ],
             [
              0.3333333333333333,
              "#9c179e"
             ],
             [
              0.4444444444444444,
              "#bd3786"
             ],
             [
              0.5555555555555556,
              "#d8576b"
             ],
             [
              0.6666666666666666,
              "#ed7953"
             ],
             [
              0.7777777777777778,
              "#fb9f3a"
             ],
             [
              0.8888888888888888,
              "#fdca26"
             ],
             [
              1,
              "#f0f921"
             ]
            ],
            "type": "histogram2d"
           }
          ],
          "histogram2dcontour": [
           {
            "colorbar": {
             "outlinewidth": 0,
             "ticks": ""
            },
            "colorscale": [
             [
              0,
              "#0d0887"
             ],
             [
              0.1111111111111111,
              "#46039f"
             ],
             [
              0.2222222222222222,
              "#7201a8"
             ],
             [
              0.3333333333333333,
              "#9c179e"
             ],
             [
              0.4444444444444444,
              "#bd3786"
             ],
             [
              0.5555555555555556,
              "#d8576b"
             ],
             [
              0.6666666666666666,
              "#ed7953"
             ],
             [
              0.7777777777777778,
              "#fb9f3a"
             ],
             [
              0.8888888888888888,
              "#fdca26"
             ],
             [
              1,
              "#f0f921"
             ]
            ],
            "type": "histogram2dcontour"
           }
          ],
          "mesh3d": [
           {
            "colorbar": {
             "outlinewidth": 0,
             "ticks": ""
            },
            "type": "mesh3d"
           }
          ],
          "parcoords": [
           {
            "line": {
             "colorbar": {
              "outlinewidth": 0,
              "ticks": ""
             }
            },
            "type": "parcoords"
           }
          ],
          "pie": [
           {
            "automargin": true,
            "type": "pie"
           }
          ],
          "scatter": [
           {
            "fillpattern": {
             "fillmode": "overlay",
             "size": 10,
             "solidity": 0.2
            },
            "type": "scatter"
           }
          ],
          "scatter3d": [
           {
            "line": {
             "colorbar": {
              "outlinewidth": 0,
              "ticks": ""
             }
            },
            "marker": {
             "colorbar": {
              "outlinewidth": 0,
              "ticks": ""
             }
            },
            "type": "scatter3d"
           }
          ],
          "scattercarpet": [
           {
            "marker": {
             "colorbar": {
              "outlinewidth": 0,
              "ticks": ""
             }
            },
            "type": "scattercarpet"
           }
          ],
          "scattergeo": [
           {
            "marker": {
             "colorbar": {
              "outlinewidth": 0,
              "ticks": ""
             }
            },
            "type": "scattergeo"
           }
          ],
          "scattergl": [
           {
            "marker": {
             "colorbar": {
              "outlinewidth": 0,
              "ticks": ""
             }
            },
            "type": "scattergl"
           }
          ],
          "scattermapbox": [
           {
            "marker": {
             "colorbar": {
              "outlinewidth": 0,
              "ticks": ""
             }
            },
            "type": "scattermapbox"
           }
          ],
          "scatterpolar": [
           {
            "marker": {
             "colorbar": {
              "outlinewidth": 0,
              "ticks": ""
             }
            },
            "type": "scatterpolar"
           }
          ],
          "scatterpolargl": [
           {
            "marker": {
             "colorbar": {
              "outlinewidth": 0,
              "ticks": ""
             }
            },
            "type": "scatterpolargl"
           }
          ],
          "scatterternary": [
           {
            "marker": {
             "colorbar": {
              "outlinewidth": 0,
              "ticks": ""
             }
            },
            "type": "scatterternary"
           }
          ],
          "surface": [
           {
            "colorbar": {
             "outlinewidth": 0,
             "ticks": ""
            },
            "colorscale": [
             [
              0,
              "#0d0887"
             ],
             [
              0.1111111111111111,
              "#46039f"
             ],
             [
              0.2222222222222222,
              "#7201a8"
             ],
             [
              0.3333333333333333,
              "#9c179e"
             ],
             [
              0.4444444444444444,
              "#bd3786"
             ],
             [
              0.5555555555555556,
              "#d8576b"
             ],
             [
              0.6666666666666666,
              "#ed7953"
             ],
             [
              0.7777777777777778,
              "#fb9f3a"
             ],
             [
              0.8888888888888888,
              "#fdca26"
             ],
             [
              1,
              "#f0f921"
             ]
            ],
            "type": "surface"
           }
          ],
          "table": [
           {
            "cells": {
             "fill": {
              "color": "#EBF0F8"
             },
             "line": {
              "color": "white"
             }
            },
            "header": {
             "fill": {
              "color": "#C8D4E3"
             },
             "line": {
              "color": "white"
             }
            },
            "type": "table"
           }
          ]
         },
         "layout": {
          "annotationdefaults": {
           "arrowcolor": "#2a3f5f",
           "arrowhead": 0,
           "arrowwidth": 1
          },
          "autotypenumbers": "strict",
          "coloraxis": {
           "colorbar": {
            "outlinewidth": 0,
            "ticks": ""
           }
          },
          "colorscale": {
           "diverging": [
            [
             0,
             "#8e0152"
            ],
            [
             0.1,
             "#c51b7d"
            ],
            [
             0.2,
             "#de77ae"
            ],
            [
             0.3,
             "#f1b6da"
            ],
            [
             0.4,
             "#fde0ef"
            ],
            [
             0.5,
             "#f7f7f7"
            ],
            [
             0.6,
             "#e6f5d0"
            ],
            [
             0.7,
             "#b8e186"
            ],
            [
             0.8,
             "#7fbc41"
            ],
            [
             0.9,
             "#4d9221"
            ],
            [
             1,
             "#276419"
            ]
           ],
           "sequential": [
            [
             0,
             "#0d0887"
            ],
            [
             0.1111111111111111,
             "#46039f"
            ],
            [
             0.2222222222222222,
             "#7201a8"
            ],
            [
             0.3333333333333333,
             "#9c179e"
            ],
            [
             0.4444444444444444,
             "#bd3786"
            ],
            [
             0.5555555555555556,
             "#d8576b"
            ],
            [
             0.6666666666666666,
             "#ed7953"
            ],
            [
             0.7777777777777778,
             "#fb9f3a"
            ],
            [
             0.8888888888888888,
             "#fdca26"
            ],
            [
             1,
             "#f0f921"
            ]
           ],
           "sequentialminus": [
            [
             0,
             "#0d0887"
            ],
            [
             0.1111111111111111,
             "#46039f"
            ],
            [
             0.2222222222222222,
             "#7201a8"
            ],
            [
             0.3333333333333333,
             "#9c179e"
            ],
            [
             0.4444444444444444,
             "#bd3786"
            ],
            [
             0.5555555555555556,
             "#d8576b"
            ],
            [
             0.6666666666666666,
             "#ed7953"
            ],
            [
             0.7777777777777778,
             "#fb9f3a"
            ],
            [
             0.8888888888888888,
             "#fdca26"
            ],
            [
             1,
             "#f0f921"
            ]
           ]
          },
          "colorway": [
           "#636efa",
           "#EF553B",
           "#00cc96",
           "#ab63fa",
           "#FFA15A",
           "#19d3f3",
           "#FF6692",
           "#B6E880",
           "#FF97FF",
           "#FECB52"
          ],
          "font": {
           "color": "#2a3f5f"
          },
          "geo": {
           "bgcolor": "white",
           "lakecolor": "white",
           "landcolor": "#E5ECF6",
           "showlakes": true,
           "showland": true,
           "subunitcolor": "white"
          },
          "hoverlabel": {
           "align": "left"
          },
          "hovermode": "closest",
          "mapbox": {
           "style": "light"
          },
          "paper_bgcolor": "white",
          "plot_bgcolor": "#E5ECF6",
          "polar": {
           "angularaxis": {
            "gridcolor": "white",
            "linecolor": "white",
            "ticks": ""
           },
           "bgcolor": "#E5ECF6",
           "radialaxis": {
            "gridcolor": "white",
            "linecolor": "white",
            "ticks": ""
           }
          },
          "scene": {
           "xaxis": {
            "backgroundcolor": "#E5ECF6",
            "gridcolor": "white",
            "gridwidth": 2,
            "linecolor": "white",
            "showbackground": true,
            "ticks": "",
            "zerolinecolor": "white"
           },
           "yaxis": {
            "backgroundcolor": "#E5ECF6",
            "gridcolor": "white",
            "gridwidth": 2,
            "linecolor": "white",
            "showbackground": true,
            "ticks": "",
            "zerolinecolor": "white"
           },
           "zaxis": {
            "backgroundcolor": "#E5ECF6",
            "gridcolor": "white",
            "gridwidth": 2,
            "linecolor": "white",
            "showbackground": true,
            "ticks": "",
            "zerolinecolor": "white"
           }
          },
          "shapedefaults": {
           "line": {
            "color": "#2a3f5f"
           }
          },
          "ternary": {
           "aaxis": {
            "gridcolor": "white",
            "linecolor": "white",
            "ticks": ""
           },
           "baxis": {
            "gridcolor": "white",
            "linecolor": "white",
            "ticks": ""
           },
           "bgcolor": "#E5ECF6",
           "caxis": {
            "gridcolor": "white",
            "linecolor": "white",
            "ticks": ""
           }
          },
          "title": {
           "x": 0.05
          },
          "xaxis": {
           "automargin": true,
           "gridcolor": "white",
           "linecolor": "white",
           "ticks": "",
           "title": {
            "standoff": 15
           },
           "zerolinecolor": "white",
           "zerolinewidth": 2
          },
          "yaxis": {
           "automargin": true,
           "gridcolor": "white",
           "linecolor": "white",
           "ticks": "",
           "title": {
            "standoff": 15
           },
           "zerolinecolor": "white",
           "zerolinewidth": 2
          }
         }
        },
        "xaxis": {
         "anchor": "y",
         "domain": [
          0,
          1
         ],
         "title": {
          "text": "Periodo"
         }
        },
        "yaxis": {
         "anchor": "x",
         "domain": [
          0,
          1
         ],
         "title": {
          "text": "Total"
         }
        }
       }
      },
      "text/html": [
       "<div>                            <div id=\"a4487415-5543-4eeb-90db-b58278288502\" class=\"plotly-graph-div\" style=\"height:525px; width:100%;\"></div>            <script type=\"text/javascript\">                require([\"plotly\"], function(Plotly) {                    window.PLOTLYENV=window.PLOTLYENV || {};                                    if (document.getElementById(\"a4487415-5543-4eeb-90db-b58278288502\")) {                    Plotly.newPlot(                        \"a4487415-5543-4eeb-90db-b58278288502\",                        [{\"alignmentgroup\":\"True\",\"hovertemplate\":\"Periodo=%{x}<br>Total=%{y}<extra></extra>\",\"legendgroup\":\"\",\"marker\":{\"color\":\"#636efa\",\"pattern\":{\"shape\":\"\"}},\"name\":\"\",\"offsetgroup\":\"\",\"orientation\":\"v\",\"showlegend\":false,\"textposition\":\"auto\",\"x\":[1996,1995,1994,1993,1992,1991,1990,1989,1988,1987,1986,1985,1984,1983,1982,1981,1980],\"xaxis\":\"x\",\"y\":[5432,5551,4770,3980,3256,2503,1898,1288,768,409,164,47,0,0,0,0,0],\"yaxis\":\"y\",\"type\":\"bar\"}],                        {\"template\":{\"data\":{\"histogram2dcontour\":[{\"type\":\"histogram2dcontour\",\"colorbar\":{\"outlinewidth\":0,\"ticks\":\"\"},\"colorscale\":[[0.0,\"#0d0887\"],[0.1111111111111111,\"#46039f\"],[0.2222222222222222,\"#7201a8\"],[0.3333333333333333,\"#9c179e\"],[0.4444444444444444,\"#bd3786\"],[0.5555555555555556,\"#d8576b\"],[0.6666666666666666,\"#ed7953\"],[0.7777777777777778,\"#fb9f3a\"],[0.8888888888888888,\"#fdca26\"],[1.0,\"#f0f921\"]]}],\"choropleth\":[{\"type\":\"choropleth\",\"colorbar\":{\"outlinewidth\":0,\"ticks\":\"\"}}],\"histogram2d\":[{\"type\":\"histogram2d\",\"colorbar\":{\"outlinewidth\":0,\"ticks\":\"\"},\"colorscale\":[[0.0,\"#0d0887\"],[0.1111111111111111,\"#46039f\"],[0.2222222222222222,\"#7201a8\"],[0.3333333333333333,\"#9c179e\"],[0.4444444444444444,\"#bd3786\"],[0.5555555555555556,\"#d8576b\"],[0.6666666666666666,\"#ed7953\"],[0.7777777777777778,\"#fb9f3a\"],[0.8888888888888888,\"#fdca26\"],[1.0,\"#f0f921\"]]}],\"heatmap\":[{\"type\":\"heatmap\",\"colorbar\":{\"outlinewidth\":0,\"ticks\":\"\"},\"colorscale\":[[0.0,\"#0d0887\"],[0.1111111111111111,\"#46039f\"],[0.2222222222222222,\"#7201a8\"],[0.3333333333333333,\"#9c179e\"],[0.4444444444444444,\"#bd3786\"],[0.5555555555555556,\"#d8576b\"],[0.6666666666666666,\"#ed7953\"],[0.7777777777777778,\"#fb9f3a\"],[0.8888888888888888,\"#fdca26\"],[1.0,\"#f0f921\"]]}],\"heatmapgl\":[{\"type\":\"heatmapgl\",\"colorbar\":{\"outlinewidth\":0,\"ticks\":\"\"},\"colorscale\":[[0.0,\"#0d0887\"],[0.1111111111111111,\"#46039f\"],[0.2222222222222222,\"#7201a8\"],[0.3333333333333333,\"#9c179e\"],[0.4444444444444444,\"#bd3786\"],[0.5555555555555556,\"#d8576b\"],[0.6666666666666666,\"#ed7953\"],[0.7777777777777778,\"#fb9f3a\"],[0.8888888888888888,\"#fdca26\"],[1.0,\"#f0f921\"]]}],\"contourcarpet\":[{\"type\":\"contourcarpet\",\"colorbar\":{\"outlinewidth\":0,\"ticks\":\"\"}}],\"contour\":[{\"type\":\"contour\",\"colorbar\":{\"outlinewidth\":0,\"ticks\":\"\"},\"colorscale\":[[0.0,\"#0d0887\"],[0.1111111111111111,\"#46039f\"],[0.2222222222222222,\"#7201a8\"],[0.3333333333333333,\"#9c179e\"],[0.4444444444444444,\"#bd3786\"],[0.5555555555555556,\"#d8576b\"],[0.6666666666666666,\"#ed7953\"],[0.7777777777777778,\"#fb9f3a\"],[0.8888888888888888,\"#fdca26\"],[1.0,\"#f0f921\"]]}],\"surface\":[{\"type\":\"surface\",\"colorbar\":{\"outlinewidth\":0,\"ticks\":\"\"},\"colorscale\":[[0.0,\"#0d0887\"],[0.1111111111111111,\"#46039f\"],[0.2222222222222222,\"#7201a8\"],[0.3333333333333333,\"#9c179e\"],[0.4444444444444444,\"#bd3786\"],[0.5555555555555556,\"#d8576b\"],[0.6666666666666666,\"#ed7953\"],[0.7777777777777778,\"#fb9f3a\"],[0.8888888888888888,\"#fdca26\"],[1.0,\"#f0f921\"]]}],\"mesh3d\":[{\"type\":\"mesh3d\",\"colorbar\":{\"outlinewidth\":0,\"ticks\":\"\"}}],\"scatter\":[{\"fillpattern\":{\"fillmode\":\"overlay\",\"size\":10,\"solidity\":0.2},\"type\":\"scatter\"}],\"parcoords\":[{\"type\":\"parcoords\",\"line\":{\"colorbar\":{\"outlinewidth\":0,\"ticks\":\"\"}}}],\"scatterpolargl\":[{\"type\":\"scatterpolargl\",\"marker\":{\"colorbar\":{\"outlinewidth\":0,\"ticks\":\"\"}}}],\"bar\":[{\"error_x\":{\"color\":\"#2a3f5f\"},\"error_y\":{\"color\":\"#2a3f5f\"},\"marker\":{\"line\":{\"color\":\"#E5ECF6\",\"width\":0.5},\"pattern\":{\"fillmode\":\"overlay\",\"size\":10,\"solidity\":0.2}},\"type\":\"bar\"}],\"scattergeo\":[{\"type\":\"scattergeo\",\"marker\":{\"colorbar\":{\"outlinewidth\":0,\"ticks\":\"\"}}}],\"scatterpolar\":[{\"type\":\"scatterpolar\",\"marker\":{\"colorbar\":{\"outlinewidth\":0,\"ticks\":\"\"}}}],\"histogram\":[{\"marker\":{\"pattern\":{\"fillmode\":\"overlay\",\"size\":10,\"solidity\":0.2}},\"type\":\"histogram\"}],\"scattergl\":[{\"type\":\"scattergl\",\"marker\":{\"colorbar\":{\"outlinewidth\":0,\"ticks\":\"\"}}}],\"scatter3d\":[{\"type\":\"scatter3d\",\"line\":{\"colorbar\":{\"outlinewidth\":0,\"ticks\":\"\"}},\"marker\":{\"colorbar\":{\"outlinewidth\":0,\"ticks\":\"\"}}}],\"scattermapbox\":[{\"type\":\"scattermapbox\",\"marker\":{\"colorbar\":{\"outlinewidth\":0,\"ticks\":\"\"}}}],\"scatterternary\":[{\"type\":\"scatterternary\",\"marker\":{\"colorbar\":{\"outlinewidth\":0,\"ticks\":\"\"}}}],\"scattercarpet\":[{\"type\":\"scattercarpet\",\"marker\":{\"colorbar\":{\"outlinewidth\":0,\"ticks\":\"\"}}}],\"carpet\":[{\"aaxis\":{\"endlinecolor\":\"#2a3f5f\",\"gridcolor\":\"white\",\"linecolor\":\"white\",\"minorgridcolor\":\"white\",\"startlinecolor\":\"#2a3f5f\"},\"baxis\":{\"endlinecolor\":\"#2a3f5f\",\"gridcolor\":\"white\",\"linecolor\":\"white\",\"minorgridcolor\":\"white\",\"startlinecolor\":\"#2a3f5f\"},\"type\":\"carpet\"}],\"table\":[{\"cells\":{\"fill\":{\"color\":\"#EBF0F8\"},\"line\":{\"color\":\"white\"}},\"header\":{\"fill\":{\"color\":\"#C8D4E3\"},\"line\":{\"color\":\"white\"}},\"type\":\"table\"}],\"barpolar\":[{\"marker\":{\"line\":{\"color\":\"#E5ECF6\",\"width\":0.5},\"pattern\":{\"fillmode\":\"overlay\",\"size\":10,\"solidity\":0.2}},\"type\":\"barpolar\"}],\"pie\":[{\"automargin\":true,\"type\":\"pie\"}]},\"layout\":{\"autotypenumbers\":\"strict\",\"colorway\":[\"#636efa\",\"#EF553B\",\"#00cc96\",\"#ab63fa\",\"#FFA15A\",\"#19d3f3\",\"#FF6692\",\"#B6E880\",\"#FF97FF\",\"#FECB52\"],\"font\":{\"color\":\"#2a3f5f\"},\"hovermode\":\"closest\",\"hoverlabel\":{\"align\":\"left\"},\"paper_bgcolor\":\"white\",\"plot_bgcolor\":\"#E5ECF6\",\"polar\":{\"bgcolor\":\"#E5ECF6\",\"angularaxis\":{\"gridcolor\":\"white\",\"linecolor\":\"white\",\"ticks\":\"\"},\"radialaxis\":{\"gridcolor\":\"white\",\"linecolor\":\"white\",\"ticks\":\"\"}},\"ternary\":{\"bgcolor\":\"#E5ECF6\",\"aaxis\":{\"gridcolor\":\"white\",\"linecolor\":\"white\",\"ticks\":\"\"},\"baxis\":{\"gridcolor\":\"white\",\"linecolor\":\"white\",\"ticks\":\"\"},\"caxis\":{\"gridcolor\":\"white\",\"linecolor\":\"white\",\"ticks\":\"\"}},\"coloraxis\":{\"colorbar\":{\"outlinewidth\":0,\"ticks\":\"\"}},\"colorscale\":{\"sequential\":[[0.0,\"#0d0887\"],[0.1111111111111111,\"#46039f\"],[0.2222222222222222,\"#7201a8\"],[0.3333333333333333,\"#9c179e\"],[0.4444444444444444,\"#bd3786\"],[0.5555555555555556,\"#d8576b\"],[0.6666666666666666,\"#ed7953\"],[0.7777777777777778,\"#fb9f3a\"],[0.8888888888888888,\"#fdca26\"],[1.0,\"#f0f921\"]],\"sequentialminus\":[[0.0,\"#0d0887\"],[0.1111111111111111,\"#46039f\"],[0.2222222222222222,\"#7201a8\"],[0.3333333333333333,\"#9c179e\"],[0.4444444444444444,\"#bd3786\"],[0.5555555555555556,\"#d8576b\"],[0.6666666666666666,\"#ed7953\"],[0.7777777777777778,\"#fb9f3a\"],[0.8888888888888888,\"#fdca26\"],[1.0,\"#f0f921\"]],\"diverging\":[[0,\"#8e0152\"],[0.1,\"#c51b7d\"],[0.2,\"#de77ae\"],[0.3,\"#f1b6da\"],[0.4,\"#fde0ef\"],[0.5,\"#f7f7f7\"],[0.6,\"#e6f5d0\"],[0.7,\"#b8e186\"],[0.8,\"#7fbc41\"],[0.9,\"#4d9221\"],[1,\"#276419\"]]},\"xaxis\":{\"gridcolor\":\"white\",\"linecolor\":\"white\",\"ticks\":\"\",\"title\":{\"standoff\":15},\"zerolinecolor\":\"white\",\"automargin\":true,\"zerolinewidth\":2},\"yaxis\":{\"gridcolor\":\"white\",\"linecolor\":\"white\",\"ticks\":\"\",\"title\":{\"standoff\":15},\"zerolinecolor\":\"white\",\"automargin\":true,\"zerolinewidth\":2},\"scene\":{\"xaxis\":{\"backgroundcolor\":\"#E5ECF6\",\"gridcolor\":\"white\",\"linecolor\":\"white\",\"showbackground\":true,\"ticks\":\"\",\"zerolinecolor\":\"white\",\"gridwidth\":2},\"yaxis\":{\"backgroundcolor\":\"#E5ECF6\",\"gridcolor\":\"white\",\"linecolor\":\"white\",\"showbackground\":true,\"ticks\":\"\",\"zerolinecolor\":\"white\",\"gridwidth\":2},\"zaxis\":{\"backgroundcolor\":\"#E5ECF6\",\"gridcolor\":\"white\",\"linecolor\":\"white\",\"showbackground\":true,\"ticks\":\"\",\"zerolinecolor\":\"white\",\"gridwidth\":2}},\"shapedefaults\":{\"line\":{\"color\":\"#2a3f5f\"}},\"annotationdefaults\":{\"arrowcolor\":\"#2a3f5f\",\"arrowhead\":0,\"arrowwidth\":1},\"geo\":{\"bgcolor\":\"white\",\"landcolor\":\"#E5ECF6\",\"subunitcolor\":\"white\",\"showland\":true,\"showlakes\":true,\"lakecolor\":\"white\"},\"title\":{\"x\":0.05},\"mapbox\":{\"style\":\"light\"}}},\"xaxis\":{\"anchor\":\"y\",\"domain\":[0.0,1.0],\"title\":{\"text\":\"Periodo\"}},\"yaxis\":{\"anchor\":\"x\",\"domain\":[0.0,1.0],\"title\":{\"text\":\"Total\"}},\"legend\":{\"tracegroupgap\":0},\"margin\":{\"t\":60},\"barmode\":\"relative\"},                        {\"responsive\": true}                    ).then(function(){\n",
       "                            \n",
       "var gd = document.getElementById('a4487415-5543-4eeb-90db-b58278288502');\n",
       "var x = new MutationObserver(function (mutations, observer) {{\n",
       "        var display = window.getComputedStyle(gd).display;\n",
       "        if (!display || display === 'none') {{\n",
       "            console.log([gd, 'removed!']);\n",
       "            Plotly.purge(gd);\n",
       "            observer.disconnect();\n",
       "        }}\n",
       "}});\n",
       "\n",
       "// Listen for the removal of the full notebook cells\n",
       "var notebookContainer = gd.closest('#notebook-container');\n",
       "if (notebookContainer) {{\n",
       "    x.observe(notebookContainer, {childList: true});\n",
       "}}\n",
       "\n",
       "// Listen for the clearing of the current output cell\n",
       "var outputEl = gd.closest('.output');\n",
       "if (outputEl) {{\n",
       "    x.observe(outputEl, {childList: true});\n",
       "}}\n",
       "\n",
       "                        })                };                });            </script>        </div>"
      ]
     },
     "metadata": {},
     "output_type": "display_data"
    }
   ],
   "source": [
    "fig = px.bar(dataset_1996, x='Periodo', y='Total')\n",
    "fig.show()"
   ]
  },
  {
   "cell_type": "code",
   "execution_count": 20,
   "metadata": {},
   "outputs": [
    {
     "data": {
      "application/vnd.plotly.v1+json": {
       "config": {
        "plotlyServerURL": "https://plot.ly"
       },
       "data": [
        {
         "hovertemplate": "Periodo=%{x}<br>Total=%{y}<extra></extra>",
         "legendgroup": "",
         "line": {
          "color": "#636efa",
          "dash": "solid"
         },
         "marker": {
          "symbol": "circle"
         },
         "mode": "lines",
         "name": "",
         "orientation": "v",
         "showlegend": false,
         "type": "scatter",
         "x": [
          2018,
          2017,
          2016,
          2015,
          2014,
          2013,
          2012,
          2011,
          2010,
          2009,
          2008,
          2007,
          2006,
          2005,
          2004,
          2003,
          2002,
          2001,
          2000,
          1999,
          1998,
          1997,
          1996,
          1995,
          1994,
          1993,
          1992,
          1991,
          1990,
          1989,
          1988,
          1987,
          1986,
          1985,
          1984,
          1983,
          1982,
          1981,
          1980
         ],
         "xaxis": "x",
         "y": [
          423,
          442,
          498,
          633,
          700,
          749,
          880,
          953,
          1020,
          1079,
          1211,
          1307,
          1313,
          1450,
          1551,
          1632,
          1611,
          1632,
          1711,
          1802,
          1779,
          2844,
          5432,
          5551,
          4770,
          3980,
          3256,
          2503,
          1898,
          1288,
          768,
          409,
          164,
          47,
          0,
          0,
          0,
          0,
          0
         ],
         "yaxis": "y"
        }
       ],
       "layout": {
        "legend": {
         "tracegroupgap": 0
        },
        "template": {
         "data": {
          "bar": [
           {
            "error_x": {
             "color": "#2a3f5f"
            },
            "error_y": {
             "color": "#2a3f5f"
            },
            "marker": {
             "line": {
              "color": "#E5ECF6",
              "width": 0.5
             },
             "pattern": {
              "fillmode": "overlay",
              "size": 10,
              "solidity": 0.2
             }
            },
            "type": "bar"
           }
          ],
          "barpolar": [
           {
            "marker": {
             "line": {
              "color": "#E5ECF6",
              "width": 0.5
             },
             "pattern": {
              "fillmode": "overlay",
              "size": 10,
              "solidity": 0.2
             }
            },
            "type": "barpolar"
           }
          ],
          "carpet": [
           {
            "aaxis": {
             "endlinecolor": "#2a3f5f",
             "gridcolor": "white",
             "linecolor": "white",
             "minorgridcolor": "white",
             "startlinecolor": "#2a3f5f"
            },
            "baxis": {
             "endlinecolor": "#2a3f5f",
             "gridcolor": "white",
             "linecolor": "white",
             "minorgridcolor": "white",
             "startlinecolor": "#2a3f5f"
            },
            "type": "carpet"
           }
          ],
          "choropleth": [
           {
            "colorbar": {
             "outlinewidth": 0,
             "ticks": ""
            },
            "type": "choropleth"
           }
          ],
          "contour": [
           {
            "colorbar": {
             "outlinewidth": 0,
             "ticks": ""
            },
            "colorscale": [
             [
              0,
              "#0d0887"
             ],
             [
              0.1111111111111111,
              "#46039f"
             ],
             [
              0.2222222222222222,
              "#7201a8"
             ],
             [
              0.3333333333333333,
              "#9c179e"
             ],
             [
              0.4444444444444444,
              "#bd3786"
             ],
             [
              0.5555555555555556,
              "#d8576b"
             ],
             [
              0.6666666666666666,
              "#ed7953"
             ],
             [
              0.7777777777777778,
              "#fb9f3a"
             ],
             [
              0.8888888888888888,
              "#fdca26"
             ],
             [
              1,
              "#f0f921"
             ]
            ],
            "type": "contour"
           }
          ],
          "contourcarpet": [
           {
            "colorbar": {
             "outlinewidth": 0,
             "ticks": ""
            },
            "type": "contourcarpet"
           }
          ],
          "heatmap": [
           {
            "colorbar": {
             "outlinewidth": 0,
             "ticks": ""
            },
            "colorscale": [
             [
              0,
              "#0d0887"
             ],
             [
              0.1111111111111111,
              "#46039f"
             ],
             [
              0.2222222222222222,
              "#7201a8"
             ],
             [
              0.3333333333333333,
              "#9c179e"
             ],
             [
              0.4444444444444444,
              "#bd3786"
             ],
             [
              0.5555555555555556,
              "#d8576b"
             ],
             [
              0.6666666666666666,
              "#ed7953"
             ],
             [
              0.7777777777777778,
              "#fb9f3a"
             ],
             [
              0.8888888888888888,
              "#fdca26"
             ],
             [
              1,
              "#f0f921"
             ]
            ],
            "type": "heatmap"
           }
          ],
          "heatmapgl": [
           {
            "colorbar": {
             "outlinewidth": 0,
             "ticks": ""
            },
            "colorscale": [
             [
              0,
              "#0d0887"
             ],
             [
              0.1111111111111111,
              "#46039f"
             ],
             [
              0.2222222222222222,
              "#7201a8"
             ],
             [
              0.3333333333333333,
              "#9c179e"
             ],
             [
              0.4444444444444444,
              "#bd3786"
             ],
             [
              0.5555555555555556,
              "#d8576b"
             ],
             [
              0.6666666666666666,
              "#ed7953"
             ],
             [
              0.7777777777777778,
              "#fb9f3a"
             ],
             [
              0.8888888888888888,
              "#fdca26"
             ],
             [
              1,
              "#f0f921"
             ]
            ],
            "type": "heatmapgl"
           }
          ],
          "histogram": [
           {
            "marker": {
             "pattern": {
              "fillmode": "overlay",
              "size": 10,
              "solidity": 0.2
             }
            },
            "type": "histogram"
           }
          ],
          "histogram2d": [
           {
            "colorbar": {
             "outlinewidth": 0,
             "ticks": ""
            },
            "colorscale": [
             [
              0,
              "#0d0887"
             ],
             [
              0.1111111111111111,
              "#46039f"
             ],
             [
              0.2222222222222222,
              "#7201a8"
             ],
             [
              0.3333333333333333,
              "#9c179e"
             ],
             [
              0.4444444444444444,
              "#bd3786"
             ],
             [
              0.5555555555555556,
              "#d8576b"
             ],
             [
              0.6666666666666666,
              "#ed7953"
             ],
             [
              0.7777777777777778,
              "#fb9f3a"
             ],
             [
              0.8888888888888888,
              "#fdca26"
             ],
             [
              1,
              "#f0f921"
             ]
            ],
            "type": "histogram2d"
           }
          ],
          "histogram2dcontour": [
           {
            "colorbar": {
             "outlinewidth": 0,
             "ticks": ""
            },
            "colorscale": [
             [
              0,
              "#0d0887"
             ],
             [
              0.1111111111111111,
              "#46039f"
             ],
             [
              0.2222222222222222,
              "#7201a8"
             ],
             [
              0.3333333333333333,
              "#9c179e"
             ],
             [
              0.4444444444444444,
              "#bd3786"
             ],
             [
              0.5555555555555556,
              "#d8576b"
             ],
             [
              0.6666666666666666,
              "#ed7953"
             ],
             [
              0.7777777777777778,
              "#fb9f3a"
             ],
             [
              0.8888888888888888,
              "#fdca26"
             ],
             [
              1,
              "#f0f921"
             ]
            ],
            "type": "histogram2dcontour"
           }
          ],
          "mesh3d": [
           {
            "colorbar": {
             "outlinewidth": 0,
             "ticks": ""
            },
            "type": "mesh3d"
           }
          ],
          "parcoords": [
           {
            "line": {
             "colorbar": {
              "outlinewidth": 0,
              "ticks": ""
             }
            },
            "type": "parcoords"
           }
          ],
          "pie": [
           {
            "automargin": true,
            "type": "pie"
           }
          ],
          "scatter": [
           {
            "fillpattern": {
             "fillmode": "overlay",
             "size": 10,
             "solidity": 0.2
            },
            "type": "scatter"
           }
          ],
          "scatter3d": [
           {
            "line": {
             "colorbar": {
              "outlinewidth": 0,
              "ticks": ""
             }
            },
            "marker": {
             "colorbar": {
              "outlinewidth": 0,
              "ticks": ""
             }
            },
            "type": "scatter3d"
           }
          ],
          "scattercarpet": [
           {
            "marker": {
             "colorbar": {
              "outlinewidth": 0,
              "ticks": ""
             }
            },
            "type": "scattercarpet"
           }
          ],
          "scattergeo": [
           {
            "marker": {
             "colorbar": {
              "outlinewidth": 0,
              "ticks": ""
             }
            },
            "type": "scattergeo"
           }
          ],
          "scattergl": [
           {
            "marker": {
             "colorbar": {
              "outlinewidth": 0,
              "ticks": ""
             }
            },
            "type": "scattergl"
           }
          ],
          "scattermapbox": [
           {
            "marker": {
             "colorbar": {
              "outlinewidth": 0,
              "ticks": ""
             }
            },
            "type": "scattermapbox"
           }
          ],
          "scatterpolar": [
           {
            "marker": {
             "colorbar": {
              "outlinewidth": 0,
              "ticks": ""
             }
            },
            "type": "scatterpolar"
           }
          ],
          "scatterpolargl": [
           {
            "marker": {
             "colorbar": {
              "outlinewidth": 0,
              "ticks": ""
             }
            },
            "type": "scatterpolargl"
           }
          ],
          "scatterternary": [
           {
            "marker": {
             "colorbar": {
              "outlinewidth": 0,
              "ticks": ""
             }
            },
            "type": "scatterternary"
           }
          ],
          "surface": [
           {
            "colorbar": {
             "outlinewidth": 0,
             "ticks": ""
            },
            "colorscale": [
             [
              0,
              "#0d0887"
             ],
             [
              0.1111111111111111,
              "#46039f"
             ],
             [
              0.2222222222222222,
              "#7201a8"
             ],
             [
              0.3333333333333333,
              "#9c179e"
             ],
             [
              0.4444444444444444,
              "#bd3786"
             ],
             [
              0.5555555555555556,
              "#d8576b"
             ],
             [
              0.6666666666666666,
              "#ed7953"
             ],
             [
              0.7777777777777778,
              "#fb9f3a"
             ],
             [
              0.8888888888888888,
              "#fdca26"
             ],
             [
              1,
              "#f0f921"
             ]
            ],
            "type": "surface"
           }
          ],
          "table": [
           {
            "cells": {
             "fill": {
              "color": "#EBF0F8"
             },
             "line": {
              "color": "white"
             }
            },
            "header": {
             "fill": {
              "color": "#C8D4E3"
             },
             "line": {
              "color": "white"
             }
            },
            "type": "table"
           }
          ]
         },
         "layout": {
          "annotationdefaults": {
           "arrowcolor": "#2a3f5f",
           "arrowhead": 0,
           "arrowwidth": 1
          },
          "autotypenumbers": "strict",
          "coloraxis": {
           "colorbar": {
            "outlinewidth": 0,
            "ticks": ""
           }
          },
          "colorscale": {
           "diverging": [
            [
             0,
             "#8e0152"
            ],
            [
             0.1,
             "#c51b7d"
            ],
            [
             0.2,
             "#de77ae"
            ],
            [
             0.3,
             "#f1b6da"
            ],
            [
             0.4,
             "#fde0ef"
            ],
            [
             0.5,
             "#f7f7f7"
            ],
            [
             0.6,
             "#e6f5d0"
            ],
            [
             0.7,
             "#b8e186"
            ],
            [
             0.8,
             "#7fbc41"
            ],
            [
             0.9,
             "#4d9221"
            ],
            [
             1,
             "#276419"
            ]
           ],
           "sequential": [
            [
             0,
             "#0d0887"
            ],
            [
             0.1111111111111111,
             "#46039f"
            ],
            [
             0.2222222222222222,
             "#7201a8"
            ],
            [
             0.3333333333333333,
             "#9c179e"
            ],
            [
             0.4444444444444444,
             "#bd3786"
            ],
            [
             0.5555555555555556,
             "#d8576b"
            ],
            [
             0.6666666666666666,
             "#ed7953"
            ],
            [
             0.7777777777777778,
             "#fb9f3a"
            ],
            [
             0.8888888888888888,
             "#fdca26"
            ],
            [
             1,
             "#f0f921"
            ]
           ],
           "sequentialminus": [
            [
             0,
             "#0d0887"
            ],
            [
             0.1111111111111111,
             "#46039f"
            ],
            [
             0.2222222222222222,
             "#7201a8"
            ],
            [
             0.3333333333333333,
             "#9c179e"
            ],
            [
             0.4444444444444444,
             "#bd3786"
            ],
            [
             0.5555555555555556,
             "#d8576b"
            ],
            [
             0.6666666666666666,
             "#ed7953"
            ],
            [
             0.7777777777777778,
             "#fb9f3a"
            ],
            [
             0.8888888888888888,
             "#fdca26"
            ],
            [
             1,
             "#f0f921"
            ]
           ]
          },
          "colorway": [
           "#636efa",
           "#EF553B",
           "#00cc96",
           "#ab63fa",
           "#FFA15A",
           "#19d3f3",
           "#FF6692",
           "#B6E880",
           "#FF97FF",
           "#FECB52"
          ],
          "font": {
           "color": "#2a3f5f"
          },
          "geo": {
           "bgcolor": "white",
           "lakecolor": "white",
           "landcolor": "#E5ECF6",
           "showlakes": true,
           "showland": true,
           "subunitcolor": "white"
          },
          "hoverlabel": {
           "align": "left"
          },
          "hovermode": "closest",
          "mapbox": {
           "style": "light"
          },
          "paper_bgcolor": "white",
          "plot_bgcolor": "#E5ECF6",
          "polar": {
           "angularaxis": {
            "gridcolor": "white",
            "linecolor": "white",
            "ticks": ""
           },
           "bgcolor": "#E5ECF6",
           "radialaxis": {
            "gridcolor": "white",
            "linecolor": "white",
            "ticks": ""
           }
          },
          "scene": {
           "xaxis": {
            "backgroundcolor": "#E5ECF6",
            "gridcolor": "white",
            "gridwidth": 2,
            "linecolor": "white",
            "showbackground": true,
            "ticks": "",
            "zerolinecolor": "white"
           },
           "yaxis": {
            "backgroundcolor": "#E5ECF6",
            "gridcolor": "white",
            "gridwidth": 2,
            "linecolor": "white",
            "showbackground": true,
            "ticks": "",
            "zerolinecolor": "white"
           },
           "zaxis": {
            "backgroundcolor": "#E5ECF6",
            "gridcolor": "white",
            "gridwidth": 2,
            "linecolor": "white",
            "showbackground": true,
            "ticks": "",
            "zerolinecolor": "white"
           }
          },
          "shapedefaults": {
           "line": {
            "color": "#2a3f5f"
           }
          },
          "ternary": {
           "aaxis": {
            "gridcolor": "white",
            "linecolor": "white",
            "ticks": ""
           },
           "baxis": {
            "gridcolor": "white",
            "linecolor": "white",
            "ticks": ""
           },
           "bgcolor": "#E5ECF6",
           "caxis": {
            "gridcolor": "white",
            "linecolor": "white",
            "ticks": ""
           }
          },
          "title": {
           "x": 0.05
          },
          "xaxis": {
           "automargin": true,
           "gridcolor": "white",
           "linecolor": "white",
           "ticks": "",
           "title": {
            "standoff": 15
           },
           "zerolinecolor": "white",
           "zerolinewidth": 2
          },
          "yaxis": {
           "automargin": true,
           "gridcolor": "white",
           "linecolor": "white",
           "ticks": "",
           "title": {
            "standoff": 15
           },
           "zerolinecolor": "white",
           "zerolinewidth": 2
          }
         }
        },
        "title": {
         "text": "Evolución muertes últimos 40 años por SIDA"
        },
        "xaxis": {
         "anchor": "y",
         "domain": [
          0,
          1
         ],
         "title": {
          "text": "Periodo"
         }
        },
        "yaxis": {
         "anchor": "x",
         "domain": [
          0,
          1
         ],
         "title": {
          "text": "Total"
         }
        }
       }
      },
      "text/html": [
       "<div>                            <div id=\"bd5f32ab-433e-4105-a757-0246186a11b0\" class=\"plotly-graph-div\" style=\"height:525px; width:100%;\"></div>            <script type=\"text/javascript\">                require([\"plotly\"], function(Plotly) {                    window.PLOTLYENV=window.PLOTLYENV || {};                                    if (document.getElementById(\"bd5f32ab-433e-4105-a757-0246186a11b0\")) {                    Plotly.newPlot(                        \"bd5f32ab-433e-4105-a757-0246186a11b0\",                        [{\"hovertemplate\":\"Periodo=%{x}<br>Total=%{y}<extra></extra>\",\"legendgroup\":\"\",\"line\":{\"color\":\"#636efa\",\"dash\":\"solid\"},\"marker\":{\"symbol\":\"circle\"},\"mode\":\"lines\",\"name\":\"\",\"orientation\":\"v\",\"showlegend\":false,\"x\":[2018,2017,2016,2015,2014,2013,2012,2011,2010,2009,2008,2007,2006,2005,2004,2003,2002,2001,2000,1999,1998,1997,1996,1995,1994,1993,1992,1991,1990,1989,1988,1987,1986,1985,1984,1983,1982,1981,1980],\"xaxis\":\"x\",\"y\":[423,442,498,633,700,749,880,953,1020,1079,1211,1307,1313,1450,1551,1632,1611,1632,1711,1802,1779,2844,5432,5551,4770,3980,3256,2503,1898,1288,768,409,164,47,0,0,0,0,0],\"yaxis\":\"y\",\"type\":\"scatter\"}],                        {\"template\":{\"data\":{\"histogram2dcontour\":[{\"type\":\"histogram2dcontour\",\"colorbar\":{\"outlinewidth\":0,\"ticks\":\"\"},\"colorscale\":[[0.0,\"#0d0887\"],[0.1111111111111111,\"#46039f\"],[0.2222222222222222,\"#7201a8\"],[0.3333333333333333,\"#9c179e\"],[0.4444444444444444,\"#bd3786\"],[0.5555555555555556,\"#d8576b\"],[0.6666666666666666,\"#ed7953\"],[0.7777777777777778,\"#fb9f3a\"],[0.8888888888888888,\"#fdca26\"],[1.0,\"#f0f921\"]]}],\"choropleth\":[{\"type\":\"choropleth\",\"colorbar\":{\"outlinewidth\":0,\"ticks\":\"\"}}],\"histogram2d\":[{\"type\":\"histogram2d\",\"colorbar\":{\"outlinewidth\":0,\"ticks\":\"\"},\"colorscale\":[[0.0,\"#0d0887\"],[0.1111111111111111,\"#46039f\"],[0.2222222222222222,\"#7201a8\"],[0.3333333333333333,\"#9c179e\"],[0.4444444444444444,\"#bd3786\"],[0.5555555555555556,\"#d8576b\"],[0.6666666666666666,\"#ed7953\"],[0.7777777777777778,\"#fb9f3a\"],[0.8888888888888888,\"#fdca26\"],[1.0,\"#f0f921\"]]}],\"heatmap\":[{\"type\":\"heatmap\",\"colorbar\":{\"outlinewidth\":0,\"ticks\":\"\"},\"colorscale\":[[0.0,\"#0d0887\"],[0.1111111111111111,\"#46039f\"],[0.2222222222222222,\"#7201a8\"],[0.3333333333333333,\"#9c179e\"],[0.4444444444444444,\"#bd3786\"],[0.5555555555555556,\"#d8576b\"],[0.6666666666666666,\"#ed7953\"],[0.7777777777777778,\"#fb9f3a\"],[0.8888888888888888,\"#fdca26\"],[1.0,\"#f0f921\"]]}],\"heatmapgl\":[{\"type\":\"heatmapgl\",\"colorbar\":{\"outlinewidth\":0,\"ticks\":\"\"},\"colorscale\":[[0.0,\"#0d0887\"],[0.1111111111111111,\"#46039f\"],[0.2222222222222222,\"#7201a8\"],[0.3333333333333333,\"#9c179e\"],[0.4444444444444444,\"#bd3786\"],[0.5555555555555556,\"#d8576b\"],[0.6666666666666666,\"#ed7953\"],[0.7777777777777778,\"#fb9f3a\"],[0.8888888888888888,\"#fdca26\"],[1.0,\"#f0f921\"]]}],\"contourcarpet\":[{\"type\":\"contourcarpet\",\"colorbar\":{\"outlinewidth\":0,\"ticks\":\"\"}}],\"contour\":[{\"type\":\"contour\",\"colorbar\":{\"outlinewidth\":0,\"ticks\":\"\"},\"colorscale\":[[0.0,\"#0d0887\"],[0.1111111111111111,\"#46039f\"],[0.2222222222222222,\"#7201a8\"],[0.3333333333333333,\"#9c179e\"],[0.4444444444444444,\"#bd3786\"],[0.5555555555555556,\"#d8576b\"],[0.6666666666666666,\"#ed7953\"],[0.7777777777777778,\"#fb9f3a\"],[0.8888888888888888,\"#fdca26\"],[1.0,\"#f0f921\"]]}],\"surface\":[{\"type\":\"surface\",\"colorbar\":{\"outlinewidth\":0,\"ticks\":\"\"},\"colorscale\":[[0.0,\"#0d0887\"],[0.1111111111111111,\"#46039f\"],[0.2222222222222222,\"#7201a8\"],[0.3333333333333333,\"#9c179e\"],[0.4444444444444444,\"#bd3786\"],[0.5555555555555556,\"#d8576b\"],[0.6666666666666666,\"#ed7953\"],[0.7777777777777778,\"#fb9f3a\"],[0.8888888888888888,\"#fdca26\"],[1.0,\"#f0f921\"]]}],\"mesh3d\":[{\"type\":\"mesh3d\",\"colorbar\":{\"outlinewidth\":0,\"ticks\":\"\"}}],\"scatter\":[{\"fillpattern\":{\"fillmode\":\"overlay\",\"size\":10,\"solidity\":0.2},\"type\":\"scatter\"}],\"parcoords\":[{\"type\":\"parcoords\",\"line\":{\"colorbar\":{\"outlinewidth\":0,\"ticks\":\"\"}}}],\"scatterpolargl\":[{\"type\":\"scatterpolargl\",\"marker\":{\"colorbar\":{\"outlinewidth\":0,\"ticks\":\"\"}}}],\"bar\":[{\"error_x\":{\"color\":\"#2a3f5f\"},\"error_y\":{\"color\":\"#2a3f5f\"},\"marker\":{\"line\":{\"color\":\"#E5ECF6\",\"width\":0.5},\"pattern\":{\"fillmode\":\"overlay\",\"size\":10,\"solidity\":0.2}},\"type\":\"bar\"}],\"scattergeo\":[{\"type\":\"scattergeo\",\"marker\":{\"colorbar\":{\"outlinewidth\":0,\"ticks\":\"\"}}}],\"scatterpolar\":[{\"type\":\"scatterpolar\",\"marker\":{\"colorbar\":{\"outlinewidth\":0,\"ticks\":\"\"}}}],\"histogram\":[{\"marker\":{\"pattern\":{\"fillmode\":\"overlay\",\"size\":10,\"solidity\":0.2}},\"type\":\"histogram\"}],\"scattergl\":[{\"type\":\"scattergl\",\"marker\":{\"colorbar\":{\"outlinewidth\":0,\"ticks\":\"\"}}}],\"scatter3d\":[{\"type\":\"scatter3d\",\"line\":{\"colorbar\":{\"outlinewidth\":0,\"ticks\":\"\"}},\"marker\":{\"colorbar\":{\"outlinewidth\":0,\"ticks\":\"\"}}}],\"scattermapbox\":[{\"type\":\"scattermapbox\",\"marker\":{\"colorbar\":{\"outlinewidth\":0,\"ticks\":\"\"}}}],\"scatterternary\":[{\"type\":\"scatterternary\",\"marker\":{\"colorbar\":{\"outlinewidth\":0,\"ticks\":\"\"}}}],\"scattercarpet\":[{\"type\":\"scattercarpet\",\"marker\":{\"colorbar\":{\"outlinewidth\":0,\"ticks\":\"\"}}}],\"carpet\":[{\"aaxis\":{\"endlinecolor\":\"#2a3f5f\",\"gridcolor\":\"white\",\"linecolor\":\"white\",\"minorgridcolor\":\"white\",\"startlinecolor\":\"#2a3f5f\"},\"baxis\":{\"endlinecolor\":\"#2a3f5f\",\"gridcolor\":\"white\",\"linecolor\":\"white\",\"minorgridcolor\":\"white\",\"startlinecolor\":\"#2a3f5f\"},\"type\":\"carpet\"}],\"table\":[{\"cells\":{\"fill\":{\"color\":\"#EBF0F8\"},\"line\":{\"color\":\"white\"}},\"header\":{\"fill\":{\"color\":\"#C8D4E3\"},\"line\":{\"color\":\"white\"}},\"type\":\"table\"}],\"barpolar\":[{\"marker\":{\"line\":{\"color\":\"#E5ECF6\",\"width\":0.5},\"pattern\":{\"fillmode\":\"overlay\",\"size\":10,\"solidity\":0.2}},\"type\":\"barpolar\"}],\"pie\":[{\"automargin\":true,\"type\":\"pie\"}]},\"layout\":{\"autotypenumbers\":\"strict\",\"colorway\":[\"#636efa\",\"#EF553B\",\"#00cc96\",\"#ab63fa\",\"#FFA15A\",\"#19d3f3\",\"#FF6692\",\"#B6E880\",\"#FF97FF\",\"#FECB52\"],\"font\":{\"color\":\"#2a3f5f\"},\"hovermode\":\"closest\",\"hoverlabel\":{\"align\":\"left\"},\"paper_bgcolor\":\"white\",\"plot_bgcolor\":\"#E5ECF6\",\"polar\":{\"bgcolor\":\"#E5ECF6\",\"angularaxis\":{\"gridcolor\":\"white\",\"linecolor\":\"white\",\"ticks\":\"\"},\"radialaxis\":{\"gridcolor\":\"white\",\"linecolor\":\"white\",\"ticks\":\"\"}},\"ternary\":{\"bgcolor\":\"#E5ECF6\",\"aaxis\":{\"gridcolor\":\"white\",\"linecolor\":\"white\",\"ticks\":\"\"},\"baxis\":{\"gridcolor\":\"white\",\"linecolor\":\"white\",\"ticks\":\"\"},\"caxis\":{\"gridcolor\":\"white\",\"linecolor\":\"white\",\"ticks\":\"\"}},\"coloraxis\":{\"colorbar\":{\"outlinewidth\":0,\"ticks\":\"\"}},\"colorscale\":{\"sequential\":[[0.0,\"#0d0887\"],[0.1111111111111111,\"#46039f\"],[0.2222222222222222,\"#7201a8\"],[0.3333333333333333,\"#9c179e\"],[0.4444444444444444,\"#bd3786\"],[0.5555555555555556,\"#d8576b\"],[0.6666666666666666,\"#ed7953\"],[0.7777777777777778,\"#fb9f3a\"],[0.8888888888888888,\"#fdca26\"],[1.0,\"#f0f921\"]],\"sequentialminus\":[[0.0,\"#0d0887\"],[0.1111111111111111,\"#46039f\"],[0.2222222222222222,\"#7201a8\"],[0.3333333333333333,\"#9c179e\"],[0.4444444444444444,\"#bd3786\"],[0.5555555555555556,\"#d8576b\"],[0.6666666666666666,\"#ed7953\"],[0.7777777777777778,\"#fb9f3a\"],[0.8888888888888888,\"#fdca26\"],[1.0,\"#f0f921\"]],\"diverging\":[[0,\"#8e0152\"],[0.1,\"#c51b7d\"],[0.2,\"#de77ae\"],[0.3,\"#f1b6da\"],[0.4,\"#fde0ef\"],[0.5,\"#f7f7f7\"],[0.6,\"#e6f5d0\"],[0.7,\"#b8e186\"],[0.8,\"#7fbc41\"],[0.9,\"#4d9221\"],[1,\"#276419\"]]},\"xaxis\":{\"gridcolor\":\"white\",\"linecolor\":\"white\",\"ticks\":\"\",\"title\":{\"standoff\":15},\"zerolinecolor\":\"white\",\"automargin\":true,\"zerolinewidth\":2},\"yaxis\":{\"gridcolor\":\"white\",\"linecolor\":\"white\",\"ticks\":\"\",\"title\":{\"standoff\":15},\"zerolinecolor\":\"white\",\"automargin\":true,\"zerolinewidth\":2},\"scene\":{\"xaxis\":{\"backgroundcolor\":\"#E5ECF6\",\"gridcolor\":\"white\",\"linecolor\":\"white\",\"showbackground\":true,\"ticks\":\"\",\"zerolinecolor\":\"white\",\"gridwidth\":2},\"yaxis\":{\"backgroundcolor\":\"#E5ECF6\",\"gridcolor\":\"white\",\"linecolor\":\"white\",\"showbackground\":true,\"ticks\":\"\",\"zerolinecolor\":\"white\",\"gridwidth\":2},\"zaxis\":{\"backgroundcolor\":\"#E5ECF6\",\"gridcolor\":\"white\",\"linecolor\":\"white\",\"showbackground\":true,\"ticks\":\"\",\"zerolinecolor\":\"white\",\"gridwidth\":2}},\"shapedefaults\":{\"line\":{\"color\":\"#2a3f5f\"}},\"annotationdefaults\":{\"arrowcolor\":\"#2a3f5f\",\"arrowhead\":0,\"arrowwidth\":1},\"geo\":{\"bgcolor\":\"white\",\"landcolor\":\"#E5ECF6\",\"subunitcolor\":\"white\",\"showland\":true,\"showlakes\":true,\"lakecolor\":\"white\"},\"title\":{\"x\":0.05},\"mapbox\":{\"style\":\"light\"}}},\"xaxis\":{\"anchor\":\"y\",\"domain\":[0.0,1.0],\"title\":{\"text\":\"Periodo\"}},\"yaxis\":{\"anchor\":\"x\",\"domain\":[0.0,1.0],\"title\":{\"text\":\"Total\"}},\"legend\":{\"tracegroupgap\":0},\"title\":{\"text\":\"Evoluci\\u00f3n muertes \\u00faltimos 40 a\\u00f1os por SIDA\"}},                        {\"responsive\": true}                    ).then(function(){\n",
       "                            \n",
       "var gd = document.getElementById('bd5f32ab-433e-4105-a757-0246186a11b0');\n",
       "var x = new MutationObserver(function (mutations, observer) {{\n",
       "        var display = window.getComputedStyle(gd).display;\n",
       "        if (!display || display === 'none') {{\n",
       "            console.log([gd, 'removed!']);\n",
       "            Plotly.purge(gd);\n",
       "            observer.disconnect();\n",
       "        }}\n",
       "}});\n",
       "\n",
       "// Listen for the removal of the full notebook cells\n",
       "var notebookContainer = gd.closest('#notebook-container');\n",
       "if (notebookContainer) {{\n",
       "    x.observe(notebookContainer, {childList: true});\n",
       "}}\n",
       "\n",
       "// Listen for the clearing of the current output cell\n",
       "var outputEl = gd.closest('.output');\n",
       "if (outputEl) {{\n",
       "    x.observe(outputEl, {childList: true});\n",
       "}}\n",
       "\n",
       "                        })                };                });            </script>        </div>"
      ]
     },
     "metadata": {},
     "output_type": "display_data"
    }
   ],
   "source": [
    "fig = px.line(dataset_ordered, x=\"Periodo\", y=\"Total\", title='Evolución muertes últimos 40 años por SIDA')\n",
    "fig.show()"
   ]
  },
  {
   "cell_type": "code",
   "execution_count": 21,
   "metadata": {},
   "outputs": [
    {
     "data": {
      "application/vnd.plotly.v1+json": {
       "config": {
        "plotlyServerURL": "https://plot.ly"
       },
       "data": [
        {
         "hovertemplate": "Periodo=%{x}<br>Total=%{y}<extra></extra>",
         "legendgroup": "",
         "line": {
          "color": "#636efa",
          "dash": "solid"
         },
         "marker": {
          "symbol": "circle"
         },
         "mode": "lines",
         "name": "",
         "orientation": "v",
         "showlegend": false,
         "type": "scatter",
         "x": [
          1996,
          1995,
          1994,
          1993,
          1992,
          1991,
          1990,
          1989,
          1988,
          1987,
          1986,
          1985,
          1984,
          1983,
          1982,
          1981,
          1980
         ],
         "xaxis": "x",
         "y": [
          5432,
          5551,
          4770,
          3980,
          3256,
          2503,
          1898,
          1288,
          768,
          409,
          164,
          47,
          0,
          0,
          0,
          0,
          0
         ],
         "yaxis": "y"
        }
       ],
       "layout": {
        "legend": {
         "tracegroupgap": 0
        },
        "template": {
         "data": {
          "bar": [
           {
            "error_x": {
             "color": "#2a3f5f"
            },
            "error_y": {
             "color": "#2a3f5f"
            },
            "marker": {
             "line": {
              "color": "#E5ECF6",
              "width": 0.5
             },
             "pattern": {
              "fillmode": "overlay",
              "size": 10,
              "solidity": 0.2
             }
            },
            "type": "bar"
           }
          ],
          "barpolar": [
           {
            "marker": {
             "line": {
              "color": "#E5ECF6",
              "width": 0.5
             },
             "pattern": {
              "fillmode": "overlay",
              "size": 10,
              "solidity": 0.2
             }
            },
            "type": "barpolar"
           }
          ],
          "carpet": [
           {
            "aaxis": {
             "endlinecolor": "#2a3f5f",
             "gridcolor": "white",
             "linecolor": "white",
             "minorgridcolor": "white",
             "startlinecolor": "#2a3f5f"
            },
            "baxis": {
             "endlinecolor": "#2a3f5f",
             "gridcolor": "white",
             "linecolor": "white",
             "minorgridcolor": "white",
             "startlinecolor": "#2a3f5f"
            },
            "type": "carpet"
           }
          ],
          "choropleth": [
           {
            "colorbar": {
             "outlinewidth": 0,
             "ticks": ""
            },
            "type": "choropleth"
           }
          ],
          "contour": [
           {
            "colorbar": {
             "outlinewidth": 0,
             "ticks": ""
            },
            "colorscale": [
             [
              0,
              "#0d0887"
             ],
             [
              0.1111111111111111,
              "#46039f"
             ],
             [
              0.2222222222222222,
              "#7201a8"
             ],
             [
              0.3333333333333333,
              "#9c179e"
             ],
             [
              0.4444444444444444,
              "#bd3786"
             ],
             [
              0.5555555555555556,
              "#d8576b"
             ],
             [
              0.6666666666666666,
              "#ed7953"
             ],
             [
              0.7777777777777778,
              "#fb9f3a"
             ],
             [
              0.8888888888888888,
              "#fdca26"
             ],
             [
              1,
              "#f0f921"
             ]
            ],
            "type": "contour"
           }
          ],
          "contourcarpet": [
           {
            "colorbar": {
             "outlinewidth": 0,
             "ticks": ""
            },
            "type": "contourcarpet"
           }
          ],
          "heatmap": [
           {
            "colorbar": {
             "outlinewidth": 0,
             "ticks": ""
            },
            "colorscale": [
             [
              0,
              "#0d0887"
             ],
             [
              0.1111111111111111,
              "#46039f"
             ],
             [
              0.2222222222222222,
              "#7201a8"
             ],
             [
              0.3333333333333333,
              "#9c179e"
             ],
             [
              0.4444444444444444,
              "#bd3786"
             ],
             [
              0.5555555555555556,
              "#d8576b"
             ],
             [
              0.6666666666666666,
              "#ed7953"
             ],
             [
              0.7777777777777778,
              "#fb9f3a"
             ],
             [
              0.8888888888888888,
              "#fdca26"
             ],
             [
              1,
              "#f0f921"
             ]
            ],
            "type": "heatmap"
           }
          ],
          "heatmapgl": [
           {
            "colorbar": {
             "outlinewidth": 0,
             "ticks": ""
            },
            "colorscale": [
             [
              0,
              "#0d0887"
             ],
             [
              0.1111111111111111,
              "#46039f"
             ],
             [
              0.2222222222222222,
              "#7201a8"
             ],
             [
              0.3333333333333333,
              "#9c179e"
             ],
             [
              0.4444444444444444,
              "#bd3786"
             ],
             [
              0.5555555555555556,
              "#d8576b"
             ],
             [
              0.6666666666666666,
              "#ed7953"
             ],
             [
              0.7777777777777778,
              "#fb9f3a"
             ],
             [
              0.8888888888888888,
              "#fdca26"
             ],
             [
              1,
              "#f0f921"
             ]
            ],
            "type": "heatmapgl"
           }
          ],
          "histogram": [
           {
            "marker": {
             "pattern": {
              "fillmode": "overlay",
              "size": 10,
              "solidity": 0.2
             }
            },
            "type": "histogram"
           }
          ],
          "histogram2d": [
           {
            "colorbar": {
             "outlinewidth": 0,
             "ticks": ""
            },
            "colorscale": [
             [
              0,
              "#0d0887"
             ],
             [
              0.1111111111111111,
              "#46039f"
             ],
             [
              0.2222222222222222,
              "#7201a8"
             ],
             [
              0.3333333333333333,
              "#9c179e"
             ],
             [
              0.4444444444444444,
              "#bd3786"
             ],
             [
              0.5555555555555556,
              "#d8576b"
             ],
             [
              0.6666666666666666,
              "#ed7953"
             ],
             [
              0.7777777777777778,
              "#fb9f3a"
             ],
             [
              0.8888888888888888,
              "#fdca26"
             ],
             [
              1,
              "#f0f921"
             ]
            ],
            "type": "histogram2d"
           }
          ],
          "histogram2dcontour": [
           {
            "colorbar": {
             "outlinewidth": 0,
             "ticks": ""
            },
            "colorscale": [
             [
              0,
              "#0d0887"
             ],
             [
              0.1111111111111111,
              "#46039f"
             ],
             [
              0.2222222222222222,
              "#7201a8"
             ],
             [
              0.3333333333333333,
              "#9c179e"
             ],
             [
              0.4444444444444444,
              "#bd3786"
             ],
             [
              0.5555555555555556,
              "#d8576b"
             ],
             [
              0.6666666666666666,
              "#ed7953"
             ],
             [
              0.7777777777777778,
              "#fb9f3a"
             ],
             [
              0.8888888888888888,
              "#fdca26"
             ],
             [
              1,
              "#f0f921"
             ]
            ],
            "type": "histogram2dcontour"
           }
          ],
          "mesh3d": [
           {
            "colorbar": {
             "outlinewidth": 0,
             "ticks": ""
            },
            "type": "mesh3d"
           }
          ],
          "parcoords": [
           {
            "line": {
             "colorbar": {
              "outlinewidth": 0,
              "ticks": ""
             }
            },
            "type": "parcoords"
           }
          ],
          "pie": [
           {
            "automargin": true,
            "type": "pie"
           }
          ],
          "scatter": [
           {
            "fillpattern": {
             "fillmode": "overlay",
             "size": 10,
             "solidity": 0.2
            },
            "type": "scatter"
           }
          ],
          "scatter3d": [
           {
            "line": {
             "colorbar": {
              "outlinewidth": 0,
              "ticks": ""
             }
            },
            "marker": {
             "colorbar": {
              "outlinewidth": 0,
              "ticks": ""
             }
            },
            "type": "scatter3d"
           }
          ],
          "scattercarpet": [
           {
            "marker": {
             "colorbar": {
              "outlinewidth": 0,
              "ticks": ""
             }
            },
            "type": "scattercarpet"
           }
          ],
          "scattergeo": [
           {
            "marker": {
             "colorbar": {
              "outlinewidth": 0,
              "ticks": ""
             }
            },
            "type": "scattergeo"
           }
          ],
          "scattergl": [
           {
            "marker": {
             "colorbar": {
              "outlinewidth": 0,
              "ticks": ""
             }
            },
            "type": "scattergl"
           }
          ],
          "scattermapbox": [
           {
            "marker": {
             "colorbar": {
              "outlinewidth": 0,
              "ticks": ""
             }
            },
            "type": "scattermapbox"
           }
          ],
          "scatterpolar": [
           {
            "marker": {
             "colorbar": {
              "outlinewidth": 0,
              "ticks": ""
             }
            },
            "type": "scatterpolar"
           }
          ],
          "scatterpolargl": [
           {
            "marker": {
             "colorbar": {
              "outlinewidth": 0,
              "ticks": ""
             }
            },
            "type": "scatterpolargl"
           }
          ],
          "scatterternary": [
           {
            "marker": {
             "colorbar": {
              "outlinewidth": 0,
              "ticks": ""
             }
            },
            "type": "scatterternary"
           }
          ],
          "surface": [
           {
            "colorbar": {
             "outlinewidth": 0,
             "ticks": ""
            },
            "colorscale": [
             [
              0,
              "#0d0887"
             ],
             [
              0.1111111111111111,
              "#46039f"
             ],
             [
              0.2222222222222222,
              "#7201a8"
             ],
             [
              0.3333333333333333,
              "#9c179e"
             ],
             [
              0.4444444444444444,
              "#bd3786"
             ],
             [
              0.5555555555555556,
              "#d8576b"
             ],
             [
              0.6666666666666666,
              "#ed7953"
             ],
             [
              0.7777777777777778,
              "#fb9f3a"
             ],
             [
              0.8888888888888888,
              "#fdca26"
             ],
             [
              1,
              "#f0f921"
             ]
            ],
            "type": "surface"
           }
          ],
          "table": [
           {
            "cells": {
             "fill": {
              "color": "#EBF0F8"
             },
             "line": {
              "color": "white"
             }
            },
            "header": {
             "fill": {
              "color": "#C8D4E3"
             },
             "line": {
              "color": "white"
             }
            },
            "type": "table"
           }
          ]
         },
         "layout": {
          "annotationdefaults": {
           "arrowcolor": "#2a3f5f",
           "arrowhead": 0,
           "arrowwidth": 1
          },
          "autotypenumbers": "strict",
          "coloraxis": {
           "colorbar": {
            "outlinewidth": 0,
            "ticks": ""
           }
          },
          "colorscale": {
           "diverging": [
            [
             0,
             "#8e0152"
            ],
            [
             0.1,
             "#c51b7d"
            ],
            [
             0.2,
             "#de77ae"
            ],
            [
             0.3,
             "#f1b6da"
            ],
            [
             0.4,
             "#fde0ef"
            ],
            [
             0.5,
             "#f7f7f7"
            ],
            [
             0.6,
             "#e6f5d0"
            ],
            [
             0.7,
             "#b8e186"
            ],
            [
             0.8,
             "#7fbc41"
            ],
            [
             0.9,
             "#4d9221"
            ],
            [
             1,
             "#276419"
            ]
           ],
           "sequential": [
            [
             0,
             "#0d0887"
            ],
            [
             0.1111111111111111,
             "#46039f"
            ],
            [
             0.2222222222222222,
             "#7201a8"
            ],
            [
             0.3333333333333333,
             "#9c179e"
            ],
            [
             0.4444444444444444,
             "#bd3786"
            ],
            [
             0.5555555555555556,
             "#d8576b"
            ],
            [
             0.6666666666666666,
             "#ed7953"
            ],
            [
             0.7777777777777778,
             "#fb9f3a"
            ],
            [
             0.8888888888888888,
             "#fdca26"
            ],
            [
             1,
             "#f0f921"
            ]
           ],
           "sequentialminus": [
            [
             0,
             "#0d0887"
            ],
            [
             0.1111111111111111,
             "#46039f"
            ],
            [
             0.2222222222222222,
             "#7201a8"
            ],
            [
             0.3333333333333333,
             "#9c179e"
            ],
            [
             0.4444444444444444,
             "#bd3786"
            ],
            [
             0.5555555555555556,
             "#d8576b"
            ],
            [
             0.6666666666666666,
             "#ed7953"
            ],
            [
             0.7777777777777778,
             "#fb9f3a"
            ],
            [
             0.8888888888888888,
             "#fdca26"
            ],
            [
             1,
             "#f0f921"
            ]
           ]
          },
          "colorway": [
           "#636efa",
           "#EF553B",
           "#00cc96",
           "#ab63fa",
           "#FFA15A",
           "#19d3f3",
           "#FF6692",
           "#B6E880",
           "#FF97FF",
           "#FECB52"
          ],
          "font": {
           "color": "#2a3f5f"
          },
          "geo": {
           "bgcolor": "white",
           "lakecolor": "white",
           "landcolor": "#E5ECF6",
           "showlakes": true,
           "showland": true,
           "subunitcolor": "white"
          },
          "hoverlabel": {
           "align": "left"
          },
          "hovermode": "closest",
          "mapbox": {
           "style": "light"
          },
          "paper_bgcolor": "white",
          "plot_bgcolor": "#E5ECF6",
          "polar": {
           "angularaxis": {
            "gridcolor": "white",
            "linecolor": "white",
            "ticks": ""
           },
           "bgcolor": "#E5ECF6",
           "radialaxis": {
            "gridcolor": "white",
            "linecolor": "white",
            "ticks": ""
           }
          },
          "scene": {
           "xaxis": {
            "backgroundcolor": "#E5ECF6",
            "gridcolor": "white",
            "gridwidth": 2,
            "linecolor": "white",
            "showbackground": true,
            "ticks": "",
            "zerolinecolor": "white"
           },
           "yaxis": {
            "backgroundcolor": "#E5ECF6",
            "gridcolor": "white",
            "gridwidth": 2,
            "linecolor": "white",
            "showbackground": true,
            "ticks": "",
            "zerolinecolor": "white"
           },
           "zaxis": {
            "backgroundcolor": "#E5ECF6",
            "gridcolor": "white",
            "gridwidth": 2,
            "linecolor": "white",
            "showbackground": true,
            "ticks": "",
            "zerolinecolor": "white"
           }
          },
          "shapedefaults": {
           "line": {
            "color": "#2a3f5f"
           }
          },
          "ternary": {
           "aaxis": {
            "gridcolor": "white",
            "linecolor": "white",
            "ticks": ""
           },
           "baxis": {
            "gridcolor": "white",
            "linecolor": "white",
            "ticks": ""
           },
           "bgcolor": "#E5ECF6",
           "caxis": {
            "gridcolor": "white",
            "linecolor": "white",
            "ticks": ""
           }
          },
          "title": {
           "x": 0.05
          },
          "xaxis": {
           "automargin": true,
           "gridcolor": "white",
           "linecolor": "white",
           "ticks": "",
           "title": {
            "standoff": 15
           },
           "zerolinecolor": "white",
           "zerolinewidth": 2
          },
          "yaxis": {
           "automargin": true,
           "gridcolor": "white",
           "linecolor": "white",
           "ticks": "",
           "title": {
            "standoff": 15
           },
           "zerolinecolor": "white",
           "zerolinewidth": 2
          }
         }
        },
        "title": {
         "text": "Evolución muertes últimos 40 años por SIDA"
        },
        "xaxis": {
         "anchor": "y",
         "domain": [
          0,
          1
         ],
         "title": {
          "text": "Periodo"
         }
        },
        "yaxis": {
         "anchor": "x",
         "domain": [
          0,
          1
         ],
         "title": {
          "text": "Total"
         }
        }
       }
      },
      "text/html": [
       "<div>                            <div id=\"90ff50d8-59a5-4b1b-ab70-f7288a0f1c82\" class=\"plotly-graph-div\" style=\"height:525px; width:100%;\"></div>            <script type=\"text/javascript\">                require([\"plotly\"], function(Plotly) {                    window.PLOTLYENV=window.PLOTLYENV || {};                                    if (document.getElementById(\"90ff50d8-59a5-4b1b-ab70-f7288a0f1c82\")) {                    Plotly.newPlot(                        \"90ff50d8-59a5-4b1b-ab70-f7288a0f1c82\",                        [{\"hovertemplate\":\"Periodo=%{x}<br>Total=%{y}<extra></extra>\",\"legendgroup\":\"\",\"line\":{\"color\":\"#636efa\",\"dash\":\"solid\"},\"marker\":{\"symbol\":\"circle\"},\"mode\":\"lines\",\"name\":\"\",\"orientation\":\"v\",\"showlegend\":false,\"x\":[1996,1995,1994,1993,1992,1991,1990,1989,1988,1987,1986,1985,1984,1983,1982,1981,1980],\"xaxis\":\"x\",\"y\":[5432,5551,4770,3980,3256,2503,1898,1288,768,409,164,47,0,0,0,0,0],\"yaxis\":\"y\",\"type\":\"scatter\"}],                        {\"template\":{\"data\":{\"histogram2dcontour\":[{\"type\":\"histogram2dcontour\",\"colorbar\":{\"outlinewidth\":0,\"ticks\":\"\"},\"colorscale\":[[0.0,\"#0d0887\"],[0.1111111111111111,\"#46039f\"],[0.2222222222222222,\"#7201a8\"],[0.3333333333333333,\"#9c179e\"],[0.4444444444444444,\"#bd3786\"],[0.5555555555555556,\"#d8576b\"],[0.6666666666666666,\"#ed7953\"],[0.7777777777777778,\"#fb9f3a\"],[0.8888888888888888,\"#fdca26\"],[1.0,\"#f0f921\"]]}],\"choropleth\":[{\"type\":\"choropleth\",\"colorbar\":{\"outlinewidth\":0,\"ticks\":\"\"}}],\"histogram2d\":[{\"type\":\"histogram2d\",\"colorbar\":{\"outlinewidth\":0,\"ticks\":\"\"},\"colorscale\":[[0.0,\"#0d0887\"],[0.1111111111111111,\"#46039f\"],[0.2222222222222222,\"#7201a8\"],[0.3333333333333333,\"#9c179e\"],[0.4444444444444444,\"#bd3786\"],[0.5555555555555556,\"#d8576b\"],[0.6666666666666666,\"#ed7953\"],[0.7777777777777778,\"#fb9f3a\"],[0.8888888888888888,\"#fdca26\"],[1.0,\"#f0f921\"]]}],\"heatmap\":[{\"type\":\"heatmap\",\"colorbar\":{\"outlinewidth\":0,\"ticks\":\"\"},\"colorscale\":[[0.0,\"#0d0887\"],[0.1111111111111111,\"#46039f\"],[0.2222222222222222,\"#7201a8\"],[0.3333333333333333,\"#9c179e\"],[0.4444444444444444,\"#bd3786\"],[0.5555555555555556,\"#d8576b\"],[0.6666666666666666,\"#ed7953\"],[0.7777777777777778,\"#fb9f3a\"],[0.8888888888888888,\"#fdca26\"],[1.0,\"#f0f921\"]]}],\"heatmapgl\":[{\"type\":\"heatmapgl\",\"colorbar\":{\"outlinewidth\":0,\"ticks\":\"\"},\"colorscale\":[[0.0,\"#0d0887\"],[0.1111111111111111,\"#46039f\"],[0.2222222222222222,\"#7201a8\"],[0.3333333333333333,\"#9c179e\"],[0.4444444444444444,\"#bd3786\"],[0.5555555555555556,\"#d8576b\"],[0.6666666666666666,\"#ed7953\"],[0.7777777777777778,\"#fb9f3a\"],[0.8888888888888888,\"#fdca26\"],[1.0,\"#f0f921\"]]}],\"contourcarpet\":[{\"type\":\"contourcarpet\",\"colorbar\":{\"outlinewidth\":0,\"ticks\":\"\"}}],\"contour\":[{\"type\":\"contour\",\"colorbar\":{\"outlinewidth\":0,\"ticks\":\"\"},\"colorscale\":[[0.0,\"#0d0887\"],[0.1111111111111111,\"#46039f\"],[0.2222222222222222,\"#7201a8\"],[0.3333333333333333,\"#9c179e\"],[0.4444444444444444,\"#bd3786\"],[0.5555555555555556,\"#d8576b\"],[0.6666666666666666,\"#ed7953\"],[0.7777777777777778,\"#fb9f3a\"],[0.8888888888888888,\"#fdca26\"],[1.0,\"#f0f921\"]]}],\"surface\":[{\"type\":\"surface\",\"colorbar\":{\"outlinewidth\":0,\"ticks\":\"\"},\"colorscale\":[[0.0,\"#0d0887\"],[0.1111111111111111,\"#46039f\"],[0.2222222222222222,\"#7201a8\"],[0.3333333333333333,\"#9c179e\"],[0.4444444444444444,\"#bd3786\"],[0.5555555555555556,\"#d8576b\"],[0.6666666666666666,\"#ed7953\"],[0.7777777777777778,\"#fb9f3a\"],[0.8888888888888888,\"#fdca26\"],[1.0,\"#f0f921\"]]}],\"mesh3d\":[{\"type\":\"mesh3d\",\"colorbar\":{\"outlinewidth\":0,\"ticks\":\"\"}}],\"scatter\":[{\"fillpattern\":{\"fillmode\":\"overlay\",\"size\":10,\"solidity\":0.2},\"type\":\"scatter\"}],\"parcoords\":[{\"type\":\"parcoords\",\"line\":{\"colorbar\":{\"outlinewidth\":0,\"ticks\":\"\"}}}],\"scatterpolargl\":[{\"type\":\"scatterpolargl\",\"marker\":{\"colorbar\":{\"outlinewidth\":0,\"ticks\":\"\"}}}],\"bar\":[{\"error_x\":{\"color\":\"#2a3f5f\"},\"error_y\":{\"color\":\"#2a3f5f\"},\"marker\":{\"line\":{\"color\":\"#E5ECF6\",\"width\":0.5},\"pattern\":{\"fillmode\":\"overlay\",\"size\":10,\"solidity\":0.2}},\"type\":\"bar\"}],\"scattergeo\":[{\"type\":\"scattergeo\",\"marker\":{\"colorbar\":{\"outlinewidth\":0,\"ticks\":\"\"}}}],\"scatterpolar\":[{\"type\":\"scatterpolar\",\"marker\":{\"colorbar\":{\"outlinewidth\":0,\"ticks\":\"\"}}}],\"histogram\":[{\"marker\":{\"pattern\":{\"fillmode\":\"overlay\",\"size\":10,\"solidity\":0.2}},\"type\":\"histogram\"}],\"scattergl\":[{\"type\":\"scattergl\",\"marker\":{\"colorbar\":{\"outlinewidth\":0,\"ticks\":\"\"}}}],\"scatter3d\":[{\"type\":\"scatter3d\",\"line\":{\"colorbar\":{\"outlinewidth\":0,\"ticks\":\"\"}},\"marker\":{\"colorbar\":{\"outlinewidth\":0,\"ticks\":\"\"}}}],\"scattermapbox\":[{\"type\":\"scattermapbox\",\"marker\":{\"colorbar\":{\"outlinewidth\":0,\"ticks\":\"\"}}}],\"scatterternary\":[{\"type\":\"scatterternary\",\"marker\":{\"colorbar\":{\"outlinewidth\":0,\"ticks\":\"\"}}}],\"scattercarpet\":[{\"type\":\"scattercarpet\",\"marker\":{\"colorbar\":{\"outlinewidth\":0,\"ticks\":\"\"}}}],\"carpet\":[{\"aaxis\":{\"endlinecolor\":\"#2a3f5f\",\"gridcolor\":\"white\",\"linecolor\":\"white\",\"minorgridcolor\":\"white\",\"startlinecolor\":\"#2a3f5f\"},\"baxis\":{\"endlinecolor\":\"#2a3f5f\",\"gridcolor\":\"white\",\"linecolor\":\"white\",\"minorgridcolor\":\"white\",\"startlinecolor\":\"#2a3f5f\"},\"type\":\"carpet\"}],\"table\":[{\"cells\":{\"fill\":{\"color\":\"#EBF0F8\"},\"line\":{\"color\":\"white\"}},\"header\":{\"fill\":{\"color\":\"#C8D4E3\"},\"line\":{\"color\":\"white\"}},\"type\":\"table\"}],\"barpolar\":[{\"marker\":{\"line\":{\"color\":\"#E5ECF6\",\"width\":0.5},\"pattern\":{\"fillmode\":\"overlay\",\"size\":10,\"solidity\":0.2}},\"type\":\"barpolar\"}],\"pie\":[{\"automargin\":true,\"type\":\"pie\"}]},\"layout\":{\"autotypenumbers\":\"strict\",\"colorway\":[\"#636efa\",\"#EF553B\",\"#00cc96\",\"#ab63fa\",\"#FFA15A\",\"#19d3f3\",\"#FF6692\",\"#B6E880\",\"#FF97FF\",\"#FECB52\"],\"font\":{\"color\":\"#2a3f5f\"},\"hovermode\":\"closest\",\"hoverlabel\":{\"align\":\"left\"},\"paper_bgcolor\":\"white\",\"plot_bgcolor\":\"#E5ECF6\",\"polar\":{\"bgcolor\":\"#E5ECF6\",\"angularaxis\":{\"gridcolor\":\"white\",\"linecolor\":\"white\",\"ticks\":\"\"},\"radialaxis\":{\"gridcolor\":\"white\",\"linecolor\":\"white\",\"ticks\":\"\"}},\"ternary\":{\"bgcolor\":\"#E5ECF6\",\"aaxis\":{\"gridcolor\":\"white\",\"linecolor\":\"white\",\"ticks\":\"\"},\"baxis\":{\"gridcolor\":\"white\",\"linecolor\":\"white\",\"ticks\":\"\"},\"caxis\":{\"gridcolor\":\"white\",\"linecolor\":\"white\",\"ticks\":\"\"}},\"coloraxis\":{\"colorbar\":{\"outlinewidth\":0,\"ticks\":\"\"}},\"colorscale\":{\"sequential\":[[0.0,\"#0d0887\"],[0.1111111111111111,\"#46039f\"],[0.2222222222222222,\"#7201a8\"],[0.3333333333333333,\"#9c179e\"],[0.4444444444444444,\"#bd3786\"],[0.5555555555555556,\"#d8576b\"],[0.6666666666666666,\"#ed7953\"],[0.7777777777777778,\"#fb9f3a\"],[0.8888888888888888,\"#fdca26\"],[1.0,\"#f0f921\"]],\"sequentialminus\":[[0.0,\"#0d0887\"],[0.1111111111111111,\"#46039f\"],[0.2222222222222222,\"#7201a8\"],[0.3333333333333333,\"#9c179e\"],[0.4444444444444444,\"#bd3786\"],[0.5555555555555556,\"#d8576b\"],[0.6666666666666666,\"#ed7953\"],[0.7777777777777778,\"#fb9f3a\"],[0.8888888888888888,\"#fdca26\"],[1.0,\"#f0f921\"]],\"diverging\":[[0,\"#8e0152\"],[0.1,\"#c51b7d\"],[0.2,\"#de77ae\"],[0.3,\"#f1b6da\"],[0.4,\"#fde0ef\"],[0.5,\"#f7f7f7\"],[0.6,\"#e6f5d0\"],[0.7,\"#b8e186\"],[0.8,\"#7fbc41\"],[0.9,\"#4d9221\"],[1,\"#276419\"]]},\"xaxis\":{\"gridcolor\":\"white\",\"linecolor\":\"white\",\"ticks\":\"\",\"title\":{\"standoff\":15},\"zerolinecolor\":\"white\",\"automargin\":true,\"zerolinewidth\":2},\"yaxis\":{\"gridcolor\":\"white\",\"linecolor\":\"white\",\"ticks\":\"\",\"title\":{\"standoff\":15},\"zerolinecolor\":\"white\",\"automargin\":true,\"zerolinewidth\":2},\"scene\":{\"xaxis\":{\"backgroundcolor\":\"#E5ECF6\",\"gridcolor\":\"white\",\"linecolor\":\"white\",\"showbackground\":true,\"ticks\":\"\",\"zerolinecolor\":\"white\",\"gridwidth\":2},\"yaxis\":{\"backgroundcolor\":\"#E5ECF6\",\"gridcolor\":\"white\",\"linecolor\":\"white\",\"showbackground\":true,\"ticks\":\"\",\"zerolinecolor\":\"white\",\"gridwidth\":2},\"zaxis\":{\"backgroundcolor\":\"#E5ECF6\",\"gridcolor\":\"white\",\"linecolor\":\"white\",\"showbackground\":true,\"ticks\":\"\",\"zerolinecolor\":\"white\",\"gridwidth\":2}},\"shapedefaults\":{\"line\":{\"color\":\"#2a3f5f\"}},\"annotationdefaults\":{\"arrowcolor\":\"#2a3f5f\",\"arrowhead\":0,\"arrowwidth\":1},\"geo\":{\"bgcolor\":\"white\",\"landcolor\":\"#E5ECF6\",\"subunitcolor\":\"white\",\"showland\":true,\"showlakes\":true,\"lakecolor\":\"white\"},\"title\":{\"x\":0.05},\"mapbox\":{\"style\":\"light\"}}},\"xaxis\":{\"anchor\":\"y\",\"domain\":[0.0,1.0],\"title\":{\"text\":\"Periodo\"}},\"yaxis\":{\"anchor\":\"x\",\"domain\":[0.0,1.0],\"title\":{\"text\":\"Total\"}},\"legend\":{\"tracegroupgap\":0},\"title\":{\"text\":\"Evoluci\\u00f3n muertes \\u00faltimos 40 a\\u00f1os por SIDA\"}},                        {\"responsive\": true}                    ).then(function(){\n",
       "                            \n",
       "var gd = document.getElementById('90ff50d8-59a5-4b1b-ab70-f7288a0f1c82');\n",
       "var x = new MutationObserver(function (mutations, observer) {{\n",
       "        var display = window.getComputedStyle(gd).display;\n",
       "        if (!display || display === 'none') {{\n",
       "            console.log([gd, 'removed!']);\n",
       "            Plotly.purge(gd);\n",
       "            observer.disconnect();\n",
       "        }}\n",
       "}});\n",
       "\n",
       "// Listen for the removal of the full notebook cells\n",
       "var notebookContainer = gd.closest('#notebook-container');\n",
       "if (notebookContainer) {{\n",
       "    x.observe(notebookContainer, {childList: true});\n",
       "}}\n",
       "\n",
       "// Listen for the clearing of the current output cell\n",
       "var outputEl = gd.closest('.output');\n",
       "if (outputEl) {{\n",
       "    x.observe(outputEl, {childList: true});\n",
       "}}\n",
       "\n",
       "                        })                };                });            </script>        </div>"
      ]
     },
     "metadata": {},
     "output_type": "display_data"
    }
   ],
   "source": [
    "fig = px.line(dataset_1996, x=\"Periodo\", y=\"Total\", title='Evolución muertes últimos 40 años por SIDA')\n",
    "fig.show()"
   ]
  },
  {
   "cell_type": "code",
   "execution_count": 22,
   "metadata": {},
   "outputs": [
    {
     "data": {
      "application/vnd.plotly.v1+json": {
       "config": {
        "plotlyServerURL": "https://plot.ly"
       },
       "data": [
        {
         "hovertemplate": "Periodo=%{x}<br>Total=%{y}<extra></extra>",
         "legendgroup": "",
         "line": {
          "color": "#636efa",
          "dash": "solid"
         },
         "marker": {
          "symbol": "circle"
         },
         "mode": "lines",
         "name": "",
         "orientation": "v",
         "showlegend": false,
         "type": "scatter",
         "x": [
          2018,
          2017,
          2016,
          2015,
          2014,
          2013,
          2012,
          2011,
          2010,
          2009,
          2008,
          2007,
          2006,
          2005,
          2004,
          2003,
          2002,
          2001,
          2000,
          1999,
          1998,
          1997
         ],
         "xaxis": "x",
         "y": [
          423,
          442,
          498,
          633,
          700,
          749,
          880,
          953,
          1020,
          1079,
          1211,
          1307,
          1313,
          1450,
          1551,
          1632,
          1611,
          1632,
          1711,
          1802,
          1779,
          2844
         ],
         "yaxis": "y"
        }
       ],
       "layout": {
        "legend": {
         "tracegroupgap": 0
        },
        "template": {
         "data": {
          "bar": [
           {
            "error_x": {
             "color": "#2a3f5f"
            },
            "error_y": {
             "color": "#2a3f5f"
            },
            "marker": {
             "line": {
              "color": "#E5ECF6",
              "width": 0.5
             },
             "pattern": {
              "fillmode": "overlay",
              "size": 10,
              "solidity": 0.2
             }
            },
            "type": "bar"
           }
          ],
          "barpolar": [
           {
            "marker": {
             "line": {
              "color": "#E5ECF6",
              "width": 0.5
             },
             "pattern": {
              "fillmode": "overlay",
              "size": 10,
              "solidity": 0.2
             }
            },
            "type": "barpolar"
           }
          ],
          "carpet": [
           {
            "aaxis": {
             "endlinecolor": "#2a3f5f",
             "gridcolor": "white",
             "linecolor": "white",
             "minorgridcolor": "white",
             "startlinecolor": "#2a3f5f"
            },
            "baxis": {
             "endlinecolor": "#2a3f5f",
             "gridcolor": "white",
             "linecolor": "white",
             "minorgridcolor": "white",
             "startlinecolor": "#2a3f5f"
            },
            "type": "carpet"
           }
          ],
          "choropleth": [
           {
            "colorbar": {
             "outlinewidth": 0,
             "ticks": ""
            },
            "type": "choropleth"
           }
          ],
          "contour": [
           {
            "colorbar": {
             "outlinewidth": 0,
             "ticks": ""
            },
            "colorscale": [
             [
              0,
              "#0d0887"
             ],
             [
              0.1111111111111111,
              "#46039f"
             ],
             [
              0.2222222222222222,
              "#7201a8"
             ],
             [
              0.3333333333333333,
              "#9c179e"
             ],
             [
              0.4444444444444444,
              "#bd3786"
             ],
             [
              0.5555555555555556,
              "#d8576b"
             ],
             [
              0.6666666666666666,
              "#ed7953"
             ],
             [
              0.7777777777777778,
              "#fb9f3a"
             ],
             [
              0.8888888888888888,
              "#fdca26"
             ],
             [
              1,
              "#f0f921"
             ]
            ],
            "type": "contour"
           }
          ],
          "contourcarpet": [
           {
            "colorbar": {
             "outlinewidth": 0,
             "ticks": ""
            },
            "type": "contourcarpet"
           }
          ],
          "heatmap": [
           {
            "colorbar": {
             "outlinewidth": 0,
             "ticks": ""
            },
            "colorscale": [
             [
              0,
              "#0d0887"
             ],
             [
              0.1111111111111111,
              "#46039f"
             ],
             [
              0.2222222222222222,
              "#7201a8"
             ],
             [
              0.3333333333333333,
              "#9c179e"
             ],
             [
              0.4444444444444444,
              "#bd3786"
             ],
             [
              0.5555555555555556,
              "#d8576b"
             ],
             [
              0.6666666666666666,
              "#ed7953"
             ],
             [
              0.7777777777777778,
              "#fb9f3a"
             ],
             [
              0.8888888888888888,
              "#fdca26"
             ],
             [
              1,
              "#f0f921"
             ]
            ],
            "type": "heatmap"
           }
          ],
          "heatmapgl": [
           {
            "colorbar": {
             "outlinewidth": 0,
             "ticks": ""
            },
            "colorscale": [
             [
              0,
              "#0d0887"
             ],
             [
              0.1111111111111111,
              "#46039f"
             ],
             [
              0.2222222222222222,
              "#7201a8"
             ],
             [
              0.3333333333333333,
              "#9c179e"
             ],
             [
              0.4444444444444444,
              "#bd3786"
             ],
             [
              0.5555555555555556,
              "#d8576b"
             ],
             [
              0.6666666666666666,
              "#ed7953"
             ],
             [
              0.7777777777777778,
              "#fb9f3a"
             ],
             [
              0.8888888888888888,
              "#fdca26"
             ],
             [
              1,
              "#f0f921"
             ]
            ],
            "type": "heatmapgl"
           }
          ],
          "histogram": [
           {
            "marker": {
             "pattern": {
              "fillmode": "overlay",
              "size": 10,
              "solidity": 0.2
             }
            },
            "type": "histogram"
           }
          ],
          "histogram2d": [
           {
            "colorbar": {
             "outlinewidth": 0,
             "ticks": ""
            },
            "colorscale": [
             [
              0,
              "#0d0887"
             ],
             [
              0.1111111111111111,
              "#46039f"
             ],
             [
              0.2222222222222222,
              "#7201a8"
             ],
             [
              0.3333333333333333,
              "#9c179e"
             ],
             [
              0.4444444444444444,
              "#bd3786"
             ],
             [
              0.5555555555555556,
              "#d8576b"
             ],
             [
              0.6666666666666666,
              "#ed7953"
             ],
             [
              0.7777777777777778,
              "#fb9f3a"
             ],
             [
              0.8888888888888888,
              "#fdca26"
             ],
             [
              1,
              "#f0f921"
             ]
            ],
            "type": "histogram2d"
           }
          ],
          "histogram2dcontour": [
           {
            "colorbar": {
             "outlinewidth": 0,
             "ticks": ""
            },
            "colorscale": [
             [
              0,
              "#0d0887"
             ],
             [
              0.1111111111111111,
              "#46039f"
             ],
             [
              0.2222222222222222,
              "#7201a8"
             ],
             [
              0.3333333333333333,
              "#9c179e"
             ],
             [
              0.4444444444444444,
              "#bd3786"
             ],
             [
              0.5555555555555556,
              "#d8576b"
             ],
             [
              0.6666666666666666,
              "#ed7953"
             ],
             [
              0.7777777777777778,
              "#fb9f3a"
             ],
             [
              0.8888888888888888,
              "#fdca26"
             ],
             [
              1,
              "#f0f921"
             ]
            ],
            "type": "histogram2dcontour"
           }
          ],
          "mesh3d": [
           {
            "colorbar": {
             "outlinewidth": 0,
             "ticks": ""
            },
            "type": "mesh3d"
           }
          ],
          "parcoords": [
           {
            "line": {
             "colorbar": {
              "outlinewidth": 0,
              "ticks": ""
             }
            },
            "type": "parcoords"
           }
          ],
          "pie": [
           {
            "automargin": true,
            "type": "pie"
           }
          ],
          "scatter": [
           {
            "fillpattern": {
             "fillmode": "overlay",
             "size": 10,
             "solidity": 0.2
            },
            "type": "scatter"
           }
          ],
          "scatter3d": [
           {
            "line": {
             "colorbar": {
              "outlinewidth": 0,
              "ticks": ""
             }
            },
            "marker": {
             "colorbar": {
              "outlinewidth": 0,
              "ticks": ""
             }
            },
            "type": "scatter3d"
           }
          ],
          "scattercarpet": [
           {
            "marker": {
             "colorbar": {
              "outlinewidth": 0,
              "ticks": ""
             }
            },
            "type": "scattercarpet"
           }
          ],
          "scattergeo": [
           {
            "marker": {
             "colorbar": {
              "outlinewidth": 0,
              "ticks": ""
             }
            },
            "type": "scattergeo"
           }
          ],
          "scattergl": [
           {
            "marker": {
             "colorbar": {
              "outlinewidth": 0,
              "ticks": ""
             }
            },
            "type": "scattergl"
           }
          ],
          "scattermapbox": [
           {
            "marker": {
             "colorbar": {
              "outlinewidth": 0,
              "ticks": ""
             }
            },
            "type": "scattermapbox"
           }
          ],
          "scatterpolar": [
           {
            "marker": {
             "colorbar": {
              "outlinewidth": 0,
              "ticks": ""
             }
            },
            "type": "scatterpolar"
           }
          ],
          "scatterpolargl": [
           {
            "marker": {
             "colorbar": {
              "outlinewidth": 0,
              "ticks": ""
             }
            },
            "type": "scatterpolargl"
           }
          ],
          "scatterternary": [
           {
            "marker": {
             "colorbar": {
              "outlinewidth": 0,
              "ticks": ""
             }
            },
            "type": "scatterternary"
           }
          ],
          "surface": [
           {
            "colorbar": {
             "outlinewidth": 0,
             "ticks": ""
            },
            "colorscale": [
             [
              0,
              "#0d0887"
             ],
             [
              0.1111111111111111,
              "#46039f"
             ],
             [
              0.2222222222222222,
              "#7201a8"
             ],
             [
              0.3333333333333333,
              "#9c179e"
             ],
             [
              0.4444444444444444,
              "#bd3786"
             ],
             [
              0.5555555555555556,
              "#d8576b"
             ],
             [
              0.6666666666666666,
              "#ed7953"
             ],
             [
              0.7777777777777778,
              "#fb9f3a"
             ],
             [
              0.8888888888888888,
              "#fdca26"
             ],
             [
              1,
              "#f0f921"
             ]
            ],
            "type": "surface"
           }
          ],
          "table": [
           {
            "cells": {
             "fill": {
              "color": "#EBF0F8"
             },
             "line": {
              "color": "white"
             }
            },
            "header": {
             "fill": {
              "color": "#C8D4E3"
             },
             "line": {
              "color": "white"
             }
            },
            "type": "table"
           }
          ]
         },
         "layout": {
          "annotationdefaults": {
           "arrowcolor": "#2a3f5f",
           "arrowhead": 0,
           "arrowwidth": 1
          },
          "autotypenumbers": "strict",
          "coloraxis": {
           "colorbar": {
            "outlinewidth": 0,
            "ticks": ""
           }
          },
          "colorscale": {
           "diverging": [
            [
             0,
             "#8e0152"
            ],
            [
             0.1,
             "#c51b7d"
            ],
            [
             0.2,
             "#de77ae"
            ],
            [
             0.3,
             "#f1b6da"
            ],
            [
             0.4,
             "#fde0ef"
            ],
            [
             0.5,
             "#f7f7f7"
            ],
            [
             0.6,
             "#e6f5d0"
            ],
            [
             0.7,
             "#b8e186"
            ],
            [
             0.8,
             "#7fbc41"
            ],
            [
             0.9,
             "#4d9221"
            ],
            [
             1,
             "#276419"
            ]
           ],
           "sequential": [
            [
             0,
             "#0d0887"
            ],
            [
             0.1111111111111111,
             "#46039f"
            ],
            [
             0.2222222222222222,
             "#7201a8"
            ],
            [
             0.3333333333333333,
             "#9c179e"
            ],
            [
             0.4444444444444444,
             "#bd3786"
            ],
            [
             0.5555555555555556,
             "#d8576b"
            ],
            [
             0.6666666666666666,
             "#ed7953"
            ],
            [
             0.7777777777777778,
             "#fb9f3a"
            ],
            [
             0.8888888888888888,
             "#fdca26"
            ],
            [
             1,
             "#f0f921"
            ]
           ],
           "sequentialminus": [
            [
             0,
             "#0d0887"
            ],
            [
             0.1111111111111111,
             "#46039f"
            ],
            [
             0.2222222222222222,
             "#7201a8"
            ],
            [
             0.3333333333333333,
             "#9c179e"
            ],
            [
             0.4444444444444444,
             "#bd3786"
            ],
            [
             0.5555555555555556,
             "#d8576b"
            ],
            [
             0.6666666666666666,
             "#ed7953"
            ],
            [
             0.7777777777777778,
             "#fb9f3a"
            ],
            [
             0.8888888888888888,
             "#fdca26"
            ],
            [
             1,
             "#f0f921"
            ]
           ]
          },
          "colorway": [
           "#636efa",
           "#EF553B",
           "#00cc96",
           "#ab63fa",
           "#FFA15A",
           "#19d3f3",
           "#FF6692",
           "#B6E880",
           "#FF97FF",
           "#FECB52"
          ],
          "font": {
           "color": "#2a3f5f"
          },
          "geo": {
           "bgcolor": "white",
           "lakecolor": "white",
           "landcolor": "#E5ECF6",
           "showlakes": true,
           "showland": true,
           "subunitcolor": "white"
          },
          "hoverlabel": {
           "align": "left"
          },
          "hovermode": "closest",
          "mapbox": {
           "style": "light"
          },
          "paper_bgcolor": "white",
          "plot_bgcolor": "#E5ECF6",
          "polar": {
           "angularaxis": {
            "gridcolor": "white",
            "linecolor": "white",
            "ticks": ""
           },
           "bgcolor": "#E5ECF6",
           "radialaxis": {
            "gridcolor": "white",
            "linecolor": "white",
            "ticks": ""
           }
          },
          "scene": {
           "xaxis": {
            "backgroundcolor": "#E5ECF6",
            "gridcolor": "white",
            "gridwidth": 2,
            "linecolor": "white",
            "showbackground": true,
            "ticks": "",
            "zerolinecolor": "white"
           },
           "yaxis": {
            "backgroundcolor": "#E5ECF6",
            "gridcolor": "white",
            "gridwidth": 2,
            "linecolor": "white",
            "showbackground": true,
            "ticks": "",
            "zerolinecolor": "white"
           },
           "zaxis": {
            "backgroundcolor": "#E5ECF6",
            "gridcolor": "white",
            "gridwidth": 2,
            "linecolor": "white",
            "showbackground": true,
            "ticks": "",
            "zerolinecolor": "white"
           }
          },
          "shapedefaults": {
           "line": {
            "color": "#2a3f5f"
           }
          },
          "ternary": {
           "aaxis": {
            "gridcolor": "white",
            "linecolor": "white",
            "ticks": ""
           },
           "baxis": {
            "gridcolor": "white",
            "linecolor": "white",
            "ticks": ""
           },
           "bgcolor": "#E5ECF6",
           "caxis": {
            "gridcolor": "white",
            "linecolor": "white",
            "ticks": ""
           }
          },
          "title": {
           "x": 0.05
          },
          "xaxis": {
           "automargin": true,
           "gridcolor": "white",
           "linecolor": "white",
           "ticks": "",
           "title": {
            "standoff": 15
           },
           "zerolinecolor": "white",
           "zerolinewidth": 2
          },
          "yaxis": {
           "automargin": true,
           "gridcolor": "white",
           "linecolor": "white",
           "ticks": "",
           "title": {
            "standoff": 15
           },
           "zerolinecolor": "white",
           "zerolinewidth": 2
          }
         }
        },
        "title": {
         "text": "Evolución muertes últimos 40 años por SIDA"
        },
        "xaxis": {
         "anchor": "y",
         "domain": [
          0,
          1
         ],
         "title": {
          "text": "Periodo"
         }
        },
        "yaxis": {
         "anchor": "x",
         "domain": [
          0,
          1
         ],
         "title": {
          "text": "Total"
         }
        }
       }
      },
      "text/html": [
       "<div>                            <div id=\"0582ca73-e837-4eeb-9894-749656ade24d\" class=\"plotly-graph-div\" style=\"height:525px; width:100%;\"></div>            <script type=\"text/javascript\">                require([\"plotly\"], function(Plotly) {                    window.PLOTLYENV=window.PLOTLYENV || {};                                    if (document.getElementById(\"0582ca73-e837-4eeb-9894-749656ade24d\")) {                    Plotly.newPlot(                        \"0582ca73-e837-4eeb-9894-749656ade24d\",                        [{\"hovertemplate\":\"Periodo=%{x}<br>Total=%{y}<extra></extra>\",\"legendgroup\":\"\",\"line\":{\"color\":\"#636efa\",\"dash\":\"solid\"},\"marker\":{\"symbol\":\"circle\"},\"mode\":\"lines\",\"name\":\"\",\"orientation\":\"v\",\"showlegend\":false,\"x\":[2018,2017,2016,2015,2014,2013,2012,2011,2010,2009,2008,2007,2006,2005,2004,2003,2002,2001,2000,1999,1998,1997],\"xaxis\":\"x\",\"y\":[423,442,498,633,700,749,880,953,1020,1079,1211,1307,1313,1450,1551,1632,1611,1632,1711,1802,1779,2844],\"yaxis\":\"y\",\"type\":\"scatter\"}],                        {\"template\":{\"data\":{\"histogram2dcontour\":[{\"type\":\"histogram2dcontour\",\"colorbar\":{\"outlinewidth\":0,\"ticks\":\"\"},\"colorscale\":[[0.0,\"#0d0887\"],[0.1111111111111111,\"#46039f\"],[0.2222222222222222,\"#7201a8\"],[0.3333333333333333,\"#9c179e\"],[0.4444444444444444,\"#bd3786\"],[0.5555555555555556,\"#d8576b\"],[0.6666666666666666,\"#ed7953\"],[0.7777777777777778,\"#fb9f3a\"],[0.8888888888888888,\"#fdca26\"],[1.0,\"#f0f921\"]]}],\"choropleth\":[{\"type\":\"choropleth\",\"colorbar\":{\"outlinewidth\":0,\"ticks\":\"\"}}],\"histogram2d\":[{\"type\":\"histogram2d\",\"colorbar\":{\"outlinewidth\":0,\"ticks\":\"\"},\"colorscale\":[[0.0,\"#0d0887\"],[0.1111111111111111,\"#46039f\"],[0.2222222222222222,\"#7201a8\"],[0.3333333333333333,\"#9c179e\"],[0.4444444444444444,\"#bd3786\"],[0.5555555555555556,\"#d8576b\"],[0.6666666666666666,\"#ed7953\"],[0.7777777777777778,\"#fb9f3a\"],[0.8888888888888888,\"#fdca26\"],[1.0,\"#f0f921\"]]}],\"heatmap\":[{\"type\":\"heatmap\",\"colorbar\":{\"outlinewidth\":0,\"ticks\":\"\"},\"colorscale\":[[0.0,\"#0d0887\"],[0.1111111111111111,\"#46039f\"],[0.2222222222222222,\"#7201a8\"],[0.3333333333333333,\"#9c179e\"],[0.4444444444444444,\"#bd3786\"],[0.5555555555555556,\"#d8576b\"],[0.6666666666666666,\"#ed7953\"],[0.7777777777777778,\"#fb9f3a\"],[0.8888888888888888,\"#fdca26\"],[1.0,\"#f0f921\"]]}],\"heatmapgl\":[{\"type\":\"heatmapgl\",\"colorbar\":{\"outlinewidth\":0,\"ticks\":\"\"},\"colorscale\":[[0.0,\"#0d0887\"],[0.1111111111111111,\"#46039f\"],[0.2222222222222222,\"#7201a8\"],[0.3333333333333333,\"#9c179e\"],[0.4444444444444444,\"#bd3786\"],[0.5555555555555556,\"#d8576b\"],[0.6666666666666666,\"#ed7953\"],[0.7777777777777778,\"#fb9f3a\"],[0.8888888888888888,\"#fdca26\"],[1.0,\"#f0f921\"]]}],\"contourcarpet\":[{\"type\":\"contourcarpet\",\"colorbar\":{\"outlinewidth\":0,\"ticks\":\"\"}}],\"contour\":[{\"type\":\"contour\",\"colorbar\":{\"outlinewidth\":0,\"ticks\":\"\"},\"colorscale\":[[0.0,\"#0d0887\"],[0.1111111111111111,\"#46039f\"],[0.2222222222222222,\"#7201a8\"],[0.3333333333333333,\"#9c179e\"],[0.4444444444444444,\"#bd3786\"],[0.5555555555555556,\"#d8576b\"],[0.6666666666666666,\"#ed7953\"],[0.7777777777777778,\"#fb9f3a\"],[0.8888888888888888,\"#fdca26\"],[1.0,\"#f0f921\"]]}],\"surface\":[{\"type\":\"surface\",\"colorbar\":{\"outlinewidth\":0,\"ticks\":\"\"},\"colorscale\":[[0.0,\"#0d0887\"],[0.1111111111111111,\"#46039f\"],[0.2222222222222222,\"#7201a8\"],[0.3333333333333333,\"#9c179e\"],[0.4444444444444444,\"#bd3786\"],[0.5555555555555556,\"#d8576b\"],[0.6666666666666666,\"#ed7953\"],[0.7777777777777778,\"#fb9f3a\"],[0.8888888888888888,\"#fdca26\"],[1.0,\"#f0f921\"]]}],\"mesh3d\":[{\"type\":\"mesh3d\",\"colorbar\":{\"outlinewidth\":0,\"ticks\":\"\"}}],\"scatter\":[{\"fillpattern\":{\"fillmode\":\"overlay\",\"size\":10,\"solidity\":0.2},\"type\":\"scatter\"}],\"parcoords\":[{\"type\":\"parcoords\",\"line\":{\"colorbar\":{\"outlinewidth\":0,\"ticks\":\"\"}}}],\"scatterpolargl\":[{\"type\":\"scatterpolargl\",\"marker\":{\"colorbar\":{\"outlinewidth\":0,\"ticks\":\"\"}}}],\"bar\":[{\"error_x\":{\"color\":\"#2a3f5f\"},\"error_y\":{\"color\":\"#2a3f5f\"},\"marker\":{\"line\":{\"color\":\"#E5ECF6\",\"width\":0.5},\"pattern\":{\"fillmode\":\"overlay\",\"size\":10,\"solidity\":0.2}},\"type\":\"bar\"}],\"scattergeo\":[{\"type\":\"scattergeo\",\"marker\":{\"colorbar\":{\"outlinewidth\":0,\"ticks\":\"\"}}}],\"scatterpolar\":[{\"type\":\"scatterpolar\",\"marker\":{\"colorbar\":{\"outlinewidth\":0,\"ticks\":\"\"}}}],\"histogram\":[{\"marker\":{\"pattern\":{\"fillmode\":\"overlay\",\"size\":10,\"solidity\":0.2}},\"type\":\"histogram\"}],\"scattergl\":[{\"type\":\"scattergl\",\"marker\":{\"colorbar\":{\"outlinewidth\":0,\"ticks\":\"\"}}}],\"scatter3d\":[{\"type\":\"scatter3d\",\"line\":{\"colorbar\":{\"outlinewidth\":0,\"ticks\":\"\"}},\"marker\":{\"colorbar\":{\"outlinewidth\":0,\"ticks\":\"\"}}}],\"scattermapbox\":[{\"type\":\"scattermapbox\",\"marker\":{\"colorbar\":{\"outlinewidth\":0,\"ticks\":\"\"}}}],\"scatterternary\":[{\"type\":\"scatterternary\",\"marker\":{\"colorbar\":{\"outlinewidth\":0,\"ticks\":\"\"}}}],\"scattercarpet\":[{\"type\":\"scattercarpet\",\"marker\":{\"colorbar\":{\"outlinewidth\":0,\"ticks\":\"\"}}}],\"carpet\":[{\"aaxis\":{\"endlinecolor\":\"#2a3f5f\",\"gridcolor\":\"white\",\"linecolor\":\"white\",\"minorgridcolor\":\"white\",\"startlinecolor\":\"#2a3f5f\"},\"baxis\":{\"endlinecolor\":\"#2a3f5f\",\"gridcolor\":\"white\",\"linecolor\":\"white\",\"minorgridcolor\":\"white\",\"startlinecolor\":\"#2a3f5f\"},\"type\":\"carpet\"}],\"table\":[{\"cells\":{\"fill\":{\"color\":\"#EBF0F8\"},\"line\":{\"color\":\"white\"}},\"header\":{\"fill\":{\"color\":\"#C8D4E3\"},\"line\":{\"color\":\"white\"}},\"type\":\"table\"}],\"barpolar\":[{\"marker\":{\"line\":{\"color\":\"#E5ECF6\",\"width\":0.5},\"pattern\":{\"fillmode\":\"overlay\",\"size\":10,\"solidity\":0.2}},\"type\":\"barpolar\"}],\"pie\":[{\"automargin\":true,\"type\":\"pie\"}]},\"layout\":{\"autotypenumbers\":\"strict\",\"colorway\":[\"#636efa\",\"#EF553B\",\"#00cc96\",\"#ab63fa\",\"#FFA15A\",\"#19d3f3\",\"#FF6692\",\"#B6E880\",\"#FF97FF\",\"#FECB52\"],\"font\":{\"color\":\"#2a3f5f\"},\"hovermode\":\"closest\",\"hoverlabel\":{\"align\":\"left\"},\"paper_bgcolor\":\"white\",\"plot_bgcolor\":\"#E5ECF6\",\"polar\":{\"bgcolor\":\"#E5ECF6\",\"angularaxis\":{\"gridcolor\":\"white\",\"linecolor\":\"white\",\"ticks\":\"\"},\"radialaxis\":{\"gridcolor\":\"white\",\"linecolor\":\"white\",\"ticks\":\"\"}},\"ternary\":{\"bgcolor\":\"#E5ECF6\",\"aaxis\":{\"gridcolor\":\"white\",\"linecolor\":\"white\",\"ticks\":\"\"},\"baxis\":{\"gridcolor\":\"white\",\"linecolor\":\"white\",\"ticks\":\"\"},\"caxis\":{\"gridcolor\":\"white\",\"linecolor\":\"white\",\"ticks\":\"\"}},\"coloraxis\":{\"colorbar\":{\"outlinewidth\":0,\"ticks\":\"\"}},\"colorscale\":{\"sequential\":[[0.0,\"#0d0887\"],[0.1111111111111111,\"#46039f\"],[0.2222222222222222,\"#7201a8\"],[0.3333333333333333,\"#9c179e\"],[0.4444444444444444,\"#bd3786\"],[0.5555555555555556,\"#d8576b\"],[0.6666666666666666,\"#ed7953\"],[0.7777777777777778,\"#fb9f3a\"],[0.8888888888888888,\"#fdca26\"],[1.0,\"#f0f921\"]],\"sequentialminus\":[[0.0,\"#0d0887\"],[0.1111111111111111,\"#46039f\"],[0.2222222222222222,\"#7201a8\"],[0.3333333333333333,\"#9c179e\"],[0.4444444444444444,\"#bd3786\"],[0.5555555555555556,\"#d8576b\"],[0.6666666666666666,\"#ed7953\"],[0.7777777777777778,\"#fb9f3a\"],[0.8888888888888888,\"#fdca26\"],[1.0,\"#f0f921\"]],\"diverging\":[[0,\"#8e0152\"],[0.1,\"#c51b7d\"],[0.2,\"#de77ae\"],[0.3,\"#f1b6da\"],[0.4,\"#fde0ef\"],[0.5,\"#f7f7f7\"],[0.6,\"#e6f5d0\"],[0.7,\"#b8e186\"],[0.8,\"#7fbc41\"],[0.9,\"#4d9221\"],[1,\"#276419\"]]},\"xaxis\":{\"gridcolor\":\"white\",\"linecolor\":\"white\",\"ticks\":\"\",\"title\":{\"standoff\":15},\"zerolinecolor\":\"white\",\"automargin\":true,\"zerolinewidth\":2},\"yaxis\":{\"gridcolor\":\"white\",\"linecolor\":\"white\",\"ticks\":\"\",\"title\":{\"standoff\":15},\"zerolinecolor\":\"white\",\"automargin\":true,\"zerolinewidth\":2},\"scene\":{\"xaxis\":{\"backgroundcolor\":\"#E5ECF6\",\"gridcolor\":\"white\",\"linecolor\":\"white\",\"showbackground\":true,\"ticks\":\"\",\"zerolinecolor\":\"white\",\"gridwidth\":2},\"yaxis\":{\"backgroundcolor\":\"#E5ECF6\",\"gridcolor\":\"white\",\"linecolor\":\"white\",\"showbackground\":true,\"ticks\":\"\",\"zerolinecolor\":\"white\",\"gridwidth\":2},\"zaxis\":{\"backgroundcolor\":\"#E5ECF6\",\"gridcolor\":\"white\",\"linecolor\":\"white\",\"showbackground\":true,\"ticks\":\"\",\"zerolinecolor\":\"white\",\"gridwidth\":2}},\"shapedefaults\":{\"line\":{\"color\":\"#2a3f5f\"}},\"annotationdefaults\":{\"arrowcolor\":\"#2a3f5f\",\"arrowhead\":0,\"arrowwidth\":1},\"geo\":{\"bgcolor\":\"white\",\"landcolor\":\"#E5ECF6\",\"subunitcolor\":\"white\",\"showland\":true,\"showlakes\":true,\"lakecolor\":\"white\"},\"title\":{\"x\":0.05},\"mapbox\":{\"style\":\"light\"}}},\"xaxis\":{\"anchor\":\"y\",\"domain\":[0.0,1.0],\"title\":{\"text\":\"Periodo\"}},\"yaxis\":{\"anchor\":\"x\",\"domain\":[0.0,1.0],\"title\":{\"text\":\"Total\"}},\"legend\":{\"tracegroupgap\":0},\"title\":{\"text\":\"Evoluci\\u00f3n muertes \\u00faltimos 40 a\\u00f1os por SIDA\"}},                        {\"responsive\": true}                    ).then(function(){\n",
       "                            \n",
       "var gd = document.getElementById('0582ca73-e837-4eeb-9894-749656ade24d');\n",
       "var x = new MutationObserver(function (mutations, observer) {{\n",
       "        var display = window.getComputedStyle(gd).display;\n",
       "        if (!display || display === 'none') {{\n",
       "            console.log([gd, 'removed!']);\n",
       "            Plotly.purge(gd);\n",
       "            observer.disconnect();\n",
       "        }}\n",
       "}});\n",
       "\n",
       "// Listen for the removal of the full notebook cells\n",
       "var notebookContainer = gd.closest('#notebook-container');\n",
       "if (notebookContainer) {{\n",
       "    x.observe(notebookContainer, {childList: true});\n",
       "}}\n",
       "\n",
       "// Listen for the clearing of the current output cell\n",
       "var outputEl = gd.closest('.output');\n",
       "if (outputEl) {{\n",
       "    x.observe(outputEl, {childList: true});\n",
       "}}\n",
       "\n",
       "                        })                };                });            </script>        </div>"
      ]
     },
     "metadata": {},
     "output_type": "display_data"
    }
   ],
   "source": [
    "fig = px.line(dataset_1997, x=\"Periodo\", y=\"Total\", title='Evolución muertes últimos 40 años por SIDA')\n",
    "fig.show()"
   ]
  },
  {
   "cell_type": "code",
   "execution_count": 23,
   "metadata": {},
   "outputs": [
    {
     "name": "stdout",
     "output_type": "stream",
     "text": [
      "<class 'pandas.core.frame.DataFrame'>\n",
      "RangeIndex: 39 entries, 0 to 38\n",
      "Data columns (total 12 columns):\n",
      " #   Column           Non-Null Count  Dtype  \n",
      "---  ------           --------------  -----  \n",
      " 0   Causa de muerte  39 non-null     object \n",
      " 1   Sexo             39 non-null     object \n",
      " 2   Edad             39 non-null     object \n",
      " 3   Periodo          39 non-null     int64  \n",
      " 4   Total            39 non-null     int64  \n",
      " 5   cause_code       39 non-null     object \n",
      " 6   cause_group      39 non-null     object \n",
      " 7   cause_name       39 non-null     object \n",
      " 8   media            39 non-null     float64\n",
      " 9   percentil_05     39 non-null     float64\n",
      " 10  percentil_025    39 non-null     float64\n",
      " 11  percentil_075    39 non-null     float64\n",
      "dtypes: float64(4), int64(2), object(6)\n",
      "memory usage: 3.8+ KB\n"
     ]
    }
   ],
   "source": [
    "dataset.info()"
   ]
  },
  {
   "cell_type": "code",
   "execution_count": 24,
   "metadata": {},
   "outputs": [
    {
     "data": {
      "text/html": [
       "<div>\n",
       "<style scoped>\n",
       "    .dataframe tbody tr th:only-of-type {\n",
       "        vertical-align: middle;\n",
       "    }\n",
       "\n",
       "    .dataframe tbody tr th {\n",
       "        vertical-align: top;\n",
       "    }\n",
       "\n",
       "    .dataframe thead th {\n",
       "        text-align: right;\n",
       "    }\n",
       "</style>\n",
       "<table border=\"1\" class=\"dataframe\">\n",
       "  <thead>\n",
       "    <tr style=\"text-align: right;\">\n",
       "      <th></th>\n",
       "      <th>Periodo</th>\n",
       "      <th>Total</th>\n",
       "      <th>media</th>\n",
       "      <th>percentil_05</th>\n",
       "      <th>percentil_025</th>\n",
       "      <th>percentil_075</th>\n",
       "    </tr>\n",
       "  </thead>\n",
       "  <tbody>\n",
       "    <tr>\n",
       "      <th>count</th>\n",
       "      <td>39.000000</td>\n",
       "      <td>39.000000</td>\n",
       "      <td>3.900000e+01</td>\n",
       "      <td>3.900000e+01</td>\n",
       "      <td>3.900000e+01</td>\n",
       "      <td>3.900000e+01</td>\n",
       "    </tr>\n",
       "    <tr>\n",
       "      <th>mean</th>\n",
       "      <td>1999.000000</td>\n",
       "      <td>1468.871795</td>\n",
       "      <td>1.468872e+03</td>\n",
       "      <td>1.211000e+01</td>\n",
       "      <td>4.700000e+00</td>\n",
       "      <td>1.745000e+01</td>\n",
       "    </tr>\n",
       "    <tr>\n",
       "      <th>std</th>\n",
       "      <td>11.401754</td>\n",
       "      <td>1436.369568</td>\n",
       "      <td>1.382076e-12</td>\n",
       "      <td>1.079747e-14</td>\n",
       "      <td>1.799578e-15</td>\n",
       "      <td>7.198313e-15</td>\n",
       "    </tr>\n",
       "    <tr>\n",
       "      <th>min</th>\n",
       "      <td>1980.000000</td>\n",
       "      <td>0.000000</td>\n",
       "      <td>1.468872e+03</td>\n",
       "      <td>1.211000e+01</td>\n",
       "      <td>4.700000e+00</td>\n",
       "      <td>1.745000e+01</td>\n",
       "    </tr>\n",
       "    <tr>\n",
       "      <th>25%</th>\n",
       "      <td>1989.500000</td>\n",
       "      <td>470.000000</td>\n",
       "      <td>1.468872e+03</td>\n",
       "      <td>1.211000e+01</td>\n",
       "      <td>4.700000e+00</td>\n",
       "      <td>1.745000e+01</td>\n",
       "    </tr>\n",
       "    <tr>\n",
       "      <th>50%</th>\n",
       "      <td>1999.000000</td>\n",
       "      <td>1211.000000</td>\n",
       "      <td>1.468872e+03</td>\n",
       "      <td>1.211000e+01</td>\n",
       "      <td>4.700000e+00</td>\n",
       "      <td>1.745000e+01</td>\n",
       "    </tr>\n",
       "    <tr>\n",
       "      <th>75%</th>\n",
       "      <td>2008.500000</td>\n",
       "      <td>1745.000000</td>\n",
       "      <td>1.468872e+03</td>\n",
       "      <td>1.211000e+01</td>\n",
       "      <td>4.700000e+00</td>\n",
       "      <td>1.745000e+01</td>\n",
       "    </tr>\n",
       "    <tr>\n",
       "      <th>max</th>\n",
       "      <td>2018.000000</td>\n",
       "      <td>5551.000000</td>\n",
       "      <td>1.468872e+03</td>\n",
       "      <td>1.211000e+01</td>\n",
       "      <td>4.700000e+00</td>\n",
       "      <td>1.745000e+01</td>\n",
       "    </tr>\n",
       "  </tbody>\n",
       "</table>\n",
       "</div>"
      ],
      "text/plain": [
       "           Periodo        Total         media  percentil_05  percentil_025  \\\n",
       "count    39.000000    39.000000  3.900000e+01  3.900000e+01   3.900000e+01   \n",
       "mean   1999.000000  1468.871795  1.468872e+03  1.211000e+01   4.700000e+00   \n",
       "std      11.401754  1436.369568  1.382076e-12  1.079747e-14   1.799578e-15   \n",
       "min    1980.000000     0.000000  1.468872e+03  1.211000e+01   4.700000e+00   \n",
       "25%    1989.500000   470.000000  1.468872e+03  1.211000e+01   4.700000e+00   \n",
       "50%    1999.000000  1211.000000  1.468872e+03  1.211000e+01   4.700000e+00   \n",
       "75%    2008.500000  1745.000000  1.468872e+03  1.211000e+01   4.700000e+00   \n",
       "max    2018.000000  5551.000000  1.468872e+03  1.211000e+01   4.700000e+00   \n",
       "\n",
       "       percentil_075  \n",
       "count   3.900000e+01  \n",
       "mean    1.745000e+01  \n",
       "std     7.198313e-15  \n",
       "min     1.745000e+01  \n",
       "25%     1.745000e+01  \n",
       "50%     1.745000e+01  \n",
       "75%     1.745000e+01  \n",
       "max     1.745000e+01  "
      ]
     },
     "execution_count": 24,
     "metadata": {},
     "output_type": "execute_result"
    }
   ],
   "source": [
    "dataset.describe()"
   ]
  },
  {
   "cell_type": "code",
   "execution_count": 25,
   "metadata": {},
   "outputs": [
    {
     "data": {
      "text/html": [
       "<div>\n",
       "<style scoped>\n",
       "    .dataframe tbody tr th:only-of-type {\n",
       "        vertical-align: middle;\n",
       "    }\n",
       "\n",
       "    .dataframe tbody tr th {\n",
       "        vertical-align: top;\n",
       "    }\n",
       "\n",
       "    .dataframe thead th {\n",
       "        text-align: right;\n",
       "    }\n",
       "</style>\n",
       "<table border=\"1\" class=\"dataframe\">\n",
       "  <thead>\n",
       "    <tr style=\"text-align: right;\">\n",
       "      <th></th>\n",
       "      <th>Causa de muerte</th>\n",
       "      <th>Sexo</th>\n",
       "      <th>Edad</th>\n",
       "      <th>Periodo</th>\n",
       "      <th>Total</th>\n",
       "      <th>cause_code</th>\n",
       "      <th>cause_group</th>\n",
       "      <th>cause_name</th>\n",
       "      <th>media</th>\n",
       "      <th>percentil_05</th>\n",
       "      <th>percentil_025</th>\n",
       "      <th>percentil_075</th>\n",
       "    </tr>\n",
       "  </thead>\n",
       "  <tbody>\n",
       "    <tr>\n",
       "      <th>0</th>\n",
       "      <td>006  SIDA</td>\n",
       "      <td>Total</td>\n",
       "      <td>Todas las edades</td>\n",
       "      <td>1995</td>\n",
       "      <td>5551</td>\n",
       "      <td>006</td>\n",
       "      <td>Single cause</td>\n",
       "      <td>SIDA</td>\n",
       "      <td>1468.871795</td>\n",
       "      <td>12.11</td>\n",
       "      <td>4.7</td>\n",
       "      <td>17.45</td>\n",
       "    </tr>\n",
       "    <tr>\n",
       "      <th>1</th>\n",
       "      <td>006  SIDA</td>\n",
       "      <td>Total</td>\n",
       "      <td>Todas las edades</td>\n",
       "      <td>1996</td>\n",
       "      <td>5432</td>\n",
       "      <td>006</td>\n",
       "      <td>Single cause</td>\n",
       "      <td>SIDA</td>\n",
       "      <td>1468.871795</td>\n",
       "      <td>12.11</td>\n",
       "      <td>4.7</td>\n",
       "      <td>17.45</td>\n",
       "    </tr>\n",
       "    <tr>\n",
       "      <th>2</th>\n",
       "      <td>006  SIDA</td>\n",
       "      <td>Total</td>\n",
       "      <td>Todas las edades</td>\n",
       "      <td>1994</td>\n",
       "      <td>4770</td>\n",
       "      <td>006</td>\n",
       "      <td>Single cause</td>\n",
       "      <td>SIDA</td>\n",
       "      <td>1468.871795</td>\n",
       "      <td>12.11</td>\n",
       "      <td>4.7</td>\n",
       "      <td>17.45</td>\n",
       "    </tr>\n",
       "    <tr>\n",
       "      <th>3</th>\n",
       "      <td>006  SIDA</td>\n",
       "      <td>Total</td>\n",
       "      <td>Todas las edades</td>\n",
       "      <td>1993</td>\n",
       "      <td>3980</td>\n",
       "      <td>006</td>\n",
       "      <td>Single cause</td>\n",
       "      <td>SIDA</td>\n",
       "      <td>1468.871795</td>\n",
       "      <td>12.11</td>\n",
       "      <td>4.7</td>\n",
       "      <td>17.45</td>\n",
       "    </tr>\n",
       "    <tr>\n",
       "      <th>4</th>\n",
       "      <td>006  SIDA</td>\n",
       "      <td>Total</td>\n",
       "      <td>Todas las edades</td>\n",
       "      <td>1992</td>\n",
       "      <td>3256</td>\n",
       "      <td>006</td>\n",
       "      <td>Single cause</td>\n",
       "      <td>SIDA</td>\n",
       "      <td>1468.871795</td>\n",
       "      <td>12.11</td>\n",
       "      <td>4.7</td>\n",
       "      <td>17.45</td>\n",
       "    </tr>\n",
       "    <tr>\n",
       "      <th>5</th>\n",
       "      <td>006  SIDA</td>\n",
       "      <td>Total</td>\n",
       "      <td>Todas las edades</td>\n",
       "      <td>1997</td>\n",
       "      <td>2844</td>\n",
       "      <td>006</td>\n",
       "      <td>Single cause</td>\n",
       "      <td>SIDA</td>\n",
       "      <td>1468.871795</td>\n",
       "      <td>12.11</td>\n",
       "      <td>4.7</td>\n",
       "      <td>17.45</td>\n",
       "    </tr>\n",
       "    <tr>\n",
       "      <th>6</th>\n",
       "      <td>006  SIDA</td>\n",
       "      <td>Total</td>\n",
       "      <td>Todas las edades</td>\n",
       "      <td>1991</td>\n",
       "      <td>2503</td>\n",
       "      <td>006</td>\n",
       "      <td>Single cause</td>\n",
       "      <td>SIDA</td>\n",
       "      <td>1468.871795</td>\n",
       "      <td>12.11</td>\n",
       "      <td>4.7</td>\n",
       "      <td>17.45</td>\n",
       "    </tr>\n",
       "    <tr>\n",
       "      <th>7</th>\n",
       "      <td>006  SIDA</td>\n",
       "      <td>Total</td>\n",
       "      <td>Todas las edades</td>\n",
       "      <td>1990</td>\n",
       "      <td>1898</td>\n",
       "      <td>006</td>\n",
       "      <td>Single cause</td>\n",
       "      <td>SIDA</td>\n",
       "      <td>1468.871795</td>\n",
       "      <td>12.11</td>\n",
       "      <td>4.7</td>\n",
       "      <td>17.45</td>\n",
       "    </tr>\n",
       "    <tr>\n",
       "      <th>8</th>\n",
       "      <td>006  SIDA</td>\n",
       "      <td>Total</td>\n",
       "      <td>Todas las edades</td>\n",
       "      <td>1999</td>\n",
       "      <td>1802</td>\n",
       "      <td>006</td>\n",
       "      <td>Single cause</td>\n",
       "      <td>SIDA</td>\n",
       "      <td>1468.871795</td>\n",
       "      <td>12.11</td>\n",
       "      <td>4.7</td>\n",
       "      <td>17.45</td>\n",
       "    </tr>\n",
       "    <tr>\n",
       "      <th>9</th>\n",
       "      <td>006  SIDA</td>\n",
       "      <td>Total</td>\n",
       "      <td>Todas las edades</td>\n",
       "      <td>1998</td>\n",
       "      <td>1779</td>\n",
       "      <td>006</td>\n",
       "      <td>Single cause</td>\n",
       "      <td>SIDA</td>\n",
       "      <td>1468.871795</td>\n",
       "      <td>12.11</td>\n",
       "      <td>4.7</td>\n",
       "      <td>17.45</td>\n",
       "    </tr>\n",
       "    <tr>\n",
       "      <th>10</th>\n",
       "      <td>006  SIDA</td>\n",
       "      <td>Total</td>\n",
       "      <td>Todas las edades</td>\n",
       "      <td>2000</td>\n",
       "      <td>1711</td>\n",
       "      <td>006</td>\n",
       "      <td>Single cause</td>\n",
       "      <td>SIDA</td>\n",
       "      <td>1468.871795</td>\n",
       "      <td>12.11</td>\n",
       "      <td>4.7</td>\n",
       "      <td>17.45</td>\n",
       "    </tr>\n",
       "    <tr>\n",
       "      <th>11</th>\n",
       "      <td>006  SIDA</td>\n",
       "      <td>Total</td>\n",
       "      <td>Todas las edades</td>\n",
       "      <td>2003</td>\n",
       "      <td>1632</td>\n",
       "      <td>006</td>\n",
       "      <td>Single cause</td>\n",
       "      <td>SIDA</td>\n",
       "      <td>1468.871795</td>\n",
       "      <td>12.11</td>\n",
       "      <td>4.7</td>\n",
       "      <td>17.45</td>\n",
       "    </tr>\n",
       "    <tr>\n",
       "      <th>12</th>\n",
       "      <td>006  SIDA</td>\n",
       "      <td>Total</td>\n",
       "      <td>Todas las edades</td>\n",
       "      <td>2001</td>\n",
       "      <td>1632</td>\n",
       "      <td>006</td>\n",
       "      <td>Single cause</td>\n",
       "      <td>SIDA</td>\n",
       "      <td>1468.871795</td>\n",
       "      <td>12.11</td>\n",
       "      <td>4.7</td>\n",
       "      <td>17.45</td>\n",
       "    </tr>\n",
       "    <tr>\n",
       "      <th>13</th>\n",
       "      <td>006  SIDA</td>\n",
       "      <td>Total</td>\n",
       "      <td>Todas las edades</td>\n",
       "      <td>2002</td>\n",
       "      <td>1611</td>\n",
       "      <td>006</td>\n",
       "      <td>Single cause</td>\n",
       "      <td>SIDA</td>\n",
       "      <td>1468.871795</td>\n",
       "      <td>12.11</td>\n",
       "      <td>4.7</td>\n",
       "      <td>17.45</td>\n",
       "    </tr>\n",
       "    <tr>\n",
       "      <th>14</th>\n",
       "      <td>006  SIDA</td>\n",
       "      <td>Total</td>\n",
       "      <td>Todas las edades</td>\n",
       "      <td>2004</td>\n",
       "      <td>1551</td>\n",
       "      <td>006</td>\n",
       "      <td>Single cause</td>\n",
       "      <td>SIDA</td>\n",
       "      <td>1468.871795</td>\n",
       "      <td>12.11</td>\n",
       "      <td>4.7</td>\n",
       "      <td>17.45</td>\n",
       "    </tr>\n",
       "    <tr>\n",
       "      <th>15</th>\n",
       "      <td>006  SIDA</td>\n",
       "      <td>Total</td>\n",
       "      <td>Todas las edades</td>\n",
       "      <td>2005</td>\n",
       "      <td>1450</td>\n",
       "      <td>006</td>\n",
       "      <td>Single cause</td>\n",
       "      <td>SIDA</td>\n",
       "      <td>1468.871795</td>\n",
       "      <td>12.11</td>\n",
       "      <td>4.7</td>\n",
       "      <td>17.45</td>\n",
       "    </tr>\n",
       "    <tr>\n",
       "      <th>16</th>\n",
       "      <td>006  SIDA</td>\n",
       "      <td>Total</td>\n",
       "      <td>Todas las edades</td>\n",
       "      <td>2006</td>\n",
       "      <td>1313</td>\n",
       "      <td>006</td>\n",
       "      <td>Single cause</td>\n",
       "      <td>SIDA</td>\n",
       "      <td>1468.871795</td>\n",
       "      <td>12.11</td>\n",
       "      <td>4.7</td>\n",
       "      <td>17.45</td>\n",
       "    </tr>\n",
       "    <tr>\n",
       "      <th>17</th>\n",
       "      <td>006  SIDA</td>\n",
       "      <td>Total</td>\n",
       "      <td>Todas las edades</td>\n",
       "      <td>2007</td>\n",
       "      <td>1307</td>\n",
       "      <td>006</td>\n",
       "      <td>Single cause</td>\n",
       "      <td>SIDA</td>\n",
       "      <td>1468.871795</td>\n",
       "      <td>12.11</td>\n",
       "      <td>4.7</td>\n",
       "      <td>17.45</td>\n",
       "    </tr>\n",
       "    <tr>\n",
       "      <th>18</th>\n",
       "      <td>006  SIDA</td>\n",
       "      <td>Total</td>\n",
       "      <td>Todas las edades</td>\n",
       "      <td>1989</td>\n",
       "      <td>1288</td>\n",
       "      <td>006</td>\n",
       "      <td>Single cause</td>\n",
       "      <td>SIDA</td>\n",
       "      <td>1468.871795</td>\n",
       "      <td>12.11</td>\n",
       "      <td>4.7</td>\n",
       "      <td>17.45</td>\n",
       "    </tr>\n",
       "    <tr>\n",
       "      <th>19</th>\n",
       "      <td>006  SIDA</td>\n",
       "      <td>Total</td>\n",
       "      <td>Todas las edades</td>\n",
       "      <td>2008</td>\n",
       "      <td>1211</td>\n",
       "      <td>006</td>\n",
       "      <td>Single cause</td>\n",
       "      <td>SIDA</td>\n",
       "      <td>1468.871795</td>\n",
       "      <td>12.11</td>\n",
       "      <td>4.7</td>\n",
       "      <td>17.45</td>\n",
       "    </tr>\n",
       "    <tr>\n",
       "      <th>20</th>\n",
       "      <td>006  SIDA</td>\n",
       "      <td>Total</td>\n",
       "      <td>Todas las edades</td>\n",
       "      <td>2009</td>\n",
       "      <td>1079</td>\n",
       "      <td>006</td>\n",
       "      <td>Single cause</td>\n",
       "      <td>SIDA</td>\n",
       "      <td>1468.871795</td>\n",
       "      <td>12.11</td>\n",
       "      <td>4.7</td>\n",
       "      <td>17.45</td>\n",
       "    </tr>\n",
       "    <tr>\n",
       "      <th>21</th>\n",
       "      <td>006  SIDA</td>\n",
       "      <td>Total</td>\n",
       "      <td>Todas las edades</td>\n",
       "      <td>2010</td>\n",
       "      <td>1020</td>\n",
       "      <td>006</td>\n",
       "      <td>Single cause</td>\n",
       "      <td>SIDA</td>\n",
       "      <td>1468.871795</td>\n",
       "      <td>12.11</td>\n",
       "      <td>4.7</td>\n",
       "      <td>17.45</td>\n",
       "    </tr>\n",
       "    <tr>\n",
       "      <th>22</th>\n",
       "      <td>006  SIDA</td>\n",
       "      <td>Total</td>\n",
       "      <td>Todas las edades</td>\n",
       "      <td>2011</td>\n",
       "      <td>953</td>\n",
       "      <td>006</td>\n",
       "      <td>Single cause</td>\n",
       "      <td>SIDA</td>\n",
       "      <td>1468.871795</td>\n",
       "      <td>12.11</td>\n",
       "      <td>4.7</td>\n",
       "      <td>17.45</td>\n",
       "    </tr>\n",
       "    <tr>\n",
       "      <th>23</th>\n",
       "      <td>006  SIDA</td>\n",
       "      <td>Total</td>\n",
       "      <td>Todas las edades</td>\n",
       "      <td>2012</td>\n",
       "      <td>880</td>\n",
       "      <td>006</td>\n",
       "      <td>Single cause</td>\n",
       "      <td>SIDA</td>\n",
       "      <td>1468.871795</td>\n",
       "      <td>12.11</td>\n",
       "      <td>4.7</td>\n",
       "      <td>17.45</td>\n",
       "    </tr>\n",
       "    <tr>\n",
       "      <th>24</th>\n",
       "      <td>006  SIDA</td>\n",
       "      <td>Total</td>\n",
       "      <td>Todas las edades</td>\n",
       "      <td>1988</td>\n",
       "      <td>768</td>\n",
       "      <td>006</td>\n",
       "      <td>Single cause</td>\n",
       "      <td>SIDA</td>\n",
       "      <td>1468.871795</td>\n",
       "      <td>12.11</td>\n",
       "      <td>4.7</td>\n",
       "      <td>17.45</td>\n",
       "    </tr>\n",
       "    <tr>\n",
       "      <th>25</th>\n",
       "      <td>006  SIDA</td>\n",
       "      <td>Total</td>\n",
       "      <td>Todas las edades</td>\n",
       "      <td>2013</td>\n",
       "      <td>749</td>\n",
       "      <td>006</td>\n",
       "      <td>Single cause</td>\n",
       "      <td>SIDA</td>\n",
       "      <td>1468.871795</td>\n",
       "      <td>12.11</td>\n",
       "      <td>4.7</td>\n",
       "      <td>17.45</td>\n",
       "    </tr>\n",
       "    <tr>\n",
       "      <th>26</th>\n",
       "      <td>006  SIDA</td>\n",
       "      <td>Total</td>\n",
       "      <td>Todas las edades</td>\n",
       "      <td>2014</td>\n",
       "      <td>700</td>\n",
       "      <td>006</td>\n",
       "      <td>Single cause</td>\n",
       "      <td>SIDA</td>\n",
       "      <td>1468.871795</td>\n",
       "      <td>12.11</td>\n",
       "      <td>4.7</td>\n",
       "      <td>17.45</td>\n",
       "    </tr>\n",
       "    <tr>\n",
       "      <th>27</th>\n",
       "      <td>006  SIDA</td>\n",
       "      <td>Total</td>\n",
       "      <td>Todas las edades</td>\n",
       "      <td>2015</td>\n",
       "      <td>633</td>\n",
       "      <td>006</td>\n",
       "      <td>Single cause</td>\n",
       "      <td>SIDA</td>\n",
       "      <td>1468.871795</td>\n",
       "      <td>12.11</td>\n",
       "      <td>4.7</td>\n",
       "      <td>17.45</td>\n",
       "    </tr>\n",
       "    <tr>\n",
       "      <th>28</th>\n",
       "      <td>006  SIDA</td>\n",
       "      <td>Total</td>\n",
       "      <td>Todas las edades</td>\n",
       "      <td>2016</td>\n",
       "      <td>498</td>\n",
       "      <td>006</td>\n",
       "      <td>Single cause</td>\n",
       "      <td>SIDA</td>\n",
       "      <td>1468.871795</td>\n",
       "      <td>12.11</td>\n",
       "      <td>4.7</td>\n",
       "      <td>17.45</td>\n",
       "    </tr>\n",
       "    <tr>\n",
       "      <th>29</th>\n",
       "      <td>006  SIDA</td>\n",
       "      <td>Total</td>\n",
       "      <td>Todas las edades</td>\n",
       "      <td>2017</td>\n",
       "      <td>442</td>\n",
       "      <td>006</td>\n",
       "      <td>Single cause</td>\n",
       "      <td>SIDA</td>\n",
       "      <td>1468.871795</td>\n",
       "      <td>12.11</td>\n",
       "      <td>4.7</td>\n",
       "      <td>17.45</td>\n",
       "    </tr>\n",
       "    <tr>\n",
       "      <th>30</th>\n",
       "      <td>006  SIDA</td>\n",
       "      <td>Total</td>\n",
       "      <td>Todas las edades</td>\n",
       "      <td>2018</td>\n",
       "      <td>423</td>\n",
       "      <td>006</td>\n",
       "      <td>Single cause</td>\n",
       "      <td>SIDA</td>\n",
       "      <td>1468.871795</td>\n",
       "      <td>12.11</td>\n",
       "      <td>4.7</td>\n",
       "      <td>17.45</td>\n",
       "    </tr>\n",
       "    <tr>\n",
       "      <th>31</th>\n",
       "      <td>006  SIDA</td>\n",
       "      <td>Total</td>\n",
       "      <td>Todas las edades</td>\n",
       "      <td>1987</td>\n",
       "      <td>409</td>\n",
       "      <td>006</td>\n",
       "      <td>Single cause</td>\n",
       "      <td>SIDA</td>\n",
       "      <td>1468.871795</td>\n",
       "      <td>12.11</td>\n",
       "      <td>4.7</td>\n",
       "      <td>17.45</td>\n",
       "    </tr>\n",
       "    <tr>\n",
       "      <th>32</th>\n",
       "      <td>006  SIDA</td>\n",
       "      <td>Total</td>\n",
       "      <td>Todas las edades</td>\n",
       "      <td>1986</td>\n",
       "      <td>164</td>\n",
       "      <td>006</td>\n",
       "      <td>Single cause</td>\n",
       "      <td>SIDA</td>\n",
       "      <td>1468.871795</td>\n",
       "      <td>12.11</td>\n",
       "      <td>4.7</td>\n",
       "      <td>17.45</td>\n",
       "    </tr>\n",
       "    <tr>\n",
       "      <th>33</th>\n",
       "      <td>006  SIDA</td>\n",
       "      <td>Total</td>\n",
       "      <td>Todas las edades</td>\n",
       "      <td>1985</td>\n",
       "      <td>47</td>\n",
       "      <td>006</td>\n",
       "      <td>Single cause</td>\n",
       "      <td>SIDA</td>\n",
       "      <td>1468.871795</td>\n",
       "      <td>12.11</td>\n",
       "      <td>4.7</td>\n",
       "      <td>17.45</td>\n",
       "    </tr>\n",
       "    <tr>\n",
       "      <th>34</th>\n",
       "      <td>006  SIDA</td>\n",
       "      <td>Total</td>\n",
       "      <td>Todas las edades</td>\n",
       "      <td>1982</td>\n",
       "      <td>0</td>\n",
       "      <td>006</td>\n",
       "      <td>Single cause</td>\n",
       "      <td>SIDA</td>\n",
       "      <td>1468.871795</td>\n",
       "      <td>12.11</td>\n",
       "      <td>4.7</td>\n",
       "      <td>17.45</td>\n",
       "    </tr>\n",
       "    <tr>\n",
       "      <th>35</th>\n",
       "      <td>006  SIDA</td>\n",
       "      <td>Total</td>\n",
       "      <td>Todas las edades</td>\n",
       "      <td>1980</td>\n",
       "      <td>0</td>\n",
       "      <td>006</td>\n",
       "      <td>Single cause</td>\n",
       "      <td>SIDA</td>\n",
       "      <td>1468.871795</td>\n",
       "      <td>12.11</td>\n",
       "      <td>4.7</td>\n",
       "      <td>17.45</td>\n",
       "    </tr>\n",
       "    <tr>\n",
       "      <th>36</th>\n",
       "      <td>006  SIDA</td>\n",
       "      <td>Total</td>\n",
       "      <td>Todas las edades</td>\n",
       "      <td>1984</td>\n",
       "      <td>0</td>\n",
       "      <td>006</td>\n",
       "      <td>Single cause</td>\n",
       "      <td>SIDA</td>\n",
       "      <td>1468.871795</td>\n",
       "      <td>12.11</td>\n",
       "      <td>4.7</td>\n",
       "      <td>17.45</td>\n",
       "    </tr>\n",
       "    <tr>\n",
       "      <th>37</th>\n",
       "      <td>006  SIDA</td>\n",
       "      <td>Total</td>\n",
       "      <td>Todas las edades</td>\n",
       "      <td>1981</td>\n",
       "      <td>0</td>\n",
       "      <td>006</td>\n",
       "      <td>Single cause</td>\n",
       "      <td>SIDA</td>\n",
       "      <td>1468.871795</td>\n",
       "      <td>12.11</td>\n",
       "      <td>4.7</td>\n",
       "      <td>17.45</td>\n",
       "    </tr>\n",
       "    <tr>\n",
       "      <th>38</th>\n",
       "      <td>006  SIDA</td>\n",
       "      <td>Total</td>\n",
       "      <td>Todas las edades</td>\n",
       "      <td>1983</td>\n",
       "      <td>0</td>\n",
       "      <td>006</td>\n",
       "      <td>Single cause</td>\n",
       "      <td>SIDA</td>\n",
       "      <td>1468.871795</td>\n",
       "      <td>12.11</td>\n",
       "      <td>4.7</td>\n",
       "      <td>17.45</td>\n",
       "    </tr>\n",
       "  </tbody>\n",
       "</table>\n",
       "</div>"
      ],
      "text/plain": [
       "   Causa de muerte   Sexo              Edad  Periodo  Total cause_code  \\\n",
       "0        006  SIDA  Total  Todas las edades     1995   5551        006   \n",
       "1        006  SIDA  Total  Todas las edades     1996   5432        006   \n",
       "2        006  SIDA  Total  Todas las edades     1994   4770        006   \n",
       "3        006  SIDA  Total  Todas las edades     1993   3980        006   \n",
       "4        006  SIDA  Total  Todas las edades     1992   3256        006   \n",
       "5        006  SIDA  Total  Todas las edades     1997   2844        006   \n",
       "6        006  SIDA  Total  Todas las edades     1991   2503        006   \n",
       "7        006  SIDA  Total  Todas las edades     1990   1898        006   \n",
       "8        006  SIDA  Total  Todas las edades     1999   1802        006   \n",
       "9        006  SIDA  Total  Todas las edades     1998   1779        006   \n",
       "10       006  SIDA  Total  Todas las edades     2000   1711        006   \n",
       "11       006  SIDA  Total  Todas las edades     2003   1632        006   \n",
       "12       006  SIDA  Total  Todas las edades     2001   1632        006   \n",
       "13       006  SIDA  Total  Todas las edades     2002   1611        006   \n",
       "14       006  SIDA  Total  Todas las edades     2004   1551        006   \n",
       "15       006  SIDA  Total  Todas las edades     2005   1450        006   \n",
       "16       006  SIDA  Total  Todas las edades     2006   1313        006   \n",
       "17       006  SIDA  Total  Todas las edades     2007   1307        006   \n",
       "18       006  SIDA  Total  Todas las edades     1989   1288        006   \n",
       "19       006  SIDA  Total  Todas las edades     2008   1211        006   \n",
       "20       006  SIDA  Total  Todas las edades     2009   1079        006   \n",
       "21       006  SIDA  Total  Todas las edades     2010   1020        006   \n",
       "22       006  SIDA  Total  Todas las edades     2011    953        006   \n",
       "23       006  SIDA  Total  Todas las edades     2012    880        006   \n",
       "24       006  SIDA  Total  Todas las edades     1988    768        006   \n",
       "25       006  SIDA  Total  Todas las edades     2013    749        006   \n",
       "26       006  SIDA  Total  Todas las edades     2014    700        006   \n",
       "27       006  SIDA  Total  Todas las edades     2015    633        006   \n",
       "28       006  SIDA  Total  Todas las edades     2016    498        006   \n",
       "29       006  SIDA  Total  Todas las edades     2017    442        006   \n",
       "30       006  SIDA  Total  Todas las edades     2018    423        006   \n",
       "31       006  SIDA  Total  Todas las edades     1987    409        006   \n",
       "32       006  SIDA  Total  Todas las edades     1986    164        006   \n",
       "33       006  SIDA  Total  Todas las edades     1985     47        006   \n",
       "34       006  SIDA  Total  Todas las edades     1982      0        006   \n",
       "35       006  SIDA  Total  Todas las edades     1980      0        006   \n",
       "36       006  SIDA  Total  Todas las edades     1984      0        006   \n",
       "37       006  SIDA  Total  Todas las edades     1981      0        006   \n",
       "38       006  SIDA  Total  Todas las edades     1983      0        006   \n",
       "\n",
       "     cause_group cause_name        media  percentil_05  percentil_025  \\\n",
       "0   Single cause       SIDA  1468.871795         12.11            4.7   \n",
       "1   Single cause       SIDA  1468.871795         12.11            4.7   \n",
       "2   Single cause       SIDA  1468.871795         12.11            4.7   \n",
       "3   Single cause       SIDA  1468.871795         12.11            4.7   \n",
       "4   Single cause       SIDA  1468.871795         12.11            4.7   \n",
       "5   Single cause       SIDA  1468.871795         12.11            4.7   \n",
       "6   Single cause       SIDA  1468.871795         12.11            4.7   \n",
       "7   Single cause       SIDA  1468.871795         12.11            4.7   \n",
       "8   Single cause       SIDA  1468.871795         12.11            4.7   \n",
       "9   Single cause       SIDA  1468.871795         12.11            4.7   \n",
       "10  Single cause       SIDA  1468.871795         12.11            4.7   \n",
       "11  Single cause       SIDA  1468.871795         12.11            4.7   \n",
       "12  Single cause       SIDA  1468.871795         12.11            4.7   \n",
       "13  Single cause       SIDA  1468.871795         12.11            4.7   \n",
       "14  Single cause       SIDA  1468.871795         12.11            4.7   \n",
       "15  Single cause       SIDA  1468.871795         12.11            4.7   \n",
       "16  Single cause       SIDA  1468.871795         12.11            4.7   \n",
       "17  Single cause       SIDA  1468.871795         12.11            4.7   \n",
       "18  Single cause       SIDA  1468.871795         12.11            4.7   \n",
       "19  Single cause       SIDA  1468.871795         12.11            4.7   \n",
       "20  Single cause       SIDA  1468.871795         12.11            4.7   \n",
       "21  Single cause       SIDA  1468.871795         12.11            4.7   \n",
       "22  Single cause       SIDA  1468.871795         12.11            4.7   \n",
       "23  Single cause       SIDA  1468.871795         12.11            4.7   \n",
       "24  Single cause       SIDA  1468.871795         12.11            4.7   \n",
       "25  Single cause       SIDA  1468.871795         12.11            4.7   \n",
       "26  Single cause       SIDA  1468.871795         12.11            4.7   \n",
       "27  Single cause       SIDA  1468.871795         12.11            4.7   \n",
       "28  Single cause       SIDA  1468.871795         12.11            4.7   \n",
       "29  Single cause       SIDA  1468.871795         12.11            4.7   \n",
       "30  Single cause       SIDA  1468.871795         12.11            4.7   \n",
       "31  Single cause       SIDA  1468.871795         12.11            4.7   \n",
       "32  Single cause       SIDA  1468.871795         12.11            4.7   \n",
       "33  Single cause       SIDA  1468.871795         12.11            4.7   \n",
       "34  Single cause       SIDA  1468.871795         12.11            4.7   \n",
       "35  Single cause       SIDA  1468.871795         12.11            4.7   \n",
       "36  Single cause       SIDA  1468.871795         12.11            4.7   \n",
       "37  Single cause       SIDA  1468.871795         12.11            4.7   \n",
       "38  Single cause       SIDA  1468.871795         12.11            4.7   \n",
       "\n",
       "    percentil_075  \n",
       "0           17.45  \n",
       "1           17.45  \n",
       "2           17.45  \n",
       "3           17.45  \n",
       "4           17.45  \n",
       "5           17.45  \n",
       "6           17.45  \n",
       "7           17.45  \n",
       "8           17.45  \n",
       "9           17.45  \n",
       "10          17.45  \n",
       "11          17.45  \n",
       "12          17.45  \n",
       "13          17.45  \n",
       "14          17.45  \n",
       "15          17.45  \n",
       "16          17.45  \n",
       "17          17.45  \n",
       "18          17.45  \n",
       "19          17.45  \n",
       "20          17.45  \n",
       "21          17.45  \n",
       "22          17.45  \n",
       "23          17.45  \n",
       "24          17.45  \n",
       "25          17.45  \n",
       "26          17.45  \n",
       "27          17.45  \n",
       "28          17.45  \n",
       "29          17.45  \n",
       "30          17.45  \n",
       "31          17.45  \n",
       "32          17.45  \n",
       "33          17.45  \n",
       "34          17.45  \n",
       "35          17.45  \n",
       "36          17.45  \n",
       "37          17.45  \n",
       "38          17.45  "
      ]
     },
     "execution_count": 25,
     "metadata": {},
     "output_type": "execute_result"
    }
   ],
   "source": [
    "dataset_m = mod.row_filter(deaths, 'Causa de muerte', [\"006  SIDA\"])\n",
    "\n",
    "\n",
    "dataset_m= mod.row_filter(dataset, 'Sexo', [\"Mujeres\"])\n",
    "\n",
    "\n",
    "\n",
    "dataset_m= mod.row_filter(dataset, 'Edad', [\"Todas las edades\"])\n",
    "\n",
    "dataset_m"
   ]
  },
  {
   "cell_type": "code",
   "execution_count": 26,
   "metadata": {},
   "outputs": [
    {
     "data": {
      "text/html": [
       "<div>\n",
       "<style scoped>\n",
       "    .dataframe tbody tr th:only-of-type {\n",
       "        vertical-align: middle;\n",
       "    }\n",
       "\n",
       "    .dataframe tbody tr th {\n",
       "        vertical-align: top;\n",
       "    }\n",
       "\n",
       "    .dataframe thead th {\n",
       "        text-align: right;\n",
       "    }\n",
       "</style>\n",
       "<table border=\"1\" class=\"dataframe\">\n",
       "  <thead>\n",
       "    <tr style=\"text-align: right;\">\n",
       "      <th></th>\n",
       "      <th>Causa de muerte</th>\n",
       "      <th>Sexo</th>\n",
       "      <th>Edad</th>\n",
       "      <th>Periodo</th>\n",
       "      <th>Total</th>\n",
       "      <th>cause_code</th>\n",
       "      <th>cause_group</th>\n",
       "      <th>cause_name</th>\n",
       "    </tr>\n",
       "  </thead>\n",
       "  <tbody>\n",
       "    <tr>\n",
       "      <th>0</th>\n",
       "      <td>006  SIDA</td>\n",
       "      <td>Hombres</td>\n",
       "      <td>Todas las edades</td>\n",
       "      <td>1995</td>\n",
       "      <td>4509</td>\n",
       "      <td>006</td>\n",
       "      <td>Single cause</td>\n",
       "      <td>SIDA</td>\n",
       "    </tr>\n",
       "    <tr>\n",
       "      <th>1</th>\n",
       "      <td>006  SIDA</td>\n",
       "      <td>Hombres</td>\n",
       "      <td>Todas las edades</td>\n",
       "      <td>1996</td>\n",
       "      <td>4355</td>\n",
       "      <td>006</td>\n",
       "      <td>Single cause</td>\n",
       "      <td>SIDA</td>\n",
       "    </tr>\n",
       "    <tr>\n",
       "      <th>2</th>\n",
       "      <td>006  SIDA</td>\n",
       "      <td>Hombres</td>\n",
       "      <td>Todas las edades</td>\n",
       "      <td>1994</td>\n",
       "      <td>3850</td>\n",
       "      <td>006</td>\n",
       "      <td>Single cause</td>\n",
       "      <td>SIDA</td>\n",
       "    </tr>\n",
       "    <tr>\n",
       "      <th>3</th>\n",
       "      <td>006  SIDA</td>\n",
       "      <td>Hombres</td>\n",
       "      <td>Todas las edades</td>\n",
       "      <td>1993</td>\n",
       "      <td>3219</td>\n",
       "      <td>006</td>\n",
       "      <td>Single cause</td>\n",
       "      <td>SIDA</td>\n",
       "    </tr>\n",
       "    <tr>\n",
       "      <th>4</th>\n",
       "      <td>006  SIDA</td>\n",
       "      <td>Hombres</td>\n",
       "      <td>Todas las edades</td>\n",
       "      <td>1992</td>\n",
       "      <td>2706</td>\n",
       "      <td>006</td>\n",
       "      <td>Single cause</td>\n",
       "      <td>SIDA</td>\n",
       "    </tr>\n",
       "    <tr>\n",
       "      <th>5</th>\n",
       "      <td>006  SIDA</td>\n",
       "      <td>Hombres</td>\n",
       "      <td>Todas las edades</td>\n",
       "      <td>1997</td>\n",
       "      <td>2336</td>\n",
       "      <td>006</td>\n",
       "      <td>Single cause</td>\n",
       "      <td>SIDA</td>\n",
       "    </tr>\n",
       "    <tr>\n",
       "      <th>6</th>\n",
       "      <td>006  SIDA</td>\n",
       "      <td>Hombres</td>\n",
       "      <td>Todas las edades</td>\n",
       "      <td>1991</td>\n",
       "      <td>2115</td>\n",
       "      <td>006</td>\n",
       "      <td>Single cause</td>\n",
       "      <td>SIDA</td>\n",
       "    </tr>\n",
       "    <tr>\n",
       "      <th>7</th>\n",
       "      <td>006  SIDA</td>\n",
       "      <td>Hombres</td>\n",
       "      <td>Todas las edades</td>\n",
       "      <td>1990</td>\n",
       "      <td>1576</td>\n",
       "      <td>006</td>\n",
       "      <td>Single cause</td>\n",
       "      <td>SIDA</td>\n",
       "    </tr>\n",
       "    <tr>\n",
       "      <th>8</th>\n",
       "      <td>006  SIDA</td>\n",
       "      <td>Hombres</td>\n",
       "      <td>Todas las edades</td>\n",
       "      <td>1999</td>\n",
       "      <td>1488</td>\n",
       "      <td>006</td>\n",
       "      <td>Single cause</td>\n",
       "      <td>SIDA</td>\n",
       "    </tr>\n",
       "    <tr>\n",
       "      <th>9</th>\n",
       "      <td>006  SIDA</td>\n",
       "      <td>Hombres</td>\n",
       "      <td>Todas las edades</td>\n",
       "      <td>1998</td>\n",
       "      <td>1476</td>\n",
       "      <td>006</td>\n",
       "      <td>Single cause</td>\n",
       "      <td>SIDA</td>\n",
       "    </tr>\n",
       "    <tr>\n",
       "      <th>10</th>\n",
       "      <td>006  SIDA</td>\n",
       "      <td>Hombres</td>\n",
       "      <td>Todas las edades</td>\n",
       "      <td>2000</td>\n",
       "      <td>1391</td>\n",
       "      <td>006</td>\n",
       "      <td>Single cause</td>\n",
       "      <td>SIDA</td>\n",
       "    </tr>\n",
       "    <tr>\n",
       "      <th>11</th>\n",
       "      <td>006  SIDA</td>\n",
       "      <td>Hombres</td>\n",
       "      <td>Todas las edades</td>\n",
       "      <td>2002</td>\n",
       "      <td>1317</td>\n",
       "      <td>006</td>\n",
       "      <td>Single cause</td>\n",
       "      <td>SIDA</td>\n",
       "    </tr>\n",
       "    <tr>\n",
       "      <th>12</th>\n",
       "      <td>006  SIDA</td>\n",
       "      <td>Hombres</td>\n",
       "      <td>Todas las edades</td>\n",
       "      <td>2001</td>\n",
       "      <td>1296</td>\n",
       "      <td>006</td>\n",
       "      <td>Single cause</td>\n",
       "      <td>SIDA</td>\n",
       "    </tr>\n",
       "    <tr>\n",
       "      <th>13</th>\n",
       "      <td>006  SIDA</td>\n",
       "      <td>Hombres</td>\n",
       "      <td>Todas las edades</td>\n",
       "      <td>2003</td>\n",
       "      <td>1289</td>\n",
       "      <td>006</td>\n",
       "      <td>Single cause</td>\n",
       "      <td>SIDA</td>\n",
       "    </tr>\n",
       "    <tr>\n",
       "      <th>14</th>\n",
       "      <td>006  SIDA</td>\n",
       "      <td>Hombres</td>\n",
       "      <td>Todas las edades</td>\n",
       "      <td>2004</td>\n",
       "      <td>1271</td>\n",
       "      <td>006</td>\n",
       "      <td>Single cause</td>\n",
       "      <td>SIDA</td>\n",
       "    </tr>\n",
       "    <tr>\n",
       "      <th>15</th>\n",
       "      <td>006  SIDA</td>\n",
       "      <td>Hombres</td>\n",
       "      <td>Todas las edades</td>\n",
       "      <td>2005</td>\n",
       "      <td>1168</td>\n",
       "      <td>006</td>\n",
       "      <td>Single cause</td>\n",
       "      <td>SIDA</td>\n",
       "    </tr>\n",
       "    <tr>\n",
       "      <th>16</th>\n",
       "      <td>006  SIDA</td>\n",
       "      <td>Hombres</td>\n",
       "      <td>Todas las edades</td>\n",
       "      <td>2007</td>\n",
       "      <td>1059</td>\n",
       "      <td>006</td>\n",
       "      <td>Single cause</td>\n",
       "      <td>SIDA</td>\n",
       "    </tr>\n",
       "    <tr>\n",
       "      <th>17</th>\n",
       "      <td>006  SIDA</td>\n",
       "      <td>Hombres</td>\n",
       "      <td>Todas las edades</td>\n",
       "      <td>1989</td>\n",
       "      <td>1058</td>\n",
       "      <td>006</td>\n",
       "      <td>Single cause</td>\n",
       "      <td>SIDA</td>\n",
       "    </tr>\n",
       "    <tr>\n",
       "      <th>18</th>\n",
       "      <td>006  SIDA</td>\n",
       "      <td>Hombres</td>\n",
       "      <td>Todas las edades</td>\n",
       "      <td>2006</td>\n",
       "      <td>1035</td>\n",
       "      <td>006</td>\n",
       "      <td>Single cause</td>\n",
       "      <td>SIDA</td>\n",
       "    </tr>\n",
       "    <tr>\n",
       "      <th>19</th>\n",
       "      <td>006  SIDA</td>\n",
       "      <td>Hombres</td>\n",
       "      <td>Todas las edades</td>\n",
       "      <td>2008</td>\n",
       "      <td>947</td>\n",
       "      <td>006</td>\n",
       "      <td>Single cause</td>\n",
       "      <td>SIDA</td>\n",
       "    </tr>\n",
       "    <tr>\n",
       "      <th>20</th>\n",
       "      <td>006  SIDA</td>\n",
       "      <td>Hombres</td>\n",
       "      <td>Todas las edades</td>\n",
       "      <td>2009</td>\n",
       "      <td>853</td>\n",
       "      <td>006</td>\n",
       "      <td>Single cause</td>\n",
       "      <td>SIDA</td>\n",
       "    </tr>\n",
       "    <tr>\n",
       "      <th>21</th>\n",
       "      <td>006  SIDA</td>\n",
       "      <td>Hombres</td>\n",
       "      <td>Todas las edades</td>\n",
       "      <td>2010</td>\n",
       "      <td>813</td>\n",
       "      <td>006</td>\n",
       "      <td>Single cause</td>\n",
       "      <td>SIDA</td>\n",
       "    </tr>\n",
       "    <tr>\n",
       "      <th>22</th>\n",
       "      <td>006  SIDA</td>\n",
       "      <td>Hombres</td>\n",
       "      <td>Todas las edades</td>\n",
       "      <td>2011</td>\n",
       "      <td>756</td>\n",
       "      <td>006</td>\n",
       "      <td>Single cause</td>\n",
       "      <td>SIDA</td>\n",
       "    </tr>\n",
       "    <tr>\n",
       "      <th>23</th>\n",
       "      <td>006  SIDA</td>\n",
       "      <td>Hombres</td>\n",
       "      <td>Todas las edades</td>\n",
       "      <td>2012</td>\n",
       "      <td>675</td>\n",
       "      <td>006</td>\n",
       "      <td>Single cause</td>\n",
       "      <td>SIDA</td>\n",
       "    </tr>\n",
       "    <tr>\n",
       "      <th>24</th>\n",
       "      <td>006  SIDA</td>\n",
       "      <td>Hombres</td>\n",
       "      <td>Todas las edades</td>\n",
       "      <td>1988</td>\n",
       "      <td>647</td>\n",
       "      <td>006</td>\n",
       "      <td>Single cause</td>\n",
       "      <td>SIDA</td>\n",
       "    </tr>\n",
       "    <tr>\n",
       "      <th>25</th>\n",
       "      <td>006  SIDA</td>\n",
       "      <td>Hombres</td>\n",
       "      <td>Todas las edades</td>\n",
       "      <td>2013</td>\n",
       "      <td>603</td>\n",
       "      <td>006</td>\n",
       "      <td>Single cause</td>\n",
       "      <td>SIDA</td>\n",
       "    </tr>\n",
       "    <tr>\n",
       "      <th>26</th>\n",
       "      <td>006  SIDA</td>\n",
       "      <td>Hombres</td>\n",
       "      <td>Todas las edades</td>\n",
       "      <td>2014</td>\n",
       "      <td>531</td>\n",
       "      <td>006</td>\n",
       "      <td>Single cause</td>\n",
       "      <td>SIDA</td>\n",
       "    </tr>\n",
       "    <tr>\n",
       "      <th>27</th>\n",
       "      <td>006  SIDA</td>\n",
       "      <td>Hombres</td>\n",
       "      <td>Todas las edades</td>\n",
       "      <td>2015</td>\n",
       "      <td>513</td>\n",
       "      <td>006</td>\n",
       "      <td>Single cause</td>\n",
       "      <td>SIDA</td>\n",
       "    </tr>\n",
       "    <tr>\n",
       "      <th>28</th>\n",
       "      <td>006  SIDA</td>\n",
       "      <td>Hombres</td>\n",
       "      <td>Todas las edades</td>\n",
       "      <td>2016</td>\n",
       "      <td>385</td>\n",
       "      <td>006</td>\n",
       "      <td>Single cause</td>\n",
       "      <td>SIDA</td>\n",
       "    </tr>\n",
       "    <tr>\n",
       "      <th>29</th>\n",
       "      <td>006  SIDA</td>\n",
       "      <td>Hombres</td>\n",
       "      <td>Todas las edades</td>\n",
       "      <td>2017</td>\n",
       "      <td>342</td>\n",
       "      <td>006</td>\n",
       "      <td>Single cause</td>\n",
       "      <td>SIDA</td>\n",
       "    </tr>\n",
       "    <tr>\n",
       "      <th>30</th>\n",
       "      <td>006  SIDA</td>\n",
       "      <td>Hombres</td>\n",
       "      <td>Todas las edades</td>\n",
       "      <td>2018</td>\n",
       "      <td>342</td>\n",
       "      <td>006</td>\n",
       "      <td>Single cause</td>\n",
       "      <td>SIDA</td>\n",
       "    </tr>\n",
       "    <tr>\n",
       "      <th>31</th>\n",
       "      <td>006  SIDA</td>\n",
       "      <td>Hombres</td>\n",
       "      <td>Todas las edades</td>\n",
       "      <td>1987</td>\n",
       "      <td>334</td>\n",
       "      <td>006</td>\n",
       "      <td>Single cause</td>\n",
       "      <td>SIDA</td>\n",
       "    </tr>\n",
       "    <tr>\n",
       "      <th>32</th>\n",
       "      <td>006  SIDA</td>\n",
       "      <td>Hombres</td>\n",
       "      <td>Todas las edades</td>\n",
       "      <td>1986</td>\n",
       "      <td>135</td>\n",
       "      <td>006</td>\n",
       "      <td>Single cause</td>\n",
       "      <td>SIDA</td>\n",
       "    </tr>\n",
       "    <tr>\n",
       "      <th>33</th>\n",
       "      <td>006  SIDA</td>\n",
       "      <td>Hombres</td>\n",
       "      <td>Todas las edades</td>\n",
       "      <td>1985</td>\n",
       "      <td>44</td>\n",
       "      <td>006</td>\n",
       "      <td>Single cause</td>\n",
       "      <td>SIDA</td>\n",
       "    </tr>\n",
       "    <tr>\n",
       "      <th>34</th>\n",
       "      <td>006  SIDA</td>\n",
       "      <td>Hombres</td>\n",
       "      <td>Todas las edades</td>\n",
       "      <td>1980</td>\n",
       "      <td>0</td>\n",
       "      <td>006</td>\n",
       "      <td>Single cause</td>\n",
       "      <td>SIDA</td>\n",
       "    </tr>\n",
       "    <tr>\n",
       "      <th>35</th>\n",
       "      <td>006  SIDA</td>\n",
       "      <td>Hombres</td>\n",
       "      <td>Todas las edades</td>\n",
       "      <td>1981</td>\n",
       "      <td>0</td>\n",
       "      <td>006</td>\n",
       "      <td>Single cause</td>\n",
       "      <td>SIDA</td>\n",
       "    </tr>\n",
       "    <tr>\n",
       "      <th>36</th>\n",
       "      <td>006  SIDA</td>\n",
       "      <td>Hombres</td>\n",
       "      <td>Todas las edades</td>\n",
       "      <td>1982</td>\n",
       "      <td>0</td>\n",
       "      <td>006</td>\n",
       "      <td>Single cause</td>\n",
       "      <td>SIDA</td>\n",
       "    </tr>\n",
       "    <tr>\n",
       "      <th>37</th>\n",
       "      <td>006  SIDA</td>\n",
       "      <td>Hombres</td>\n",
       "      <td>Todas las edades</td>\n",
       "      <td>1983</td>\n",
       "      <td>0</td>\n",
       "      <td>006</td>\n",
       "      <td>Single cause</td>\n",
       "      <td>SIDA</td>\n",
       "    </tr>\n",
       "    <tr>\n",
       "      <th>38</th>\n",
       "      <td>006  SIDA</td>\n",
       "      <td>Hombres</td>\n",
       "      <td>Todas las edades</td>\n",
       "      <td>1984</td>\n",
       "      <td>0</td>\n",
       "      <td>006</td>\n",
       "      <td>Single cause</td>\n",
       "      <td>SIDA</td>\n",
       "    </tr>\n",
       "  </tbody>\n",
       "</table>\n",
       "</div>"
      ],
      "text/plain": [
       "   Causa de muerte     Sexo              Edad  Periodo  Total cause_code  \\\n",
       "0        006  SIDA  Hombres  Todas las edades     1995   4509        006   \n",
       "1        006  SIDA  Hombres  Todas las edades     1996   4355        006   \n",
       "2        006  SIDA  Hombres  Todas las edades     1994   3850        006   \n",
       "3        006  SIDA  Hombres  Todas las edades     1993   3219        006   \n",
       "4        006  SIDA  Hombres  Todas las edades     1992   2706        006   \n",
       "5        006  SIDA  Hombres  Todas las edades     1997   2336        006   \n",
       "6        006  SIDA  Hombres  Todas las edades     1991   2115        006   \n",
       "7        006  SIDA  Hombres  Todas las edades     1990   1576        006   \n",
       "8        006  SIDA  Hombres  Todas las edades     1999   1488        006   \n",
       "9        006  SIDA  Hombres  Todas las edades     1998   1476        006   \n",
       "10       006  SIDA  Hombres  Todas las edades     2000   1391        006   \n",
       "11       006  SIDA  Hombres  Todas las edades     2002   1317        006   \n",
       "12       006  SIDA  Hombres  Todas las edades     2001   1296        006   \n",
       "13       006  SIDA  Hombres  Todas las edades     2003   1289        006   \n",
       "14       006  SIDA  Hombres  Todas las edades     2004   1271        006   \n",
       "15       006  SIDA  Hombres  Todas las edades     2005   1168        006   \n",
       "16       006  SIDA  Hombres  Todas las edades     2007   1059        006   \n",
       "17       006  SIDA  Hombres  Todas las edades     1989   1058        006   \n",
       "18       006  SIDA  Hombres  Todas las edades     2006   1035        006   \n",
       "19       006  SIDA  Hombres  Todas las edades     2008    947        006   \n",
       "20       006  SIDA  Hombres  Todas las edades     2009    853        006   \n",
       "21       006  SIDA  Hombres  Todas las edades     2010    813        006   \n",
       "22       006  SIDA  Hombres  Todas las edades     2011    756        006   \n",
       "23       006  SIDA  Hombres  Todas las edades     2012    675        006   \n",
       "24       006  SIDA  Hombres  Todas las edades     1988    647        006   \n",
       "25       006  SIDA  Hombres  Todas las edades     2013    603        006   \n",
       "26       006  SIDA  Hombres  Todas las edades     2014    531        006   \n",
       "27       006  SIDA  Hombres  Todas las edades     2015    513        006   \n",
       "28       006  SIDA  Hombres  Todas las edades     2016    385        006   \n",
       "29       006  SIDA  Hombres  Todas las edades     2017    342        006   \n",
       "30       006  SIDA  Hombres  Todas las edades     2018    342        006   \n",
       "31       006  SIDA  Hombres  Todas las edades     1987    334        006   \n",
       "32       006  SIDA  Hombres  Todas las edades     1986    135        006   \n",
       "33       006  SIDA  Hombres  Todas las edades     1985     44        006   \n",
       "34       006  SIDA  Hombres  Todas las edades     1980      0        006   \n",
       "35       006  SIDA  Hombres  Todas las edades     1981      0        006   \n",
       "36       006  SIDA  Hombres  Todas las edades     1982      0        006   \n",
       "37       006  SIDA  Hombres  Todas las edades     1983      0        006   \n",
       "38       006  SIDA  Hombres  Todas las edades     1984      0        006   \n",
       "\n",
       "     cause_group cause_name  \n",
       "0   Single cause       SIDA  \n",
       "1   Single cause       SIDA  \n",
       "2   Single cause       SIDA  \n",
       "3   Single cause       SIDA  \n",
       "4   Single cause       SIDA  \n",
       "5   Single cause       SIDA  \n",
       "6   Single cause       SIDA  \n",
       "7   Single cause       SIDA  \n",
       "8   Single cause       SIDA  \n",
       "9   Single cause       SIDA  \n",
       "10  Single cause       SIDA  \n",
       "11  Single cause       SIDA  \n",
       "12  Single cause       SIDA  \n",
       "13  Single cause       SIDA  \n",
       "14  Single cause       SIDA  \n",
       "15  Single cause       SIDA  \n",
       "16  Single cause       SIDA  \n",
       "17  Single cause       SIDA  \n",
       "18  Single cause       SIDA  \n",
       "19  Single cause       SIDA  \n",
       "20  Single cause       SIDA  \n",
       "21  Single cause       SIDA  \n",
       "22  Single cause       SIDA  \n",
       "23  Single cause       SIDA  \n",
       "24  Single cause       SIDA  \n",
       "25  Single cause       SIDA  \n",
       "26  Single cause       SIDA  \n",
       "27  Single cause       SIDA  \n",
       "28  Single cause       SIDA  \n",
       "29  Single cause       SIDA  \n",
       "30  Single cause       SIDA  \n",
       "31  Single cause       SIDA  \n",
       "32  Single cause       SIDA  \n",
       "33  Single cause       SIDA  \n",
       "34  Single cause       SIDA  \n",
       "35  Single cause       SIDA  \n",
       "36  Single cause       SIDA  \n",
       "37  Single cause       SIDA  \n",
       "38  Single cause       SIDA  "
      ]
     },
     "execution_count": 26,
     "metadata": {},
     "output_type": "execute_result"
    }
   ],
   "source": [
    "dataset_h= mod.row_filter(deaths, 'Causa de muerte', [\"006  SIDA\"])\n",
    "\n",
    "\n",
    "\n",
    "dataset_h= mod.row_filter(dataset_h, 'Sexo', [\"Hombres\"])\n",
    "\n",
    "\n",
    "\n",
    "dataset_h= mod.row_filter(dataset_h, 'Edad', [\"Todas las edades\"])\n",
    "\n",
    "dataset_h"
   ]
  },
  {
   "cell_type": "code",
   "execution_count": 27,
   "metadata": {},
   "outputs": [
    {
     "data": {
      "text/html": [
       "<div>\n",
       "<style scoped>\n",
       "    .dataframe tbody tr th:only-of-type {\n",
       "        vertical-align: middle;\n",
       "    }\n",
       "\n",
       "    .dataframe tbody tr th {\n",
       "        vertical-align: top;\n",
       "    }\n",
       "\n",
       "    .dataframe thead th {\n",
       "        text-align: right;\n",
       "    }\n",
       "</style>\n",
       "<table border=\"1\" class=\"dataframe\">\n",
       "  <thead>\n",
       "    <tr style=\"text-align: right;\">\n",
       "      <th></th>\n",
       "      <th>Causa de muerte</th>\n",
       "      <th>Sexo_x</th>\n",
       "      <th>Edad</th>\n",
       "      <th>Periodo</th>\n",
       "      <th>Total_x</th>\n",
       "      <th>cause_code</th>\n",
       "      <th>cause_group</th>\n",
       "      <th>cause_name</th>\n",
       "      <th>Sexo_y</th>\n",
       "      <th>Total_y</th>\n",
       "    </tr>\n",
       "  </thead>\n",
       "  <tbody>\n",
       "    <tr>\n",
       "      <th>0</th>\n",
       "      <td>006  SIDA</td>\n",
       "      <td>Hombres</td>\n",
       "      <td>Todas las edades</td>\n",
       "      <td>1995</td>\n",
       "      <td>4509</td>\n",
       "      <td>006</td>\n",
       "      <td>Single cause</td>\n",
       "      <td>SIDA</td>\n",
       "      <td>Total</td>\n",
       "      <td>5551</td>\n",
       "    </tr>\n",
       "    <tr>\n",
       "      <th>1</th>\n",
       "      <td>006  SIDA</td>\n",
       "      <td>Hombres</td>\n",
       "      <td>Todas las edades</td>\n",
       "      <td>1996</td>\n",
       "      <td>4355</td>\n",
       "      <td>006</td>\n",
       "      <td>Single cause</td>\n",
       "      <td>SIDA</td>\n",
       "      <td>Total</td>\n",
       "      <td>5432</td>\n",
       "    </tr>\n",
       "    <tr>\n",
       "      <th>2</th>\n",
       "      <td>006  SIDA</td>\n",
       "      <td>Hombres</td>\n",
       "      <td>Todas las edades</td>\n",
       "      <td>1994</td>\n",
       "      <td>3850</td>\n",
       "      <td>006</td>\n",
       "      <td>Single cause</td>\n",
       "      <td>SIDA</td>\n",
       "      <td>Total</td>\n",
       "      <td>4770</td>\n",
       "    </tr>\n",
       "    <tr>\n",
       "      <th>3</th>\n",
       "      <td>006  SIDA</td>\n",
       "      <td>Hombres</td>\n",
       "      <td>Todas las edades</td>\n",
       "      <td>1993</td>\n",
       "      <td>3219</td>\n",
       "      <td>006</td>\n",
       "      <td>Single cause</td>\n",
       "      <td>SIDA</td>\n",
       "      <td>Total</td>\n",
       "      <td>3980</td>\n",
       "    </tr>\n",
       "    <tr>\n",
       "      <th>4</th>\n",
       "      <td>006  SIDA</td>\n",
       "      <td>Hombres</td>\n",
       "      <td>Todas las edades</td>\n",
       "      <td>1992</td>\n",
       "      <td>2706</td>\n",
       "      <td>006</td>\n",
       "      <td>Single cause</td>\n",
       "      <td>SIDA</td>\n",
       "      <td>Total</td>\n",
       "      <td>3256</td>\n",
       "    </tr>\n",
       "    <tr>\n",
       "      <th>5</th>\n",
       "      <td>006  SIDA</td>\n",
       "      <td>Hombres</td>\n",
       "      <td>Todas las edades</td>\n",
       "      <td>1997</td>\n",
       "      <td>2336</td>\n",
       "      <td>006</td>\n",
       "      <td>Single cause</td>\n",
       "      <td>SIDA</td>\n",
       "      <td>Total</td>\n",
       "      <td>2844</td>\n",
       "    </tr>\n",
       "    <tr>\n",
       "      <th>6</th>\n",
       "      <td>006  SIDA</td>\n",
       "      <td>Hombres</td>\n",
       "      <td>Todas las edades</td>\n",
       "      <td>1991</td>\n",
       "      <td>2115</td>\n",
       "      <td>006</td>\n",
       "      <td>Single cause</td>\n",
       "      <td>SIDA</td>\n",
       "      <td>Total</td>\n",
       "      <td>2503</td>\n",
       "    </tr>\n",
       "    <tr>\n",
       "      <th>7</th>\n",
       "      <td>006  SIDA</td>\n",
       "      <td>Hombres</td>\n",
       "      <td>Todas las edades</td>\n",
       "      <td>1990</td>\n",
       "      <td>1576</td>\n",
       "      <td>006</td>\n",
       "      <td>Single cause</td>\n",
       "      <td>SIDA</td>\n",
       "      <td>Total</td>\n",
       "      <td>1898</td>\n",
       "    </tr>\n",
       "    <tr>\n",
       "      <th>8</th>\n",
       "      <td>006  SIDA</td>\n",
       "      <td>Hombres</td>\n",
       "      <td>Todas las edades</td>\n",
       "      <td>1999</td>\n",
       "      <td>1488</td>\n",
       "      <td>006</td>\n",
       "      <td>Single cause</td>\n",
       "      <td>SIDA</td>\n",
       "      <td>Total</td>\n",
       "      <td>1802</td>\n",
       "    </tr>\n",
       "    <tr>\n",
       "      <th>9</th>\n",
       "      <td>006  SIDA</td>\n",
       "      <td>Hombres</td>\n",
       "      <td>Todas las edades</td>\n",
       "      <td>1998</td>\n",
       "      <td>1476</td>\n",
       "      <td>006</td>\n",
       "      <td>Single cause</td>\n",
       "      <td>SIDA</td>\n",
       "      <td>Total</td>\n",
       "      <td>1779</td>\n",
       "    </tr>\n",
       "    <tr>\n",
       "      <th>10</th>\n",
       "      <td>006  SIDA</td>\n",
       "      <td>Hombres</td>\n",
       "      <td>Todas las edades</td>\n",
       "      <td>2000</td>\n",
       "      <td>1391</td>\n",
       "      <td>006</td>\n",
       "      <td>Single cause</td>\n",
       "      <td>SIDA</td>\n",
       "      <td>Total</td>\n",
       "      <td>1711</td>\n",
       "    </tr>\n",
       "    <tr>\n",
       "      <th>11</th>\n",
       "      <td>006  SIDA</td>\n",
       "      <td>Hombres</td>\n",
       "      <td>Todas las edades</td>\n",
       "      <td>2002</td>\n",
       "      <td>1317</td>\n",
       "      <td>006</td>\n",
       "      <td>Single cause</td>\n",
       "      <td>SIDA</td>\n",
       "      <td>Total</td>\n",
       "      <td>1632</td>\n",
       "    </tr>\n",
       "    <tr>\n",
       "      <th>12</th>\n",
       "      <td>006  SIDA</td>\n",
       "      <td>Hombres</td>\n",
       "      <td>Todas las edades</td>\n",
       "      <td>2001</td>\n",
       "      <td>1296</td>\n",
       "      <td>006</td>\n",
       "      <td>Single cause</td>\n",
       "      <td>SIDA</td>\n",
       "      <td>Total</td>\n",
       "      <td>1632</td>\n",
       "    </tr>\n",
       "    <tr>\n",
       "      <th>13</th>\n",
       "      <td>006  SIDA</td>\n",
       "      <td>Hombres</td>\n",
       "      <td>Todas las edades</td>\n",
       "      <td>2003</td>\n",
       "      <td>1289</td>\n",
       "      <td>006</td>\n",
       "      <td>Single cause</td>\n",
       "      <td>SIDA</td>\n",
       "      <td>Total</td>\n",
       "      <td>1611</td>\n",
       "    </tr>\n",
       "    <tr>\n",
       "      <th>14</th>\n",
       "      <td>006  SIDA</td>\n",
       "      <td>Hombres</td>\n",
       "      <td>Todas las edades</td>\n",
       "      <td>2004</td>\n",
       "      <td>1271</td>\n",
       "      <td>006</td>\n",
       "      <td>Single cause</td>\n",
       "      <td>SIDA</td>\n",
       "      <td>Total</td>\n",
       "      <td>1551</td>\n",
       "    </tr>\n",
       "    <tr>\n",
       "      <th>15</th>\n",
       "      <td>006  SIDA</td>\n",
       "      <td>Hombres</td>\n",
       "      <td>Todas las edades</td>\n",
       "      <td>2005</td>\n",
       "      <td>1168</td>\n",
       "      <td>006</td>\n",
       "      <td>Single cause</td>\n",
       "      <td>SIDA</td>\n",
       "      <td>Total</td>\n",
       "      <td>1450</td>\n",
       "    </tr>\n",
       "    <tr>\n",
       "      <th>16</th>\n",
       "      <td>006  SIDA</td>\n",
       "      <td>Hombres</td>\n",
       "      <td>Todas las edades</td>\n",
       "      <td>2007</td>\n",
       "      <td>1059</td>\n",
       "      <td>006</td>\n",
       "      <td>Single cause</td>\n",
       "      <td>SIDA</td>\n",
       "      <td>Total</td>\n",
       "      <td>1313</td>\n",
       "    </tr>\n",
       "    <tr>\n",
       "      <th>17</th>\n",
       "      <td>006  SIDA</td>\n",
       "      <td>Hombres</td>\n",
       "      <td>Todas las edades</td>\n",
       "      <td>1989</td>\n",
       "      <td>1058</td>\n",
       "      <td>006</td>\n",
       "      <td>Single cause</td>\n",
       "      <td>SIDA</td>\n",
       "      <td>Total</td>\n",
       "      <td>1307</td>\n",
       "    </tr>\n",
       "    <tr>\n",
       "      <th>18</th>\n",
       "      <td>006  SIDA</td>\n",
       "      <td>Hombres</td>\n",
       "      <td>Todas las edades</td>\n",
       "      <td>2006</td>\n",
       "      <td>1035</td>\n",
       "      <td>006</td>\n",
       "      <td>Single cause</td>\n",
       "      <td>SIDA</td>\n",
       "      <td>Total</td>\n",
       "      <td>1288</td>\n",
       "    </tr>\n",
       "    <tr>\n",
       "      <th>19</th>\n",
       "      <td>006  SIDA</td>\n",
       "      <td>Hombres</td>\n",
       "      <td>Todas las edades</td>\n",
       "      <td>2008</td>\n",
       "      <td>947</td>\n",
       "      <td>006</td>\n",
       "      <td>Single cause</td>\n",
       "      <td>SIDA</td>\n",
       "      <td>Total</td>\n",
       "      <td>1211</td>\n",
       "    </tr>\n",
       "    <tr>\n",
       "      <th>20</th>\n",
       "      <td>006  SIDA</td>\n",
       "      <td>Hombres</td>\n",
       "      <td>Todas las edades</td>\n",
       "      <td>2009</td>\n",
       "      <td>853</td>\n",
       "      <td>006</td>\n",
       "      <td>Single cause</td>\n",
       "      <td>SIDA</td>\n",
       "      <td>Total</td>\n",
       "      <td>1079</td>\n",
       "    </tr>\n",
       "    <tr>\n",
       "      <th>21</th>\n",
       "      <td>006  SIDA</td>\n",
       "      <td>Hombres</td>\n",
       "      <td>Todas las edades</td>\n",
       "      <td>2010</td>\n",
       "      <td>813</td>\n",
       "      <td>006</td>\n",
       "      <td>Single cause</td>\n",
       "      <td>SIDA</td>\n",
       "      <td>Total</td>\n",
       "      <td>1020</td>\n",
       "    </tr>\n",
       "    <tr>\n",
       "      <th>22</th>\n",
       "      <td>006  SIDA</td>\n",
       "      <td>Hombres</td>\n",
       "      <td>Todas las edades</td>\n",
       "      <td>2011</td>\n",
       "      <td>756</td>\n",
       "      <td>006</td>\n",
       "      <td>Single cause</td>\n",
       "      <td>SIDA</td>\n",
       "      <td>Total</td>\n",
       "      <td>953</td>\n",
       "    </tr>\n",
       "    <tr>\n",
       "      <th>23</th>\n",
       "      <td>006  SIDA</td>\n",
       "      <td>Hombres</td>\n",
       "      <td>Todas las edades</td>\n",
       "      <td>2012</td>\n",
       "      <td>675</td>\n",
       "      <td>006</td>\n",
       "      <td>Single cause</td>\n",
       "      <td>SIDA</td>\n",
       "      <td>Total</td>\n",
       "      <td>880</td>\n",
       "    </tr>\n",
       "    <tr>\n",
       "      <th>24</th>\n",
       "      <td>006  SIDA</td>\n",
       "      <td>Hombres</td>\n",
       "      <td>Todas las edades</td>\n",
       "      <td>1988</td>\n",
       "      <td>647</td>\n",
       "      <td>006</td>\n",
       "      <td>Single cause</td>\n",
       "      <td>SIDA</td>\n",
       "      <td>Total</td>\n",
       "      <td>768</td>\n",
       "    </tr>\n",
       "    <tr>\n",
       "      <th>25</th>\n",
       "      <td>006  SIDA</td>\n",
       "      <td>Hombres</td>\n",
       "      <td>Todas las edades</td>\n",
       "      <td>2013</td>\n",
       "      <td>603</td>\n",
       "      <td>006</td>\n",
       "      <td>Single cause</td>\n",
       "      <td>SIDA</td>\n",
       "      <td>Total</td>\n",
       "      <td>749</td>\n",
       "    </tr>\n",
       "    <tr>\n",
       "      <th>26</th>\n",
       "      <td>006  SIDA</td>\n",
       "      <td>Hombres</td>\n",
       "      <td>Todas las edades</td>\n",
       "      <td>2014</td>\n",
       "      <td>531</td>\n",
       "      <td>006</td>\n",
       "      <td>Single cause</td>\n",
       "      <td>SIDA</td>\n",
       "      <td>Total</td>\n",
       "      <td>700</td>\n",
       "    </tr>\n",
       "    <tr>\n",
       "      <th>27</th>\n",
       "      <td>006  SIDA</td>\n",
       "      <td>Hombres</td>\n",
       "      <td>Todas las edades</td>\n",
       "      <td>2015</td>\n",
       "      <td>513</td>\n",
       "      <td>006</td>\n",
       "      <td>Single cause</td>\n",
       "      <td>SIDA</td>\n",
       "      <td>Total</td>\n",
       "      <td>633</td>\n",
       "    </tr>\n",
       "    <tr>\n",
       "      <th>28</th>\n",
       "      <td>006  SIDA</td>\n",
       "      <td>Hombres</td>\n",
       "      <td>Todas las edades</td>\n",
       "      <td>2016</td>\n",
       "      <td>385</td>\n",
       "      <td>006</td>\n",
       "      <td>Single cause</td>\n",
       "      <td>SIDA</td>\n",
       "      <td>Total</td>\n",
       "      <td>498</td>\n",
       "    </tr>\n",
       "    <tr>\n",
       "      <th>29</th>\n",
       "      <td>006  SIDA</td>\n",
       "      <td>Hombres</td>\n",
       "      <td>Todas las edades</td>\n",
       "      <td>2017</td>\n",
       "      <td>342</td>\n",
       "      <td>006</td>\n",
       "      <td>Single cause</td>\n",
       "      <td>SIDA</td>\n",
       "      <td>Total</td>\n",
       "      <td>442</td>\n",
       "    </tr>\n",
       "    <tr>\n",
       "      <th>30</th>\n",
       "      <td>006  SIDA</td>\n",
       "      <td>Hombres</td>\n",
       "      <td>Todas las edades</td>\n",
       "      <td>2018</td>\n",
       "      <td>342</td>\n",
       "      <td>006</td>\n",
       "      <td>Single cause</td>\n",
       "      <td>SIDA</td>\n",
       "      <td>Total</td>\n",
       "      <td>423</td>\n",
       "    </tr>\n",
       "    <tr>\n",
       "      <th>31</th>\n",
       "      <td>006  SIDA</td>\n",
       "      <td>Hombres</td>\n",
       "      <td>Todas las edades</td>\n",
       "      <td>1987</td>\n",
       "      <td>334</td>\n",
       "      <td>006</td>\n",
       "      <td>Single cause</td>\n",
       "      <td>SIDA</td>\n",
       "      <td>Total</td>\n",
       "      <td>409</td>\n",
       "    </tr>\n",
       "    <tr>\n",
       "      <th>32</th>\n",
       "      <td>006  SIDA</td>\n",
       "      <td>Hombres</td>\n",
       "      <td>Todas las edades</td>\n",
       "      <td>1986</td>\n",
       "      <td>135</td>\n",
       "      <td>006</td>\n",
       "      <td>Single cause</td>\n",
       "      <td>SIDA</td>\n",
       "      <td>Total</td>\n",
       "      <td>164</td>\n",
       "    </tr>\n",
       "    <tr>\n",
       "      <th>33</th>\n",
       "      <td>006  SIDA</td>\n",
       "      <td>Hombres</td>\n",
       "      <td>Todas las edades</td>\n",
       "      <td>1985</td>\n",
       "      <td>44</td>\n",
       "      <td>006</td>\n",
       "      <td>Single cause</td>\n",
       "      <td>SIDA</td>\n",
       "      <td>Total</td>\n",
       "      <td>47</td>\n",
       "    </tr>\n",
       "    <tr>\n",
       "      <th>34</th>\n",
       "      <td>006  SIDA</td>\n",
       "      <td>Hombres</td>\n",
       "      <td>Todas las edades</td>\n",
       "      <td>1980</td>\n",
       "      <td>0</td>\n",
       "      <td>006</td>\n",
       "      <td>Single cause</td>\n",
       "      <td>SIDA</td>\n",
       "      <td>Total</td>\n",
       "      <td>0</td>\n",
       "    </tr>\n",
       "    <tr>\n",
       "      <th>35</th>\n",
       "      <td>006  SIDA</td>\n",
       "      <td>Hombres</td>\n",
       "      <td>Todas las edades</td>\n",
       "      <td>1981</td>\n",
       "      <td>0</td>\n",
       "      <td>006</td>\n",
       "      <td>Single cause</td>\n",
       "      <td>SIDA</td>\n",
       "      <td>Total</td>\n",
       "      <td>0</td>\n",
       "    </tr>\n",
       "    <tr>\n",
       "      <th>36</th>\n",
       "      <td>006  SIDA</td>\n",
       "      <td>Hombres</td>\n",
       "      <td>Todas las edades</td>\n",
       "      <td>1982</td>\n",
       "      <td>0</td>\n",
       "      <td>006</td>\n",
       "      <td>Single cause</td>\n",
       "      <td>SIDA</td>\n",
       "      <td>Total</td>\n",
       "      <td>0</td>\n",
       "    </tr>\n",
       "    <tr>\n",
       "      <th>37</th>\n",
       "      <td>006  SIDA</td>\n",
       "      <td>Hombres</td>\n",
       "      <td>Todas las edades</td>\n",
       "      <td>1983</td>\n",
       "      <td>0</td>\n",
       "      <td>006</td>\n",
       "      <td>Single cause</td>\n",
       "      <td>SIDA</td>\n",
       "      <td>Total</td>\n",
       "      <td>0</td>\n",
       "    </tr>\n",
       "    <tr>\n",
       "      <th>38</th>\n",
       "      <td>006  SIDA</td>\n",
       "      <td>Hombres</td>\n",
       "      <td>Todas las edades</td>\n",
       "      <td>1984</td>\n",
       "      <td>0</td>\n",
       "      <td>006</td>\n",
       "      <td>Single cause</td>\n",
       "      <td>SIDA</td>\n",
       "      <td>Total</td>\n",
       "      <td>0</td>\n",
       "    </tr>\n",
       "  </tbody>\n",
       "</table>\n",
       "</div>"
      ],
      "text/plain": [
       "   Causa de muerte   Sexo_x              Edad  Periodo  Total_x cause_code  \\\n",
       "0        006  SIDA  Hombres  Todas las edades     1995     4509        006   \n",
       "1        006  SIDA  Hombres  Todas las edades     1996     4355        006   \n",
       "2        006  SIDA  Hombres  Todas las edades     1994     3850        006   \n",
       "3        006  SIDA  Hombres  Todas las edades     1993     3219        006   \n",
       "4        006  SIDA  Hombres  Todas las edades     1992     2706        006   \n",
       "5        006  SIDA  Hombres  Todas las edades     1997     2336        006   \n",
       "6        006  SIDA  Hombres  Todas las edades     1991     2115        006   \n",
       "7        006  SIDA  Hombres  Todas las edades     1990     1576        006   \n",
       "8        006  SIDA  Hombres  Todas las edades     1999     1488        006   \n",
       "9        006  SIDA  Hombres  Todas las edades     1998     1476        006   \n",
       "10       006  SIDA  Hombres  Todas las edades     2000     1391        006   \n",
       "11       006  SIDA  Hombres  Todas las edades     2002     1317        006   \n",
       "12       006  SIDA  Hombres  Todas las edades     2001     1296        006   \n",
       "13       006  SIDA  Hombres  Todas las edades     2003     1289        006   \n",
       "14       006  SIDA  Hombres  Todas las edades     2004     1271        006   \n",
       "15       006  SIDA  Hombres  Todas las edades     2005     1168        006   \n",
       "16       006  SIDA  Hombres  Todas las edades     2007     1059        006   \n",
       "17       006  SIDA  Hombres  Todas las edades     1989     1058        006   \n",
       "18       006  SIDA  Hombres  Todas las edades     2006     1035        006   \n",
       "19       006  SIDA  Hombres  Todas las edades     2008      947        006   \n",
       "20       006  SIDA  Hombres  Todas las edades     2009      853        006   \n",
       "21       006  SIDA  Hombres  Todas las edades     2010      813        006   \n",
       "22       006  SIDA  Hombres  Todas las edades     2011      756        006   \n",
       "23       006  SIDA  Hombres  Todas las edades     2012      675        006   \n",
       "24       006  SIDA  Hombres  Todas las edades     1988      647        006   \n",
       "25       006  SIDA  Hombres  Todas las edades     2013      603        006   \n",
       "26       006  SIDA  Hombres  Todas las edades     2014      531        006   \n",
       "27       006  SIDA  Hombres  Todas las edades     2015      513        006   \n",
       "28       006  SIDA  Hombres  Todas las edades     2016      385        006   \n",
       "29       006  SIDA  Hombres  Todas las edades     2017      342        006   \n",
       "30       006  SIDA  Hombres  Todas las edades     2018      342        006   \n",
       "31       006  SIDA  Hombres  Todas las edades     1987      334        006   \n",
       "32       006  SIDA  Hombres  Todas las edades     1986      135        006   \n",
       "33       006  SIDA  Hombres  Todas las edades     1985       44        006   \n",
       "34       006  SIDA  Hombres  Todas las edades     1980        0        006   \n",
       "35       006  SIDA  Hombres  Todas las edades     1981        0        006   \n",
       "36       006  SIDA  Hombres  Todas las edades     1982        0        006   \n",
       "37       006  SIDA  Hombres  Todas las edades     1983        0        006   \n",
       "38       006  SIDA  Hombres  Todas las edades     1984        0        006   \n",
       "\n",
       "     cause_group cause_name Sexo_y  Total_y  \n",
       "0   Single cause       SIDA  Total     5551  \n",
       "1   Single cause       SIDA  Total     5432  \n",
       "2   Single cause       SIDA  Total     4770  \n",
       "3   Single cause       SIDA  Total     3980  \n",
       "4   Single cause       SIDA  Total     3256  \n",
       "5   Single cause       SIDA  Total     2844  \n",
       "6   Single cause       SIDA  Total     2503  \n",
       "7   Single cause       SIDA  Total     1898  \n",
       "8   Single cause       SIDA  Total     1802  \n",
       "9   Single cause       SIDA  Total     1779  \n",
       "10  Single cause       SIDA  Total     1711  \n",
       "11  Single cause       SIDA  Total     1632  \n",
       "12  Single cause       SIDA  Total     1632  \n",
       "13  Single cause       SIDA  Total     1611  \n",
       "14  Single cause       SIDA  Total     1551  \n",
       "15  Single cause       SIDA  Total     1450  \n",
       "16  Single cause       SIDA  Total     1313  \n",
       "17  Single cause       SIDA  Total     1307  \n",
       "18  Single cause       SIDA  Total     1288  \n",
       "19  Single cause       SIDA  Total     1211  \n",
       "20  Single cause       SIDA  Total     1079  \n",
       "21  Single cause       SIDA  Total     1020  \n",
       "22  Single cause       SIDA  Total      953  \n",
       "23  Single cause       SIDA  Total      880  \n",
       "24  Single cause       SIDA  Total      768  \n",
       "25  Single cause       SIDA  Total      749  \n",
       "26  Single cause       SIDA  Total      700  \n",
       "27  Single cause       SIDA  Total      633  \n",
       "28  Single cause       SIDA  Total      498  \n",
       "29  Single cause       SIDA  Total      442  \n",
       "30  Single cause       SIDA  Total      423  \n",
       "31  Single cause       SIDA  Total      409  \n",
       "32  Single cause       SIDA  Total      164  \n",
       "33  Single cause       SIDA  Total       47  \n",
       "34  Single cause       SIDA  Total        0  \n",
       "35  Single cause       SIDA  Total        0  \n",
       "36  Single cause       SIDA  Total        0  \n",
       "37  Single cause       SIDA  Total        0  \n",
       "38  Single cause       SIDA  Total        0  "
      ]
     },
     "execution_count": 27,
     "metadata": {},
     "output_type": "execute_result"
    }
   ],
   "source": [
    "\n",
    "\n",
    "df_sexo = pd.merge(dataset_h, dataset_m[[\"Sexo\", \"Total\"]], left_index=True, right_index=True)\n",
    "\n",
    "total_hombres = df_sexo['Total_x'].sum()\n",
    "total_mujeres = df_sexo['Total_y'].sum()  \n",
    "\n",
    "df_sexo"
   ]
  },
  {
   "cell_type": "code",
   "execution_count": 28,
   "metadata": {},
   "outputs": [
    {
     "data": {
      "application/vnd.plotly.v1+json": {
       "config": {
        "plotlyServerURL": "https://plot.ly"
       },
       "data": [
        {
         "alignmentgroup": "True",
         "hovertemplate": "Género=%{x}<br>Total=%{y}<extra></extra>",
         "legendgroup": "Hombres",
         "marker": {
          "color": "#636efa",
          "pattern": {
           "shape": ""
          }
         },
         "name": "Hombres",
         "offsetgroup": "Hombres",
         "orientation": "v",
         "showlegend": true,
         "textposition": "auto",
         "type": "bar",
         "x": [
          "Hombres",
          "Hombres",
          "Hombres",
          "Hombres",
          "Hombres",
          "Hombres",
          "Hombres",
          "Hombres",
          "Hombres",
          "Hombres",
          "Hombres",
          "Hombres",
          "Hombres",
          "Hombres",
          "Hombres",
          "Hombres",
          "Hombres",
          "Hombres",
          "Hombres",
          "Hombres",
          "Hombres",
          "Hombres",
          "Hombres",
          "Hombres",
          "Hombres",
          "Hombres",
          "Hombres",
          "Hombres",
          "Hombres",
          "Hombres",
          "Hombres",
          "Hombres",
          "Hombres",
          "Hombres",
          "Hombres",
          "Hombres",
          "Hombres",
          "Hombres",
          "Hombres"
         ],
         "xaxis": "x",
         "y": [
          4509,
          4355,
          3850,
          3219,
          2706,
          2336,
          2115,
          1576,
          1488,
          1476,
          1391,
          1317,
          1296,
          1289,
          1271,
          1168,
          1059,
          1058,
          1035,
          947,
          853,
          813,
          756,
          675,
          647,
          603,
          531,
          513,
          385,
          342,
          342,
          334,
          135,
          44,
          0,
          0,
          0,
          0,
          0
         ],
         "yaxis": "y"
        },
        {
         "alignmentgroup": "True",
         "hovertemplate": "Género=%{x}<br>Total=%{y}<extra></extra>",
         "legendgroup": "Total",
         "marker": {
          "color": "#EF553B",
          "pattern": {
           "shape": ""
          }
         },
         "name": "Total",
         "offsetgroup": "Total",
         "orientation": "v",
         "showlegend": true,
         "textposition": "auto",
         "type": "bar",
         "x": [
          "Total",
          "Total",
          "Total",
          "Total",
          "Total",
          "Total",
          "Total",
          "Total",
          "Total",
          "Total",
          "Total",
          "Total",
          "Total",
          "Total",
          "Total",
          "Total",
          "Total",
          "Total",
          "Total",
          "Total",
          "Total",
          "Total",
          "Total",
          "Total",
          "Total",
          "Total",
          "Total",
          "Total",
          "Total",
          "Total",
          "Total",
          "Total",
          "Total",
          "Total",
          "Total",
          "Total",
          "Total",
          "Total",
          "Total"
         ],
         "xaxis": "x",
         "y": [
          5551,
          5432,
          4770,
          3980,
          3256,
          2844,
          2503,
          1898,
          1802,
          1779,
          1711,
          1632,
          1632,
          1611,
          1551,
          1450,
          1313,
          1307,
          1288,
          1211,
          1079,
          1020,
          953,
          880,
          768,
          749,
          700,
          633,
          498,
          442,
          423,
          409,
          164,
          47,
          0,
          0,
          0,
          0,
          0
         ],
         "yaxis": "y"
        }
       ],
       "layout": {
        "barmode": "relative",
        "legend": {
         "title": {
          "text": "Género"
         },
         "tracegroupgap": 0
        },
        "template": {
         "data": {
          "bar": [
           {
            "error_x": {
             "color": "#2a3f5f"
            },
            "error_y": {
             "color": "#2a3f5f"
            },
            "marker": {
             "line": {
              "color": "#E5ECF6",
              "width": 0.5
             },
             "pattern": {
              "fillmode": "overlay",
              "size": 10,
              "solidity": 0.2
             }
            },
            "type": "bar"
           }
          ],
          "barpolar": [
           {
            "marker": {
             "line": {
              "color": "#E5ECF6",
              "width": 0.5
             },
             "pattern": {
              "fillmode": "overlay",
              "size": 10,
              "solidity": 0.2
             }
            },
            "type": "barpolar"
           }
          ],
          "carpet": [
           {
            "aaxis": {
             "endlinecolor": "#2a3f5f",
             "gridcolor": "white",
             "linecolor": "white",
             "minorgridcolor": "white",
             "startlinecolor": "#2a3f5f"
            },
            "baxis": {
             "endlinecolor": "#2a3f5f",
             "gridcolor": "white",
             "linecolor": "white",
             "minorgridcolor": "white",
             "startlinecolor": "#2a3f5f"
            },
            "type": "carpet"
           }
          ],
          "choropleth": [
           {
            "colorbar": {
             "outlinewidth": 0,
             "ticks": ""
            },
            "type": "choropleth"
           }
          ],
          "contour": [
           {
            "colorbar": {
             "outlinewidth": 0,
             "ticks": ""
            },
            "colorscale": [
             [
              0,
              "#0d0887"
             ],
             [
              0.1111111111111111,
              "#46039f"
             ],
             [
              0.2222222222222222,
              "#7201a8"
             ],
             [
              0.3333333333333333,
              "#9c179e"
             ],
             [
              0.4444444444444444,
              "#bd3786"
             ],
             [
              0.5555555555555556,
              "#d8576b"
             ],
             [
              0.6666666666666666,
              "#ed7953"
             ],
             [
              0.7777777777777778,
              "#fb9f3a"
             ],
             [
              0.8888888888888888,
              "#fdca26"
             ],
             [
              1,
              "#f0f921"
             ]
            ],
            "type": "contour"
           }
          ],
          "contourcarpet": [
           {
            "colorbar": {
             "outlinewidth": 0,
             "ticks": ""
            },
            "type": "contourcarpet"
           }
          ],
          "heatmap": [
           {
            "colorbar": {
             "outlinewidth": 0,
             "ticks": ""
            },
            "colorscale": [
             [
              0,
              "#0d0887"
             ],
             [
              0.1111111111111111,
              "#46039f"
             ],
             [
              0.2222222222222222,
              "#7201a8"
             ],
             [
              0.3333333333333333,
              "#9c179e"
             ],
             [
              0.4444444444444444,
              "#bd3786"
             ],
             [
              0.5555555555555556,
              "#d8576b"
             ],
             [
              0.6666666666666666,
              "#ed7953"
             ],
             [
              0.7777777777777778,
              "#fb9f3a"
             ],
             [
              0.8888888888888888,
              "#fdca26"
             ],
             [
              1,
              "#f0f921"
             ]
            ],
            "type": "heatmap"
           }
          ],
          "heatmapgl": [
           {
            "colorbar": {
             "outlinewidth": 0,
             "ticks": ""
            },
            "colorscale": [
             [
              0,
              "#0d0887"
             ],
             [
              0.1111111111111111,
              "#46039f"
             ],
             [
              0.2222222222222222,
              "#7201a8"
             ],
             [
              0.3333333333333333,
              "#9c179e"
             ],
             [
              0.4444444444444444,
              "#bd3786"
             ],
             [
              0.5555555555555556,
              "#d8576b"
             ],
             [
              0.6666666666666666,
              "#ed7953"
             ],
             [
              0.7777777777777778,
              "#fb9f3a"
             ],
             [
              0.8888888888888888,
              "#fdca26"
             ],
             [
              1,
              "#f0f921"
             ]
            ],
            "type": "heatmapgl"
           }
          ],
          "histogram": [
           {
            "marker": {
             "pattern": {
              "fillmode": "overlay",
              "size": 10,
              "solidity": 0.2
             }
            },
            "type": "histogram"
           }
          ],
          "histogram2d": [
           {
            "colorbar": {
             "outlinewidth": 0,
             "ticks": ""
            },
            "colorscale": [
             [
              0,
              "#0d0887"
             ],
             [
              0.1111111111111111,
              "#46039f"
             ],
             [
              0.2222222222222222,
              "#7201a8"
             ],
             [
              0.3333333333333333,
              "#9c179e"
             ],
             [
              0.4444444444444444,
              "#bd3786"
             ],
             [
              0.5555555555555556,
              "#d8576b"
             ],
             [
              0.6666666666666666,
              "#ed7953"
             ],
             [
              0.7777777777777778,
              "#fb9f3a"
             ],
             [
              0.8888888888888888,
              "#fdca26"
             ],
             [
              1,
              "#f0f921"
             ]
            ],
            "type": "histogram2d"
           }
          ],
          "histogram2dcontour": [
           {
            "colorbar": {
             "outlinewidth": 0,
             "ticks": ""
            },
            "colorscale": [
             [
              0,
              "#0d0887"
             ],
             [
              0.1111111111111111,
              "#46039f"
             ],
             [
              0.2222222222222222,
              "#7201a8"
             ],
             [
              0.3333333333333333,
              "#9c179e"
             ],
             [
              0.4444444444444444,
              "#bd3786"
             ],
             [
              0.5555555555555556,
              "#d8576b"
             ],
             [
              0.6666666666666666,
              "#ed7953"
             ],
             [
              0.7777777777777778,
              "#fb9f3a"
             ],
             [
              0.8888888888888888,
              "#fdca26"
             ],
             [
              1,
              "#f0f921"
             ]
            ],
            "type": "histogram2dcontour"
           }
          ],
          "mesh3d": [
           {
            "colorbar": {
             "outlinewidth": 0,
             "ticks": ""
            },
            "type": "mesh3d"
           }
          ],
          "parcoords": [
           {
            "line": {
             "colorbar": {
              "outlinewidth": 0,
              "ticks": ""
             }
            },
            "type": "parcoords"
           }
          ],
          "pie": [
           {
            "automargin": true,
            "type": "pie"
           }
          ],
          "scatter": [
           {
            "fillpattern": {
             "fillmode": "overlay",
             "size": 10,
             "solidity": 0.2
            },
            "type": "scatter"
           }
          ],
          "scatter3d": [
           {
            "line": {
             "colorbar": {
              "outlinewidth": 0,
              "ticks": ""
             }
            },
            "marker": {
             "colorbar": {
              "outlinewidth": 0,
              "ticks": ""
             }
            },
            "type": "scatter3d"
           }
          ],
          "scattercarpet": [
           {
            "marker": {
             "colorbar": {
              "outlinewidth": 0,
              "ticks": ""
             }
            },
            "type": "scattercarpet"
           }
          ],
          "scattergeo": [
           {
            "marker": {
             "colorbar": {
              "outlinewidth": 0,
              "ticks": ""
             }
            },
            "type": "scattergeo"
           }
          ],
          "scattergl": [
           {
            "marker": {
             "colorbar": {
              "outlinewidth": 0,
              "ticks": ""
             }
            },
            "type": "scattergl"
           }
          ],
          "scattermapbox": [
           {
            "marker": {
             "colorbar": {
              "outlinewidth": 0,
              "ticks": ""
             }
            },
            "type": "scattermapbox"
           }
          ],
          "scatterpolar": [
           {
            "marker": {
             "colorbar": {
              "outlinewidth": 0,
              "ticks": ""
             }
            },
            "type": "scatterpolar"
           }
          ],
          "scatterpolargl": [
           {
            "marker": {
             "colorbar": {
              "outlinewidth": 0,
              "ticks": ""
             }
            },
            "type": "scatterpolargl"
           }
          ],
          "scatterternary": [
           {
            "marker": {
             "colorbar": {
              "outlinewidth": 0,
              "ticks": ""
             }
            },
            "type": "scatterternary"
           }
          ],
          "surface": [
           {
            "colorbar": {
             "outlinewidth": 0,
             "ticks": ""
            },
            "colorscale": [
             [
              0,
              "#0d0887"
             ],
             [
              0.1111111111111111,
              "#46039f"
             ],
             [
              0.2222222222222222,
              "#7201a8"
             ],
             [
              0.3333333333333333,
              "#9c179e"
             ],
             [
              0.4444444444444444,
              "#bd3786"
             ],
             [
              0.5555555555555556,
              "#d8576b"
             ],
             [
              0.6666666666666666,
              "#ed7953"
             ],
             [
              0.7777777777777778,
              "#fb9f3a"
             ],
             [
              0.8888888888888888,
              "#fdca26"
             ],
             [
              1,
              "#f0f921"
             ]
            ],
            "type": "surface"
           }
          ],
          "table": [
           {
            "cells": {
             "fill": {
              "color": "#EBF0F8"
             },
             "line": {
              "color": "white"
             }
            },
            "header": {
             "fill": {
              "color": "#C8D4E3"
             },
             "line": {
              "color": "white"
             }
            },
            "type": "table"
           }
          ]
         },
         "layout": {
          "annotationdefaults": {
           "arrowcolor": "#2a3f5f",
           "arrowhead": 0,
           "arrowwidth": 1
          },
          "autotypenumbers": "strict",
          "coloraxis": {
           "colorbar": {
            "outlinewidth": 0,
            "ticks": ""
           }
          },
          "colorscale": {
           "diverging": [
            [
             0,
             "#8e0152"
            ],
            [
             0.1,
             "#c51b7d"
            ],
            [
             0.2,
             "#de77ae"
            ],
            [
             0.3,
             "#f1b6da"
            ],
            [
             0.4,
             "#fde0ef"
            ],
            [
             0.5,
             "#f7f7f7"
            ],
            [
             0.6,
             "#e6f5d0"
            ],
            [
             0.7,
             "#b8e186"
            ],
            [
             0.8,
             "#7fbc41"
            ],
            [
             0.9,
             "#4d9221"
            ],
            [
             1,
             "#276419"
            ]
           ],
           "sequential": [
            [
             0,
             "#0d0887"
            ],
            [
             0.1111111111111111,
             "#46039f"
            ],
            [
             0.2222222222222222,
             "#7201a8"
            ],
            [
             0.3333333333333333,
             "#9c179e"
            ],
            [
             0.4444444444444444,
             "#bd3786"
            ],
            [
             0.5555555555555556,
             "#d8576b"
            ],
            [
             0.6666666666666666,
             "#ed7953"
            ],
            [
             0.7777777777777778,
             "#fb9f3a"
            ],
            [
             0.8888888888888888,
             "#fdca26"
            ],
            [
             1,
             "#f0f921"
            ]
           ],
           "sequentialminus": [
            [
             0,
             "#0d0887"
            ],
            [
             0.1111111111111111,
             "#46039f"
            ],
            [
             0.2222222222222222,
             "#7201a8"
            ],
            [
             0.3333333333333333,
             "#9c179e"
            ],
            [
             0.4444444444444444,
             "#bd3786"
            ],
            [
             0.5555555555555556,
             "#d8576b"
            ],
            [
             0.6666666666666666,
             "#ed7953"
            ],
            [
             0.7777777777777778,
             "#fb9f3a"
            ],
            [
             0.8888888888888888,
             "#fdca26"
            ],
            [
             1,
             "#f0f921"
            ]
           ]
          },
          "colorway": [
           "#636efa",
           "#EF553B",
           "#00cc96",
           "#ab63fa",
           "#FFA15A",
           "#19d3f3",
           "#FF6692",
           "#B6E880",
           "#FF97FF",
           "#FECB52"
          ],
          "font": {
           "color": "#2a3f5f"
          },
          "geo": {
           "bgcolor": "white",
           "lakecolor": "white",
           "landcolor": "#E5ECF6",
           "showlakes": true,
           "showland": true,
           "subunitcolor": "white"
          },
          "hoverlabel": {
           "align": "left"
          },
          "hovermode": "closest",
          "mapbox": {
           "style": "light"
          },
          "paper_bgcolor": "white",
          "plot_bgcolor": "#E5ECF6",
          "polar": {
           "angularaxis": {
            "gridcolor": "white",
            "linecolor": "white",
            "ticks": ""
           },
           "bgcolor": "#E5ECF6",
           "radialaxis": {
            "gridcolor": "white",
            "linecolor": "white",
            "ticks": ""
           }
          },
          "scene": {
           "xaxis": {
            "backgroundcolor": "#E5ECF6",
            "gridcolor": "white",
            "gridwidth": 2,
            "linecolor": "white",
            "showbackground": true,
            "ticks": "",
            "zerolinecolor": "white"
           },
           "yaxis": {
            "backgroundcolor": "#E5ECF6",
            "gridcolor": "white",
            "gridwidth": 2,
            "linecolor": "white",
            "showbackground": true,
            "ticks": "",
            "zerolinecolor": "white"
           },
           "zaxis": {
            "backgroundcolor": "#E5ECF6",
            "gridcolor": "white",
            "gridwidth": 2,
            "linecolor": "white",
            "showbackground": true,
            "ticks": "",
            "zerolinecolor": "white"
           }
          },
          "shapedefaults": {
           "line": {
            "color": "#2a3f5f"
           }
          },
          "ternary": {
           "aaxis": {
            "gridcolor": "white",
            "linecolor": "white",
            "ticks": ""
           },
           "baxis": {
            "gridcolor": "white",
            "linecolor": "white",
            "ticks": ""
           },
           "bgcolor": "#E5ECF6",
           "caxis": {
            "gridcolor": "white",
            "linecolor": "white",
            "ticks": ""
           }
          },
          "title": {
           "x": 0.05
          },
          "xaxis": {
           "automargin": true,
           "gridcolor": "white",
           "linecolor": "white",
           "ticks": "",
           "title": {
            "standoff": 15
           },
           "zerolinecolor": "white",
           "zerolinewidth": 2
          },
          "yaxis": {
           "automargin": true,
           "gridcolor": "white",
           "linecolor": "white",
           "ticks": "",
           "title": {
            "standoff": 15
           },
           "zerolinecolor": "white",
           "zerolinewidth": 2
          }
         }
        },
        "title": {
         "text": "Total por Género"
        },
        "xaxis": {
         "anchor": "y",
         "categoryarray": [
          "Hombres",
          "Total"
         ],
         "categoryorder": "array",
         "domain": [
          0,
          1
         ],
         "title": {
          "text": "Género"
         }
        },
        "yaxis": {
         "anchor": "x",
         "domain": [
          0,
          1
         ],
         "title": {
          "text": "Total"
         }
        }
       }
      },
      "text/html": [
       "<div>                            <div id=\"fe89f275-d5f0-4e44-894c-099b0a06124b\" class=\"plotly-graph-div\" style=\"height:525px; width:100%;\"></div>            <script type=\"text/javascript\">                require([\"plotly\"], function(Plotly) {                    window.PLOTLYENV=window.PLOTLYENV || {};                                    if (document.getElementById(\"fe89f275-d5f0-4e44-894c-099b0a06124b\")) {                    Plotly.newPlot(                        \"fe89f275-d5f0-4e44-894c-099b0a06124b\",                        [{\"alignmentgroup\":\"True\",\"hovertemplate\":\"G\\u00e9nero=%{x}<br>Total=%{y}<extra></extra>\",\"legendgroup\":\"Hombres\",\"marker\":{\"color\":\"#636efa\",\"pattern\":{\"shape\":\"\"}},\"name\":\"Hombres\",\"offsetgroup\":\"Hombres\",\"orientation\":\"v\",\"showlegend\":true,\"textposition\":\"auto\",\"x\":[\"Hombres\",\"Hombres\",\"Hombres\",\"Hombres\",\"Hombres\",\"Hombres\",\"Hombres\",\"Hombres\",\"Hombres\",\"Hombres\",\"Hombres\",\"Hombres\",\"Hombres\",\"Hombres\",\"Hombres\",\"Hombres\",\"Hombres\",\"Hombres\",\"Hombres\",\"Hombres\",\"Hombres\",\"Hombres\",\"Hombres\",\"Hombres\",\"Hombres\",\"Hombres\",\"Hombres\",\"Hombres\",\"Hombres\",\"Hombres\",\"Hombres\",\"Hombres\",\"Hombres\",\"Hombres\",\"Hombres\",\"Hombres\",\"Hombres\",\"Hombres\",\"Hombres\"],\"xaxis\":\"x\",\"y\":[4509,4355,3850,3219,2706,2336,2115,1576,1488,1476,1391,1317,1296,1289,1271,1168,1059,1058,1035,947,853,813,756,675,647,603,531,513,385,342,342,334,135,44,0,0,0,0,0],\"yaxis\":\"y\",\"type\":\"bar\"},{\"alignmentgroup\":\"True\",\"hovertemplate\":\"G\\u00e9nero=%{x}<br>Total=%{y}<extra></extra>\",\"legendgroup\":\"Total\",\"marker\":{\"color\":\"#EF553B\",\"pattern\":{\"shape\":\"\"}},\"name\":\"Total\",\"offsetgroup\":\"Total\",\"orientation\":\"v\",\"showlegend\":true,\"textposition\":\"auto\",\"x\":[\"Total\",\"Total\",\"Total\",\"Total\",\"Total\",\"Total\",\"Total\",\"Total\",\"Total\",\"Total\",\"Total\",\"Total\",\"Total\",\"Total\",\"Total\",\"Total\",\"Total\",\"Total\",\"Total\",\"Total\",\"Total\",\"Total\",\"Total\",\"Total\",\"Total\",\"Total\",\"Total\",\"Total\",\"Total\",\"Total\",\"Total\",\"Total\",\"Total\",\"Total\",\"Total\",\"Total\",\"Total\",\"Total\",\"Total\"],\"xaxis\":\"x\",\"y\":[5551,5432,4770,3980,3256,2844,2503,1898,1802,1779,1711,1632,1632,1611,1551,1450,1313,1307,1288,1211,1079,1020,953,880,768,749,700,633,498,442,423,409,164,47,0,0,0,0,0],\"yaxis\":\"y\",\"type\":\"bar\"}],                        {\"template\":{\"data\":{\"histogram2dcontour\":[{\"type\":\"histogram2dcontour\",\"colorbar\":{\"outlinewidth\":0,\"ticks\":\"\"},\"colorscale\":[[0.0,\"#0d0887\"],[0.1111111111111111,\"#46039f\"],[0.2222222222222222,\"#7201a8\"],[0.3333333333333333,\"#9c179e\"],[0.4444444444444444,\"#bd3786\"],[0.5555555555555556,\"#d8576b\"],[0.6666666666666666,\"#ed7953\"],[0.7777777777777778,\"#fb9f3a\"],[0.8888888888888888,\"#fdca26\"],[1.0,\"#f0f921\"]]}],\"choropleth\":[{\"type\":\"choropleth\",\"colorbar\":{\"outlinewidth\":0,\"ticks\":\"\"}}],\"histogram2d\":[{\"type\":\"histogram2d\",\"colorbar\":{\"outlinewidth\":0,\"ticks\":\"\"},\"colorscale\":[[0.0,\"#0d0887\"],[0.1111111111111111,\"#46039f\"],[0.2222222222222222,\"#7201a8\"],[0.3333333333333333,\"#9c179e\"],[0.4444444444444444,\"#bd3786\"],[0.5555555555555556,\"#d8576b\"],[0.6666666666666666,\"#ed7953\"],[0.7777777777777778,\"#fb9f3a\"],[0.8888888888888888,\"#fdca26\"],[1.0,\"#f0f921\"]]}],\"heatmap\":[{\"type\":\"heatmap\",\"colorbar\":{\"outlinewidth\":0,\"ticks\":\"\"},\"colorscale\":[[0.0,\"#0d0887\"],[0.1111111111111111,\"#46039f\"],[0.2222222222222222,\"#7201a8\"],[0.3333333333333333,\"#9c179e\"],[0.4444444444444444,\"#bd3786\"],[0.5555555555555556,\"#d8576b\"],[0.6666666666666666,\"#ed7953\"],[0.7777777777777778,\"#fb9f3a\"],[0.8888888888888888,\"#fdca26\"],[1.0,\"#f0f921\"]]}],\"heatmapgl\":[{\"type\":\"heatmapgl\",\"colorbar\":{\"outlinewidth\":0,\"ticks\":\"\"},\"colorscale\":[[0.0,\"#0d0887\"],[0.1111111111111111,\"#46039f\"],[0.2222222222222222,\"#7201a8\"],[0.3333333333333333,\"#9c179e\"],[0.4444444444444444,\"#bd3786\"],[0.5555555555555556,\"#d8576b\"],[0.6666666666666666,\"#ed7953\"],[0.7777777777777778,\"#fb9f3a\"],[0.8888888888888888,\"#fdca26\"],[1.0,\"#f0f921\"]]}],\"contourcarpet\":[{\"type\":\"contourcarpet\",\"colorbar\":{\"outlinewidth\":0,\"ticks\":\"\"}}],\"contour\":[{\"type\":\"contour\",\"colorbar\":{\"outlinewidth\":0,\"ticks\":\"\"},\"colorscale\":[[0.0,\"#0d0887\"],[0.1111111111111111,\"#46039f\"],[0.2222222222222222,\"#7201a8\"],[0.3333333333333333,\"#9c179e\"],[0.4444444444444444,\"#bd3786\"],[0.5555555555555556,\"#d8576b\"],[0.6666666666666666,\"#ed7953\"],[0.7777777777777778,\"#fb9f3a\"],[0.8888888888888888,\"#fdca26\"],[1.0,\"#f0f921\"]]}],\"surface\":[{\"type\":\"surface\",\"colorbar\":{\"outlinewidth\":0,\"ticks\":\"\"},\"colorscale\":[[0.0,\"#0d0887\"],[0.1111111111111111,\"#46039f\"],[0.2222222222222222,\"#7201a8\"],[0.3333333333333333,\"#9c179e\"],[0.4444444444444444,\"#bd3786\"],[0.5555555555555556,\"#d8576b\"],[0.6666666666666666,\"#ed7953\"],[0.7777777777777778,\"#fb9f3a\"],[0.8888888888888888,\"#fdca26\"],[1.0,\"#f0f921\"]]}],\"mesh3d\":[{\"type\":\"mesh3d\",\"colorbar\":{\"outlinewidth\":0,\"ticks\":\"\"}}],\"scatter\":[{\"fillpattern\":{\"fillmode\":\"overlay\",\"size\":10,\"solidity\":0.2},\"type\":\"scatter\"}],\"parcoords\":[{\"type\":\"parcoords\",\"line\":{\"colorbar\":{\"outlinewidth\":0,\"ticks\":\"\"}}}],\"scatterpolargl\":[{\"type\":\"scatterpolargl\",\"marker\":{\"colorbar\":{\"outlinewidth\":0,\"ticks\":\"\"}}}],\"bar\":[{\"error_x\":{\"color\":\"#2a3f5f\"},\"error_y\":{\"color\":\"#2a3f5f\"},\"marker\":{\"line\":{\"color\":\"#E5ECF6\",\"width\":0.5},\"pattern\":{\"fillmode\":\"overlay\",\"size\":10,\"solidity\":0.2}},\"type\":\"bar\"}],\"scattergeo\":[{\"type\":\"scattergeo\",\"marker\":{\"colorbar\":{\"outlinewidth\":0,\"ticks\":\"\"}}}],\"scatterpolar\":[{\"type\":\"scatterpolar\",\"marker\":{\"colorbar\":{\"outlinewidth\":0,\"ticks\":\"\"}}}],\"histogram\":[{\"marker\":{\"pattern\":{\"fillmode\":\"overlay\",\"size\":10,\"solidity\":0.2}},\"type\":\"histogram\"}],\"scattergl\":[{\"type\":\"scattergl\",\"marker\":{\"colorbar\":{\"outlinewidth\":0,\"ticks\":\"\"}}}],\"scatter3d\":[{\"type\":\"scatter3d\",\"line\":{\"colorbar\":{\"outlinewidth\":0,\"ticks\":\"\"}},\"marker\":{\"colorbar\":{\"outlinewidth\":0,\"ticks\":\"\"}}}],\"scattermapbox\":[{\"type\":\"scattermapbox\",\"marker\":{\"colorbar\":{\"outlinewidth\":0,\"ticks\":\"\"}}}],\"scatterternary\":[{\"type\":\"scatterternary\",\"marker\":{\"colorbar\":{\"outlinewidth\":0,\"ticks\":\"\"}}}],\"scattercarpet\":[{\"type\":\"scattercarpet\",\"marker\":{\"colorbar\":{\"outlinewidth\":0,\"ticks\":\"\"}}}],\"carpet\":[{\"aaxis\":{\"endlinecolor\":\"#2a3f5f\",\"gridcolor\":\"white\",\"linecolor\":\"white\",\"minorgridcolor\":\"white\",\"startlinecolor\":\"#2a3f5f\"},\"baxis\":{\"endlinecolor\":\"#2a3f5f\",\"gridcolor\":\"white\",\"linecolor\":\"white\",\"minorgridcolor\":\"white\",\"startlinecolor\":\"#2a3f5f\"},\"type\":\"carpet\"}],\"table\":[{\"cells\":{\"fill\":{\"color\":\"#EBF0F8\"},\"line\":{\"color\":\"white\"}},\"header\":{\"fill\":{\"color\":\"#C8D4E3\"},\"line\":{\"color\":\"white\"}},\"type\":\"table\"}],\"barpolar\":[{\"marker\":{\"line\":{\"color\":\"#E5ECF6\",\"width\":0.5},\"pattern\":{\"fillmode\":\"overlay\",\"size\":10,\"solidity\":0.2}},\"type\":\"barpolar\"}],\"pie\":[{\"automargin\":true,\"type\":\"pie\"}]},\"layout\":{\"autotypenumbers\":\"strict\",\"colorway\":[\"#636efa\",\"#EF553B\",\"#00cc96\",\"#ab63fa\",\"#FFA15A\",\"#19d3f3\",\"#FF6692\",\"#B6E880\",\"#FF97FF\",\"#FECB52\"],\"font\":{\"color\":\"#2a3f5f\"},\"hovermode\":\"closest\",\"hoverlabel\":{\"align\":\"left\"},\"paper_bgcolor\":\"white\",\"plot_bgcolor\":\"#E5ECF6\",\"polar\":{\"bgcolor\":\"#E5ECF6\",\"angularaxis\":{\"gridcolor\":\"white\",\"linecolor\":\"white\",\"ticks\":\"\"},\"radialaxis\":{\"gridcolor\":\"white\",\"linecolor\":\"white\",\"ticks\":\"\"}},\"ternary\":{\"bgcolor\":\"#E5ECF6\",\"aaxis\":{\"gridcolor\":\"white\",\"linecolor\":\"white\",\"ticks\":\"\"},\"baxis\":{\"gridcolor\":\"white\",\"linecolor\":\"white\",\"ticks\":\"\"},\"caxis\":{\"gridcolor\":\"white\",\"linecolor\":\"white\",\"ticks\":\"\"}},\"coloraxis\":{\"colorbar\":{\"outlinewidth\":0,\"ticks\":\"\"}},\"colorscale\":{\"sequential\":[[0.0,\"#0d0887\"],[0.1111111111111111,\"#46039f\"],[0.2222222222222222,\"#7201a8\"],[0.3333333333333333,\"#9c179e\"],[0.4444444444444444,\"#bd3786\"],[0.5555555555555556,\"#d8576b\"],[0.6666666666666666,\"#ed7953\"],[0.7777777777777778,\"#fb9f3a\"],[0.8888888888888888,\"#fdca26\"],[1.0,\"#f0f921\"]],\"sequentialminus\":[[0.0,\"#0d0887\"],[0.1111111111111111,\"#46039f\"],[0.2222222222222222,\"#7201a8\"],[0.3333333333333333,\"#9c179e\"],[0.4444444444444444,\"#bd3786\"],[0.5555555555555556,\"#d8576b\"],[0.6666666666666666,\"#ed7953\"],[0.7777777777777778,\"#fb9f3a\"],[0.8888888888888888,\"#fdca26\"],[1.0,\"#f0f921\"]],\"diverging\":[[0,\"#8e0152\"],[0.1,\"#c51b7d\"],[0.2,\"#de77ae\"],[0.3,\"#f1b6da\"],[0.4,\"#fde0ef\"],[0.5,\"#f7f7f7\"],[0.6,\"#e6f5d0\"],[0.7,\"#b8e186\"],[0.8,\"#7fbc41\"],[0.9,\"#4d9221\"],[1,\"#276419\"]]},\"xaxis\":{\"gridcolor\":\"white\",\"linecolor\":\"white\",\"ticks\":\"\",\"title\":{\"standoff\":15},\"zerolinecolor\":\"white\",\"automargin\":true,\"zerolinewidth\":2},\"yaxis\":{\"gridcolor\":\"white\",\"linecolor\":\"white\",\"ticks\":\"\",\"title\":{\"standoff\":15},\"zerolinecolor\":\"white\",\"automargin\":true,\"zerolinewidth\":2},\"scene\":{\"xaxis\":{\"backgroundcolor\":\"#E5ECF6\",\"gridcolor\":\"white\",\"linecolor\":\"white\",\"showbackground\":true,\"ticks\":\"\",\"zerolinecolor\":\"white\",\"gridwidth\":2},\"yaxis\":{\"backgroundcolor\":\"#E5ECF6\",\"gridcolor\":\"white\",\"linecolor\":\"white\",\"showbackground\":true,\"ticks\":\"\",\"zerolinecolor\":\"white\",\"gridwidth\":2},\"zaxis\":{\"backgroundcolor\":\"#E5ECF6\",\"gridcolor\":\"white\",\"linecolor\":\"white\",\"showbackground\":true,\"ticks\":\"\",\"zerolinecolor\":\"white\",\"gridwidth\":2}},\"shapedefaults\":{\"line\":{\"color\":\"#2a3f5f\"}},\"annotationdefaults\":{\"arrowcolor\":\"#2a3f5f\",\"arrowhead\":0,\"arrowwidth\":1},\"geo\":{\"bgcolor\":\"white\",\"landcolor\":\"#E5ECF6\",\"subunitcolor\":\"white\",\"showland\":true,\"showlakes\":true,\"lakecolor\":\"white\"},\"title\":{\"x\":0.05},\"mapbox\":{\"style\":\"light\"}}},\"xaxis\":{\"anchor\":\"y\",\"domain\":[0.0,1.0],\"title\":{\"text\":\"G\\u00e9nero\"},\"categoryorder\":\"array\",\"categoryarray\":[\"Hombres\",\"Total\"]},\"yaxis\":{\"anchor\":\"x\",\"domain\":[0.0,1.0],\"title\":{\"text\":\"Total\"}},\"legend\":{\"title\":{\"text\":\"G\\u00e9nero\"},\"tracegroupgap\":0},\"title\":{\"text\":\"Total por G\\u00e9nero\"},\"barmode\":\"relative\"},                        {\"responsive\": true}                    ).then(function(){\n",
       "                            \n",
       "var gd = document.getElementById('fe89f275-d5f0-4e44-894c-099b0a06124b');\n",
       "var x = new MutationObserver(function (mutations, observer) {{\n",
       "        var display = window.getComputedStyle(gd).display;\n",
       "        if (!display || display === 'none') {{\n",
       "            console.log([gd, 'removed!']);\n",
       "            Plotly.purge(gd);\n",
       "            observer.disconnect();\n",
       "        }}\n",
       "}});\n",
       "\n",
       "// Listen for the removal of the full notebook cells\n",
       "var notebookContainer = gd.closest('#notebook-container');\n",
       "if (notebookContainer) {{\n",
       "    x.observe(notebookContainer, {childList: true});\n",
       "}}\n",
       "\n",
       "// Listen for the clearing of the current output cell\n",
       "var outputEl = gd.closest('.output');\n",
       "if (outputEl) {{\n",
       "    x.observe(outputEl, {childList: true});\n",
       "}}\n",
       "\n",
       "                        })                };                });            </script>        </div>"
      ]
     },
     "metadata": {},
     "output_type": "display_data"
    }
   ],
   "source": [
    " \n",
    "\n",
    "\n",
    "df_plot = pd.concat([\n",
    "    df_sexo[['Sexo_x', 'Total_x']].rename(columns={'Sexo_x': 'Sexo', 'Total_x': 'Total'}),\n",
    "    df_sexo[['Sexo_y', 'Total_y']].rename(columns={'Sexo_y': 'Sexo', 'Total_y': 'Total'})\n",
    "])\n",
    "\n",
    "fig = px.bar(df_plot, x='Sexo', y='Total', color='Sexo', \n",
    "             labels={'Sexo': 'Género', 'Total': 'Total'},\n",
    "             title='Total por Género')\n",
    "fig.show()"
   ]
  },
  {
   "cell_type": "code",
   "execution_count": null,
   "metadata": {},
   "outputs": [],
   "source": []
  },
  {
   "cell_type": "code",
   "execution_count": 29,
   "metadata": {},
   "outputs": [
    {
     "data": {
      "text/html": [
       "<div>\n",
       "<style scoped>\n",
       "    .dataframe tbody tr th:only-of-type {\n",
       "        vertical-align: middle;\n",
       "    }\n",
       "\n",
       "    .dataframe tbody tr th {\n",
       "        vertical-align: top;\n",
       "    }\n",
       "\n",
       "    .dataframe thead th {\n",
       "        text-align: right;\n",
       "    }\n",
       "</style>\n",
       "<table border=\"1\" class=\"dataframe\">\n",
       "  <thead>\n",
       "    <tr style=\"text-align: right;\">\n",
       "      <th></th>\n",
       "      <th>Sexo</th>\n",
       "      <th>Total</th>\n",
       "    </tr>\n",
       "  </thead>\n",
       "  <tbody>\n",
       "    <tr>\n",
       "      <th>0</th>\n",
       "      <td>Hombres</td>\n",
       "      <td>4509</td>\n",
       "    </tr>\n",
       "    <tr>\n",
       "      <th>1</th>\n",
       "      <td>Hombres</td>\n",
       "      <td>4355</td>\n",
       "    </tr>\n",
       "    <tr>\n",
       "      <th>2</th>\n",
       "      <td>Hombres</td>\n",
       "      <td>3850</td>\n",
       "    </tr>\n",
       "    <tr>\n",
       "      <th>3</th>\n",
       "      <td>Hombres</td>\n",
       "      <td>3219</td>\n",
       "    </tr>\n",
       "    <tr>\n",
       "      <th>4</th>\n",
       "      <td>Hombres</td>\n",
       "      <td>2706</td>\n",
       "    </tr>\n",
       "    <tr>\n",
       "      <th>...</th>\n",
       "      <td>...</td>\n",
       "      <td>...</td>\n",
       "    </tr>\n",
       "    <tr>\n",
       "      <th>34</th>\n",
       "      <td>Total</td>\n",
       "      <td>0</td>\n",
       "    </tr>\n",
       "    <tr>\n",
       "      <th>35</th>\n",
       "      <td>Total</td>\n",
       "      <td>0</td>\n",
       "    </tr>\n",
       "    <tr>\n",
       "      <th>36</th>\n",
       "      <td>Total</td>\n",
       "      <td>0</td>\n",
       "    </tr>\n",
       "    <tr>\n",
       "      <th>37</th>\n",
       "      <td>Total</td>\n",
       "      <td>0</td>\n",
       "    </tr>\n",
       "    <tr>\n",
       "      <th>38</th>\n",
       "      <td>Total</td>\n",
       "      <td>0</td>\n",
       "    </tr>\n",
       "  </tbody>\n",
       "</table>\n",
       "<p>78 rows × 2 columns</p>\n",
       "</div>"
      ],
      "text/plain": [
       "       Sexo  Total\n",
       "0   Hombres   4509\n",
       "1   Hombres   4355\n",
       "2   Hombres   3850\n",
       "3   Hombres   3219\n",
       "4   Hombres   2706\n",
       "..      ...    ...\n",
       "34    Total      0\n",
       "35    Total      0\n",
       "36    Total      0\n",
       "37    Total      0\n",
       "38    Total      0\n",
       "\n",
       "[78 rows x 2 columns]"
      ]
     },
     "execution_count": 29,
     "metadata": {},
     "output_type": "execute_result"
    }
   ],
   "source": [
    "df_plot"
   ]
  },
  {
   "cell_type": "code",
   "execution_count": 30,
   "metadata": {},
   "outputs": [
    {
     "name": "stdout",
     "output_type": "stream",
     "text": [
      "<class 'pandas.core.frame.DataFrame'>\n",
      "Index: 78 entries, 0 to 38\n",
      "Data columns (total 2 columns):\n",
      " #   Column  Non-Null Count  Dtype \n",
      "---  ------  --------------  ----- \n",
      " 0   Sexo    78 non-null     object\n",
      " 1   Total   78 non-null     int64 \n",
      "dtypes: int64(1), object(1)\n",
      "memory usage: 1.8+ KB\n"
     ]
    }
   ],
   "source": [
    "df_plot.info()"
   ]
  },
  {
   "cell_type": "markdown",
   "metadata": {},
   "source": [
    "## Lets make some transformations\n",
    "\n",
    "Eventhough the dataset is pretty clean, the information is completely denormalized as you could see. For that matter a collection of methods (functions) are available in order to generate the tables you might need:\n",
    "\n",
    "- `row_filter(df, cat_var, cat_values)` => Filter rows by any value or group of values in a categorical variable.\n",
    "\n",
    "- `nrow_filter(df, cat_var, cat_values)` => The same but backwards. \n",
    "\n",
    "- `groupby_sum(df, group_vars, agg_var='Total', sort_var='Total')` => Add deaths by a certain variable.\n",
    "\n",
    "- `pivot_table(df, col, x_axis, value='Total')`=> Make some pivot tables, you might need them...\n",
    "\n",
    "__NOTE:__ be aware that the filtering methods can perform a filter at a time. Feel free to perform the filter you need in any way you want or feel confortable with."
   ]
  },
  {
   "cell_type": "code",
   "execution_count": 31,
   "metadata": {},
   "outputs": [
    {
     "data": {
      "text/plain": [
       "\"\\ndataset = mod.row_filter(deaths, 'Sexo', ['Total'])\\ndataset = mod.row_filter(dataset, 'Edad', ['Todas las edades'])\\ndataset.head()\\n\""
      ]
     },
     "execution_count": 31,
     "metadata": {},
     "output_type": "execute_result"
    }
   ],
   "source": [
    "# Example 1\n",
    "'''\n",
    "dataset = mod.row_filter(deaths, 'Sexo', ['Total'])\n",
    "dataset = mod.row_filter(dataset, 'Edad', ['Todas las edades'])\n",
    "dataset.head()\n",
    "'''"
   ]
  },
  {
   "cell_type": "code",
   "execution_count": 32,
   "metadata": {},
   "outputs": [
    {
     "data": {
      "text/plain": [
       "\"\\ngroup = ['cause_code','Periodo']\\ndataset = mod.groupby_sum(deaths, group)\\ndataset.head()\\n\""
      ]
     },
     "execution_count": 32,
     "metadata": {},
     "output_type": "execute_result"
    }
   ],
   "source": [
    "# Example 2\n",
    "'''\n",
    "group = ['cause_code','Periodo']\n",
    "dataset = mod.groupby_sum(deaths, group)\n",
    "dataset.head()\n",
    "'''"
   ]
  },
  {
   "cell_type": "code",
   "execution_count": 33,
   "metadata": {},
   "outputs": [
    {
     "data": {
      "text/plain": [
       "\"\\ndataset = mod.pivot_table(dataset, 'cause_code', 'Periodo')\\ndataset.head()\\n\""
      ]
     },
     "execution_count": 33,
     "metadata": {},
     "output_type": "execute_result"
    }
   ],
   "source": [
    "# Example 3\n",
    "'''\n",
    "dataset = mod.pivot_table(dataset, 'cause_code', 'Periodo')\n",
    "dataset.head()\n",
    "'''"
   ]
  },
  {
   "cell_type": "markdown",
   "metadata": {},
   "source": [
    "## ...and finally, show me some insights with Plotly!!!"
   ]
  },
  {
   "cell_type": "code",
   "execution_count": 34,
   "metadata": {},
   "outputs": [
    {
     "data": {
      "text/plain": [
       "\"\\ndataset_column.iplot(kind='hist',\\n                     title='VIZ TITLE',\\n                     yTitle='AXIS TITLE',\\n                     xTitle='AXIS TITLE')\\n\""
      ]
     },
     "execution_count": 34,
     "metadata": {},
     "output_type": "execute_result"
    }
   ],
   "source": [
    "# Cufflinks histogram\n",
    "'''\n",
    "dataset_column.iplot(kind='hist',\n",
    "                     title='VIZ TITLE',\n",
    "                     yTitle='AXIS TITLE',\n",
    "                     xTitle='AXIS TITLE')\n",
    "'''"
   ]
  },
  {
   "cell_type": "code",
   "execution_count": 35,
   "metadata": {},
   "outputs": [
    {
     "data": {
      "text/plain": [
       "\"\\ndataset_bar.iplot(kind='bar',\\n                  x='VARIABLE',\\n                  xTitle='AXIS TITLE',\\n                  yTitle='AXIS TITLE',\\n                  title='VIZ TITLE')\\n\""
      ]
     },
     "execution_count": 35,
     "metadata": {},
     "output_type": "execute_result"
    }
   ],
   "source": [
    "# Cufflinks bar plot\n",
    "'''\n",
    "dataset_bar.iplot(kind='bar',\n",
    "                  x='VARIABLE',\n",
    "                  xTitle='AXIS TITLE',\n",
    "                  yTitle='AXIS TITLE',\n",
    "                  title='VIZ TITLE')\n",
    "'''"
   ]
  },
  {
   "cell_type": "code",
   "execution_count": 36,
   "metadata": {},
   "outputs": [
    {
     "data": {
      "text/plain": [
       "\"\\ndataset_line.iplot(kind='line',\\n                   x='VARIABLE',\\n                   xTitle='AXIS TITLE',\\n                   yTitle='AXIS TITLE',\\n                   title='VIZ TITLE')\\n\""
      ]
     },
     "execution_count": 36,
     "metadata": {},
     "output_type": "execute_result"
    }
   ],
   "source": [
    "# Cufflinks line plot\n",
    "'''\n",
    "dataset_line.iplot(kind='line',\n",
    "                   x='VARIABLE',\n",
    "                   xTitle='AXIS TITLE',\n",
    "                   yTitle='AXIS TITLE',\n",
    "                   title='VIZ TITLE')\n",
    "'''"
   ]
  },
  {
   "cell_type": "code",
   "execution_count": 37,
   "metadata": {},
   "outputs": [
    {
     "data": {
      "text/plain": [
       "\"\\ndataset_scatter.iplot(x='VARIABLE', \\n                      y='VARIABLE', \\n                      categories='VARIABLE',\\n                      xTitle='AXIS TITLE', \\n                      yTitle='AXIS TITLE',\\n                      title='VIZ TITLE')\\n\""
      ]
     },
     "execution_count": 37,
     "metadata": {},
     "output_type": "execute_result"
    }
   ],
   "source": [
    "# Cufflinks scatter plot\n",
    "'''\n",
    "dataset_scatter.iplot(x='VARIABLE', \n",
    "                      y='VARIABLE', \n",
    "                      categories='VARIABLE',\n",
    "                      xTitle='AXIS TITLE', \n",
    "                      yTitle='AXIS TITLE',\n",
    "                      title='VIZ TITLE')\n",
    "'''"
   ]
  },
  {
   "cell_type": "code",
   "execution_count": null,
   "metadata": {},
   "outputs": [],
   "source": []
  },
  {
   "cell_type": "code",
   "execution_count": null,
   "metadata": {},
   "outputs": [],
   "source": []
  },
  {
   "cell_type": "code",
   "execution_count": null,
   "metadata": {},
   "outputs": [],
   "source": []
  },
  {
   "cell_type": "code",
   "execution_count": null,
   "metadata": {},
   "outputs": [],
   "source": []
  }
 ],
 "metadata": {
  "kernelspec": {
   "display_name": "Python 3 (ipykernel)",
   "language": "python",
   "name": "python3"
  },
  "language_info": {
   "codemirror_mode": {
    "name": "ipython",
    "version": 3
   },
   "file_extension": ".py",
   "mimetype": "text/x-python",
   "name": "python",
   "nbconvert_exporter": "python",
   "pygments_lexer": "ipython3",
   "version": "3.11.5"
  }
 },
 "nbformat": 4,
 "nbformat_minor": 2
}
